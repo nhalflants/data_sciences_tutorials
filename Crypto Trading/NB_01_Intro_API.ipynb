{
 "cells": [
  {
   "cell_type": "markdown",
   "id": "3bf74af9",
   "metadata": {},
   "source": [
    "# Trading with Python and Binance - Introduction to the API"
   ]
  },
  {
   "cell_type": "markdown",
   "id": "c9540a57",
   "metadata": {},
   "source": [
    "__Insert your Credentials here__:"
   ]
  },
  {
   "cell_type": "code",
   "execution_count": 37,
   "id": "89137529",
   "metadata": {},
   "outputs": [],
   "source": [
    "api_key = \"1YyQbC0fmhZN9GIw0OzKD0L7ku4DNwBIpGI8fBIJmjkPGaJ9OenFCJNonVSIdV4u\"\n",
    "secret_key = \"iQcVaOHQF7P3Y4srHRnT1UBgLM0EzUioiYZXUpWe2rUGbe5ayjoUSigA5ja9qk96\""
   ]
  },
  {
   "cell_type": "markdown",
   "id": "e5d3f799",
   "metadata": {},
   "source": [
    "## Installing required Libraries/Packages"
   ]
  },
  {
   "cell_type": "markdown",
   "id": "83e12c18",
   "metadata": {},
   "source": [
    "Install python-binance with:\n",
    "- pip install python-binance "
   ]
  },
  {
   "cell_type": "markdown",
   "id": "d8c2df5b",
   "metadata": {},
   "source": [
    "(first: conda update anaconda) "
   ]
  },
  {
   "cell_type": "code",
   "execution_count": null,
   "id": "3797e261",
   "metadata": {},
   "outputs": [],
   "source": []
  },
  {
   "cell_type": "markdown",
   "id": "a8d84484",
   "metadata": {},
   "source": [
    "## Creating a Connection"
   ]
  },
  {
   "cell_type": "code",
   "execution_count": 38,
   "id": "420fa1ae",
   "metadata": {},
   "outputs": [],
   "source": [
    "from binance.client import Client"
   ]
  },
  {
   "cell_type": "markdown",
   "id": "4a245659",
   "metadata": {},
   "source": [
    "If you have an account on __Binance.com__ (non-US users)"
   ]
  },
  {
   "cell_type": "code",
   "execution_count": 39,
   "id": "bae6a2fb",
   "metadata": {},
   "outputs": [],
   "source": [
    "client = Client(api_key=api_key, api_secret=secret_key, testnet=True)"
   ]
  },
  {
   "cell_type": "code",
   "execution_count": 40,
   "id": "4170acf3",
   "metadata": {},
   "outputs": [
    {
     "data": {
      "text/plain": [
       "<binance.client.Client at 0x7fb236f5f670>"
      ]
     },
     "execution_count": 40,
     "metadata": {},
     "output_type": "execute_result"
    }
   ],
   "source": [
    "client"
   ]
  },
  {
   "cell_type": "code",
   "execution_count": 41,
   "id": "2230d50f",
   "metadata": {},
   "outputs": [
    {
     "data": {
      "text/plain": [
       "{'makerCommission': 0,\n",
       " 'takerCommission': 0,\n",
       " 'buyerCommission': 0,\n",
       " 'sellerCommission': 0,\n",
       " 'canTrade': True,\n",
       " 'canWithdraw': False,\n",
       " 'canDeposit': False,\n",
       " 'updateTime': 1651642214211,\n",
       " 'accountType': 'SPOT',\n",
       " 'balances': [{'asset': 'BNB',\n",
       "   'free': '1000.00000000',\n",
       "   'locked': '0.00000000'},\n",
       "  {'asset': 'BTC', 'free': '1.00000000', 'locked': '0.00000000'},\n",
       "  {'asset': 'BUSD', 'free': '10000.00000000', 'locked': '0.00000000'},\n",
       "  {'asset': 'ETH', 'free': '100.00000000', 'locked': '0.00000000'},\n",
       "  {'asset': 'LTC', 'free': '500.00000000', 'locked': '0.00000000'},\n",
       "  {'asset': 'TRX', 'free': '500000.00000000', 'locked': '0.00000000'},\n",
       "  {'asset': 'USDT', 'free': '10000.00000000', 'locked': '0.00000000'},\n",
       "  {'asset': 'XRP', 'free': '50000.00000000', 'locked': '0.00000000'}],\n",
       " 'permissions': ['SPOT']}"
      ]
     },
     "execution_count": 41,
     "metadata": {},
     "output_type": "execute_result"
    }
   ],
   "source": [
    "client.get_account() # account details"
   ]
  },
  {
   "cell_type": "markdown",
   "id": "e17ac661",
   "metadata": {},
   "source": [
    "If you have an account on __Binance.US__ (US residents) <br>\n",
    "(If you are using an exchange from the US, Japan or other TLD then make sure pass tld=’us’ when creating the client.)\n"
   ]
  },
  {
   "cell_type": "markdown",
   "id": "fb6a3e95",
   "metadata": {},
   "source": [
    "## General account/system Info"
   ]
  },
  {
   "cell_type": "markdown",
   "id": "7fe3e581",
   "metadata": {},
   "source": [
    "__Official API Documentation Site:__"
   ]
  },
  {
   "cell_type": "markdown",
   "id": "e70bf0e4",
   "metadata": {},
   "source": [
    "https://binance-docs.github.io/apidocs/spot/en/#introduction"
   ]
  },
  {
   "cell_type": "markdown",
   "id": "82a901b9",
   "metadata": {},
   "source": [
    "__API Wrapper (python-binance) Documentation Site:__"
   ]
  },
  {
   "cell_type": "markdown",
   "id": "4b6ce629",
   "metadata": {},
   "source": [
    "https://python-binance.readthedocs.io/en/latest/index.html"
   ]
  },
  {
   "cell_type": "code",
   "execution_count": 42,
   "id": "0f7c5a4d",
   "metadata": {},
   "outputs": [],
   "source": [
    "import pandas as pd"
   ]
  },
  {
   "cell_type": "code",
   "execution_count": 43,
   "id": "ab5f1e5c",
   "metadata": {},
   "outputs": [],
   "source": [
    "client = Client(api_key = api_key, api_secret = secret_key, tld = \"com\", testnet=True)"
   ]
  },
  {
   "cell_type": "code",
   "execution_count": 44,
   "id": "37eae859",
   "metadata": {},
   "outputs": [
    {
     "data": {
      "text/plain": [
       "{}"
      ]
     },
     "execution_count": 44,
     "metadata": {},
     "output_type": "execute_result"
    }
   ],
   "source": [
    "client.ping() # Test connectivity "
   ]
  },
  {
   "cell_type": "code",
   "execution_count": 45,
   "id": "587e3c00",
   "metadata": {},
   "outputs": [
    {
     "data": {
      "text/plain": [
       "{'status': 0, 'msg': 'normal'}"
      ]
     },
     "execution_count": 45,
     "metadata": {},
     "output_type": "execute_result"
    }
   ],
   "source": [
    "client.get_system_status()"
   ]
  },
  {
   "cell_type": "code",
   "execution_count": 46,
   "id": "4ce20fc7",
   "metadata": {},
   "outputs": [
    {
     "data": {
      "text/plain": [
       "{'makerCommission': 0,\n",
       " 'takerCommission': 0,\n",
       " 'buyerCommission': 0,\n",
       " 'sellerCommission': 0,\n",
       " 'canTrade': True,\n",
       " 'canWithdraw': False,\n",
       " 'canDeposit': False,\n",
       " 'updateTime': 1651642214211,\n",
       " 'accountType': 'SPOT',\n",
       " 'balances': [{'asset': 'BNB',\n",
       "   'free': '1000.00000000',\n",
       "   'locked': '0.00000000'},\n",
       "  {'asset': 'BTC', 'free': '1.00000000', 'locked': '0.00000000'},\n",
       "  {'asset': 'BUSD', 'free': '10000.00000000', 'locked': '0.00000000'},\n",
       "  {'asset': 'ETH', 'free': '100.00000000', 'locked': '0.00000000'},\n",
       "  {'asset': 'LTC', 'free': '500.00000000', 'locked': '0.00000000'},\n",
       "  {'asset': 'TRX', 'free': '500000.00000000', 'locked': '0.00000000'},\n",
       "  {'asset': 'USDT', 'free': '10000.00000000', 'locked': '0.00000000'},\n",
       "  {'asset': 'XRP', 'free': '50000.00000000', 'locked': '0.00000000'}],\n",
       " 'permissions': ['SPOT']}"
      ]
     },
     "execution_count": 46,
     "metadata": {},
     "output_type": "execute_result"
    }
   ],
   "source": [
    "account = client.get_account()\n",
    "account"
   ]
  },
  {
   "cell_type": "code",
   "execution_count": 47,
   "id": "251670f5",
   "metadata": {},
   "outputs": [
    {
     "data": {
      "text/plain": [
       "'SPOT'"
      ]
     },
     "execution_count": 47,
     "metadata": {},
     "output_type": "execute_result"
    }
   ],
   "source": [
    "account[\"accountType\"] # account Type (Spot, Futures)"
   ]
  },
  {
   "cell_type": "code",
   "execution_count": 48,
   "id": "104387bb",
   "metadata": {},
   "outputs": [
    {
     "data": {
      "text/plain": [
       "Timestamp('2022-05-04 05:30:14.211000')"
      ]
     },
     "execution_count": 48,
     "metadata": {},
     "output_type": "execute_result"
    }
   ],
   "source": [
    "pd.to_datetime(account[\"updateTime\"], unit = \"ms\") # Last Update -> UTC Time"
   ]
  },
  {
   "cell_type": "code",
   "execution_count": 49,
   "id": "1387f67a",
   "metadata": {},
   "outputs": [
    {
     "data": {
      "text/plain": [
       "[{'asset': 'BNB', 'free': '1000.00000000', 'locked': '0.00000000'},\n",
       " {'asset': 'BTC', 'free': '1.00000000', 'locked': '0.00000000'},\n",
       " {'asset': 'BUSD', 'free': '10000.00000000', 'locked': '0.00000000'},\n",
       " {'asset': 'ETH', 'free': '100.00000000', 'locked': '0.00000000'},\n",
       " {'asset': 'LTC', 'free': '500.00000000', 'locked': '0.00000000'},\n",
       " {'asset': 'TRX', 'free': '500000.00000000', 'locked': '0.00000000'},\n",
       " {'asset': 'USDT', 'free': '10000.00000000', 'locked': '0.00000000'},\n",
       " {'asset': 'XRP', 'free': '50000.00000000', 'locked': '0.00000000'}]"
      ]
     },
     "execution_count": 49,
     "metadata": {},
     "output_type": "execute_result"
    }
   ],
   "source": [
    "account[\"balances\"] # asset balances"
   ]
  },
  {
   "cell_type": "code",
   "execution_count": 50,
   "id": "39b7ccf9",
   "metadata": {},
   "outputs": [
    {
     "data": {
      "text/html": [
       "<div>\n",
       "<style scoped>\n",
       "    .dataframe tbody tr th:only-of-type {\n",
       "        vertical-align: middle;\n",
       "    }\n",
       "\n",
       "    .dataframe tbody tr th {\n",
       "        vertical-align: top;\n",
       "    }\n",
       "\n",
       "    .dataframe thead th {\n",
       "        text-align: right;\n",
       "    }\n",
       "</style>\n",
       "<table border=\"1\" class=\"dataframe\">\n",
       "  <thead>\n",
       "    <tr style=\"text-align: right;\">\n",
       "      <th></th>\n",
       "      <th>asset</th>\n",
       "      <th>free</th>\n",
       "      <th>locked</th>\n",
       "    </tr>\n",
       "  </thead>\n",
       "  <tbody>\n",
       "    <tr>\n",
       "      <th>0</th>\n",
       "      <td>BNB</td>\n",
       "      <td>1000.00000000</td>\n",
       "      <td>0.00000000</td>\n",
       "    </tr>\n",
       "    <tr>\n",
       "      <th>1</th>\n",
       "      <td>BTC</td>\n",
       "      <td>1.00000000</td>\n",
       "      <td>0.00000000</td>\n",
       "    </tr>\n",
       "    <tr>\n",
       "      <th>2</th>\n",
       "      <td>BUSD</td>\n",
       "      <td>10000.00000000</td>\n",
       "      <td>0.00000000</td>\n",
       "    </tr>\n",
       "    <tr>\n",
       "      <th>3</th>\n",
       "      <td>ETH</td>\n",
       "      <td>100.00000000</td>\n",
       "      <td>0.00000000</td>\n",
       "    </tr>\n",
       "    <tr>\n",
       "      <th>4</th>\n",
       "      <td>LTC</td>\n",
       "      <td>500.00000000</td>\n",
       "      <td>0.00000000</td>\n",
       "    </tr>\n",
       "    <tr>\n",
       "      <th>5</th>\n",
       "      <td>TRX</td>\n",
       "      <td>500000.00000000</td>\n",
       "      <td>0.00000000</td>\n",
       "    </tr>\n",
       "    <tr>\n",
       "      <th>6</th>\n",
       "      <td>USDT</td>\n",
       "      <td>10000.00000000</td>\n",
       "      <td>0.00000000</td>\n",
       "    </tr>\n",
       "    <tr>\n",
       "      <th>7</th>\n",
       "      <td>XRP</td>\n",
       "      <td>50000.00000000</td>\n",
       "      <td>0.00000000</td>\n",
       "    </tr>\n",
       "  </tbody>\n",
       "</table>\n",
       "</div>"
      ],
      "text/plain": [
       "  asset             free      locked\n",
       "0   BNB    1000.00000000  0.00000000\n",
       "1   BTC       1.00000000  0.00000000\n",
       "2  BUSD   10000.00000000  0.00000000\n",
       "3   ETH     100.00000000  0.00000000\n",
       "4   LTC     500.00000000  0.00000000\n",
       "5   TRX  500000.00000000  0.00000000\n",
       "6  USDT   10000.00000000  0.00000000\n",
       "7   XRP   50000.00000000  0.00000000"
      ]
     },
     "execution_count": 50,
     "metadata": {},
     "output_type": "execute_result"
    }
   ],
   "source": [
    "df = pd.DataFrame(account[\"balances\"])\n",
    "df"
   ]
  },
  {
   "cell_type": "code",
   "execution_count": 51,
   "id": "caa1f5fd",
   "metadata": {},
   "outputs": [
    {
     "name": "stdout",
     "output_type": "stream",
     "text": [
      "<class 'pandas.core.frame.DataFrame'>\n",
      "RangeIndex: 8 entries, 0 to 7\n",
      "Data columns (total 3 columns):\n",
      " #   Column  Non-Null Count  Dtype \n",
      "---  ------  --------------  ----- \n",
      " 0   asset   8 non-null      object\n",
      " 1   free    8 non-null      object\n",
      " 2   locked  8 non-null      object\n",
      "dtypes: object(3)\n",
      "memory usage: 320.0+ bytes\n"
     ]
    }
   ],
   "source": [
    "df.info()"
   ]
  },
  {
   "cell_type": "code",
   "execution_count": 52,
   "id": "601d917d",
   "metadata": {},
   "outputs": [],
   "source": [
    "df.free = pd.to_numeric(df.free, errors=\"coerce\")\n",
    "df.locked = pd.to_numeric(df.locked, errors=\"coerce\")"
   ]
  },
  {
   "cell_type": "code",
   "execution_count": 53,
   "id": "008c42eb",
   "metadata": {},
   "outputs": [
    {
     "data": {
      "text/html": [
       "<div>\n",
       "<style scoped>\n",
       "    .dataframe tbody tr th:only-of-type {\n",
       "        vertical-align: middle;\n",
       "    }\n",
       "\n",
       "    .dataframe tbody tr th {\n",
       "        vertical-align: top;\n",
       "    }\n",
       "\n",
       "    .dataframe thead th {\n",
       "        text-align: right;\n",
       "    }\n",
       "</style>\n",
       "<table border=\"1\" class=\"dataframe\">\n",
       "  <thead>\n",
       "    <tr style=\"text-align: right;\">\n",
       "      <th></th>\n",
       "      <th>asset</th>\n",
       "      <th>free</th>\n",
       "      <th>locked</th>\n",
       "    </tr>\n",
       "  </thead>\n",
       "  <tbody>\n",
       "    <tr>\n",
       "      <th>0</th>\n",
       "      <td>BNB</td>\n",
       "      <td>1000.0</td>\n",
       "      <td>0.0</td>\n",
       "    </tr>\n",
       "    <tr>\n",
       "      <th>1</th>\n",
       "      <td>BTC</td>\n",
       "      <td>1.0</td>\n",
       "      <td>0.0</td>\n",
       "    </tr>\n",
       "    <tr>\n",
       "      <th>2</th>\n",
       "      <td>BUSD</td>\n",
       "      <td>10000.0</td>\n",
       "      <td>0.0</td>\n",
       "    </tr>\n",
       "    <tr>\n",
       "      <th>3</th>\n",
       "      <td>ETH</td>\n",
       "      <td>100.0</td>\n",
       "      <td>0.0</td>\n",
       "    </tr>\n",
       "    <tr>\n",
       "      <th>4</th>\n",
       "      <td>LTC</td>\n",
       "      <td>500.0</td>\n",
       "      <td>0.0</td>\n",
       "    </tr>\n",
       "    <tr>\n",
       "      <th>5</th>\n",
       "      <td>TRX</td>\n",
       "      <td>500000.0</td>\n",
       "      <td>0.0</td>\n",
       "    </tr>\n",
       "    <tr>\n",
       "      <th>6</th>\n",
       "      <td>USDT</td>\n",
       "      <td>10000.0</td>\n",
       "      <td>0.0</td>\n",
       "    </tr>\n",
       "    <tr>\n",
       "      <th>7</th>\n",
       "      <td>XRP</td>\n",
       "      <td>50000.0</td>\n",
       "      <td>0.0</td>\n",
       "    </tr>\n",
       "  </tbody>\n",
       "</table>\n",
       "</div>"
      ],
      "text/plain": [
       "  asset      free  locked\n",
       "0   BNB    1000.0     0.0\n",
       "1   BTC       1.0     0.0\n",
       "2  BUSD   10000.0     0.0\n",
       "3   ETH     100.0     0.0\n",
       "4   LTC     500.0     0.0\n",
       "5   TRX  500000.0     0.0\n",
       "6  USDT   10000.0     0.0\n",
       "7   XRP   50000.0     0.0"
      ]
     },
     "execution_count": 53,
     "metadata": {},
     "output_type": "execute_result"
    }
   ],
   "source": [
    "df.loc[df.free > 0]"
   ]
  },
  {
   "cell_type": "code",
   "execution_count": null,
   "id": "a4c2e16a",
   "metadata": {},
   "outputs": [],
   "source": [
    "client.get_asset_balance(asset = \"BTC\")"
   ]
  },
  {
   "cell_type": "code",
   "execution_count": null,
   "id": "1cab98cd",
   "metadata": {},
   "outputs": [],
   "source": [
    "client.get_asset_balance(asset = \"ETH\")"
   ]
  },
  {
   "cell_type": "code",
   "execution_count": null,
   "id": "67fb0196",
   "metadata": {},
   "outputs": [],
   "source": [
    "float(client.get_asset_balance(asset=\"EUR\")[\"free\"]) "
   ]
  },
  {
   "cell_type": "code",
   "execution_count": null,
   "id": "f9fb578d",
   "metadata": {},
   "outputs": [],
   "source": [
    "snap = client.get_account_snapshot(type = \"SPOT\") # daily account snapshot\n",
    "snap"
   ]
  },
  {
   "cell_type": "code",
   "execution_count": null,
   "id": "d599fcb9",
   "metadata": {},
   "outputs": [],
   "source": [
    "snap = pd.json_normalize(snap[\"snapshotVos\"])\n",
    "snap"
   ]
  },
  {
   "cell_type": "code",
   "execution_count": null,
   "id": "5c45d63b",
   "metadata": {},
   "outputs": [],
   "source": [
    "snap.updateTime = pd.to_datetime(snap[\"updateTime\"], unit = \"ms\") "
   ]
  },
  {
   "cell_type": "code",
   "execution_count": null,
   "id": "4c1bb27d",
   "metadata": {},
   "outputs": [],
   "source": [
    "snap"
   ]
  },
  {
   "cell_type": "code",
   "execution_count": null,
   "id": "90d2e7d1",
   "metadata": {},
   "outputs": [],
   "source": [
    "snap[\"data.balances\"][0]"
   ]
  },
  {
   "cell_type": "code",
   "execution_count": null,
   "id": "da814bad",
   "metadata": {},
   "outputs": [],
   "source": [
    "client.get_exchange_info()[\"rateLimits\"] # API Limits"
   ]
  },
  {
   "cell_type": "code",
   "execution_count": null,
   "id": "0f1d2871",
   "metadata": {},
   "outputs": [],
   "source": [
    "client.get_all_coins_info() # asset/coin Info"
   ]
  },
  {
   "cell_type": "code",
   "execution_count": null,
   "id": "d8b627ce",
   "metadata": {},
   "outputs": [],
   "source": [
    "coins = pd.DataFrame(client.get_all_coins_info()) # asset/coin Info\n",
    "coins"
   ]
  },
  {
   "cell_type": "code",
   "execution_count": null,
   "id": "6f448410",
   "metadata": {},
   "outputs": [],
   "source": [
    "coins.loc[coins.coin == \"BTC\"]"
   ]
  },
  {
   "cell_type": "code",
   "execution_count": null,
   "id": "72381806",
   "metadata": {},
   "outputs": [],
   "source": [
    "coins.loc[coins.coin == \"EUR\"]"
   ]
  },
  {
   "cell_type": "code",
   "execution_count": null,
   "id": "de143487",
   "metadata": {},
   "outputs": [],
   "source": [
    "client.get_trade_fee(symbol = \"BTCUSDT\")"
   ]
  },
  {
   "cell_type": "code",
   "execution_count": null,
   "id": "2b9f215c",
   "metadata": {},
   "outputs": [],
   "source": [
    "client.get_trade_fee(symbol = \"BTCEUR\")"
   ]
  },
  {
   "cell_type": "code",
   "execution_count": null,
   "id": "e533fd8b",
   "metadata": {},
   "outputs": [],
   "source": [
    "client.get_trade_fee(symbol = \"BUSDUSDT\") # zero commissions for stable coin pairs"
   ]
  },
  {
   "cell_type": "code",
   "execution_count": null,
   "id": "76bc68d5",
   "metadata": {},
   "outputs": [],
   "source": [
    "client.get_symbol_info(symbol = \"BTCEUR\") # information on symbol / pair"
   ]
  },
  {
   "cell_type": "code",
   "execution_count": null,
   "id": "37177ee2",
   "metadata": {},
   "outputs": [],
   "source": []
  },
  {
   "cell_type": "markdown",
   "id": "8b211be8",
   "metadata": {},
   "source": [
    "## Getting (current) Market Data"
   ]
  },
  {
   "cell_type": "code",
   "execution_count": null,
   "id": "6747845d",
   "metadata": {},
   "outputs": [],
   "source": [
    "from binance.client import Client\n",
    "import pandas as pd"
   ]
  },
  {
   "cell_type": "code",
   "execution_count": null,
   "id": "9642e53a",
   "metadata": {},
   "outputs": [],
   "source": [
    "client = Client(api_key = api_key, api_secret = secret_key, tld = \"com\")"
   ]
  },
  {
   "cell_type": "markdown",
   "id": "3f2d98f1",
   "metadata": {},
   "source": [
    "__Current Prices__"
   ]
  },
  {
   "cell_type": "code",
   "execution_count": 54,
   "id": "77fef6c2",
   "metadata": {},
   "outputs": [
    {
     "data": {
      "text/plain": [
       "{'symbol': 'BTCUSDT', 'price': '38976.55000000'}"
      ]
     },
     "execution_count": 54,
     "metadata": {},
     "output_type": "execute_result"
    }
   ],
   "source": [
    "client.get_symbol_ticker(symbol = \"BTCUSDT\") # current price for one symbol"
   ]
  },
  {
   "cell_type": "code",
   "execution_count": null,
   "id": "a4c0484a",
   "metadata": {},
   "outputs": [],
   "source": [
    "float(client.get_symbol_ticker(symbol = \"BTCUSDT\")[\"price\"])"
   ]
  },
  {
   "cell_type": "code",
   "execution_count": null,
   "id": "0bbf6b69",
   "metadata": {},
   "outputs": [],
   "source": [
    "client.get_avg_price(symbol = \"BTCUSDT\") # current average price"
   ]
  },
  {
   "cell_type": "code",
   "execution_count": null,
   "id": "2b0dc74f",
   "metadata": {},
   "outputs": [],
   "source": [
    "# get current prices for all pairs\n",
    "prices = client.get_all_tickers()\n",
    "prices"
   ]
  },
  {
   "cell_type": "code",
   "execution_count": null,
   "id": "ab70b12c",
   "metadata": {},
   "outputs": [],
   "source": [
    "df = pd.DataFrame(prices)\n",
    "df"
   ]
  },
  {
   "cell_type": "code",
   "execution_count": null,
   "id": "e27d982d",
   "metadata": {},
   "outputs": [],
   "source": [
    "df.info()"
   ]
  },
  {
   "cell_type": "code",
   "execution_count": null,
   "id": "0694c9c8",
   "metadata": {},
   "outputs": [],
   "source": [
    "df[df.symbol.str.contains(\"ETH\")]"
   ]
  },
  {
   "cell_type": "code",
   "execution_count": null,
   "id": "f7303818",
   "metadata": {},
   "outputs": [],
   "source": [
    "df[df.symbol.str.contains(\"BTC\") & df.symbol.str.contains(\"USD\")]"
   ]
  },
  {
   "cell_type": "code",
   "execution_count": null,
   "id": "9dd74b17",
   "metadata": {},
   "outputs": [],
   "source": [
    "df[df.symbol.str.contains(\"BTC\") & df.symbol.str.contains(\"EUR\")]"
   ]
  },
  {
   "cell_type": "code",
   "execution_count": null,
   "id": "b34ece4e",
   "metadata": {},
   "outputs": [],
   "source": [
    "last24 = client.get_ticker(symbol = \"BTCUSDT\") # 24H Price change statistic\n",
    "last24"
   ]
  },
  {
   "cell_type": "code",
   "execution_count": null,
   "id": "beb29df7",
   "metadata": {},
   "outputs": [],
   "source": [
    "last24[\"openTime\"]"
   ]
  },
  {
   "cell_type": "code",
   "execution_count": null,
   "id": "28c7e172",
   "metadata": {},
   "outputs": [],
   "source": [
    "pd.to_datetime(last24[\"openTime\"], unit = \"ms\") "
   ]
  },
  {
   "cell_type": "code",
   "execution_count": null,
   "id": "fcbde224",
   "metadata": {},
   "outputs": [],
   "source": [
    "pd.to_datetime(last24[\"closeTime\"], unit = \"ms\") "
   ]
  },
  {
   "cell_type": "code",
   "execution_count": null,
   "id": "f63c5f3c",
   "metadata": {},
   "outputs": [],
   "source": [
    "open_price = float(last24[\"openPrice\"])\n",
    "open_price"
   ]
  },
  {
   "cell_type": "code",
   "execution_count": null,
   "id": "412db66e",
   "metadata": {},
   "outputs": [],
   "source": [
    "high_price = float(last24[\"highPrice\"])\n",
    "high_price"
   ]
  },
  {
   "cell_type": "code",
   "execution_count": null,
   "id": "28c90c6e",
   "metadata": {},
   "outputs": [],
   "source": [
    "low_price = float(last24[\"lowPrice\"])\n",
    "low_price"
   ]
  },
  {
   "cell_type": "code",
   "execution_count": null,
   "id": "ecd90464",
   "metadata": {},
   "outputs": [],
   "source": [
    "close_price = float(last24[\"lastPrice\"])\n",
    "close_price"
   ]
  },
  {
   "cell_type": "code",
   "execution_count": null,
   "id": "4e172a24",
   "metadata": {},
   "outputs": [],
   "source": [
    "close_price - open_price"
   ]
  },
  {
   "cell_type": "code",
   "execution_count": null,
   "id": "3849c316",
   "metadata": {},
   "outputs": [],
   "source": [
    "(close_price/open_price - 1) * 100"
   ]
  },
  {
   "cell_type": "code",
   "execution_count": null,
   "id": "6ea778e8",
   "metadata": {},
   "outputs": [],
   "source": []
  },
  {
   "cell_type": "markdown",
   "id": "b4485602",
   "metadata": {},
   "source": [
    "## Getting Historical Data (OHLC & Volume) - Part 1"
   ]
  },
  {
   "cell_type": "code",
   "execution_count": null,
   "id": "0e69bd25",
   "metadata": {},
   "outputs": [],
   "source": [
    "from binance.client import Client\n",
    "import pandas as pd"
   ]
  },
  {
   "cell_type": "code",
   "execution_count": null,
   "id": "280038b2",
   "metadata": {},
   "outputs": [],
   "source": [
    "client = Client(api_key = api_key, api_secret = secret_key, tld = \"com\")"
   ]
  },
  {
   "cell_type": "code",
   "execution_count": 9,
   "id": "12026f59",
   "metadata": {},
   "outputs": [
    {
     "data": {
      "text/plain": [
       "1649203200000"
      ]
     },
     "execution_count": 9,
     "metadata": {},
     "output_type": "execute_result"
    }
   ],
   "source": [
    "timestamp = client._get_earliest_valid_timestamp(symbol = \"BTCUSDT\", interval = \"1d\")\n",
    "timestamp # earliest data available on Binance"
   ]
  },
  {
   "cell_type": "code",
   "execution_count": null,
   "id": "3bcfbc69",
   "metadata": {},
   "outputs": [],
   "source": [
    "pd.to_datetime(timestamp, unit = \"ms\") # earliest data available on Binance"
   ]
  },
  {
   "cell_type": "code",
   "execution_count": 55,
   "id": "6b4cf47f",
   "metadata": {
    "scrolled": true
   },
   "outputs": [
    {
     "data": {
      "text/plain": [
       "[[1651622400000,\n",
       "  '38127.16000000',\n",
       "  '48200.00000000',\n",
       "  '9000.00000000',\n",
       "  '38982.16000000',\n",
       "  '558.46993500',\n",
       "  1651708799999,\n",
       "  '21594841.89651449',\n",
       "  18176,\n",
       "  '357.84750700',\n",
       "  '13838748.72854733',\n",
       "  '0']]"
      ]
     },
     "execution_count": 55,
     "metadata": {},
     "output_type": "execute_result"
    }
   ],
   "source": [
    "bars = client.get_historical_klines(symbol = \"BTCUSDT\",\n",
    "                                    interval = \"1d\", start_str = timestamp, limit = 1000)\n",
    "bars"
   ]
  },
  {
   "cell_type": "code",
   "execution_count": 56,
   "id": "ec66fb59",
   "metadata": {},
   "outputs": [
    {
     "data": {
      "text/html": [
       "<div>\n",
       "<style scoped>\n",
       "    .dataframe tbody tr th:only-of-type {\n",
       "        vertical-align: middle;\n",
       "    }\n",
       "\n",
       "    .dataframe tbody tr th {\n",
       "        vertical-align: top;\n",
       "    }\n",
       "\n",
       "    .dataframe thead th {\n",
       "        text-align: right;\n",
       "    }\n",
       "</style>\n",
       "<table border=\"1\" class=\"dataframe\">\n",
       "  <thead>\n",
       "    <tr style=\"text-align: right;\">\n",
       "      <th></th>\n",
       "      <th>0</th>\n",
       "      <th>1</th>\n",
       "      <th>2</th>\n",
       "      <th>3</th>\n",
       "      <th>4</th>\n",
       "      <th>5</th>\n",
       "      <th>6</th>\n",
       "      <th>7</th>\n",
       "      <th>8</th>\n",
       "      <th>9</th>\n",
       "      <th>10</th>\n",
       "      <th>11</th>\n",
       "    </tr>\n",
       "  </thead>\n",
       "  <tbody>\n",
       "    <tr>\n",
       "      <th>0</th>\n",
       "      <td>1651622400000</td>\n",
       "      <td>38127.16000000</td>\n",
       "      <td>48200.00000000</td>\n",
       "      <td>9000.00000000</td>\n",
       "      <td>38982.16000000</td>\n",
       "      <td>558.46993500</td>\n",
       "      <td>1651708799999</td>\n",
       "      <td>21594841.89651449</td>\n",
       "      <td>18176</td>\n",
       "      <td>357.84750700</td>\n",
       "      <td>13838748.72854733</td>\n",
       "      <td>0</td>\n",
       "    </tr>\n",
       "  </tbody>\n",
       "</table>\n",
       "</div>"
      ],
      "text/plain": [
       "              0               1               2              3   \\\n",
       "0  1651622400000  38127.16000000  48200.00000000  9000.00000000   \n",
       "\n",
       "               4             5              6                  7      8   \\\n",
       "0  38982.16000000  558.46993500  1651708799999  21594841.89651449  18176   \n",
       "\n",
       "             9                  10 11  \n",
       "0  357.84750700  13838748.72854733  0  "
      ]
     },
     "execution_count": 56,
     "metadata": {},
     "output_type": "execute_result"
    }
   ],
   "source": [
    "df = pd.DataFrame(bars)\n",
    "df"
   ]
  },
  {
   "cell_type": "code",
   "execution_count": 57,
   "id": "4bd92382",
   "metadata": {},
   "outputs": [],
   "source": [
    "df[\"Date\"] = pd.to_datetime(df.iloc[:,0], unit = \"ms\")"
   ]
  },
  {
   "cell_type": "code",
   "execution_count": 58,
   "id": "30f04a1a",
   "metadata": {},
   "outputs": [
    {
     "data": {
      "text/html": [
       "<div>\n",
       "<style scoped>\n",
       "    .dataframe tbody tr th:only-of-type {\n",
       "        vertical-align: middle;\n",
       "    }\n",
       "\n",
       "    .dataframe tbody tr th {\n",
       "        vertical-align: top;\n",
       "    }\n",
       "\n",
       "    .dataframe thead th {\n",
       "        text-align: right;\n",
       "    }\n",
       "</style>\n",
       "<table border=\"1\" class=\"dataframe\">\n",
       "  <thead>\n",
       "    <tr style=\"text-align: right;\">\n",
       "      <th></th>\n",
       "      <th>0</th>\n",
       "      <th>1</th>\n",
       "      <th>2</th>\n",
       "      <th>3</th>\n",
       "      <th>4</th>\n",
       "      <th>5</th>\n",
       "      <th>6</th>\n",
       "      <th>7</th>\n",
       "      <th>8</th>\n",
       "      <th>9</th>\n",
       "      <th>10</th>\n",
       "      <th>11</th>\n",
       "      <th>Date</th>\n",
       "    </tr>\n",
       "  </thead>\n",
       "  <tbody>\n",
       "    <tr>\n",
       "      <th>0</th>\n",
       "      <td>1651622400000</td>\n",
       "      <td>38127.16000000</td>\n",
       "      <td>48200.00000000</td>\n",
       "      <td>9000.00000000</td>\n",
       "      <td>38982.16000000</td>\n",
       "      <td>558.46993500</td>\n",
       "      <td>1651708799999</td>\n",
       "      <td>21594841.89651449</td>\n",
       "      <td>18176</td>\n",
       "      <td>357.84750700</td>\n",
       "      <td>13838748.72854733</td>\n",
       "      <td>0</td>\n",
       "      <td>2022-05-04</td>\n",
       "    </tr>\n",
       "  </tbody>\n",
       "</table>\n",
       "</div>"
      ],
      "text/plain": [
       "               0               1               2              3  \\\n",
       "0  1651622400000  38127.16000000  48200.00000000  9000.00000000   \n",
       "\n",
       "                4             5              6                  7      8  \\\n",
       "0  38982.16000000  558.46993500  1651708799999  21594841.89651449  18176   \n",
       "\n",
       "              9                 10 11       Date  \n",
       "0  357.84750700  13838748.72854733  0 2022-05-04  "
      ]
     },
     "execution_count": 58,
     "metadata": {},
     "output_type": "execute_result"
    }
   ],
   "source": [
    "df"
   ]
  },
  {
   "cell_type": "code",
   "execution_count": 59,
   "id": "af0638eb",
   "metadata": {},
   "outputs": [],
   "source": [
    "df.columns = [\"Open Time\", \"Open\", \"High\", \"Low\", \"Close\",\n",
    "              \"Volume\", \"Clos Time\", \"Quote Asset Volume\", \n",
    "              \"Number of Trades\", \"Taker Buy Base Asset Volume\",\n",
    "              \"Taker Buy Quote Asset Volume\", \"Ignore\", \"Date\" ]"
   ]
  },
  {
   "cell_type": "code",
   "execution_count": 60,
   "id": "6b55e926",
   "metadata": {},
   "outputs": [
    {
     "data": {
      "text/html": [
       "<div>\n",
       "<style scoped>\n",
       "    .dataframe tbody tr th:only-of-type {\n",
       "        vertical-align: middle;\n",
       "    }\n",
       "\n",
       "    .dataframe tbody tr th {\n",
       "        vertical-align: top;\n",
       "    }\n",
       "\n",
       "    .dataframe thead th {\n",
       "        text-align: right;\n",
       "    }\n",
       "</style>\n",
       "<table border=\"1\" class=\"dataframe\">\n",
       "  <thead>\n",
       "    <tr style=\"text-align: right;\">\n",
       "      <th></th>\n",
       "      <th>Open Time</th>\n",
       "      <th>Open</th>\n",
       "      <th>High</th>\n",
       "      <th>Low</th>\n",
       "      <th>Close</th>\n",
       "      <th>Volume</th>\n",
       "      <th>Clos Time</th>\n",
       "      <th>Quote Asset Volume</th>\n",
       "      <th>Number of Trades</th>\n",
       "      <th>Taker Buy Base Asset Volume</th>\n",
       "      <th>Taker Buy Quote Asset Volume</th>\n",
       "      <th>Ignore</th>\n",
       "      <th>Date</th>\n",
       "    </tr>\n",
       "  </thead>\n",
       "  <tbody>\n",
       "    <tr>\n",
       "      <th>0</th>\n",
       "      <td>1651622400000</td>\n",
       "      <td>38127.16000000</td>\n",
       "      <td>48200.00000000</td>\n",
       "      <td>9000.00000000</td>\n",
       "      <td>38982.16000000</td>\n",
       "      <td>558.46993500</td>\n",
       "      <td>1651708799999</td>\n",
       "      <td>21594841.89651449</td>\n",
       "      <td>18176</td>\n",
       "      <td>357.84750700</td>\n",
       "      <td>13838748.72854733</td>\n",
       "      <td>0</td>\n",
       "      <td>2022-05-04</td>\n",
       "    </tr>\n",
       "  </tbody>\n",
       "</table>\n",
       "</div>"
      ],
      "text/plain": [
       "       Open Time            Open            High            Low  \\\n",
       "0  1651622400000  38127.16000000  48200.00000000  9000.00000000   \n",
       "\n",
       "            Close        Volume      Clos Time Quote Asset Volume  \\\n",
       "0  38982.16000000  558.46993500  1651708799999  21594841.89651449   \n",
       "\n",
       "   Number of Trades Taker Buy Base Asset Volume Taker Buy Quote Asset Volume  \\\n",
       "0             18176                357.84750700            13838748.72854733   \n",
       "\n",
       "  Ignore       Date  \n",
       "0      0 2022-05-04  "
      ]
     },
     "execution_count": 60,
     "metadata": {},
     "output_type": "execute_result"
    }
   ],
   "source": [
    "df"
   ]
  },
  {
   "cell_type": "code",
   "execution_count": 61,
   "id": "7ee801b0",
   "metadata": {},
   "outputs": [],
   "source": [
    "df = df[[\"Date\", \"Open\", \"High\", \"Low\", \"Close\", \"Volume\"]].copy()"
   ]
  },
  {
   "cell_type": "code",
   "execution_count": 62,
   "id": "6333e4e3",
   "metadata": {},
   "outputs": [
    {
     "data": {
      "text/html": [
       "<div>\n",
       "<style scoped>\n",
       "    .dataframe tbody tr th:only-of-type {\n",
       "        vertical-align: middle;\n",
       "    }\n",
       "\n",
       "    .dataframe tbody tr th {\n",
       "        vertical-align: top;\n",
       "    }\n",
       "\n",
       "    .dataframe thead th {\n",
       "        text-align: right;\n",
       "    }\n",
       "</style>\n",
       "<table border=\"1\" class=\"dataframe\">\n",
       "  <thead>\n",
       "    <tr style=\"text-align: right;\">\n",
       "      <th></th>\n",
       "      <th>Date</th>\n",
       "      <th>Open</th>\n",
       "      <th>High</th>\n",
       "      <th>Low</th>\n",
       "      <th>Close</th>\n",
       "      <th>Volume</th>\n",
       "    </tr>\n",
       "  </thead>\n",
       "  <tbody>\n",
       "    <tr>\n",
       "      <th>0</th>\n",
       "      <td>2022-05-04</td>\n",
       "      <td>38127.16000000</td>\n",
       "      <td>48200.00000000</td>\n",
       "      <td>9000.00000000</td>\n",
       "      <td>38982.16000000</td>\n",
       "      <td>558.46993500</td>\n",
       "    </tr>\n",
       "  </tbody>\n",
       "</table>\n",
       "</div>"
      ],
      "text/plain": [
       "        Date            Open            High            Low           Close  \\\n",
       "0 2022-05-04  38127.16000000  48200.00000000  9000.00000000  38982.16000000   \n",
       "\n",
       "         Volume  \n",
       "0  558.46993500  "
      ]
     },
     "execution_count": 62,
     "metadata": {},
     "output_type": "execute_result"
    }
   ],
   "source": [
    "df"
   ]
  },
  {
   "cell_type": "code",
   "execution_count": 63,
   "id": "91b1ee1a",
   "metadata": {},
   "outputs": [],
   "source": [
    "df.set_index(\"Date\", inplace = True)"
   ]
  },
  {
   "cell_type": "code",
   "execution_count": 64,
   "id": "8a4608e1",
   "metadata": {},
   "outputs": [
    {
     "data": {
      "text/html": [
       "<div>\n",
       "<style scoped>\n",
       "    .dataframe tbody tr th:only-of-type {\n",
       "        vertical-align: middle;\n",
       "    }\n",
       "\n",
       "    .dataframe tbody tr th {\n",
       "        vertical-align: top;\n",
       "    }\n",
       "\n",
       "    .dataframe thead th {\n",
       "        text-align: right;\n",
       "    }\n",
       "</style>\n",
       "<table border=\"1\" class=\"dataframe\">\n",
       "  <thead>\n",
       "    <tr style=\"text-align: right;\">\n",
       "      <th></th>\n",
       "      <th>Open</th>\n",
       "      <th>High</th>\n",
       "      <th>Low</th>\n",
       "      <th>Close</th>\n",
       "      <th>Volume</th>\n",
       "    </tr>\n",
       "    <tr>\n",
       "      <th>Date</th>\n",
       "      <th></th>\n",
       "      <th></th>\n",
       "      <th></th>\n",
       "      <th></th>\n",
       "      <th></th>\n",
       "    </tr>\n",
       "  </thead>\n",
       "  <tbody>\n",
       "    <tr>\n",
       "      <th>2022-05-04</th>\n",
       "      <td>38127.16000000</td>\n",
       "      <td>48200.00000000</td>\n",
       "      <td>9000.00000000</td>\n",
       "      <td>38982.16000000</td>\n",
       "      <td>558.46993500</td>\n",
       "    </tr>\n",
       "  </tbody>\n",
       "</table>\n",
       "</div>"
      ],
      "text/plain": [
       "                      Open            High            Low           Close  \\\n",
       "Date                                                                        \n",
       "2022-05-04  38127.16000000  48200.00000000  9000.00000000  38982.16000000   \n",
       "\n",
       "                  Volume  \n",
       "Date                      \n",
       "2022-05-04  558.46993500  "
      ]
     },
     "execution_count": 64,
     "metadata": {},
     "output_type": "execute_result"
    }
   ],
   "source": [
    "df"
   ]
  },
  {
   "cell_type": "code",
   "execution_count": 65,
   "id": "e11d7bf4",
   "metadata": {},
   "outputs": [
    {
     "name": "stdout",
     "output_type": "stream",
     "text": [
      "<class 'pandas.core.frame.DataFrame'>\n",
      "DatetimeIndex: 1 entries, 2022-05-04 to 2022-05-04\n",
      "Data columns (total 5 columns):\n",
      " #   Column  Non-Null Count  Dtype \n",
      "---  ------  --------------  ----- \n",
      " 0   Open    1 non-null      object\n",
      " 1   High    1 non-null      object\n",
      " 2   Low     1 non-null      object\n",
      " 3   Close   1 non-null      object\n",
      " 4   Volume  1 non-null      object\n",
      "dtypes: object(5)\n",
      "memory usage: 48.0+ bytes\n"
     ]
    }
   ],
   "source": [
    "df.info()"
   ]
  },
  {
   "cell_type": "code",
   "execution_count": 66,
   "id": "db2eaa92",
   "metadata": {},
   "outputs": [],
   "source": [
    "for column in df.columns:\n",
    "    df[column] = pd.to_numeric(df[column], errors = \"coerce\")"
   ]
  },
  {
   "cell_type": "code",
   "execution_count": null,
   "id": "4c5884f2",
   "metadata": {},
   "outputs": [],
   "source": []
  },
  {
   "cell_type": "markdown",
   "id": "55ae3dec",
   "metadata": {},
   "source": [
    "## Getting Historical Data (OHLC & Volume) - Part 2"
   ]
  },
  {
   "cell_type": "code",
   "execution_count": 67,
   "id": "12cbb68c",
   "metadata": {},
   "outputs": [],
   "source": [
    "def get_history(symbol, interval, start, end = None):\n",
    "    bars = client.get_historical_klines(symbol = symbol, interval = interval,\n",
    "                                        start_str = start, end_str = end, limit = 1000)\n",
    "    df = pd.DataFrame(bars)\n",
    "    df[\"Date\"] = pd.to_datetime(df.iloc[:,0], unit = \"ms\")\n",
    "    df.columns = [\"Open Time\", \"Open\", \"High\", \"Low\", \"Close\", \"Volume\",\n",
    "                  \"Clos Time\", \"Quote Asset Volume\", \"Number of Trades\",\n",
    "                  \"Taker Buy Base Asset Volume\", \"Taker Buy Quote Asset Volume\", \"Ignore\", \"Date\"]\n",
    "    df = df[[\"Date\", \"Open\", \"High\", \"Low\", \"Close\", \"Volume\"]].copy()\n",
    "    df.set_index(\"Date\", inplace = True)\n",
    "    for column in df.columns:\n",
    "        df[column] = pd.to_numeric(df[column], errors = \"coerce\")\n",
    "    \n",
    "    return df"
   ]
  },
  {
   "cell_type": "code",
   "execution_count": 68,
   "id": "cd8700b8",
   "metadata": {},
   "outputs": [
    {
     "data": {
      "text/plain": [
       "1649203200000"
      ]
     },
     "execution_count": 68,
     "metadata": {},
     "output_type": "execute_result"
    }
   ],
   "source": [
    "timestamp"
   ]
  },
  {
   "cell_type": "code",
   "execution_count": 69,
   "id": "ebba24be",
   "metadata": {},
   "outputs": [
    {
     "data": {
      "text/plain": [
       "int"
      ]
     },
     "execution_count": 69,
     "metadata": {},
     "output_type": "execute_result"
    }
   ],
   "source": [
    "type(timestamp)"
   ]
  },
  {
   "cell_type": "markdown",
   "id": "19ee98fe",
   "metadata": {},
   "source": [
    "__Daily Data until Today/Now__"
   ]
  },
  {
   "cell_type": "code",
   "execution_count": 70,
   "id": "7c521683",
   "metadata": {},
   "outputs": [
    {
     "data": {
      "text/html": [
       "<div>\n",
       "<style scoped>\n",
       "    .dataframe tbody tr th:only-of-type {\n",
       "        vertical-align: middle;\n",
       "    }\n",
       "\n",
       "    .dataframe tbody tr th {\n",
       "        vertical-align: top;\n",
       "    }\n",
       "\n",
       "    .dataframe thead th {\n",
       "        text-align: right;\n",
       "    }\n",
       "</style>\n",
       "<table border=\"1\" class=\"dataframe\">\n",
       "  <thead>\n",
       "    <tr style=\"text-align: right;\">\n",
       "      <th></th>\n",
       "      <th>Open</th>\n",
       "      <th>High</th>\n",
       "      <th>Low</th>\n",
       "      <th>Close</th>\n",
       "      <th>Volume</th>\n",
       "    </tr>\n",
       "    <tr>\n",
       "      <th>Date</th>\n",
       "      <th></th>\n",
       "      <th></th>\n",
       "      <th></th>\n",
       "      <th></th>\n",
       "      <th></th>\n",
       "    </tr>\n",
       "  </thead>\n",
       "  <tbody>\n",
       "    <tr>\n",
       "      <th>2022-05-04</th>\n",
       "      <td>38127.16</td>\n",
       "      <td>48200.0</td>\n",
       "      <td>9000.0</td>\n",
       "      <td>39036.41</td>\n",
       "      <td>567.492029</td>\n",
       "    </tr>\n",
       "  </tbody>\n",
       "</table>\n",
       "</div>"
      ],
      "text/plain": [
       "                Open     High     Low     Close      Volume\n",
       "Date                                                       \n",
       "2022-05-04  38127.16  48200.0  9000.0  39036.41  567.492029"
      ]
     },
     "execution_count": 70,
     "metadata": {},
     "output_type": "execute_result"
    }
   ],
   "source": [
    "df = get_history(symbol = \"BTCUSDT\", interval = \"1d\", start = timestamp)\n",
    "df"
   ]
  },
  {
   "cell_type": "code",
   "execution_count": 71,
   "id": "82001af6",
   "metadata": {},
   "outputs": [
    {
     "name": "stdout",
     "output_type": "stream",
     "text": [
      "<class 'pandas.core.frame.DataFrame'>\n",
      "DatetimeIndex: 1 entries, 2022-05-04 to 2022-05-04\n",
      "Data columns (total 5 columns):\n",
      " #   Column  Non-Null Count  Dtype  \n",
      "---  ------  --------------  -----  \n",
      " 0   Open    1 non-null      float64\n",
      " 1   High    1 non-null      float64\n",
      " 2   Low     1 non-null      float64\n",
      " 3   Close   1 non-null      float64\n",
      " 4   Volume  1 non-null      float64\n",
      "dtypes: float64(5)\n",
      "memory usage: 48.0 bytes\n"
     ]
    }
   ],
   "source": [
    "df.info()"
   ]
  },
  {
   "cell_type": "markdown",
   "id": "7a78bbcb",
   "metadata": {},
   "source": [
    "__Daily Data for specified Time Period__"
   ]
  },
  {
   "cell_type": "code",
   "execution_count": 72,
   "id": "3fe414a3",
   "metadata": {},
   "outputs": [
    {
     "data": {
      "text/plain": [
       "float"
      ]
     },
     "execution_count": 72,
     "metadata": {},
     "output_type": "execute_result"
    }
   ],
   "source": [
    "from datetime import datetime\n",
    "\n",
    "dt_obj = datetime.strptime(\"04-04-2022\", \"%d-%m-%Y\")\n",
    "millisec = dt_obj.timestamp() * 1000\n",
    "\n",
    "type(millisec)"
   ]
  },
  {
   "cell_type": "code",
   "execution_count": 73,
   "id": "c96426a9",
   "metadata": {
    "scrolled": true
   },
   "outputs": [
    {
     "data": {
      "text/html": [
       "<div>\n",
       "<style scoped>\n",
       "    .dataframe tbody tr th:only-of-type {\n",
       "        vertical-align: middle;\n",
       "    }\n",
       "\n",
       "    .dataframe tbody tr th {\n",
       "        vertical-align: top;\n",
       "    }\n",
       "\n",
       "    .dataframe thead th {\n",
       "        text-align: right;\n",
       "    }\n",
       "</style>\n",
       "<table border=\"1\" class=\"dataframe\">\n",
       "  <thead>\n",
       "    <tr style=\"text-align: right;\">\n",
       "      <th></th>\n",
       "      <th>Open</th>\n",
       "      <th>High</th>\n",
       "      <th>Low</th>\n",
       "      <th>Close</th>\n",
       "      <th>Volume</th>\n",
       "    </tr>\n",
       "    <tr>\n",
       "      <th>Date</th>\n",
       "      <th></th>\n",
       "      <th></th>\n",
       "      <th></th>\n",
       "      <th></th>\n",
       "      <th></th>\n",
       "    </tr>\n",
       "  </thead>\n",
       "  <tbody>\n",
       "    <tr>\n",
       "      <th>2022-05-04</th>\n",
       "      <td>38127.16</td>\n",
       "      <td>48200.0</td>\n",
       "      <td>9000.0</td>\n",
       "      <td>39026.33</td>\n",
       "      <td>575.368865</td>\n",
       "    </tr>\n",
       "  </tbody>\n",
       "</table>\n",
       "</div>"
      ],
      "text/plain": [
       "                Open     High     Low     Close      Volume\n",
       "Date                                                       \n",
       "2022-05-04  38127.16  48200.0  9000.0  39026.33  575.368865"
      ]
     },
     "execution_count": 73,
     "metadata": {},
     "output_type": "execute_result"
    }
   ],
   "source": [
    "df = get_history(symbol = \"BTCUSDT\", \n",
    "                 interval = \"1d\", \n",
    "                 start = int(datetime.strptime(\"12-04-2022\", \"%d-%m-%Y\").timestamp() * 1000))\n",
    "df"
   ]
  },
  {
   "cell_type": "markdown",
   "id": "2a496ad8",
   "metadata": {},
   "source": [
    "valid intervals - 1m, 3m, 5m, 15m, 30m, 1h, 2h, 4h, 6h, 8h, 12h, 1d, 3d, 1w, 1M"
   ]
  },
  {
   "cell_type": "markdown",
   "id": "4e216ffb",
   "metadata": {},
   "source": [
    "__Weekly Data for specified Time Period__"
   ]
  },
  {
   "cell_type": "code",
   "execution_count": 35,
   "id": "5f22b55b",
   "metadata": {
    "scrolled": false
   },
   "outputs": [
    {
     "name": "stderr",
     "output_type": "stream",
     "text": [
      "Task was destroyed but it is pending!\n",
      "task: <Task pending name='Task-13' coro=<ReconnectingWebsocket._read_loop() running at /Users/manaadvice/opt/anaconda3/envs/binance_trading/lib/python3.8/site-packages/binance/streams.py:130> wait_for=<Future pending cb=[<TaskWakeupMethWrapper object at 0x7fb2326e1970>()]>>\n",
      "Task was destroyed but it is pending!\n",
      "task: <Task pending name='Task-70' coro=<ReconnectingWebsocket._read_loop() running at /Users/manaadvice/opt/anaconda3/envs/binance_trading/lib/python3.8/site-packages/binance/streams.py:130> wait_for=<Future pending cb=[<TaskWakeupMethWrapper object at 0x7fb23296ddf0>()]>>\n"
     ]
    },
    {
     "ename": "error",
     "evalue": "bad escape \\d at position 7",
     "output_type": "error",
     "traceback": [
      "\u001b[0;31m---------------------------------------------------------------------------\u001b[0m",
      "\u001b[0;31merror\u001b[0m                                     Traceback (most recent call last)",
      "Input \u001b[0;32mIn [35]\u001b[0m, in \u001b[0;36m<cell line: 1>\u001b[0;34m()\u001b[0m\n\u001b[0;32m----> 1\u001b[0m df \u001b[38;5;241m=\u001b[39m \u001b[43mget_history\u001b[49m\u001b[43m(\u001b[49m\u001b[43msymbol\u001b[49m\u001b[43m \u001b[49m\u001b[38;5;241;43m=\u001b[39;49m\u001b[43m \u001b[49m\u001b[38;5;124;43m\"\u001b[39;49m\u001b[38;5;124;43mBTCUSDT\u001b[39;49m\u001b[38;5;124;43m\"\u001b[39;49m\u001b[43m,\u001b[49m\u001b[43m \u001b[49m\u001b[43minterval\u001b[49m\u001b[43m \u001b[49m\u001b[38;5;241;43m=\u001b[39;49m\u001b[43m \u001b[49m\u001b[38;5;124;43m\"\u001b[39;49m\u001b[38;5;124;43m1w\u001b[39;49m\u001b[38;5;124;43m\"\u001b[39;49m\u001b[43m,\u001b[49m\u001b[43m \u001b[49m\u001b[43mstart\u001b[49m\u001b[43m \u001b[49m\u001b[38;5;241;43m=\u001b[39;49m\u001b[43m \u001b[49m\u001b[38;5;124;43m\"\u001b[39;49m\u001b[38;5;124;43m2021-01-01\u001b[39;49m\u001b[38;5;124;43m\"\u001b[39;49m\u001b[43m,\u001b[49m\u001b[43m \u001b[49m\u001b[43mend\u001b[49m\u001b[43m \u001b[49m\u001b[38;5;241;43m=\u001b[39;49m\u001b[43m \u001b[49m\u001b[38;5;124;43m\"\u001b[39;49m\u001b[38;5;124;43m2021-06-30\u001b[39;49m\u001b[38;5;124;43m\"\u001b[39;49m\u001b[43m)\u001b[49m\n\u001b[1;32m      2\u001b[0m df\n",
      "Input \u001b[0;32mIn [7]\u001b[0m, in \u001b[0;36mget_history\u001b[0;34m(symbol, interval, start, end)\u001b[0m\n\u001b[1;32m      1\u001b[0m \u001b[38;5;28;01mdef\u001b[39;00m \u001b[38;5;21mget_history\u001b[39m(symbol, interval, start, end \u001b[38;5;241m=\u001b[39m \u001b[38;5;28;01mNone\u001b[39;00m):\n\u001b[0;32m----> 2\u001b[0m     bars \u001b[38;5;241m=\u001b[39m \u001b[43mclient\u001b[49m\u001b[38;5;241;43m.\u001b[39;49m\u001b[43mget_historical_klines\u001b[49m\u001b[43m(\u001b[49m\u001b[43msymbol\u001b[49m\u001b[43m \u001b[49m\u001b[38;5;241;43m=\u001b[39;49m\u001b[43m \u001b[49m\u001b[43msymbol\u001b[49m\u001b[43m,\u001b[49m\u001b[43m \u001b[49m\u001b[43minterval\u001b[49m\u001b[43m \u001b[49m\u001b[38;5;241;43m=\u001b[39;49m\u001b[43m \u001b[49m\u001b[43minterval\u001b[49m\u001b[43m,\u001b[49m\n\u001b[1;32m      3\u001b[0m \u001b[43m                                        \u001b[49m\u001b[43mstart_str\u001b[49m\u001b[43m \u001b[49m\u001b[38;5;241;43m=\u001b[39;49m\u001b[43m \u001b[49m\u001b[43mstart\u001b[49m\u001b[43m,\u001b[49m\u001b[43m \u001b[49m\u001b[43mend_str\u001b[49m\u001b[43m \u001b[49m\u001b[38;5;241;43m=\u001b[39;49m\u001b[43m \u001b[49m\u001b[43mend\u001b[49m\u001b[43m,\u001b[49m\u001b[43m \u001b[49m\u001b[43mlimit\u001b[49m\u001b[43m \u001b[49m\u001b[38;5;241;43m=\u001b[39;49m\u001b[43m \u001b[49m\u001b[38;5;241;43m1000\u001b[39;49m\u001b[43m)\u001b[49m\n\u001b[1;32m      4\u001b[0m     df \u001b[38;5;241m=\u001b[39m pd\u001b[38;5;241m.\u001b[39mDataFrame(bars)\n\u001b[1;32m      5\u001b[0m     df[\u001b[38;5;124m\"\u001b[39m\u001b[38;5;124mDate\u001b[39m\u001b[38;5;124m\"\u001b[39m] \u001b[38;5;241m=\u001b[39m pd\u001b[38;5;241m.\u001b[39mto_datetime(df\u001b[38;5;241m.\u001b[39miloc[:,\u001b[38;5;241m0\u001b[39m], unit \u001b[38;5;241m=\u001b[39m \u001b[38;5;124m\"\u001b[39m\u001b[38;5;124mms\u001b[39m\u001b[38;5;124m\"\u001b[39m)\n",
      "File \u001b[0;32m~/opt/anaconda3/envs/binance_trading/lib/python3.8/site-packages/binance/client.py:932\u001b[0m, in \u001b[0;36mClient.get_historical_klines\u001b[0;34m(self, symbol, interval, start_str, end_str, limit, klines_type)\u001b[0m\n\u001b[1;32m    912\u001b[0m \u001b[38;5;28;01mdef\u001b[39;00m \u001b[38;5;21mget_historical_klines\u001b[39m(\u001b[38;5;28mself\u001b[39m, symbol, interval, start_str, end_str\u001b[38;5;241m=\u001b[39m\u001b[38;5;28;01mNone\u001b[39;00m, limit\u001b[38;5;241m=\u001b[39m\u001b[38;5;241m500\u001b[39m,\n\u001b[1;32m    913\u001b[0m                           klines_type: HistoricalKlinesType \u001b[38;5;241m=\u001b[39m HistoricalKlinesType\u001b[38;5;241m.\u001b[39mSPOT):\n\u001b[1;32m    914\u001b[0m     \u001b[38;5;124;03m\"\"\"Get Historical Klines from Binance\u001b[39;00m\n\u001b[1;32m    915\u001b[0m \n\u001b[1;32m    916\u001b[0m \u001b[38;5;124;03m    :param symbol: Name of symbol pair e.g BNBBTC\u001b[39;00m\n\u001b[0;32m   (...)\u001b[0m\n\u001b[1;32m    930\u001b[0m \n\u001b[1;32m    931\u001b[0m \u001b[38;5;124;03m    \"\"\"\u001b[39;00m\n\u001b[0;32m--> 932\u001b[0m     \u001b[38;5;28;01mreturn\u001b[39;00m \u001b[38;5;28;43mself\u001b[39;49m\u001b[38;5;241;43m.\u001b[39;49m\u001b[43m_historical_klines\u001b[49m\u001b[43m(\u001b[49m\u001b[43msymbol\u001b[49m\u001b[43m,\u001b[49m\u001b[43m \u001b[49m\u001b[43minterval\u001b[49m\u001b[43m,\u001b[49m\u001b[43m \u001b[49m\u001b[43mstart_str\u001b[49m\u001b[43m,\u001b[49m\u001b[43m \u001b[49m\u001b[43mend_str\u001b[49m\u001b[38;5;241;43m=\u001b[39;49m\u001b[43mend_str\u001b[49m\u001b[43m,\u001b[49m\u001b[43m \u001b[49m\u001b[43mlimit\u001b[49m\u001b[38;5;241;43m=\u001b[39;49m\u001b[43mlimit\u001b[49m\u001b[43m,\u001b[49m\u001b[43m \u001b[49m\u001b[43mklines_type\u001b[49m\u001b[38;5;241;43m=\u001b[39;49m\u001b[43mklines_type\u001b[49m\u001b[43m)\u001b[49m\n",
      "File \u001b[0;32m~/opt/anaconda3/envs/binance_trading/lib/python3.8/site-packages/binance/client.py:964\u001b[0m, in \u001b[0;36mClient._historical_klines\u001b[0;34m(self, symbol, interval, start_str, end_str, limit, klines_type)\u001b[0m\n\u001b[1;32m    961\u001b[0m \u001b[38;5;66;03m# convert interval to useful value in seconds\u001b[39;00m\n\u001b[1;32m    962\u001b[0m timeframe \u001b[38;5;241m=\u001b[39m interval_to_milliseconds(interval)\n\u001b[0;32m--> 964\u001b[0m start_ts \u001b[38;5;241m=\u001b[39m \u001b[43mconvert_ts_str\u001b[49m\u001b[43m(\u001b[49m\u001b[43mstart_str\u001b[49m\u001b[43m)\u001b[49m\n\u001b[1;32m    966\u001b[0m \u001b[38;5;66;03m# establish first available start timestamp\u001b[39;00m\n\u001b[1;32m    967\u001b[0m first_valid_ts \u001b[38;5;241m=\u001b[39m \u001b[38;5;28mself\u001b[39m\u001b[38;5;241m.\u001b[39m_get_earliest_valid_timestamp(symbol, interval, klines_type)\n",
      "File \u001b[0;32m~/opt/anaconda3/envs/binance_trading/lib/python3.8/site-packages/binance/helpers.py:72\u001b[0m, in \u001b[0;36mconvert_ts_str\u001b[0;34m(ts_str)\u001b[0m\n\u001b[1;32m     70\u001b[0m \u001b[38;5;28;01mif\u001b[39;00m \u001b[38;5;28mtype\u001b[39m(ts_str) \u001b[38;5;241m==\u001b[39m \u001b[38;5;28mint\u001b[39m:\n\u001b[1;32m     71\u001b[0m     \u001b[38;5;28;01mreturn\u001b[39;00m ts_str\n\u001b[0;32m---> 72\u001b[0m \u001b[38;5;28;01mreturn\u001b[39;00m \u001b[43mdate_to_milliseconds\u001b[49m\u001b[43m(\u001b[49m\u001b[43mts_str\u001b[49m\u001b[43m)\u001b[49m\n",
      "File \u001b[0;32m~/opt/anaconda3/envs/binance_trading/lib/python3.8/site-packages/binance/helpers.py:23\u001b[0m, in \u001b[0;36mdate_to_milliseconds\u001b[0;34m(date_str)\u001b[0m\n\u001b[1;32m     21\u001b[0m epoch: datetime \u001b[38;5;241m=\u001b[39m datetime\u001b[38;5;241m.\u001b[39mutcfromtimestamp(\u001b[38;5;241m0\u001b[39m)\u001b[38;5;241m.\u001b[39mreplace(tzinfo\u001b[38;5;241m=\u001b[39mpytz\u001b[38;5;241m.\u001b[39mutc)\n\u001b[1;32m     22\u001b[0m \u001b[38;5;66;03m# parse our date string\u001b[39;00m\n\u001b[0;32m---> 23\u001b[0m d: Optional[datetime] \u001b[38;5;241m=\u001b[39m \u001b[43mdateparser\u001b[49m\u001b[38;5;241;43m.\u001b[39;49m\u001b[43mparse\u001b[49m\u001b[43m(\u001b[49m\u001b[43mdate_str\u001b[49m\u001b[43m,\u001b[49m\u001b[43m \u001b[49m\u001b[43msettings\u001b[49m\u001b[38;5;241;43m=\u001b[39;49m\u001b[43m{\u001b[49m\u001b[38;5;124;43m'\u001b[39;49m\u001b[38;5;124;43mTIMEZONE\u001b[39;49m\u001b[38;5;124;43m'\u001b[39;49m\u001b[43m:\u001b[49m\u001b[43m \u001b[49m\u001b[38;5;124;43m\"\u001b[39;49m\u001b[38;5;124;43mUTC\u001b[39;49m\u001b[38;5;124;43m\"\u001b[39;49m\u001b[43m}\u001b[49m\u001b[43m)\u001b[49m\n\u001b[1;32m     24\u001b[0m \u001b[38;5;66;03m# if the date is not timezone aware apply UTC timezone\u001b[39;00m\n\u001b[1;32m     25\u001b[0m \u001b[38;5;28;01mif\u001b[39;00m d\u001b[38;5;241m.\u001b[39mtzinfo \u001b[38;5;129;01mis\u001b[39;00m \u001b[38;5;28;01mNone\u001b[39;00m \u001b[38;5;129;01mor\u001b[39;00m d\u001b[38;5;241m.\u001b[39mtzinfo\u001b[38;5;241m.\u001b[39mutcoffset(d) \u001b[38;5;129;01mis\u001b[39;00m \u001b[38;5;28;01mNone\u001b[39;00m:\n",
      "File \u001b[0;32m~/opt/anaconda3/envs/binance_trading/lib/python3.8/site-packages/dateparser/conf.py:92\u001b[0m, in \u001b[0;36mapply_settings.<locals>.wrapper\u001b[0;34m(*args, **kwargs)\u001b[0m\n\u001b[1;32m     89\u001b[0m \u001b[38;5;28;01mif\u001b[39;00m \u001b[38;5;129;01mnot\u001b[39;00m \u001b[38;5;28misinstance\u001b[39m(kwargs[\u001b[38;5;124m'\u001b[39m\u001b[38;5;124msettings\u001b[39m\u001b[38;5;124m'\u001b[39m], Settings):\n\u001b[1;32m     90\u001b[0m     \u001b[38;5;28;01mraise\u001b[39;00m \u001b[38;5;167;01mTypeError\u001b[39;00m(\u001b[38;5;124m\"\u001b[39m\u001b[38;5;124msettings can only be either dict or instance of Settings class\u001b[39m\u001b[38;5;124m\"\u001b[39m)\n\u001b[0;32m---> 92\u001b[0m \u001b[38;5;28;01mreturn\u001b[39;00m \u001b[43mf\u001b[49m\u001b[43m(\u001b[49m\u001b[38;5;241;43m*\u001b[39;49m\u001b[43margs\u001b[49m\u001b[43m,\u001b[49m\u001b[43m \u001b[49m\u001b[38;5;241;43m*\u001b[39;49m\u001b[38;5;241;43m*\u001b[39;49m\u001b[43mkwargs\u001b[49m\u001b[43m)\u001b[49m\n",
      "File \u001b[0;32m~/opt/anaconda3/envs/binance_trading/lib/python3.8/site-packages/dateparser/__init__.py:61\u001b[0m, in \u001b[0;36mparse\u001b[0;34m(date_string, date_formats, languages, locales, region, settings, detect_languages_function)\u001b[0m\n\u001b[1;32m     57\u001b[0m \u001b[38;5;28;01mif\u001b[39;00m languages \u001b[38;5;129;01mor\u001b[39;00m locales \u001b[38;5;129;01mor\u001b[39;00m region \u001b[38;5;129;01mor\u001b[39;00m detect_languages_function \u001b[38;5;129;01mor\u001b[39;00m \u001b[38;5;129;01mnot\u001b[39;00m settings\u001b[38;5;241m.\u001b[39m_default:\n\u001b[1;32m     58\u001b[0m     parser \u001b[38;5;241m=\u001b[39m DateDataParser(languages\u001b[38;5;241m=\u001b[39mlanguages, locales\u001b[38;5;241m=\u001b[39mlocales,\n\u001b[1;32m     59\u001b[0m                             region\u001b[38;5;241m=\u001b[39mregion, settings\u001b[38;5;241m=\u001b[39msettings, detect_languages_function\u001b[38;5;241m=\u001b[39mdetect_languages_function)\n\u001b[0;32m---> 61\u001b[0m data \u001b[38;5;241m=\u001b[39m \u001b[43mparser\u001b[49m\u001b[38;5;241;43m.\u001b[39;49m\u001b[43mget_date_data\u001b[49m\u001b[43m(\u001b[49m\u001b[43mdate_string\u001b[49m\u001b[43m,\u001b[49m\u001b[43m \u001b[49m\u001b[43mdate_formats\u001b[49m\u001b[43m)\u001b[49m\n\u001b[1;32m     63\u001b[0m \u001b[38;5;28;01mif\u001b[39;00m data:\n\u001b[1;32m     64\u001b[0m     \u001b[38;5;28;01mreturn\u001b[39;00m data[\u001b[38;5;124m'\u001b[39m\u001b[38;5;124mdate_obj\u001b[39m\u001b[38;5;124m'\u001b[39m]\n",
      "File \u001b[0;32m~/opt/anaconda3/envs/binance_trading/lib/python3.8/site-packages/dateparser/date.py:428\u001b[0m, in \u001b[0;36mDateDataParser.get_date_data\u001b[0;34m(self, date_string, date_formats)\u001b[0m\n\u001b[1;32m    425\u001b[0m date_string \u001b[38;5;241m=\u001b[39m sanitize_date(date_string)\n\u001b[1;32m    427\u001b[0m \u001b[38;5;28;01mfor\u001b[39;00m locale \u001b[38;5;129;01min\u001b[39;00m \u001b[38;5;28mself\u001b[39m\u001b[38;5;241m.\u001b[39m_get_applicable_locales(date_string):\n\u001b[0;32m--> 428\u001b[0m     parsed_date \u001b[38;5;241m=\u001b[39m \u001b[43m_DateLocaleParser\u001b[49m\u001b[38;5;241;43m.\u001b[39;49m\u001b[43mparse\u001b[49m\u001b[43m(\u001b[49m\n\u001b[1;32m    429\u001b[0m \u001b[43m        \u001b[49m\u001b[43mlocale\u001b[49m\u001b[43m,\u001b[49m\u001b[43m \u001b[49m\u001b[43mdate_string\u001b[49m\u001b[43m,\u001b[49m\u001b[43m \u001b[49m\u001b[43mdate_formats\u001b[49m\u001b[43m,\u001b[49m\u001b[43m \u001b[49m\u001b[43msettings\u001b[49m\u001b[38;5;241;43m=\u001b[39;49m\u001b[38;5;28;43mself\u001b[39;49m\u001b[38;5;241;43m.\u001b[39;49m\u001b[43m_settings\u001b[49m\u001b[43m)\u001b[49m\n\u001b[1;32m    430\u001b[0m     \u001b[38;5;28;01mif\u001b[39;00m parsed_date:\n\u001b[1;32m    431\u001b[0m         parsed_date[\u001b[38;5;124m'\u001b[39m\u001b[38;5;124mlocale\u001b[39m\u001b[38;5;124m'\u001b[39m] \u001b[38;5;241m=\u001b[39m locale\u001b[38;5;241m.\u001b[39mshortname\n",
      "File \u001b[0;32m~/opt/anaconda3/envs/binance_trading/lib/python3.8/site-packages/dateparser/date.py:178\u001b[0m, in \u001b[0;36m_DateLocaleParser.parse\u001b[0;34m(cls, locale, date_string, date_formats, settings)\u001b[0m\n\u001b[1;32m    175\u001b[0m \u001b[38;5;129m@classmethod\u001b[39m\n\u001b[1;32m    176\u001b[0m \u001b[38;5;28;01mdef\u001b[39;00m \u001b[38;5;21mparse\u001b[39m(\u001b[38;5;28mcls\u001b[39m, locale, date_string, date_formats\u001b[38;5;241m=\u001b[39m\u001b[38;5;28;01mNone\u001b[39;00m, settings\u001b[38;5;241m=\u001b[39m\u001b[38;5;28;01mNone\u001b[39;00m):\n\u001b[1;32m    177\u001b[0m     instance \u001b[38;5;241m=\u001b[39m \u001b[38;5;28mcls\u001b[39m(locale, date_string, date_formats, settings)\n\u001b[0;32m--> 178\u001b[0m     \u001b[38;5;28;01mreturn\u001b[39;00m \u001b[43minstance\u001b[49m\u001b[38;5;241;43m.\u001b[39;49m\u001b[43m_parse\u001b[49m\u001b[43m(\u001b[49m\u001b[43m)\u001b[49m\n",
      "File \u001b[0;32m~/opt/anaconda3/envs/binance_trading/lib/python3.8/site-packages/dateparser/date.py:182\u001b[0m, in \u001b[0;36m_DateLocaleParser._parse\u001b[0;34m(self)\u001b[0m\n\u001b[1;32m    180\u001b[0m \u001b[38;5;28;01mdef\u001b[39;00m \u001b[38;5;21m_parse\u001b[39m(\u001b[38;5;28mself\u001b[39m):\n\u001b[1;32m    181\u001b[0m     \u001b[38;5;28;01mfor\u001b[39;00m parser_name \u001b[38;5;129;01min\u001b[39;00m \u001b[38;5;28mself\u001b[39m\u001b[38;5;241m.\u001b[39m_settings\u001b[38;5;241m.\u001b[39mPARSERS:\n\u001b[0;32m--> 182\u001b[0m         date_data \u001b[38;5;241m=\u001b[39m \u001b[38;5;28;43mself\u001b[39;49m\u001b[38;5;241;43m.\u001b[39;49m\u001b[43m_parsers\u001b[49m\u001b[43m[\u001b[49m\u001b[43mparser_name\u001b[49m\u001b[43m]\u001b[49m\u001b[43m(\u001b[49m\u001b[43m)\u001b[49m\n\u001b[1;32m    183\u001b[0m         \u001b[38;5;28;01mif\u001b[39;00m \u001b[38;5;28mself\u001b[39m\u001b[38;5;241m.\u001b[39m_is_valid_date_data(date_data):\n\u001b[1;32m    184\u001b[0m             \u001b[38;5;28;01mreturn\u001b[39;00m date_data\n",
      "File \u001b[0;32m~/opt/anaconda3/envs/binance_trading/lib/python3.8/site-packages/dateparser/date.py:196\u001b[0m, in \u001b[0;36m_DateLocaleParser._try_freshness_parser\u001b[0;34m(self)\u001b[0m\n\u001b[1;32m    194\u001b[0m \u001b[38;5;28;01mdef\u001b[39;00m \u001b[38;5;21m_try_freshness_parser\u001b[39m(\u001b[38;5;28mself\u001b[39m):\n\u001b[1;32m    195\u001b[0m     \u001b[38;5;28;01mtry\u001b[39;00m:\n\u001b[0;32m--> 196\u001b[0m         \u001b[38;5;28;01mreturn\u001b[39;00m freshness_date_parser\u001b[38;5;241m.\u001b[39mget_date_data(\u001b[38;5;28;43mself\u001b[39;49m\u001b[38;5;241;43m.\u001b[39;49m\u001b[43m_get_translated_date\u001b[49m\u001b[43m(\u001b[49m\u001b[43m)\u001b[49m, \u001b[38;5;28mself\u001b[39m\u001b[38;5;241m.\u001b[39m_settings)\n\u001b[1;32m    197\u001b[0m     \u001b[38;5;28;01mexcept\u001b[39;00m (\u001b[38;5;167;01mOverflowError\u001b[39;00m, \u001b[38;5;167;01mValueError\u001b[39;00m):\n\u001b[1;32m    198\u001b[0m         \u001b[38;5;28;01mreturn\u001b[39;00m \u001b[38;5;28;01mNone\u001b[39;00m\n",
      "File \u001b[0;32m~/opt/anaconda3/envs/binance_trading/lib/python3.8/site-packages/dateparser/date.py:234\u001b[0m, in \u001b[0;36m_DateLocaleParser._get_translated_date\u001b[0;34m(self)\u001b[0m\n\u001b[1;32m    232\u001b[0m \u001b[38;5;28;01mdef\u001b[39;00m \u001b[38;5;21m_get_translated_date\u001b[39m(\u001b[38;5;28mself\u001b[39m):\n\u001b[1;32m    233\u001b[0m     \u001b[38;5;28;01mif\u001b[39;00m \u001b[38;5;28mself\u001b[39m\u001b[38;5;241m.\u001b[39m_translated_date \u001b[38;5;129;01mis\u001b[39;00m \u001b[38;5;28;01mNone\u001b[39;00m:\n\u001b[0;32m--> 234\u001b[0m         \u001b[38;5;28mself\u001b[39m\u001b[38;5;241m.\u001b[39m_translated_date \u001b[38;5;241m=\u001b[39m \u001b[38;5;28;43mself\u001b[39;49m\u001b[38;5;241;43m.\u001b[39;49m\u001b[43mlocale\u001b[49m\u001b[38;5;241;43m.\u001b[39;49m\u001b[43mtranslate\u001b[49m\u001b[43m(\u001b[49m\n\u001b[1;32m    235\u001b[0m \u001b[43m            \u001b[49m\u001b[38;5;28;43mself\u001b[39;49m\u001b[38;5;241;43m.\u001b[39;49m\u001b[43mdate_string\u001b[49m\u001b[43m,\u001b[49m\u001b[43m \u001b[49m\u001b[43mkeep_formatting\u001b[49m\u001b[38;5;241;43m=\u001b[39;49m\u001b[38;5;28;43;01mFalse\u001b[39;49;00m\u001b[43m,\u001b[49m\u001b[43m \u001b[49m\u001b[43msettings\u001b[49m\u001b[38;5;241;43m=\u001b[39;49m\u001b[38;5;28;43mself\u001b[39;49m\u001b[38;5;241;43m.\u001b[39;49m\u001b[43m_settings\u001b[49m\u001b[43m)\u001b[49m\n\u001b[1;32m    236\u001b[0m     \u001b[38;5;28;01mreturn\u001b[39;00m \u001b[38;5;28mself\u001b[39m\u001b[38;5;241m.\u001b[39m_translated_date\n",
      "File \u001b[0;32m~/opt/anaconda3/envs/binance_trading/lib/python3.8/site-packages/dateparser/languages/locale.py:131\u001b[0m, in \u001b[0;36mLocale.translate\u001b[0;34m(self, date_string, keep_formatting, settings)\u001b[0m\n\u001b[1;32m    128\u001b[0m dictionary \u001b[38;5;241m=\u001b[39m \u001b[38;5;28mself\u001b[39m\u001b[38;5;241m.\u001b[39m_get_dictionary(settings)\n\u001b[1;32m    129\u001b[0m date_string_tokens \u001b[38;5;241m=\u001b[39m dictionary\u001b[38;5;241m.\u001b[39msplit(date_string, keep_formatting)\n\u001b[0;32m--> 131\u001b[0m relative_translations \u001b[38;5;241m=\u001b[39m \u001b[38;5;28;43mself\u001b[39;49m\u001b[38;5;241;43m.\u001b[39;49m\u001b[43m_get_relative_translations\u001b[49m\u001b[43m(\u001b[49m\u001b[43msettings\u001b[49m\u001b[38;5;241;43m=\u001b[39;49m\u001b[43msettings\u001b[49m\u001b[43m)\u001b[49m\n\u001b[1;32m    133\u001b[0m \u001b[38;5;28;01mfor\u001b[39;00m i, word \u001b[38;5;129;01min\u001b[39;00m \u001b[38;5;28menumerate\u001b[39m(date_string_tokens):\n\u001b[1;32m    134\u001b[0m     word \u001b[38;5;241m=\u001b[39m word\u001b[38;5;241m.\u001b[39mlower()\n",
      "File \u001b[0;32m~/opt/anaconda3/envs/binance_trading/lib/python3.8/site-packages/dateparser/languages/locale.py:158\u001b[0m, in \u001b[0;36mLocale._get_relative_translations\u001b[0;34m(self, settings)\u001b[0m\n\u001b[1;32m    155\u001b[0m \u001b[38;5;28;01mif\u001b[39;00m settings\u001b[38;5;241m.\u001b[39mNORMALIZE:\n\u001b[1;32m    156\u001b[0m     \u001b[38;5;28;01mif\u001b[39;00m \u001b[38;5;28mself\u001b[39m\u001b[38;5;241m.\u001b[39m_normalized_relative_translations \u001b[38;5;129;01mis\u001b[39;00m \u001b[38;5;28;01mNone\u001b[39;00m:\n\u001b[1;32m    157\u001b[0m         \u001b[38;5;28mself\u001b[39m\u001b[38;5;241m.\u001b[39m_normalized_relative_translations \u001b[38;5;241m=\u001b[39m (\n\u001b[0;32m--> 158\u001b[0m             \u001b[38;5;28;43mself\u001b[39;49m\u001b[38;5;241;43m.\u001b[39;49m\u001b[43m_generate_relative_translations\u001b[49m\u001b[43m(\u001b[49m\u001b[43mnormalize\u001b[49m\u001b[38;5;241;43m=\u001b[39;49m\u001b[38;5;28;43;01mTrue\u001b[39;49;00m\u001b[43m)\u001b[49m)\n\u001b[1;32m    159\u001b[0m     \u001b[38;5;28;01mreturn\u001b[39;00m \u001b[38;5;28mself\u001b[39m\u001b[38;5;241m.\u001b[39m_normalized_relative_translations\n\u001b[1;32m    160\u001b[0m \u001b[38;5;28;01melse\u001b[39;00m:\n",
      "File \u001b[0;32m~/opt/anaconda3/envs/binance_trading/lib/python3.8/site-packages/dateparser/languages/locale.py:172\u001b[0m, in \u001b[0;36mLocale._generate_relative_translations\u001b[0;34m(self, normalize)\u001b[0m\n\u001b[1;32m    170\u001b[0m     value \u001b[38;5;241m=\u001b[39m \u001b[38;5;28mlist\u001b[39m(\u001b[38;5;28mmap\u001b[39m(normalize_unicode, value))\n\u001b[1;32m    171\u001b[0m pattern \u001b[38;5;241m=\u001b[39m \u001b[38;5;124m'\u001b[39m\u001b[38;5;124m|\u001b[39m\u001b[38;5;124m'\u001b[39m\u001b[38;5;241m.\u001b[39mjoin(\u001b[38;5;28msorted\u001b[39m(value, key\u001b[38;5;241m=\u001b[39m\u001b[38;5;28mlen\u001b[39m, reverse\u001b[38;5;241m=\u001b[39m\u001b[38;5;28;01mTrue\u001b[39;00m))\n\u001b[0;32m--> 172\u001b[0m pattern \u001b[38;5;241m=\u001b[39m \u001b[43mDIGIT_GROUP_PATTERN\u001b[49m\u001b[38;5;241;43m.\u001b[39;49m\u001b[43msub\u001b[49m\u001b[43m(\u001b[49m\u001b[38;5;124;43mr\u001b[39;49m\u001b[38;5;124;43m'\u001b[39;49m\u001b[38;5;124;43m?P<n>\u001b[39;49m\u001b[38;5;124;43m\\\u001b[39;49m\u001b[38;5;124;43md+\u001b[39;49m\u001b[38;5;124;43m'\u001b[39;49m\u001b[43m,\u001b[49m\u001b[43m \u001b[49m\u001b[43mpattern\u001b[49m\u001b[43m)\u001b[49m\n\u001b[1;32m    173\u001b[0m pattern \u001b[38;5;241m=\u001b[39m re\u001b[38;5;241m.\u001b[39mcompile(\u001b[38;5;124mr\u001b[39m\u001b[38;5;124m'\u001b[39m\u001b[38;5;124m^(?:\u001b[39m\u001b[38;5;132;01m{}\u001b[39;00m\u001b[38;5;124m)$\u001b[39m\u001b[38;5;124m'\u001b[39m\u001b[38;5;241m.\u001b[39mformat(pattern), re\u001b[38;5;241m.\u001b[39mUNICODE \u001b[38;5;241m|\u001b[39m re\u001b[38;5;241m.\u001b[39mIGNORECASE)\n\u001b[1;32m    174\u001b[0m relative_dictionary[pattern] \u001b[38;5;241m=\u001b[39m key\n",
      "File \u001b[0;32m~/opt/anaconda3/envs/binance_trading/lib/python3.8/site-packages/regex/regex.py:700\u001b[0m, in \u001b[0;36m_compile_replacement_helper\u001b[0;34m(pattern, template)\u001b[0m\n\u001b[1;32m    695\u001b[0m     \u001b[38;5;28;01mbreak\u001b[39;00m\n\u001b[1;32m    696\u001b[0m \u001b[38;5;28;01mif\u001b[39;00m ch \u001b[38;5;241m==\u001b[39m \u001b[38;5;124m\"\u001b[39m\u001b[38;5;130;01m\\\\\u001b[39;00m\u001b[38;5;124m\"\u001b[39m:\n\u001b[1;32m    697\u001b[0m     \u001b[38;5;66;03m# '_compile_replacement' will return either an int group reference\u001b[39;00m\n\u001b[1;32m    698\u001b[0m     \u001b[38;5;66;03m# or a string literal. It returns items (plural) in order to handle\u001b[39;00m\n\u001b[1;32m    699\u001b[0m     \u001b[38;5;66;03m# a 2-character literal (an invalid escape sequence).\u001b[39;00m\n\u001b[0;32m--> 700\u001b[0m     is_group, items \u001b[38;5;241m=\u001b[39m \u001b[43m_compile_replacement\u001b[49m\u001b[43m(\u001b[49m\u001b[43msource\u001b[49m\u001b[43m,\u001b[49m\u001b[43m \u001b[49m\u001b[43mpattern\u001b[49m\u001b[43m,\u001b[49m\u001b[43m \u001b[49m\u001b[43mis_unicode\u001b[49m\u001b[43m)\u001b[49m\n\u001b[1;32m    701\u001b[0m     \u001b[38;5;28;01mif\u001b[39;00m is_group:\n\u001b[1;32m    702\u001b[0m         \u001b[38;5;66;03m# It's a group, so first flush the literal.\u001b[39;00m\n\u001b[1;32m    703\u001b[0m         \u001b[38;5;28;01mif\u001b[39;00m literal:\n",
      "File \u001b[0;32m~/opt/anaconda3/envs/binance_trading/lib/python3.8/site-packages/regex/_regex_core.py:1736\u001b[0m, in \u001b[0;36m_compile_replacement\u001b[0;34m(source, pattern, is_unicode)\u001b[0m\n\u001b[1;32m   1733\u001b[0m         \u001b[38;5;28;01mif\u001b[39;00m value \u001b[38;5;129;01mis\u001b[39;00m \u001b[38;5;129;01mnot\u001b[39;00m \u001b[38;5;28;01mNone\u001b[39;00m:\n\u001b[1;32m   1734\u001b[0m             \u001b[38;5;28;01mreturn\u001b[39;00m \u001b[38;5;28;01mFalse\u001b[39;00m, [value]\n\u001b[0;32m-> 1736\u001b[0m     \u001b[38;5;28;01mraise\u001b[39;00m error(\u001b[38;5;124m\"\u001b[39m\u001b[38;5;124mbad escape \u001b[39m\u001b[38;5;130;01m\\\\\u001b[39;00m\u001b[38;5;132;01m%s\u001b[39;00m\u001b[38;5;124m\"\u001b[39m \u001b[38;5;241m%\u001b[39m ch, source\u001b[38;5;241m.\u001b[39mstring, source\u001b[38;5;241m.\u001b[39mpos)\n\u001b[1;32m   1738\u001b[0m \u001b[38;5;28;01mif\u001b[39;00m \u001b[38;5;28misinstance\u001b[39m(source\u001b[38;5;241m.\u001b[39msep, \u001b[38;5;28mbytes\u001b[39m):\n\u001b[1;32m   1739\u001b[0m     octal_mask \u001b[38;5;241m=\u001b[39m \u001b[38;5;241m0xFF\u001b[39m\n",
      "\u001b[0;31merror\u001b[0m: bad escape \\d at position 7"
     ]
    }
   ],
   "source": [
    "df = get_history(symbol = \"BTCUSDT\", interval = \"1w\", start = \"2021-01-01\", end = \"2021-06-30\")\n",
    "df"
   ]
  },
  {
   "cell_type": "markdown",
   "id": "43e72ec3",
   "metadata": {},
   "source": [
    "__Monthly Data for specified Time Period__"
   ]
  },
  {
   "cell_type": "code",
   "execution_count": null,
   "id": "228db00e",
   "metadata": {
    "scrolled": true
   },
   "outputs": [],
   "source": [
    "df = get_history(symbol = \"BTCUSDT\", interval = \"1M\", start = \"2021-01-01\", end = \"2021-06-15\")\n",
    "df"
   ]
  },
  {
   "cell_type": "markdown",
   "id": "41396d8e",
   "metadata": {},
   "source": [
    "__Most recent Monthly Data (until today/now)__"
   ]
  },
  {
   "cell_type": "code",
   "execution_count": 36,
   "id": "d5075b1a",
   "metadata": {},
   "outputs": [
    {
     "ename": "error",
     "evalue": "bad escape \\d at position 7",
     "output_type": "error",
     "traceback": [
      "\u001b[0;31m---------------------------------------------------------------------------\u001b[0m",
      "\u001b[0;31merror\u001b[0m                                     Traceback (most recent call last)",
      "Input \u001b[0;32mIn [36]\u001b[0m, in \u001b[0;36m<cell line: 1>\u001b[0;34m()\u001b[0m\n\u001b[0;32m----> 1\u001b[0m df \u001b[38;5;241m=\u001b[39m \u001b[43mget_history\u001b[49m\u001b[43m(\u001b[49m\u001b[43msymbol\u001b[49m\u001b[43m \u001b[49m\u001b[38;5;241;43m=\u001b[39;49m\u001b[43m \u001b[49m\u001b[38;5;124;43m\"\u001b[39;49m\u001b[38;5;124;43mBTCUSDT\u001b[39;49m\u001b[38;5;124;43m\"\u001b[39;49m\u001b[43m,\u001b[49m\u001b[43m \u001b[49m\u001b[43minterval\u001b[49m\u001b[43m \u001b[49m\u001b[38;5;241;43m=\u001b[39;49m\u001b[43m \u001b[49m\u001b[38;5;124;43m\"\u001b[39;49m\u001b[38;5;124;43m1M\u001b[39;49m\u001b[38;5;124;43m\"\u001b[39;49m\u001b[43m,\u001b[49m\u001b[43m \u001b[49m\u001b[43mstart\u001b[49m\u001b[43m \u001b[49m\u001b[38;5;241;43m=\u001b[39;49m\u001b[43m \u001b[49m\u001b[38;5;124;43m\"\u001b[39;49m\u001b[38;5;124;43m2021-01-01\u001b[39;49m\u001b[38;5;124;43m\"\u001b[39;49m\u001b[43m)\u001b[49m\n\u001b[1;32m      2\u001b[0m df\n",
      "Input \u001b[0;32mIn [7]\u001b[0m, in \u001b[0;36mget_history\u001b[0;34m(symbol, interval, start, end)\u001b[0m\n\u001b[1;32m      1\u001b[0m \u001b[38;5;28;01mdef\u001b[39;00m \u001b[38;5;21mget_history\u001b[39m(symbol, interval, start, end \u001b[38;5;241m=\u001b[39m \u001b[38;5;28;01mNone\u001b[39;00m):\n\u001b[0;32m----> 2\u001b[0m     bars \u001b[38;5;241m=\u001b[39m \u001b[43mclient\u001b[49m\u001b[38;5;241;43m.\u001b[39;49m\u001b[43mget_historical_klines\u001b[49m\u001b[43m(\u001b[49m\u001b[43msymbol\u001b[49m\u001b[43m \u001b[49m\u001b[38;5;241;43m=\u001b[39;49m\u001b[43m \u001b[49m\u001b[43msymbol\u001b[49m\u001b[43m,\u001b[49m\u001b[43m \u001b[49m\u001b[43minterval\u001b[49m\u001b[43m \u001b[49m\u001b[38;5;241;43m=\u001b[39;49m\u001b[43m \u001b[49m\u001b[43minterval\u001b[49m\u001b[43m,\u001b[49m\n\u001b[1;32m      3\u001b[0m \u001b[43m                                        \u001b[49m\u001b[43mstart_str\u001b[49m\u001b[43m \u001b[49m\u001b[38;5;241;43m=\u001b[39;49m\u001b[43m \u001b[49m\u001b[43mstart\u001b[49m\u001b[43m,\u001b[49m\u001b[43m \u001b[49m\u001b[43mend_str\u001b[49m\u001b[43m \u001b[49m\u001b[38;5;241;43m=\u001b[39;49m\u001b[43m \u001b[49m\u001b[43mend\u001b[49m\u001b[43m,\u001b[49m\u001b[43m \u001b[49m\u001b[43mlimit\u001b[49m\u001b[43m \u001b[49m\u001b[38;5;241;43m=\u001b[39;49m\u001b[43m \u001b[49m\u001b[38;5;241;43m1000\u001b[39;49m\u001b[43m)\u001b[49m\n\u001b[1;32m      4\u001b[0m     df \u001b[38;5;241m=\u001b[39m pd\u001b[38;5;241m.\u001b[39mDataFrame(bars)\n\u001b[1;32m      5\u001b[0m     df[\u001b[38;5;124m\"\u001b[39m\u001b[38;5;124mDate\u001b[39m\u001b[38;5;124m\"\u001b[39m] \u001b[38;5;241m=\u001b[39m pd\u001b[38;5;241m.\u001b[39mto_datetime(df\u001b[38;5;241m.\u001b[39miloc[:,\u001b[38;5;241m0\u001b[39m], unit \u001b[38;5;241m=\u001b[39m \u001b[38;5;124m\"\u001b[39m\u001b[38;5;124mms\u001b[39m\u001b[38;5;124m\"\u001b[39m)\n",
      "File \u001b[0;32m~/opt/anaconda3/envs/binance_trading/lib/python3.8/site-packages/binance/client.py:932\u001b[0m, in \u001b[0;36mClient.get_historical_klines\u001b[0;34m(self, symbol, interval, start_str, end_str, limit, klines_type)\u001b[0m\n\u001b[1;32m    912\u001b[0m \u001b[38;5;28;01mdef\u001b[39;00m \u001b[38;5;21mget_historical_klines\u001b[39m(\u001b[38;5;28mself\u001b[39m, symbol, interval, start_str, end_str\u001b[38;5;241m=\u001b[39m\u001b[38;5;28;01mNone\u001b[39;00m, limit\u001b[38;5;241m=\u001b[39m\u001b[38;5;241m500\u001b[39m,\n\u001b[1;32m    913\u001b[0m                           klines_type: HistoricalKlinesType \u001b[38;5;241m=\u001b[39m HistoricalKlinesType\u001b[38;5;241m.\u001b[39mSPOT):\n\u001b[1;32m    914\u001b[0m     \u001b[38;5;124;03m\"\"\"Get Historical Klines from Binance\u001b[39;00m\n\u001b[1;32m    915\u001b[0m \n\u001b[1;32m    916\u001b[0m \u001b[38;5;124;03m    :param symbol: Name of symbol pair e.g BNBBTC\u001b[39;00m\n\u001b[0;32m   (...)\u001b[0m\n\u001b[1;32m    930\u001b[0m \n\u001b[1;32m    931\u001b[0m \u001b[38;5;124;03m    \"\"\"\u001b[39;00m\n\u001b[0;32m--> 932\u001b[0m     \u001b[38;5;28;01mreturn\u001b[39;00m \u001b[38;5;28;43mself\u001b[39;49m\u001b[38;5;241;43m.\u001b[39;49m\u001b[43m_historical_klines\u001b[49m\u001b[43m(\u001b[49m\u001b[43msymbol\u001b[49m\u001b[43m,\u001b[49m\u001b[43m \u001b[49m\u001b[43minterval\u001b[49m\u001b[43m,\u001b[49m\u001b[43m \u001b[49m\u001b[43mstart_str\u001b[49m\u001b[43m,\u001b[49m\u001b[43m \u001b[49m\u001b[43mend_str\u001b[49m\u001b[38;5;241;43m=\u001b[39;49m\u001b[43mend_str\u001b[49m\u001b[43m,\u001b[49m\u001b[43m \u001b[49m\u001b[43mlimit\u001b[49m\u001b[38;5;241;43m=\u001b[39;49m\u001b[43mlimit\u001b[49m\u001b[43m,\u001b[49m\u001b[43m \u001b[49m\u001b[43mklines_type\u001b[49m\u001b[38;5;241;43m=\u001b[39;49m\u001b[43mklines_type\u001b[49m\u001b[43m)\u001b[49m\n",
      "File \u001b[0;32m~/opt/anaconda3/envs/binance_trading/lib/python3.8/site-packages/binance/client.py:964\u001b[0m, in \u001b[0;36mClient._historical_klines\u001b[0;34m(self, symbol, interval, start_str, end_str, limit, klines_type)\u001b[0m\n\u001b[1;32m    961\u001b[0m \u001b[38;5;66;03m# convert interval to useful value in seconds\u001b[39;00m\n\u001b[1;32m    962\u001b[0m timeframe \u001b[38;5;241m=\u001b[39m interval_to_milliseconds(interval)\n\u001b[0;32m--> 964\u001b[0m start_ts \u001b[38;5;241m=\u001b[39m \u001b[43mconvert_ts_str\u001b[49m\u001b[43m(\u001b[49m\u001b[43mstart_str\u001b[49m\u001b[43m)\u001b[49m\n\u001b[1;32m    966\u001b[0m \u001b[38;5;66;03m# establish first available start timestamp\u001b[39;00m\n\u001b[1;32m    967\u001b[0m first_valid_ts \u001b[38;5;241m=\u001b[39m \u001b[38;5;28mself\u001b[39m\u001b[38;5;241m.\u001b[39m_get_earliest_valid_timestamp(symbol, interval, klines_type)\n",
      "File \u001b[0;32m~/opt/anaconda3/envs/binance_trading/lib/python3.8/site-packages/binance/helpers.py:72\u001b[0m, in \u001b[0;36mconvert_ts_str\u001b[0;34m(ts_str)\u001b[0m\n\u001b[1;32m     70\u001b[0m \u001b[38;5;28;01mif\u001b[39;00m \u001b[38;5;28mtype\u001b[39m(ts_str) \u001b[38;5;241m==\u001b[39m \u001b[38;5;28mint\u001b[39m:\n\u001b[1;32m     71\u001b[0m     \u001b[38;5;28;01mreturn\u001b[39;00m ts_str\n\u001b[0;32m---> 72\u001b[0m \u001b[38;5;28;01mreturn\u001b[39;00m \u001b[43mdate_to_milliseconds\u001b[49m\u001b[43m(\u001b[49m\u001b[43mts_str\u001b[49m\u001b[43m)\u001b[49m\n",
      "File \u001b[0;32m~/opt/anaconda3/envs/binance_trading/lib/python3.8/site-packages/binance/helpers.py:23\u001b[0m, in \u001b[0;36mdate_to_milliseconds\u001b[0;34m(date_str)\u001b[0m\n\u001b[1;32m     21\u001b[0m epoch: datetime \u001b[38;5;241m=\u001b[39m datetime\u001b[38;5;241m.\u001b[39mutcfromtimestamp(\u001b[38;5;241m0\u001b[39m)\u001b[38;5;241m.\u001b[39mreplace(tzinfo\u001b[38;5;241m=\u001b[39mpytz\u001b[38;5;241m.\u001b[39mutc)\n\u001b[1;32m     22\u001b[0m \u001b[38;5;66;03m# parse our date string\u001b[39;00m\n\u001b[0;32m---> 23\u001b[0m d: Optional[datetime] \u001b[38;5;241m=\u001b[39m \u001b[43mdateparser\u001b[49m\u001b[38;5;241;43m.\u001b[39;49m\u001b[43mparse\u001b[49m\u001b[43m(\u001b[49m\u001b[43mdate_str\u001b[49m\u001b[43m,\u001b[49m\u001b[43m \u001b[49m\u001b[43msettings\u001b[49m\u001b[38;5;241;43m=\u001b[39;49m\u001b[43m{\u001b[49m\u001b[38;5;124;43m'\u001b[39;49m\u001b[38;5;124;43mTIMEZONE\u001b[39;49m\u001b[38;5;124;43m'\u001b[39;49m\u001b[43m:\u001b[49m\u001b[43m \u001b[49m\u001b[38;5;124;43m\"\u001b[39;49m\u001b[38;5;124;43mUTC\u001b[39;49m\u001b[38;5;124;43m\"\u001b[39;49m\u001b[43m}\u001b[49m\u001b[43m)\u001b[49m\n\u001b[1;32m     24\u001b[0m \u001b[38;5;66;03m# if the date is not timezone aware apply UTC timezone\u001b[39;00m\n\u001b[1;32m     25\u001b[0m \u001b[38;5;28;01mif\u001b[39;00m d\u001b[38;5;241m.\u001b[39mtzinfo \u001b[38;5;129;01mis\u001b[39;00m \u001b[38;5;28;01mNone\u001b[39;00m \u001b[38;5;129;01mor\u001b[39;00m d\u001b[38;5;241m.\u001b[39mtzinfo\u001b[38;5;241m.\u001b[39mutcoffset(d) \u001b[38;5;129;01mis\u001b[39;00m \u001b[38;5;28;01mNone\u001b[39;00m:\n",
      "File \u001b[0;32m~/opt/anaconda3/envs/binance_trading/lib/python3.8/site-packages/dateparser/conf.py:92\u001b[0m, in \u001b[0;36mapply_settings.<locals>.wrapper\u001b[0;34m(*args, **kwargs)\u001b[0m\n\u001b[1;32m     89\u001b[0m \u001b[38;5;28;01mif\u001b[39;00m \u001b[38;5;129;01mnot\u001b[39;00m \u001b[38;5;28misinstance\u001b[39m(kwargs[\u001b[38;5;124m'\u001b[39m\u001b[38;5;124msettings\u001b[39m\u001b[38;5;124m'\u001b[39m], Settings):\n\u001b[1;32m     90\u001b[0m     \u001b[38;5;28;01mraise\u001b[39;00m \u001b[38;5;167;01mTypeError\u001b[39;00m(\u001b[38;5;124m\"\u001b[39m\u001b[38;5;124msettings can only be either dict or instance of Settings class\u001b[39m\u001b[38;5;124m\"\u001b[39m)\n\u001b[0;32m---> 92\u001b[0m \u001b[38;5;28;01mreturn\u001b[39;00m \u001b[43mf\u001b[49m\u001b[43m(\u001b[49m\u001b[38;5;241;43m*\u001b[39;49m\u001b[43margs\u001b[49m\u001b[43m,\u001b[49m\u001b[43m \u001b[49m\u001b[38;5;241;43m*\u001b[39;49m\u001b[38;5;241;43m*\u001b[39;49m\u001b[43mkwargs\u001b[49m\u001b[43m)\u001b[49m\n",
      "File \u001b[0;32m~/opt/anaconda3/envs/binance_trading/lib/python3.8/site-packages/dateparser/__init__.py:61\u001b[0m, in \u001b[0;36mparse\u001b[0;34m(date_string, date_formats, languages, locales, region, settings, detect_languages_function)\u001b[0m\n\u001b[1;32m     57\u001b[0m \u001b[38;5;28;01mif\u001b[39;00m languages \u001b[38;5;129;01mor\u001b[39;00m locales \u001b[38;5;129;01mor\u001b[39;00m region \u001b[38;5;129;01mor\u001b[39;00m detect_languages_function \u001b[38;5;129;01mor\u001b[39;00m \u001b[38;5;129;01mnot\u001b[39;00m settings\u001b[38;5;241m.\u001b[39m_default:\n\u001b[1;32m     58\u001b[0m     parser \u001b[38;5;241m=\u001b[39m DateDataParser(languages\u001b[38;5;241m=\u001b[39mlanguages, locales\u001b[38;5;241m=\u001b[39mlocales,\n\u001b[1;32m     59\u001b[0m                             region\u001b[38;5;241m=\u001b[39mregion, settings\u001b[38;5;241m=\u001b[39msettings, detect_languages_function\u001b[38;5;241m=\u001b[39mdetect_languages_function)\n\u001b[0;32m---> 61\u001b[0m data \u001b[38;5;241m=\u001b[39m \u001b[43mparser\u001b[49m\u001b[38;5;241;43m.\u001b[39;49m\u001b[43mget_date_data\u001b[49m\u001b[43m(\u001b[49m\u001b[43mdate_string\u001b[49m\u001b[43m,\u001b[49m\u001b[43m \u001b[49m\u001b[43mdate_formats\u001b[49m\u001b[43m)\u001b[49m\n\u001b[1;32m     63\u001b[0m \u001b[38;5;28;01mif\u001b[39;00m data:\n\u001b[1;32m     64\u001b[0m     \u001b[38;5;28;01mreturn\u001b[39;00m data[\u001b[38;5;124m'\u001b[39m\u001b[38;5;124mdate_obj\u001b[39m\u001b[38;5;124m'\u001b[39m]\n",
      "File \u001b[0;32m~/opt/anaconda3/envs/binance_trading/lib/python3.8/site-packages/dateparser/date.py:428\u001b[0m, in \u001b[0;36mDateDataParser.get_date_data\u001b[0;34m(self, date_string, date_formats)\u001b[0m\n\u001b[1;32m    425\u001b[0m date_string \u001b[38;5;241m=\u001b[39m sanitize_date(date_string)\n\u001b[1;32m    427\u001b[0m \u001b[38;5;28;01mfor\u001b[39;00m locale \u001b[38;5;129;01min\u001b[39;00m \u001b[38;5;28mself\u001b[39m\u001b[38;5;241m.\u001b[39m_get_applicable_locales(date_string):\n\u001b[0;32m--> 428\u001b[0m     parsed_date \u001b[38;5;241m=\u001b[39m \u001b[43m_DateLocaleParser\u001b[49m\u001b[38;5;241;43m.\u001b[39;49m\u001b[43mparse\u001b[49m\u001b[43m(\u001b[49m\n\u001b[1;32m    429\u001b[0m \u001b[43m        \u001b[49m\u001b[43mlocale\u001b[49m\u001b[43m,\u001b[49m\u001b[43m \u001b[49m\u001b[43mdate_string\u001b[49m\u001b[43m,\u001b[49m\u001b[43m \u001b[49m\u001b[43mdate_formats\u001b[49m\u001b[43m,\u001b[49m\u001b[43m \u001b[49m\u001b[43msettings\u001b[49m\u001b[38;5;241;43m=\u001b[39;49m\u001b[38;5;28;43mself\u001b[39;49m\u001b[38;5;241;43m.\u001b[39;49m\u001b[43m_settings\u001b[49m\u001b[43m)\u001b[49m\n\u001b[1;32m    430\u001b[0m     \u001b[38;5;28;01mif\u001b[39;00m parsed_date:\n\u001b[1;32m    431\u001b[0m         parsed_date[\u001b[38;5;124m'\u001b[39m\u001b[38;5;124mlocale\u001b[39m\u001b[38;5;124m'\u001b[39m] \u001b[38;5;241m=\u001b[39m locale\u001b[38;5;241m.\u001b[39mshortname\n",
      "File \u001b[0;32m~/opt/anaconda3/envs/binance_trading/lib/python3.8/site-packages/dateparser/date.py:178\u001b[0m, in \u001b[0;36m_DateLocaleParser.parse\u001b[0;34m(cls, locale, date_string, date_formats, settings)\u001b[0m\n\u001b[1;32m    175\u001b[0m \u001b[38;5;129m@classmethod\u001b[39m\n\u001b[1;32m    176\u001b[0m \u001b[38;5;28;01mdef\u001b[39;00m \u001b[38;5;21mparse\u001b[39m(\u001b[38;5;28mcls\u001b[39m, locale, date_string, date_formats\u001b[38;5;241m=\u001b[39m\u001b[38;5;28;01mNone\u001b[39;00m, settings\u001b[38;5;241m=\u001b[39m\u001b[38;5;28;01mNone\u001b[39;00m):\n\u001b[1;32m    177\u001b[0m     instance \u001b[38;5;241m=\u001b[39m \u001b[38;5;28mcls\u001b[39m(locale, date_string, date_formats, settings)\n\u001b[0;32m--> 178\u001b[0m     \u001b[38;5;28;01mreturn\u001b[39;00m \u001b[43minstance\u001b[49m\u001b[38;5;241;43m.\u001b[39;49m\u001b[43m_parse\u001b[49m\u001b[43m(\u001b[49m\u001b[43m)\u001b[49m\n",
      "File \u001b[0;32m~/opt/anaconda3/envs/binance_trading/lib/python3.8/site-packages/dateparser/date.py:182\u001b[0m, in \u001b[0;36m_DateLocaleParser._parse\u001b[0;34m(self)\u001b[0m\n\u001b[1;32m    180\u001b[0m \u001b[38;5;28;01mdef\u001b[39;00m \u001b[38;5;21m_parse\u001b[39m(\u001b[38;5;28mself\u001b[39m):\n\u001b[1;32m    181\u001b[0m     \u001b[38;5;28;01mfor\u001b[39;00m parser_name \u001b[38;5;129;01min\u001b[39;00m \u001b[38;5;28mself\u001b[39m\u001b[38;5;241m.\u001b[39m_settings\u001b[38;5;241m.\u001b[39mPARSERS:\n\u001b[0;32m--> 182\u001b[0m         date_data \u001b[38;5;241m=\u001b[39m \u001b[38;5;28;43mself\u001b[39;49m\u001b[38;5;241;43m.\u001b[39;49m\u001b[43m_parsers\u001b[49m\u001b[43m[\u001b[49m\u001b[43mparser_name\u001b[49m\u001b[43m]\u001b[49m\u001b[43m(\u001b[49m\u001b[43m)\u001b[49m\n\u001b[1;32m    183\u001b[0m         \u001b[38;5;28;01mif\u001b[39;00m \u001b[38;5;28mself\u001b[39m\u001b[38;5;241m.\u001b[39m_is_valid_date_data(date_data):\n\u001b[1;32m    184\u001b[0m             \u001b[38;5;28;01mreturn\u001b[39;00m date_data\n",
      "File \u001b[0;32m~/opt/anaconda3/envs/binance_trading/lib/python3.8/site-packages/dateparser/date.py:196\u001b[0m, in \u001b[0;36m_DateLocaleParser._try_freshness_parser\u001b[0;34m(self)\u001b[0m\n\u001b[1;32m    194\u001b[0m \u001b[38;5;28;01mdef\u001b[39;00m \u001b[38;5;21m_try_freshness_parser\u001b[39m(\u001b[38;5;28mself\u001b[39m):\n\u001b[1;32m    195\u001b[0m     \u001b[38;5;28;01mtry\u001b[39;00m:\n\u001b[0;32m--> 196\u001b[0m         \u001b[38;5;28;01mreturn\u001b[39;00m freshness_date_parser\u001b[38;5;241m.\u001b[39mget_date_data(\u001b[38;5;28;43mself\u001b[39;49m\u001b[38;5;241;43m.\u001b[39;49m\u001b[43m_get_translated_date\u001b[49m\u001b[43m(\u001b[49m\u001b[43m)\u001b[49m, \u001b[38;5;28mself\u001b[39m\u001b[38;5;241m.\u001b[39m_settings)\n\u001b[1;32m    197\u001b[0m     \u001b[38;5;28;01mexcept\u001b[39;00m (\u001b[38;5;167;01mOverflowError\u001b[39;00m, \u001b[38;5;167;01mValueError\u001b[39;00m):\n\u001b[1;32m    198\u001b[0m         \u001b[38;5;28;01mreturn\u001b[39;00m \u001b[38;5;28;01mNone\u001b[39;00m\n",
      "File \u001b[0;32m~/opt/anaconda3/envs/binance_trading/lib/python3.8/site-packages/dateparser/date.py:234\u001b[0m, in \u001b[0;36m_DateLocaleParser._get_translated_date\u001b[0;34m(self)\u001b[0m\n\u001b[1;32m    232\u001b[0m \u001b[38;5;28;01mdef\u001b[39;00m \u001b[38;5;21m_get_translated_date\u001b[39m(\u001b[38;5;28mself\u001b[39m):\n\u001b[1;32m    233\u001b[0m     \u001b[38;5;28;01mif\u001b[39;00m \u001b[38;5;28mself\u001b[39m\u001b[38;5;241m.\u001b[39m_translated_date \u001b[38;5;129;01mis\u001b[39;00m \u001b[38;5;28;01mNone\u001b[39;00m:\n\u001b[0;32m--> 234\u001b[0m         \u001b[38;5;28mself\u001b[39m\u001b[38;5;241m.\u001b[39m_translated_date \u001b[38;5;241m=\u001b[39m \u001b[38;5;28;43mself\u001b[39;49m\u001b[38;5;241;43m.\u001b[39;49m\u001b[43mlocale\u001b[49m\u001b[38;5;241;43m.\u001b[39;49m\u001b[43mtranslate\u001b[49m\u001b[43m(\u001b[49m\n\u001b[1;32m    235\u001b[0m \u001b[43m            \u001b[49m\u001b[38;5;28;43mself\u001b[39;49m\u001b[38;5;241;43m.\u001b[39;49m\u001b[43mdate_string\u001b[49m\u001b[43m,\u001b[49m\u001b[43m \u001b[49m\u001b[43mkeep_formatting\u001b[49m\u001b[38;5;241;43m=\u001b[39;49m\u001b[38;5;28;43;01mFalse\u001b[39;49;00m\u001b[43m,\u001b[49m\u001b[43m \u001b[49m\u001b[43msettings\u001b[49m\u001b[38;5;241;43m=\u001b[39;49m\u001b[38;5;28;43mself\u001b[39;49m\u001b[38;5;241;43m.\u001b[39;49m\u001b[43m_settings\u001b[49m\u001b[43m)\u001b[49m\n\u001b[1;32m    236\u001b[0m     \u001b[38;5;28;01mreturn\u001b[39;00m \u001b[38;5;28mself\u001b[39m\u001b[38;5;241m.\u001b[39m_translated_date\n",
      "File \u001b[0;32m~/opt/anaconda3/envs/binance_trading/lib/python3.8/site-packages/dateparser/languages/locale.py:131\u001b[0m, in \u001b[0;36mLocale.translate\u001b[0;34m(self, date_string, keep_formatting, settings)\u001b[0m\n\u001b[1;32m    128\u001b[0m dictionary \u001b[38;5;241m=\u001b[39m \u001b[38;5;28mself\u001b[39m\u001b[38;5;241m.\u001b[39m_get_dictionary(settings)\n\u001b[1;32m    129\u001b[0m date_string_tokens \u001b[38;5;241m=\u001b[39m dictionary\u001b[38;5;241m.\u001b[39msplit(date_string, keep_formatting)\n\u001b[0;32m--> 131\u001b[0m relative_translations \u001b[38;5;241m=\u001b[39m \u001b[38;5;28;43mself\u001b[39;49m\u001b[38;5;241;43m.\u001b[39;49m\u001b[43m_get_relative_translations\u001b[49m\u001b[43m(\u001b[49m\u001b[43msettings\u001b[49m\u001b[38;5;241;43m=\u001b[39;49m\u001b[43msettings\u001b[49m\u001b[43m)\u001b[49m\n\u001b[1;32m    133\u001b[0m \u001b[38;5;28;01mfor\u001b[39;00m i, word \u001b[38;5;129;01min\u001b[39;00m \u001b[38;5;28menumerate\u001b[39m(date_string_tokens):\n\u001b[1;32m    134\u001b[0m     word \u001b[38;5;241m=\u001b[39m word\u001b[38;5;241m.\u001b[39mlower()\n",
      "File \u001b[0;32m~/opt/anaconda3/envs/binance_trading/lib/python3.8/site-packages/dateparser/languages/locale.py:158\u001b[0m, in \u001b[0;36mLocale._get_relative_translations\u001b[0;34m(self, settings)\u001b[0m\n\u001b[1;32m    155\u001b[0m \u001b[38;5;28;01mif\u001b[39;00m settings\u001b[38;5;241m.\u001b[39mNORMALIZE:\n\u001b[1;32m    156\u001b[0m     \u001b[38;5;28;01mif\u001b[39;00m \u001b[38;5;28mself\u001b[39m\u001b[38;5;241m.\u001b[39m_normalized_relative_translations \u001b[38;5;129;01mis\u001b[39;00m \u001b[38;5;28;01mNone\u001b[39;00m:\n\u001b[1;32m    157\u001b[0m         \u001b[38;5;28mself\u001b[39m\u001b[38;5;241m.\u001b[39m_normalized_relative_translations \u001b[38;5;241m=\u001b[39m (\n\u001b[0;32m--> 158\u001b[0m             \u001b[38;5;28;43mself\u001b[39;49m\u001b[38;5;241;43m.\u001b[39;49m\u001b[43m_generate_relative_translations\u001b[49m\u001b[43m(\u001b[49m\u001b[43mnormalize\u001b[49m\u001b[38;5;241;43m=\u001b[39;49m\u001b[38;5;28;43;01mTrue\u001b[39;49;00m\u001b[43m)\u001b[49m)\n\u001b[1;32m    159\u001b[0m     \u001b[38;5;28;01mreturn\u001b[39;00m \u001b[38;5;28mself\u001b[39m\u001b[38;5;241m.\u001b[39m_normalized_relative_translations\n\u001b[1;32m    160\u001b[0m \u001b[38;5;28;01melse\u001b[39;00m:\n",
      "File \u001b[0;32m~/opt/anaconda3/envs/binance_trading/lib/python3.8/site-packages/dateparser/languages/locale.py:172\u001b[0m, in \u001b[0;36mLocale._generate_relative_translations\u001b[0;34m(self, normalize)\u001b[0m\n\u001b[1;32m    170\u001b[0m     value \u001b[38;5;241m=\u001b[39m \u001b[38;5;28mlist\u001b[39m(\u001b[38;5;28mmap\u001b[39m(normalize_unicode, value))\n\u001b[1;32m    171\u001b[0m pattern \u001b[38;5;241m=\u001b[39m \u001b[38;5;124m'\u001b[39m\u001b[38;5;124m|\u001b[39m\u001b[38;5;124m'\u001b[39m\u001b[38;5;241m.\u001b[39mjoin(\u001b[38;5;28msorted\u001b[39m(value, key\u001b[38;5;241m=\u001b[39m\u001b[38;5;28mlen\u001b[39m, reverse\u001b[38;5;241m=\u001b[39m\u001b[38;5;28;01mTrue\u001b[39;00m))\n\u001b[0;32m--> 172\u001b[0m pattern \u001b[38;5;241m=\u001b[39m \u001b[43mDIGIT_GROUP_PATTERN\u001b[49m\u001b[38;5;241;43m.\u001b[39;49m\u001b[43msub\u001b[49m\u001b[43m(\u001b[49m\u001b[38;5;124;43mr\u001b[39;49m\u001b[38;5;124;43m'\u001b[39;49m\u001b[38;5;124;43m?P<n>\u001b[39;49m\u001b[38;5;124;43m\\\u001b[39;49m\u001b[38;5;124;43md+\u001b[39;49m\u001b[38;5;124;43m'\u001b[39;49m\u001b[43m,\u001b[49m\u001b[43m \u001b[49m\u001b[43mpattern\u001b[49m\u001b[43m)\u001b[49m\n\u001b[1;32m    173\u001b[0m pattern \u001b[38;5;241m=\u001b[39m re\u001b[38;5;241m.\u001b[39mcompile(\u001b[38;5;124mr\u001b[39m\u001b[38;5;124m'\u001b[39m\u001b[38;5;124m^(?:\u001b[39m\u001b[38;5;132;01m{}\u001b[39;00m\u001b[38;5;124m)$\u001b[39m\u001b[38;5;124m'\u001b[39m\u001b[38;5;241m.\u001b[39mformat(pattern), re\u001b[38;5;241m.\u001b[39mUNICODE \u001b[38;5;241m|\u001b[39m re\u001b[38;5;241m.\u001b[39mIGNORECASE)\n\u001b[1;32m    174\u001b[0m relative_dictionary[pattern] \u001b[38;5;241m=\u001b[39m key\n",
      "File \u001b[0;32m~/opt/anaconda3/envs/binance_trading/lib/python3.8/site-packages/regex/regex.py:700\u001b[0m, in \u001b[0;36m_compile_replacement_helper\u001b[0;34m(pattern, template)\u001b[0m\n\u001b[1;32m    695\u001b[0m     \u001b[38;5;28;01mbreak\u001b[39;00m\n\u001b[1;32m    696\u001b[0m \u001b[38;5;28;01mif\u001b[39;00m ch \u001b[38;5;241m==\u001b[39m \u001b[38;5;124m\"\u001b[39m\u001b[38;5;130;01m\\\\\u001b[39;00m\u001b[38;5;124m\"\u001b[39m:\n\u001b[1;32m    697\u001b[0m     \u001b[38;5;66;03m# '_compile_replacement' will return either an int group reference\u001b[39;00m\n\u001b[1;32m    698\u001b[0m     \u001b[38;5;66;03m# or a string literal. It returns items (plural) in order to handle\u001b[39;00m\n\u001b[1;32m    699\u001b[0m     \u001b[38;5;66;03m# a 2-character literal (an invalid escape sequence).\u001b[39;00m\n\u001b[0;32m--> 700\u001b[0m     is_group, items \u001b[38;5;241m=\u001b[39m \u001b[43m_compile_replacement\u001b[49m\u001b[43m(\u001b[49m\u001b[43msource\u001b[49m\u001b[43m,\u001b[49m\u001b[43m \u001b[49m\u001b[43mpattern\u001b[49m\u001b[43m,\u001b[49m\u001b[43m \u001b[49m\u001b[43mis_unicode\u001b[49m\u001b[43m)\u001b[49m\n\u001b[1;32m    701\u001b[0m     \u001b[38;5;28;01mif\u001b[39;00m is_group:\n\u001b[1;32m    702\u001b[0m         \u001b[38;5;66;03m# It's a group, so first flush the literal.\u001b[39;00m\n\u001b[1;32m    703\u001b[0m         \u001b[38;5;28;01mif\u001b[39;00m literal:\n",
      "File \u001b[0;32m~/opt/anaconda3/envs/binance_trading/lib/python3.8/site-packages/regex/_regex_core.py:1736\u001b[0m, in \u001b[0;36m_compile_replacement\u001b[0;34m(source, pattern, is_unicode)\u001b[0m\n\u001b[1;32m   1733\u001b[0m         \u001b[38;5;28;01mif\u001b[39;00m value \u001b[38;5;129;01mis\u001b[39;00m \u001b[38;5;129;01mnot\u001b[39;00m \u001b[38;5;28;01mNone\u001b[39;00m:\n\u001b[1;32m   1734\u001b[0m             \u001b[38;5;28;01mreturn\u001b[39;00m \u001b[38;5;28;01mFalse\u001b[39;00m, [value]\n\u001b[0;32m-> 1736\u001b[0m     \u001b[38;5;28;01mraise\u001b[39;00m error(\u001b[38;5;124m\"\u001b[39m\u001b[38;5;124mbad escape \u001b[39m\u001b[38;5;130;01m\\\\\u001b[39;00m\u001b[38;5;132;01m%s\u001b[39;00m\u001b[38;5;124m\"\u001b[39m \u001b[38;5;241m%\u001b[39m ch, source\u001b[38;5;241m.\u001b[39mstring, source\u001b[38;5;241m.\u001b[39mpos)\n\u001b[1;32m   1738\u001b[0m \u001b[38;5;28;01mif\u001b[39;00m \u001b[38;5;28misinstance\u001b[39m(source\u001b[38;5;241m.\u001b[39msep, \u001b[38;5;28mbytes\u001b[39m):\n\u001b[1;32m   1739\u001b[0m     octal_mask \u001b[38;5;241m=\u001b[39m \u001b[38;5;241m0xFF\u001b[39m\n",
      "\u001b[0;31merror\u001b[0m: bad escape \\d at position 7"
     ]
    }
   ],
   "source": [
    "df = get_history(symbol = \"BTCUSDT\", interval = \"1M\", start = \"2021-01-01\")\n",
    "df"
   ]
  },
  {
   "cell_type": "markdown",
   "id": "1d785bc9",
   "metadata": {},
   "source": [
    "__Intraday Data (1H) for specified Time Period__"
   ]
  },
  {
   "cell_type": "code",
   "execution_count": null,
   "id": "7ec7af09",
   "metadata": {},
   "outputs": [],
   "source": [
    "df = get_history(symbol = \"BTCUSDT\", interval = \"1h\", start = \"2021-10-01\", end = \"2021-10-05\")\n",
    "df"
   ]
  },
  {
   "cell_type": "code",
   "execution_count": null,
   "id": "2426428c",
   "metadata": {},
   "outputs": [],
   "source": [
    "df = get_history(symbol = \"BTCUSDT\", interval = \"1h\",\n",
    "                 start = \"2021-10-01 10:00:00\", end = \"2021-10-05 16:00:00\")\n",
    "df"
   ]
  },
  {
   "cell_type": "markdown",
   "id": "f1644a97",
   "metadata": {},
   "source": [
    "__Intraday Data (1m) for specified Time Period__"
   ]
  },
  {
   "cell_type": "code",
   "execution_count": null,
   "id": "d251fb2a",
   "metadata": {},
   "outputs": [],
   "source": [
    "df = get_history(symbol = \"BTCUSDT\", interval = \"1m\",\n",
    "                 start = \"2021-10-01 10:29:00\", end = \"2021-10-05 16:55:00\")\n",
    "df"
   ]
  },
  {
   "cell_type": "markdown",
   "id": "f73376f6",
   "metadata": {},
   "source": [
    "__Most recent (last 2 hours) Intraday Data (1m)__"
   ]
  },
  {
   "cell_type": "code",
   "execution_count": 12,
   "id": "b56e44b9",
   "metadata": {},
   "outputs": [],
   "source": [
    "from datetime import datetime, timedelta"
   ]
  },
  {
   "cell_type": "code",
   "execution_count": 13,
   "id": "1d5b05e1",
   "metadata": {},
   "outputs": [
    {
     "data": {
      "text/plain": [
       "datetime.datetime(2022, 4, 24, 16, 58, 17, 402119)"
      ]
     },
     "execution_count": 13,
     "metadata": {},
     "output_type": "execute_result"
    }
   ],
   "source": [
    "now = datetime.utcnow()\n",
    "now"
   ]
  },
  {
   "cell_type": "code",
   "execution_count": 14,
   "id": "2b2e78e5",
   "metadata": {},
   "outputs": [
    {
     "data": {
      "text/plain": [
       "datetime.datetime(2022, 4, 24, 14, 58, 17, 402119)"
      ]
     },
     "execution_count": 14,
     "metadata": {},
     "output_type": "execute_result"
    }
   ],
   "source": [
    "two_hours_before = now - timedelta(hours = 2)\n",
    "two_hours_before"
   ]
  },
  {
   "cell_type": "code",
   "execution_count": 15,
   "id": "855d7205",
   "metadata": {},
   "outputs": [
    {
     "data": {
      "text/plain": [
       "'2022-04-24 14:58:17.402119'"
      ]
     },
     "execution_count": 15,
     "metadata": {},
     "output_type": "execute_result"
    }
   ],
   "source": [
    "str(two_hours_before)"
   ]
  },
  {
   "cell_type": "code",
   "execution_count": 16,
   "id": "1f8eb152",
   "metadata": {},
   "outputs": [
    {
     "name": "stdout",
     "output_type": "stream",
     "text": [
      "1650805097402.119\n",
      "2022-04-24 14:58:17.402119\n"
     ]
    }
   ],
   "source": [
    "print(two_hours_before.timestamp() * 1000)\n",
    "print(datetime.fromtimestamp(two_hours_before.timestamp()))"
   ]
  },
  {
   "cell_type": "code",
   "execution_count": 17,
   "id": "83308480",
   "metadata": {},
   "outputs": [
    {
     "data": {
      "text/plain": [
       "datetime.time(14, 58, 17, 402119)"
      ]
     },
     "execution_count": 17,
     "metadata": {},
     "output_type": "execute_result"
    }
   ],
   "source": [
    "two_hours_before.time()"
   ]
  },
  {
   "cell_type": "code",
   "execution_count": 18,
   "id": "8373b70f",
   "metadata": {},
   "outputs": [
    {
     "data": {
      "text/html": [
       "<div>\n",
       "<style scoped>\n",
       "    .dataframe tbody tr th:only-of-type {\n",
       "        vertical-align: middle;\n",
       "    }\n",
       "\n",
       "    .dataframe tbody tr th {\n",
       "        vertical-align: top;\n",
       "    }\n",
       "\n",
       "    .dataframe thead th {\n",
       "        text-align: right;\n",
       "    }\n",
       "</style>\n",
       "<table border=\"1\" class=\"dataframe\">\n",
       "  <thead>\n",
       "    <tr style=\"text-align: right;\">\n",
       "      <th></th>\n",
       "      <th>Open</th>\n",
       "      <th>High</th>\n",
       "      <th>Low</th>\n",
       "      <th>Close</th>\n",
       "      <th>Volume</th>\n",
       "    </tr>\n",
       "    <tr>\n",
       "      <th>Date</th>\n",
       "      <th></th>\n",
       "      <th></th>\n",
       "      <th></th>\n",
       "      <th></th>\n",
       "      <th></th>\n",
       "    </tr>\n",
       "  </thead>\n",
       "  <tbody>\n",
       "    <tr>\n",
       "      <th>2022-04-24 12:59:00</th>\n",
       "      <td>39552.42</td>\n",
       "      <td>39587.03</td>\n",
       "      <td>39552.38</td>\n",
       "      <td>39582.37</td>\n",
       "      <td>2.344648</td>\n",
       "    </tr>\n",
       "    <tr>\n",
       "      <th>2022-04-24 13:00:00</th>\n",
       "      <td>39582.38</td>\n",
       "      <td>39583.71</td>\n",
       "      <td>39574.81</td>\n",
       "      <td>39574.82</td>\n",
       "      <td>0.994067</td>\n",
       "    </tr>\n",
       "    <tr>\n",
       "      <th>2022-04-24 13:01:00</th>\n",
       "      <td>39574.81</td>\n",
       "      <td>39579.50</td>\n",
       "      <td>39574.81</td>\n",
       "      <td>39579.11</td>\n",
       "      <td>1.161841</td>\n",
       "    </tr>\n",
       "    <tr>\n",
       "      <th>2022-04-24 13:02:00</th>\n",
       "      <td>39579.12</td>\n",
       "      <td>39579.12</td>\n",
       "      <td>39566.80</td>\n",
       "      <td>39566.80</td>\n",
       "      <td>0.923875</td>\n",
       "    </tr>\n",
       "    <tr>\n",
       "      <th>2022-04-24 13:03:00</th>\n",
       "      <td>39566.81</td>\n",
       "      <td>39566.83</td>\n",
       "      <td>39554.69</td>\n",
       "      <td>39554.70</td>\n",
       "      <td>0.803598</td>\n",
       "    </tr>\n",
       "    <tr>\n",
       "      <th>...</th>\n",
       "      <td>...</td>\n",
       "      <td>...</td>\n",
       "      <td>...</td>\n",
       "      <td>...</td>\n",
       "      <td>...</td>\n",
       "    </tr>\n",
       "    <tr>\n",
       "      <th>2022-04-24 16:54:00</th>\n",
       "      <td>39120.01</td>\n",
       "      <td>39197.10</td>\n",
       "      <td>39112.83</td>\n",
       "      <td>39194.47</td>\n",
       "      <td>3.782258</td>\n",
       "    </tr>\n",
       "    <tr>\n",
       "      <th>2022-04-24 16:55:00</th>\n",
       "      <td>39194.47</td>\n",
       "      <td>39774.78</td>\n",
       "      <td>39194.47</td>\n",
       "      <td>39650.39</td>\n",
       "      <td>4.700105</td>\n",
       "    </tr>\n",
       "    <tr>\n",
       "      <th>2022-04-24 16:56:00</th>\n",
       "      <td>39620.66</td>\n",
       "      <td>39621.16</td>\n",
       "      <td>39493.09</td>\n",
       "      <td>39526.68</td>\n",
       "      <td>4.102382</td>\n",
       "    </tr>\n",
       "    <tr>\n",
       "      <th>2022-04-24 16:57:00</th>\n",
       "      <td>39518.45</td>\n",
       "      <td>39600.02</td>\n",
       "      <td>39489.50</td>\n",
       "      <td>39522.59</td>\n",
       "      <td>3.870938</td>\n",
       "    </tr>\n",
       "    <tr>\n",
       "      <th>2022-04-24 16:58:00</th>\n",
       "      <td>39522.58</td>\n",
       "      <td>39537.56</td>\n",
       "      <td>39520.31</td>\n",
       "      <td>39532.98</td>\n",
       "      <td>0.969161</td>\n",
       "    </tr>\n",
       "  </tbody>\n",
       "</table>\n",
       "<p>240 rows × 5 columns</p>\n",
       "</div>"
      ],
      "text/plain": [
       "                         Open      High       Low     Close    Volume\n",
       "Date                                                                 \n",
       "2022-04-24 12:59:00  39552.42  39587.03  39552.38  39582.37  2.344648\n",
       "2022-04-24 13:00:00  39582.38  39583.71  39574.81  39574.82  0.994067\n",
       "2022-04-24 13:01:00  39574.81  39579.50  39574.81  39579.11  1.161841\n",
       "2022-04-24 13:02:00  39579.12  39579.12  39566.80  39566.80  0.923875\n",
       "2022-04-24 13:03:00  39566.81  39566.83  39554.69  39554.70  0.803598\n",
       "...                       ...       ...       ...       ...       ...\n",
       "2022-04-24 16:54:00  39120.01  39197.10  39112.83  39194.47  3.782258\n",
       "2022-04-24 16:55:00  39194.47  39774.78  39194.47  39650.39  4.700105\n",
       "2022-04-24 16:56:00  39620.66  39621.16  39493.09  39526.68  4.102382\n",
       "2022-04-24 16:57:00  39518.45  39600.02  39489.50  39522.59  3.870938\n",
       "2022-04-24 16:58:00  39522.58  39537.56  39520.31  39532.98  0.969161\n",
       "\n",
       "[240 rows x 5 columns]"
      ]
     },
     "execution_count": 18,
     "metadata": {},
     "output_type": "execute_result"
    }
   ],
   "source": [
    "df = get_history(symbol = \"BTCUSDT\", interval = \"1m\", start = int(two_hours_before.timestamp() * 1000))\n",
    "df"
   ]
  },
  {
   "cell_type": "code",
   "execution_count": null,
   "id": "77883d43",
   "metadata": {},
   "outputs": [],
   "source": []
  },
  {
   "cell_type": "markdown",
   "id": "bd110fcf",
   "metadata": {},
   "source": [
    "## Excursus: Loading Historical Data (csv) from the Website"
   ]
  },
  {
   "cell_type": "code",
   "execution_count": null,
   "id": "afa2d837",
   "metadata": {},
   "outputs": [],
   "source": [
    "import pandas as pd"
   ]
  },
  {
   "cell_type": "code",
   "execution_count": null,
   "id": "cb7d6f78",
   "metadata": {},
   "outputs": [],
   "source": [
    "url = r\"C:\\Users\\hagma\\OneDrive\\Desktop\\BTCUSDT-1h-2021-09\\BTCUSDT-1h-2021-09.csv\" # insert your filepath here\n",
    "url"
   ]
  },
  {
   "cell_type": "code",
   "execution_count": null,
   "id": "e0f6cab2",
   "metadata": {},
   "outputs": [],
   "source": [
    "df = pd.read_csv(url, header = None)\n",
    "df"
   ]
  },
  {
   "cell_type": "code",
   "execution_count": null,
   "id": "be790404",
   "metadata": {},
   "outputs": [],
   "source": [
    "df[\"Date\"] = pd.to_datetime(df.iloc[:,0], unit = \"ms\")\n",
    "df"
   ]
  },
  {
   "cell_type": "code",
   "execution_count": null,
   "id": "1788ac81",
   "metadata": {},
   "outputs": [],
   "source": [
    "df.columns = [\"Open Time\", \"Open\", \"High\", \"Low\", \"Close\", \"Volume\",\n",
    "                  \"Clos Time\", \"Quote Asset Volume\", \"Number of Trades\",\n",
    "                  \"Taker Buy Base Asset Volume\", \"Taker Buy Quote Asset Volume\", \"Ignore\", \"Date\"]\n",
    "df"
   ]
  },
  {
   "cell_type": "code",
   "execution_count": null,
   "id": "c262675f",
   "metadata": {},
   "outputs": [],
   "source": [
    "df = df[[\"Date\", \"Open\", \"High\", \"Low\", \"Close\", \"Volume\"]].copy()\n",
    "df.set_index(\"Date\", inplace = True)\n",
    "\n",
    "#not required:\n",
    "#for column in df.columns:\n",
    "    #df[column] = pd.to_numeric(df[column], errors = \"coerce\")"
   ]
  },
  {
   "cell_type": "code",
   "execution_count": null,
   "id": "2d594b09",
   "metadata": {},
   "outputs": [],
   "source": [
    "df"
   ]
  },
  {
   "cell_type": "code",
   "execution_count": null,
   "id": "9b457bc0",
   "metadata": {},
   "outputs": [],
   "source": [
    "df.info()"
   ]
  },
  {
   "cell_type": "code",
   "execution_count": null,
   "id": "79969103",
   "metadata": {},
   "outputs": [],
   "source": []
  },
  {
   "cell_type": "markdown",
   "id": "9a8e455b",
   "metadata": {},
   "source": [
    "## Streaming Market Data (Part 1)"
   ]
  },
  {
   "cell_type": "code",
   "execution_count": 19,
   "id": "758a79a2",
   "metadata": {},
   "outputs": [],
   "source": [
    "from binance import ThreadedWebsocketManager\n",
    "import pandas as pd"
   ]
  },
  {
   "cell_type": "code",
   "execution_count": 20,
   "id": "0ddbcaba",
   "metadata": {},
   "outputs": [],
   "source": [
    "def stream_data(msg):\n",
    "    ''' define how to process incoming WebSocket messages '''\n",
    "    print(msg)"
   ]
  },
  {
   "cell_type": "code",
   "execution_count": 21,
   "id": "df77b4cf",
   "metadata": {},
   "outputs": [],
   "source": [
    "# initialize and start the WebSocket\n",
    "twm = ThreadedWebsocketManager()\n",
    "twm.start()"
   ]
  },
  {
   "cell_type": "markdown",
   "id": "2c8e5d35",
   "metadata": {},
   "source": [
    "If you have an account on __Binance.US__ (US residents) <br>\n",
    "(If you are using an exchange from the US, Japan or other TLD then make sure pass tld=’us’ when initializing the TWM.)"
   ]
  },
  {
   "cell_type": "code",
   "execution_count": null,
   "id": "26e37221",
   "metadata": {},
   "outputs": [],
   "source": [
    "# initialize and start the WebSocket in the us\n",
    "# twm = ThreadedWebsocketManager(tld = \"us\")\n",
    "# twm.start()"
   ]
  },
  {
   "cell_type": "code",
   "execution_count": null,
   "id": "0528ae6b",
   "metadata": {},
   "outputs": [],
   "source": [
    "twm"
   ]
  },
  {
   "cell_type": "markdown",
   "id": "aa6f8d23",
   "metadata": {},
   "source": [
    "__Different Market Streams available:__ https://binance-docs.github.io/apidocs/spot/en/#websocket-market-streams"
   ]
  },
  {
   "cell_type": "markdown",
   "id": "1c7d1111",
   "metadata": {},
   "source": [
    "__Individual Symbol Mini Ticker:__ 24hr rolling window mini-ticker statistics. These are NOT the statistics of the UTC day, but a 24hr rolling window for the previous 24hrs."
   ]
  },
  {
   "cell_type": "code",
   "execution_count": 22,
   "id": "7742b105",
   "metadata": {},
   "outputs": [
    {
     "data": {
      "text/plain": [
       "'btcusdt@miniTicker'"
      ]
     },
     "execution_count": 22,
     "metadata": {},
     "output_type": "execute_result"
    },
    {
     "name": "stdout",
     "output_type": "stream",
     "text": [
      "{'e': '24hrMiniTicker', 'E': 1650819521904, 's': 'BTCUSDT', 'c': '39506.62000000', 'o': '39851.81000000', 'h': '39948.27000000', 'l': '38929.62000000', 'v': '23623.86629000', 'q': '935502109.04979550'}\n",
      "{'e': '24hrMiniTicker', 'E': 1650819522945, 's': 'BTCUSDT', 'c': '39529.09000000', 'o': '39851.81000000', 'h': '39948.27000000', 'l': '38929.62000000', 'v': '23628.22107000', 'q': '935674201.51734590'}\n",
      "{'e': '24hrMiniTicker', 'E': 1650819523753, 's': 'BTCUSDT', 'c': '39529.11000000', 'o': '39851.81000000', 'h': '39948.27000000', 'l': '38929.62000000', 'v': '23628.03597000', 'q': '935666810.32165850'}\n",
      "{'e': '24hrMiniTicker', 'E': 1650819524952, 's': 'BTCUSDT', 'c': '39534.05000000', 'o': '39851.81000000', 'h': '39948.27000000', 'l': '38929.62000000', 'v': '23628.45391000', 'q': '935683255.96398070'}\n",
      "{'e': '24hrMiniTicker', 'E': 1650819525975, 's': 'BTCUSDT', 'c': '39538.78000000', 'o': '39851.82000000', 'h': '39948.27000000', 'l': '38929.62000000', 'v': '23628.59595000', 'q': '935688871.24115680'}\n",
      "{'e': '24hrMiniTicker', 'E': 1650819526998, 's': 'BTCUSDT', 'c': '39538.78000000', 'o': '39851.81000000', 'h': '39948.27000000', 'l': '38929.62000000', 'v': '23628.42776000', 'q': '935682152.90765620'}\n",
      "{'e': '24hrMiniTicker', 'E': 1650819527904, 's': 'BTCUSDT', 'c': '39529.50000000', 'o': '39851.81000000', 'h': '39948.27000000', 'l': '38929.62000000', 'v': '23628.37607000', 'q': '935680036.30399230'}\n",
      "{'e': '24hrMiniTicker', 'E': 1650819528941, 's': 'BTCUSDT', 'c': '39522.97000000', 'o': '39851.81000000', 'h': '39948.27000000', 'l': '38929.62000000', 'v': '23629.31253000', 'q': '935717041.88447660'}\n",
      "{'e': '24hrMiniTicker', 'E': 1650819529962, 's': 'BTCUSDT', 'c': '39528.67000000', 'o': '39851.82000000', 'h': '39948.27000000', 'l': '38929.62000000', 'v': '23629.30099000', 'q': '935716511.87410210'}\n",
      "{'e': '24hrMiniTicker', 'E': 1650819530977, 's': 'BTCUSDT', 'c': '39528.67000000', 'o': '39851.81000000', 'h': '39948.27000000', 'l': '38929.62000000', 'v': '23629.28811000', 'q': '935715966.11881840'}\n",
      "{'e': '24hrMiniTicker', 'E': 1650819532000, 's': 'BTCUSDT', 'c': '39538.80000000', 'o': '39851.82000000', 'h': '39948.27000000', 'l': '38929.62000000', 'v': '23629.96401000', 'q': '935742670.91814210'}\n",
      "{'e': '24hrMiniTicker', 'E': 1650819533019, 's': 'BTCUSDT', 'c': '39538.80000000', 'o': '39851.81000000', 'h': '39948.27000000', 'l': '38929.62000000', 'v': '23629.80478000', 'q': '935736304.44240840'}\n",
      "{'e': '24hrMiniTicker', 'E': 1650819533999, 's': 'BTCUSDT', 'c': '39556.91000000', 'o': '39851.81000000', 'h': '39948.27000000', 'l': '38929.62000000', 'v': '23637.70198000', 'q': '936048582.41313860'}\n",
      "{'e': '24hrMiniTicker', 'E': 1650819534980, 's': 'BTCUSDT', 'c': '39556.57000000', 'o': '39851.81000000', 'h': '39948.27000000', 'l': '38929.62000000', 'v': '23641.14740000', 'q': '936184863.39264220'}\n"
     ]
    }
   ],
   "source": [
    "# subscribe to the stream\n",
    "twm.start_symbol_miniticker_socket(callback = stream_data, symbol = \"BTCUSDT\")"
   ]
  },
  {
   "cell_type": "code",
   "execution_count": 23,
   "id": "1574073a",
   "metadata": {},
   "outputs": [
    {
     "name": "stdout",
     "output_type": "stream",
     "text": [
      "{'e': '24hrMiniTicker', 'E': 1650819536023, 's': 'BTCUSDT', 'c': '39553.64000000', 'o': '39851.81000000', 'h': '39948.27000000', 'l': '38929.62000000', 'v': '23641.09436000', 'q': '936182688.66415940'}\n"
     ]
    }
   ],
   "source": [
    "twm.stop() # stop the Websocket/Stream"
   ]
  },
  {
   "cell_type": "markdown",
   "id": "3b45affd",
   "metadata": {},
   "source": [
    "__Individual Symbol Mini Ticker Output/Message:__"
   ]
  },
  {
   "attachments": {
    "image.png": {
     "image/png": "[encoded data removed]"
    }
   },
   "cell_type": "markdown",
   "id": "ff6d77bc",
   "metadata": {},
   "source": [
    "![image.png](attachment:image.png)"
   ]
  },
  {
   "cell_type": "code",
   "execution_count": null,
   "id": "96f46d7b",
   "metadata": {},
   "outputs": [],
   "source": []
  },
  {
   "cell_type": "markdown",
   "id": "d1d0ba79",
   "metadata": {},
   "source": [
    "## Streaming Market Data (Part 2)"
   ]
  },
  {
   "cell_type": "code",
   "execution_count": 24,
   "id": "e17c9562",
   "metadata": {},
   "outputs": [],
   "source": [
    "def stream_data(msg):\n",
    "    ''' define how to process incoming WebSocket messages '''\n",
    "    \n",
    "    time = pd.to_datetime(msg[\"E\"], unit = \"ms\")\n",
    "    price = msg[\"c\"]\n",
    "    \n",
    "    print(\"Time: {} | Price: {}\".format(time, price))"
   ]
  },
  {
   "cell_type": "code",
   "execution_count": 25,
   "id": "b0bd7c99",
   "metadata": {},
   "outputs": [],
   "source": [
    "twm = ThreadedWebsocketManager()\n",
    "twm.start()"
   ]
  },
  {
   "cell_type": "code",
   "execution_count": 26,
   "id": "ff9de619",
   "metadata": {},
   "outputs": [
    {
     "data": {
      "text/plain": [
       "'btcusdt@miniTicker'"
      ]
     },
     "execution_count": 26,
     "metadata": {},
     "output_type": "execute_result"
    },
    {
     "name": "stdout",
     "output_type": "stream",
     "text": [
      "Time: 2022-04-24 16:59:45.239000 | Price: 39533.67000000\n",
      "Time: 2022-04-24 16:59:46.261000 | Price: 39533.67000000\n",
      "Time: 2022-04-24 16:59:47.233000 | Price: 39533.68000000\n",
      "Time: 2022-04-24 16:59:48.050000 | Price: 39533.67000000\n",
      "Time: 2022-04-24 16:59:49.494000 | Price: 39533.68000000\n",
      "Time: 2022-04-24 16:59:50.435000 | Price: 39516.04000000\n",
      "Time: 2022-04-24 16:59:51.459000 | Price: 39511.10000000\n",
      "Time: 2022-04-24 16:59:52.446000 | Price: 39507.15000000\n",
      "Time: 2022-04-24 16:59:53.473000 | Price: 39506.86000000\n",
      "Time: 2022-04-24 16:59:53.809000 | Price: 39506.85000000\n",
      "Time: 2022-04-24 16:59:55.470000 | Price: 39500.00000000\n",
      "Time: 2022-04-24 16:59:56.511000 | Price: 39500.01000000\n",
      "Time: 2022-04-24 16:59:57.486000 | Price: 39500.00000000\n",
      "Time: 2022-04-24 16:59:58.462000 | Price: 39495.38000000\n",
      "Time: 2022-04-24 16:59:59.394000 | Price: 39490.01000000\n",
      "Time: 2022-04-24 17:00:00.519000 | Price: 39490.01000000\n",
      "Time: 2022-04-24 17:00:01.531000 | Price: 39490.01000000\n",
      "Time: 2022-04-24 17:00:02.532000 | Price: 39488.88000000\n",
      "Time: 2022-04-24 17:00:03.461000 | Price: 39485.71000000\n",
      "Time: 2022-04-24 17:00:04.504000 | Price: 39485.35000000\n",
      "Time: 2022-04-24 17:00:05.144000 | Price: 39485.34000000\n",
      "Time: 2022-04-24 17:00:06.549000 | Price: 39491.27000000\n",
      "Time: 2022-04-24 17:00:07.559000 | Price: 39507.78000000\n",
      "Time: 2022-04-24 17:00:08.534000 | Price: 39509.82000000\n",
      "Time: 2022-04-24 17:00:09.336000 | Price: 39515.34000000\n",
      "Time: 2022-04-24 17:00:10.533000 | Price: 39526.58000000\n",
      "Time: 2022-04-24 17:00:11.493000 | Price: 39526.47000000\n",
      "Time: 2022-04-24 17:00:12.501000 | Price: 39524.76000000\n"
     ]
    }
   ],
   "source": [
    "twm.start_symbol_miniticker_socket(callback = stream_data, symbol = \"BTCUSDT\")"
   ]
  },
  {
   "cell_type": "code",
   "execution_count": 27,
   "id": "8b4569c3",
   "metadata": {},
   "outputs": [
    {
     "name": "stdout",
     "output_type": "stream",
     "text": [
      "Time: 2022-04-24 17:00:13.548000 | Price: 39523.74000000\n"
     ]
    }
   ],
   "source": [
    "twm.stop()"
   ]
  },
  {
   "cell_type": "code",
   "execution_count": null,
   "id": "a7d917cd",
   "metadata": {},
   "outputs": [],
   "source": []
  },
  {
   "cell_type": "markdown",
   "id": "a6c83f1b",
   "metadata": {},
   "source": [
    "## Streaming and Collecting Real-Time Candles"
   ]
  },
  {
   "cell_type": "code",
   "execution_count": null,
   "id": "24bbca44",
   "metadata": {},
   "outputs": [],
   "source": [
    "from binance import ThreadedWebsocketManager\n",
    "import pandas as pd"
   ]
  },
  {
   "cell_type": "markdown",
   "id": "22ecfb80",
   "metadata": {},
   "source": [
    "__Kline/Candlestick Stream:__ push updates to the current klines/candlestick every second."
   ]
  },
  {
   "cell_type": "markdown",
   "id": "d21453f3",
   "metadata": {},
   "source": [
    "https://binance-docs.github.io/apidocs/spot/en/#kline-candlestick-streams"
   ]
  },
  {
   "cell_type": "markdown",
   "id": "ca6a6976",
   "metadata": {},
   "source": [
    "__Output/Message:__"
   ]
  },
  {
   "attachments": {
    "image.png": {
     "image/png": "[encoded data removed]"
    }
   },
   "cell_type": "markdown",
   "id": "e29f1c89",
   "metadata": {},
   "source": [
    "![image.png](attachment:image.png)"
   ]
  },
  {
   "cell_type": "code",
   "execution_count": 28,
   "id": "9cfc8b71",
   "metadata": {},
   "outputs": [
    {
     "data": {
      "text/html": [
       "<div>\n",
       "<style scoped>\n",
       "    .dataframe tbody tr th:only-of-type {\n",
       "        vertical-align: middle;\n",
       "    }\n",
       "\n",
       "    .dataframe tbody tr th {\n",
       "        vertical-align: top;\n",
       "    }\n",
       "\n",
       "    .dataframe thead th {\n",
       "        text-align: right;\n",
       "    }\n",
       "</style>\n",
       "<table border=\"1\" class=\"dataframe\">\n",
       "  <thead>\n",
       "    <tr style=\"text-align: right;\">\n",
       "      <th></th>\n",
       "      <th>Open</th>\n",
       "      <th>High</th>\n",
       "      <th>Low</th>\n",
       "      <th>Close</th>\n",
       "      <th>Volume</th>\n",
       "      <th>Complete</th>\n",
       "    </tr>\n",
       "  </thead>\n",
       "  <tbody>\n",
       "  </tbody>\n",
       "</table>\n",
       "</div>"
      ],
      "text/plain": [
       "Empty DataFrame\n",
       "Columns: [Open, High, Low, Close, Volume, Complete]\n",
       "Index: []"
      ]
     },
     "execution_count": 28,
     "metadata": {},
     "output_type": "execute_result"
    }
   ],
   "source": [
    "df = pd.DataFrame(columns = [\"Open\", \"High\", \"Low\", \"Close\", \"Volume\", \"Complete\"])\n",
    "df"
   ]
  },
  {
   "cell_type": "code",
   "execution_count": 30,
   "id": "6cc13a16",
   "metadata": {},
   "outputs": [],
   "source": [
    "def stream_candles(msg):\n",
    "    ''' define how to process incoming WebSocket messages '''\n",
    "    \n",
    "    # extract the required items from msg\n",
    "    event_time = pd.to_datetime(msg[\"E\"], unit = \"ms\")\n",
    "    start_time = pd.to_datetime(msg[\"k\"][\"t\"], unit = \"ms\")\n",
    "    first   = float(msg[\"k\"][\"o\"])\n",
    "    high    = float(msg[\"k\"][\"h\"])\n",
    "    low     = float(msg[\"k\"][\"l\"])\n",
    "    close   = float(msg[\"k\"][\"c\"])\n",
    "    volume  = float(msg[\"k\"][\"v\"])\n",
    "    complete=       msg[\"k\"][\"x\"]\n",
    "    \n",
    "    # print out\n",
    "    print(\"Time: {} | Price: {}\".format(event_time, close))\n",
    "    \n",
    "    # feed df (add new bar / update latest bar)\n",
    "    df.loc[start_time] = [first, high, low, close, volume, complete]"
   ]
  },
  {
   "cell_type": "code",
   "execution_count": 31,
   "id": "4dbe3cbe",
   "metadata": {},
   "outputs": [],
   "source": [
    "twm = ThreadedWebsocketManager()\n",
    "twm.start()"
   ]
  },
  {
   "cell_type": "markdown",
   "id": "ad2e5679",
   "metadata": {},
   "source": [
    "valid intervals - 1m, 3m, 5m, 15m, 30m, 1h, 2h, 4h, 6h, 8h, 12h, 1d, 3d, 1w, 1M"
   ]
  },
  {
   "cell_type": "code",
   "execution_count": 32,
   "id": "5107e867",
   "metadata": {},
   "outputs": [
    {
     "data": {
      "text/plain": [
       "'btcusdt@kline_1m'"
      ]
     },
     "execution_count": 32,
     "metadata": {},
     "output_type": "execute_result"
    },
    {
     "name": "stdout",
     "output_type": "stream",
     "text": [
      "Time: 2022-04-24 17:04:51.938000 | Price: 39406.04\n",
      "Time: 2022-04-24 17:04:54.492000 | Price: 39406.03\n",
      "Time: 2022-04-24 17:04:56.914000 | Price: 39403.0\n",
      "Time: 2022-04-24 17:04:59.170000 | Price: 39396.68\n",
      "Time: 2022-04-24 17:05:00.005000 | Price: 39391.43\n",
      "Time: 2022-04-24 17:05:02.029000 | Price: 39391.44\n",
      "Time: 2022-04-24 17:05:04.100000 | Price: 39391.44\n",
      "Time: 2022-04-24 17:05:06.207000 | Price: 39391.44\n",
      "Time: 2022-04-24 17:05:08.248000 | Price: 39375.68\n",
      "Time: 2022-04-24 17:05:10.560000 | Price: 39370.0\n",
      "Time: 2022-04-24 17:05:12.760000 | Price: 39362.79\n",
      "Time: 2022-04-24 17:05:14.761000 | Price: 39356.89\n",
      "Time: 2022-04-24 17:05:16.911000 | Price: 39372.28\n",
      "Time: 2022-04-24 17:05:19.358000 | Price: 39367.52\n"
     ]
    }
   ],
   "source": [
    "twm.start_kline_socket(callback = stream_candles, symbol = \"BTCUSDT\", interval = \"1m\")"
   ]
  },
  {
   "cell_type": "code",
   "execution_count": 33,
   "id": "df9ceb18",
   "metadata": {},
   "outputs": [
    {
     "name": "stdout",
     "output_type": "stream",
     "text": [
      "Time: 2022-04-24 17:05:21.592000 | Price: 39367.51\n"
     ]
    }
   ],
   "source": [
    "twm.stop()"
   ]
  },
  {
   "cell_type": "code",
   "execution_count": 34,
   "id": "8a2ef781",
   "metadata": {},
   "outputs": [
    {
     "data": {
      "text/html": [
       "<div>\n",
       "<style scoped>\n",
       "    .dataframe tbody tr th:only-of-type {\n",
       "        vertical-align: middle;\n",
       "    }\n",
       "\n",
       "    .dataframe tbody tr th {\n",
       "        vertical-align: top;\n",
       "    }\n",
       "\n",
       "    .dataframe thead th {\n",
       "        text-align: right;\n",
       "    }\n",
       "</style>\n",
       "<table border=\"1\" class=\"dataframe\">\n",
       "  <thead>\n",
       "    <tr style=\"text-align: right;\">\n",
       "      <th></th>\n",
       "      <th>Open</th>\n",
       "      <th>High</th>\n",
       "      <th>Low</th>\n",
       "      <th>Close</th>\n",
       "      <th>Volume</th>\n",
       "      <th>Complete</th>\n",
       "    </tr>\n",
       "  </thead>\n",
       "  <tbody>\n",
       "    <tr>\n",
       "      <th>2022-04-24 17:04:00</th>\n",
       "      <td>39427.25</td>\n",
       "      <td>39439.91</td>\n",
       "      <td>39391.43</td>\n",
       "      <td>39391.43</td>\n",
       "      <td>21.27631</td>\n",
       "      <td>True</td>\n",
       "    </tr>\n",
       "    <tr>\n",
       "      <th>2022-04-24 17:05:00</th>\n",
       "      <td>39391.43</td>\n",
       "      <td>39391.44</td>\n",
       "      <td>39355.80</td>\n",
       "      <td>39367.51</td>\n",
       "      <td>21.14278</td>\n",
       "      <td>False</td>\n",
       "    </tr>\n",
       "  </tbody>\n",
       "</table>\n",
       "</div>"
      ],
      "text/plain": [
       "                         Open      High       Low     Close    Volume  \\\n",
       "2022-04-24 17:04:00  39427.25  39439.91  39391.43  39391.43  21.27631   \n",
       "2022-04-24 17:05:00  39391.43  39391.44  39355.80  39367.51  21.14278   \n",
       "\n",
       "                     Complete  \n",
       "2022-04-24 17:04:00      True  \n",
       "2022-04-24 17:05:00     False  "
      ]
     },
     "execution_count": 34,
     "metadata": {},
     "output_type": "execute_result"
    }
   ],
   "source": [
    "df"
   ]
  },
  {
   "cell_type": "code",
   "execution_count": null,
   "id": "71b2e859",
   "metadata": {},
   "outputs": [],
   "source": [
    "df.info()"
   ]
  },
  {
   "cell_type": "code",
   "execution_count": null,
   "id": "60a60aee",
   "metadata": {},
   "outputs": [],
   "source": []
  },
  {
   "cell_type": "markdown",
   "id": "d361cb52",
   "metadata": {},
   "source": [
    "## Creating a Test Order"
   ]
  },
  {
   "cell_type": "code",
   "execution_count": null,
   "id": "7af48cdf",
   "metadata": {},
   "outputs": [],
   "source": [
    "from binance.client import Client"
   ]
  },
  {
   "cell_type": "code",
   "execution_count": null,
   "id": "dcd43cf1",
   "metadata": {},
   "outputs": [],
   "source": [
    "client = Client(api_key = api_key, api_secret = secret_key, tld = \"com\")"
   ]
  },
  {
   "cell_type": "code",
   "execution_count": null,
   "id": "6ced657f",
   "metadata": {},
   "outputs": [],
   "source": [
    "# place a test market buy order, to place an actual order use the create_order function\n",
    "order = client.create_test_order(symbol = \"BTCEUR\", side = \"BUY\", type = \"MARKET\", quantity = 0.1)"
   ]
  },
  {
   "cell_type": "code",
   "execution_count": null,
   "id": "c2fe57d9",
   "metadata": {},
   "outputs": [],
   "source": [
    "order"
   ]
  },
  {
   "cell_type": "markdown",
   "id": "c2c8e847",
   "metadata": {},
   "source": [
    "-> Paper Trading in the __Spot Testnet__ (see next Lectures)!!!"
   ]
  },
  {
   "cell_type": "code",
   "execution_count": null,
   "id": "86629848",
   "metadata": {},
   "outputs": [],
   "source": []
  }
 ],
 "metadata": {
  "kernelspec": {
   "display_name": "Python 3 (ipykernel)",
   "language": "python",
   "name": "python3"
  },
  "language_info": {
   "codemirror_mode": {
    "name": "ipython",
    "version": 3
   },
   "file_extension": ".py",
   "mimetype": "text/x-python",
   "name": "python",
   "nbconvert_exporter": "python",
   "pygments_lexer": "ipython3",
   "version": "3.8.13"
  }
 },
 "nbformat": 4,
 "nbformat_minor": 5
}
