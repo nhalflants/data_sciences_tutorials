{
 "cells": [
  {
   "cell_type": "markdown",
   "metadata": {},
   "source": [
    "# Introduction: A Long-only Strategy based on Price & Volume Data"
   ]
  },
  {
   "cell_type": "markdown",
   "metadata": {},
   "source": [
    "## Getting the data"
   ]
  },
  {
   "cell_type": "code",
   "execution_count": 2,
   "metadata": {},
   "outputs": [],
   "source": [
    "import pandas as pd\n",
    "import numpy as np\n",
    "import matplotlib.pyplot as plt\n",
    "plt.style.use(\"seaborn\")"
   ]
  },
  {
   "cell_type": "code",
   "execution_count": 3,
   "metadata": {},
   "outputs": [
    {
     "data": {
      "text/html": [
       "<div>\n",
       "<style scoped>\n",
       "    .dataframe tbody tr th:only-of-type {\n",
       "        vertical-align: middle;\n",
       "    }\n",
       "\n",
       "    .dataframe tbody tr th {\n",
       "        vertical-align: top;\n",
       "    }\n",
       "\n",
       "    .dataframe thead th {\n",
       "        text-align: right;\n",
       "    }\n",
       "</style>\n",
       "<table border=\"1\" class=\"dataframe\">\n",
       "  <thead>\n",
       "    <tr style=\"text-align: right;\">\n",
       "      <th></th>\n",
       "      <th>Open</th>\n",
       "      <th>High</th>\n",
       "      <th>Low</th>\n",
       "      <th>Close</th>\n",
       "      <th>Volume</th>\n",
       "    </tr>\n",
       "    <tr>\n",
       "      <th>Date</th>\n",
       "      <th></th>\n",
       "      <th></th>\n",
       "      <th></th>\n",
       "      <th></th>\n",
       "      <th></th>\n",
       "    </tr>\n",
       "  </thead>\n",
       "  <tbody>\n",
       "    <tr>\n",
       "      <th>2017-08-17 04:00:00</th>\n",
       "      <td>4261.48</td>\n",
       "      <td>4313.62</td>\n",
       "      <td>4261.32</td>\n",
       "      <td>4308.83</td>\n",
       "      <td>47.181009</td>\n",
       "    </tr>\n",
       "    <tr>\n",
       "      <th>2017-08-17 05:00:00</th>\n",
       "      <td>4308.83</td>\n",
       "      <td>4328.69</td>\n",
       "      <td>4291.37</td>\n",
       "      <td>4315.32</td>\n",
       "      <td>23.234916</td>\n",
       "    </tr>\n",
       "    <tr>\n",
       "      <th>2017-08-17 06:00:00</th>\n",
       "      <td>4330.29</td>\n",
       "      <td>4345.45</td>\n",
       "      <td>4309.37</td>\n",
       "      <td>4324.35</td>\n",
       "      <td>7.229691</td>\n",
       "    </tr>\n",
       "    <tr>\n",
       "      <th>2017-08-17 07:00:00</th>\n",
       "      <td>4316.62</td>\n",
       "      <td>4349.99</td>\n",
       "      <td>4287.41</td>\n",
       "      <td>4349.99</td>\n",
       "      <td>4.443249</td>\n",
       "    </tr>\n",
       "    <tr>\n",
       "      <th>2017-08-17 08:00:00</th>\n",
       "      <td>4333.32</td>\n",
       "      <td>4377.85</td>\n",
       "      <td>4333.32</td>\n",
       "      <td>4360.69</td>\n",
       "      <td>0.972807</td>\n",
       "    </tr>\n",
       "    <tr>\n",
       "      <th>...</th>\n",
       "      <td>...</td>\n",
       "      <td>...</td>\n",
       "      <td>...</td>\n",
       "      <td>...</td>\n",
       "      <td>...</td>\n",
       "    </tr>\n",
       "    <tr>\n",
       "      <th>2021-10-07 05:00:00</th>\n",
       "      <td>55073.20</td>\n",
       "      <td>55073.21</td>\n",
       "      <td>54545.07</td>\n",
       "      <td>54735.76</td>\n",
       "      <td>2251.122020</td>\n",
       "    </tr>\n",
       "    <tr>\n",
       "      <th>2021-10-07 06:00:00</th>\n",
       "      <td>54735.77</td>\n",
       "      <td>54968.06</td>\n",
       "      <td>54375.83</td>\n",
       "      <td>54534.16</td>\n",
       "      <td>1783.004260</td>\n",
       "    </tr>\n",
       "    <tr>\n",
       "      <th>2021-10-07 07:00:00</th>\n",
       "      <td>54534.16</td>\n",
       "      <td>54793.26</td>\n",
       "      <td>54235.33</td>\n",
       "      <td>54755.92</td>\n",
       "      <td>4163.431360</td>\n",
       "    </tr>\n",
       "    <tr>\n",
       "      <th>2021-10-07 08:00:00</th>\n",
       "      <td>54755.91</td>\n",
       "      <td>54778.91</td>\n",
       "      <td>54400.00</td>\n",
       "      <td>54538.30</td>\n",
       "      <td>2049.382180</td>\n",
       "    </tr>\n",
       "    <tr>\n",
       "      <th>2021-10-07 09:00:00</th>\n",
       "      <td>54538.31</td>\n",
       "      <td>54547.30</td>\n",
       "      <td>53786.13</td>\n",
       "      <td>53995.50</td>\n",
       "      <td>2739.153610</td>\n",
       "    </tr>\n",
       "  </tbody>\n",
       "</table>\n",
       "<p>36168 rows × 5 columns</p>\n",
       "</div>"
      ],
      "text/plain": [
       "                         Open      High       Low     Close       Volume\n",
       "Date                                                                    \n",
       "2017-08-17 04:00:00   4261.48   4313.62   4261.32   4308.83    47.181009\n",
       "2017-08-17 05:00:00   4308.83   4328.69   4291.37   4315.32    23.234916\n",
       "2017-08-17 06:00:00   4330.29   4345.45   4309.37   4324.35     7.229691\n",
       "2017-08-17 07:00:00   4316.62   4349.99   4287.41   4349.99     4.443249\n",
       "2017-08-17 08:00:00   4333.32   4377.85   4333.32   4360.69     0.972807\n",
       "...                       ...       ...       ...       ...          ...\n",
       "2021-10-07 05:00:00  55073.20  55073.21  54545.07  54735.76  2251.122020\n",
       "2021-10-07 06:00:00  54735.77  54968.06  54375.83  54534.16  1783.004260\n",
       "2021-10-07 07:00:00  54534.16  54793.26  54235.33  54755.92  4163.431360\n",
       "2021-10-07 08:00:00  54755.91  54778.91  54400.00  54538.30  2049.382180\n",
       "2021-10-07 09:00:00  54538.31  54547.30  53786.13  53995.50  2739.153610\n",
       "\n",
       "[36168 rows x 5 columns]"
      ]
     },
     "execution_count": 3,
     "metadata": {},
     "output_type": "execute_result"
    }
   ],
   "source": [
    "data = pd.read_csv(\"bitcoin.csv\", parse_dates = [\"Date\"], index_col = \"Date\")\n",
    "data"
   ]
  },
  {
   "cell_type": "code",
   "execution_count": 4,
   "metadata": {},
   "outputs": [
    {
     "name": "stdout",
     "output_type": "stream",
     "text": [
      "<class 'pandas.core.frame.DataFrame'>\n",
      "DatetimeIndex: 36168 entries, 2017-08-17 04:00:00 to 2021-10-07 09:00:00\n",
      "Data columns (total 5 columns):\n",
      " #   Column  Non-Null Count  Dtype  \n",
      "---  ------  --------------  -----  \n",
      " 0   Open    36168 non-null  float64\n",
      " 1   High    36168 non-null  float64\n",
      " 2   Low     36168 non-null  float64\n",
      " 3   Close   36168 non-null  float64\n",
      " 4   Volume  36168 non-null  float64\n",
      "dtypes: float64(5)\n",
      "memory usage: 1.7 MB\n"
     ]
    }
   ],
   "source": [
    "data.info()"
   ]
  },
  {
   "cell_type": "code",
   "execution_count": 5,
   "metadata": {},
   "outputs": [],
   "source": [
    "data = data[[\"Close\", \"Volume\"]].copy()"
   ]
  },
  {
   "cell_type": "code",
   "execution_count": 6,
   "metadata": {},
   "outputs": [
    {
     "data": {
      "text/html": [
       "<div>\n",
       "<style scoped>\n",
       "    .dataframe tbody tr th:only-of-type {\n",
       "        vertical-align: middle;\n",
       "    }\n",
       "\n",
       "    .dataframe tbody tr th {\n",
       "        vertical-align: top;\n",
       "    }\n",
       "\n",
       "    .dataframe thead th {\n",
       "        text-align: right;\n",
       "    }\n",
       "</style>\n",
       "<table border=\"1\" class=\"dataframe\">\n",
       "  <thead>\n",
       "    <tr style=\"text-align: right;\">\n",
       "      <th></th>\n",
       "      <th>Close</th>\n",
       "      <th>Volume</th>\n",
       "    </tr>\n",
       "    <tr>\n",
       "      <th>Date</th>\n",
       "      <th></th>\n",
       "      <th></th>\n",
       "    </tr>\n",
       "  </thead>\n",
       "  <tbody>\n",
       "    <tr>\n",
       "      <th>2017-08-17 04:00:00</th>\n",
       "      <td>4308.83</td>\n",
       "      <td>47.181009</td>\n",
       "    </tr>\n",
       "    <tr>\n",
       "      <th>2017-08-17 05:00:00</th>\n",
       "      <td>4315.32</td>\n",
       "      <td>23.234916</td>\n",
       "    </tr>\n",
       "    <tr>\n",
       "      <th>2017-08-17 06:00:00</th>\n",
       "      <td>4324.35</td>\n",
       "      <td>7.229691</td>\n",
       "    </tr>\n",
       "    <tr>\n",
       "      <th>2017-08-17 07:00:00</th>\n",
       "      <td>4349.99</td>\n",
       "      <td>4.443249</td>\n",
       "    </tr>\n",
       "    <tr>\n",
       "      <th>2017-08-17 08:00:00</th>\n",
       "      <td>4360.69</td>\n",
       "      <td>0.972807</td>\n",
       "    </tr>\n",
       "    <tr>\n",
       "      <th>...</th>\n",
       "      <td>...</td>\n",
       "      <td>...</td>\n",
       "    </tr>\n",
       "    <tr>\n",
       "      <th>2021-10-07 05:00:00</th>\n",
       "      <td>54735.76</td>\n",
       "      <td>2251.122020</td>\n",
       "    </tr>\n",
       "    <tr>\n",
       "      <th>2021-10-07 06:00:00</th>\n",
       "      <td>54534.16</td>\n",
       "      <td>1783.004260</td>\n",
       "    </tr>\n",
       "    <tr>\n",
       "      <th>2021-10-07 07:00:00</th>\n",
       "      <td>54755.92</td>\n",
       "      <td>4163.431360</td>\n",
       "    </tr>\n",
       "    <tr>\n",
       "      <th>2021-10-07 08:00:00</th>\n",
       "      <td>54538.30</td>\n",
       "      <td>2049.382180</td>\n",
       "    </tr>\n",
       "    <tr>\n",
       "      <th>2021-10-07 09:00:00</th>\n",
       "      <td>53995.50</td>\n",
       "      <td>2739.153610</td>\n",
       "    </tr>\n",
       "  </tbody>\n",
       "</table>\n",
       "<p>36168 rows × 2 columns</p>\n",
       "</div>"
      ],
      "text/plain": [
       "                        Close       Volume\n",
       "Date                                      \n",
       "2017-08-17 04:00:00   4308.83    47.181009\n",
       "2017-08-17 05:00:00   4315.32    23.234916\n",
       "2017-08-17 06:00:00   4324.35     7.229691\n",
       "2017-08-17 07:00:00   4349.99     4.443249\n",
       "2017-08-17 08:00:00   4360.69     0.972807\n",
       "...                       ...          ...\n",
       "2021-10-07 05:00:00  54735.76  2251.122020\n",
       "2021-10-07 06:00:00  54534.16  1783.004260\n",
       "2021-10-07 07:00:00  54755.92  4163.431360\n",
       "2021-10-07 08:00:00  54538.30  2049.382180\n",
       "2021-10-07 09:00:00  53995.50  2739.153610\n",
       "\n",
       "[36168 rows x 2 columns]"
      ]
     },
     "execution_count": 6,
     "metadata": {},
     "output_type": "execute_result"
    }
   ],
   "source": [
    "data"
   ]
  },
  {
   "cell_type": "code",
   "execution_count": null,
   "metadata": {},
   "outputs": [],
   "source": []
  },
  {
   "cell_type": "markdown",
   "metadata": {},
   "source": [
    "## Financial Data Analysis / Visual Inspection"
   ]
  },
  {
   "cell_type": "code",
   "execution_count": null,
   "metadata": {},
   "outputs": [],
   "source": [
    "data"
   ]
  },
  {
   "cell_type": "code",
   "execution_count": 7,
   "metadata": {},
   "outputs": [
    {
     "data": {
      "image/png": "[encoded data removed]",
      "text/plain": [
       "<Figure size 864x576 with 1 Axes>"
      ]
     },
     "metadata": {},
     "output_type": "display_data"
    }
   ],
   "source": [
    "data.Close.plot(figsize = (12, 8), title = \"BTC/USDT\", fontsize = 12)\n",
    "plt.show()"
   ]
  },
  {
   "cell_type": "code",
   "execution_count": 8,
   "metadata": {},
   "outputs": [
    {
     "data": {
      "image/png": "[encoded data removed]",
      "text/plain": [
       "<Figure size 864x576 with 1 Axes>"
      ]
     },
     "metadata": {},
     "output_type": "display_data"
    }
   ],
   "source": [
    "data.Close.loc[\"2019-06\"].plot(figsize = (12, 8), title = \"BTC/USDT\", fontsize = 12)\n",
    "plt.show()"
   ]
  },
  {
   "cell_type": "code",
   "execution_count": 9,
   "metadata": {},
   "outputs": [
    {
     "data": {
      "image/png": "[encoded data removed]",
      "text/plain": [
       "<Figure size 864x576 with 1 Axes>"
      ]
     },
     "metadata": {},
     "output_type": "display_data"
    }
   ],
   "source": [
    "data.Volume.plot(figsize = (12, 8), title = \"BTC/USDT\", fontsize = 12)\n",
    "plt.show()"
   ]
  },
  {
   "cell_type": "code",
   "execution_count": 10,
   "metadata": {},
   "outputs": [
    {
     "data": {
      "image/png": "[encoded data removed]",
      "text/plain": [
       "<Figure size 864x576 with 1 Axes>"
      ]
     },
     "metadata": {},
     "output_type": "display_data"
    }
   ],
   "source": [
    "data.Volume.loc[\"2019-06-05\"].plot(figsize = (12, 8), title = \"BTC/USDT\", fontsize = 12)\n",
    "plt.show()"
   ]
  },
  {
   "cell_type": "code",
   "execution_count": 11,
   "metadata": {},
   "outputs": [],
   "source": [
    "data[\"returns\"] = np.log(data.Close.div(data.Close.shift(1)))"
   ]
  },
  {
   "cell_type": "code",
   "execution_count": 12,
   "metadata": {},
   "outputs": [
    {
     "data": {
      "text/html": [
       "<div>\n",
       "<style scoped>\n",
       "    .dataframe tbody tr th:only-of-type {\n",
       "        vertical-align: middle;\n",
       "    }\n",
       "\n",
       "    .dataframe tbody tr th {\n",
       "        vertical-align: top;\n",
       "    }\n",
       "\n",
       "    .dataframe thead th {\n",
       "        text-align: right;\n",
       "    }\n",
       "</style>\n",
       "<table border=\"1\" class=\"dataframe\">\n",
       "  <thead>\n",
       "    <tr style=\"text-align: right;\">\n",
       "      <th></th>\n",
       "      <th>Close</th>\n",
       "      <th>Volume</th>\n",
       "      <th>returns</th>\n",
       "    </tr>\n",
       "  </thead>\n",
       "  <tbody>\n",
       "    <tr>\n",
       "      <th>count</th>\n",
       "      <td>36168.000000</td>\n",
       "      <td>36168.000000</td>\n",
       "      <td>36167.000000</td>\n",
       "    </tr>\n",
       "    <tr>\n",
       "      <th>mean</th>\n",
       "      <td>15211.287479</td>\n",
       "      <td>2121.344201</td>\n",
       "      <td>0.000070</td>\n",
       "    </tr>\n",
       "    <tr>\n",
       "      <th>std</th>\n",
       "      <td>14918.059912</td>\n",
       "      <td>2211.660869</td>\n",
       "      <td>0.009669</td>\n",
       "    </tr>\n",
       "    <tr>\n",
       "      <th>min</th>\n",
       "      <td>2919.000000</td>\n",
       "      <td>0.000000</td>\n",
       "      <td>-0.201033</td>\n",
       "    </tr>\n",
       "    <tr>\n",
       "      <th>25%</th>\n",
       "      <td>6619.987500</td>\n",
       "      <td>910.157520</td>\n",
       "      <td>-0.002955</td>\n",
       "    </tr>\n",
       "    <tr>\n",
       "      <th>50%</th>\n",
       "      <td>9110.620000</td>\n",
       "      <td>1551.676864</td>\n",
       "      <td>0.000139</td>\n",
       "    </tr>\n",
       "    <tr>\n",
       "      <th>75%</th>\n",
       "      <td>13411.242500</td>\n",
       "      <td>2603.584828</td>\n",
       "      <td>0.003258</td>\n",
       "    </tr>\n",
       "    <tr>\n",
       "      <th>max</th>\n",
       "      <td>64577.260000</td>\n",
       "      <td>47255.762685</td>\n",
       "      <td>0.160280</td>\n",
       "    </tr>\n",
       "  </tbody>\n",
       "</table>\n",
       "</div>"
      ],
      "text/plain": [
       "              Close        Volume       returns\n",
       "count  36168.000000  36168.000000  36167.000000\n",
       "mean   15211.287479   2121.344201      0.000070\n",
       "std    14918.059912   2211.660869      0.009669\n",
       "min     2919.000000      0.000000     -0.201033\n",
       "25%     6619.987500    910.157520     -0.002955\n",
       "50%     9110.620000   1551.676864      0.000139\n",
       "75%    13411.242500   2603.584828      0.003258\n",
       "max    64577.260000  47255.762685      0.160280"
      ]
     },
     "execution_count": 12,
     "metadata": {},
     "output_type": "execute_result"
    }
   ],
   "source": [
    "data.describe()"
   ]
  },
  {
   "cell_type": "code",
   "execution_count": 13,
   "metadata": {},
   "outputs": [
    {
     "data": {
      "image/png": "[encoded data removed]",
      "text/plain": [
       "<Figure size 864x576 with 1 Axes>"
      ]
     },
     "metadata": {},
     "output_type": "display_data"
    }
   ],
   "source": [
    "data.returns.plot(kind = \"hist\", bins = 100, figsize = (12,8))\n",
    "plt.show()"
   ]
  },
  {
   "cell_type": "code",
   "execution_count": null,
   "metadata": {},
   "outputs": [],
   "source": [
    "data.returns.nlargest(10)"
   ]
  },
  {
   "cell_type": "code",
   "execution_count": null,
   "metadata": {},
   "outputs": [],
   "source": [
    "data.returns.nsmallest(10)"
   ]
  },
  {
   "cell_type": "code",
   "execution_count": null,
   "metadata": {},
   "outputs": [],
   "source": []
  },
  {
   "cell_type": "markdown",
   "metadata": {},
   "source": [
    "## A simple Buy and Hold \"Strategy\""
   ]
  },
  {
   "cell_type": "markdown",
   "metadata": {},
   "source": [
    "Assumption: Invest 1 USD(T) in BTC on 2017-08-17 and hold until 2021-10-07 (no further trades)."
   ]
  },
  {
   "cell_type": "code",
   "execution_count": 14,
   "metadata": {},
   "outputs": [
    {
     "data": {
      "text/html": [
       "<div>\n",
       "<style scoped>\n",
       "    .dataframe tbody tr th:only-of-type {\n",
       "        vertical-align: middle;\n",
       "    }\n",
       "\n",
       "    .dataframe tbody tr th {\n",
       "        vertical-align: top;\n",
       "    }\n",
       "\n",
       "    .dataframe thead th {\n",
       "        text-align: right;\n",
       "    }\n",
       "</style>\n",
       "<table border=\"1\" class=\"dataframe\">\n",
       "  <thead>\n",
       "    <tr style=\"text-align: right;\">\n",
       "      <th></th>\n",
       "      <th>Close</th>\n",
       "      <th>Volume</th>\n",
       "      <th>returns</th>\n",
       "    </tr>\n",
       "    <tr>\n",
       "      <th>Date</th>\n",
       "      <th></th>\n",
       "      <th></th>\n",
       "      <th></th>\n",
       "    </tr>\n",
       "  </thead>\n",
       "  <tbody>\n",
       "    <tr>\n",
       "      <th>2017-08-17 04:00:00</th>\n",
       "      <td>4308.83</td>\n",
       "      <td>47.181009</td>\n",
       "      <td>NaN</td>\n",
       "    </tr>\n",
       "    <tr>\n",
       "      <th>2017-08-17 05:00:00</th>\n",
       "      <td>4315.32</td>\n",
       "      <td>23.234916</td>\n",
       "      <td>0.001505</td>\n",
       "    </tr>\n",
       "    <tr>\n",
       "      <th>2017-08-17 06:00:00</th>\n",
       "      <td>4324.35</td>\n",
       "      <td>7.229691</td>\n",
       "      <td>0.002090</td>\n",
       "    </tr>\n",
       "    <tr>\n",
       "      <th>2017-08-17 07:00:00</th>\n",
       "      <td>4349.99</td>\n",
       "      <td>4.443249</td>\n",
       "      <td>0.005912</td>\n",
       "    </tr>\n",
       "    <tr>\n",
       "      <th>2017-08-17 08:00:00</th>\n",
       "      <td>4360.69</td>\n",
       "      <td>0.972807</td>\n",
       "      <td>0.002457</td>\n",
       "    </tr>\n",
       "    <tr>\n",
       "      <th>...</th>\n",
       "      <td>...</td>\n",
       "      <td>...</td>\n",
       "      <td>...</td>\n",
       "    </tr>\n",
       "    <tr>\n",
       "      <th>2021-10-07 05:00:00</th>\n",
       "      <td>54735.76</td>\n",
       "      <td>2251.122020</td>\n",
       "      <td>-0.006146</td>\n",
       "    </tr>\n",
       "    <tr>\n",
       "      <th>2021-10-07 06:00:00</th>\n",
       "      <td>54534.16</td>\n",
       "      <td>1783.004260</td>\n",
       "      <td>-0.003690</td>\n",
       "    </tr>\n",
       "    <tr>\n",
       "      <th>2021-10-07 07:00:00</th>\n",
       "      <td>54755.92</td>\n",
       "      <td>4163.431360</td>\n",
       "      <td>0.004058</td>\n",
       "    </tr>\n",
       "    <tr>\n",
       "      <th>2021-10-07 08:00:00</th>\n",
       "      <td>54538.30</td>\n",
       "      <td>2049.382180</td>\n",
       "      <td>-0.003982</td>\n",
       "    </tr>\n",
       "    <tr>\n",
       "      <th>2021-10-07 09:00:00</th>\n",
       "      <td>53995.50</td>\n",
       "      <td>2739.153610</td>\n",
       "      <td>-0.010002</td>\n",
       "    </tr>\n",
       "  </tbody>\n",
       "</table>\n",
       "<p>36168 rows × 3 columns</p>\n",
       "</div>"
      ],
      "text/plain": [
       "                        Close       Volume   returns\n",
       "Date                                                \n",
       "2017-08-17 04:00:00   4308.83    47.181009       NaN\n",
       "2017-08-17 05:00:00   4315.32    23.234916  0.001505\n",
       "2017-08-17 06:00:00   4324.35     7.229691  0.002090\n",
       "2017-08-17 07:00:00   4349.99     4.443249  0.005912\n",
       "2017-08-17 08:00:00   4360.69     0.972807  0.002457\n",
       "...                       ...          ...       ...\n",
       "2021-10-07 05:00:00  54735.76  2251.122020 -0.006146\n",
       "2021-10-07 06:00:00  54534.16  1783.004260 -0.003690\n",
       "2021-10-07 07:00:00  54755.92  4163.431360  0.004058\n",
       "2021-10-07 08:00:00  54538.30  2049.382180 -0.003982\n",
       "2021-10-07 09:00:00  53995.50  2739.153610 -0.010002\n",
       "\n",
       "[36168 rows x 3 columns]"
      ]
     },
     "execution_count": 14,
     "metadata": {},
     "output_type": "execute_result"
    }
   ],
   "source": [
    "data"
   ]
  },
  {
   "cell_type": "code",
   "execution_count": 15,
   "metadata": {},
   "outputs": [
    {
     "data": {
      "text/plain": [
       "Date\n",
       "2017-08-17 04:00:00     1.000000\n",
       "2017-08-17 05:00:00     1.001506\n",
       "2017-08-17 06:00:00     1.003602\n",
       "2017-08-17 07:00:00     1.009552\n",
       "2017-08-17 08:00:00     1.012036\n",
       "                         ...    \n",
       "2021-10-07 05:00:00    12.703161\n",
       "2021-10-07 06:00:00    12.656373\n",
       "2021-10-07 07:00:00    12.707839\n",
       "2021-10-07 08:00:00    12.657334\n",
       "2021-10-07 09:00:00    12.531360\n",
       "Name: Close, Length: 36168, dtype: float64"
      ]
     },
     "execution_count": 15,
     "metadata": {},
     "output_type": "execute_result"
    }
   ],
   "source": [
    "data.Close / data.Close[0]"
   ]
  },
  {
   "cell_type": "code",
   "execution_count": 16,
   "metadata": {},
   "outputs": [
    {
     "data": {
      "text/plain": [
       "2.528234304212195"
      ]
     },
     "execution_count": 16,
     "metadata": {},
     "output_type": "execute_result"
    }
   ],
   "source": [
    "data.returns.sum()"
   ]
  },
  {
   "cell_type": "code",
   "execution_count": 27,
   "metadata": {},
   "outputs": [
    {
     "data": {
      "text/plain": [
       "12.531360021165671"
      ]
     },
     "execution_count": 27,
     "metadata": {},
     "output_type": "execute_result"
    }
   ],
   "source": [
    "multiple = np.exp(data.returns.sum())\n",
    "multiple"
   ]
  },
  {
   "cell_type": "code",
   "execution_count": 18,
   "metadata": {},
   "outputs": [],
   "source": [
    "data[\"creturns\"] = data.returns.cumsum().apply(np.exp) # Normalized Prices with Base Value 1"
   ]
  },
  {
   "cell_type": "code",
   "execution_count": 19,
   "metadata": {},
   "outputs": [
    {
     "data": {
      "text/html": [
       "<div>\n",
       "<style scoped>\n",
       "    .dataframe tbody tr th:only-of-type {\n",
       "        vertical-align: middle;\n",
       "    }\n",
       "\n",
       "    .dataframe tbody tr th {\n",
       "        vertical-align: top;\n",
       "    }\n",
       "\n",
       "    .dataframe thead th {\n",
       "        text-align: right;\n",
       "    }\n",
       "</style>\n",
       "<table border=\"1\" class=\"dataframe\">\n",
       "  <thead>\n",
       "    <tr style=\"text-align: right;\">\n",
       "      <th></th>\n",
       "      <th>Close</th>\n",
       "      <th>Volume</th>\n",
       "      <th>returns</th>\n",
       "      <th>creturns</th>\n",
       "    </tr>\n",
       "    <tr>\n",
       "      <th>Date</th>\n",
       "      <th></th>\n",
       "      <th></th>\n",
       "      <th></th>\n",
       "      <th></th>\n",
       "    </tr>\n",
       "  </thead>\n",
       "  <tbody>\n",
       "    <tr>\n",
       "      <th>2017-08-17 04:00:00</th>\n",
       "      <td>4308.83</td>\n",
       "      <td>47.181009</td>\n",
       "      <td>NaN</td>\n",
       "      <td>NaN</td>\n",
       "    </tr>\n",
       "    <tr>\n",
       "      <th>2017-08-17 05:00:00</th>\n",
       "      <td>4315.32</td>\n",
       "      <td>23.234916</td>\n",
       "      <td>0.001505</td>\n",
       "      <td>1.001506</td>\n",
       "    </tr>\n",
       "    <tr>\n",
       "      <th>2017-08-17 06:00:00</th>\n",
       "      <td>4324.35</td>\n",
       "      <td>7.229691</td>\n",
       "      <td>0.002090</td>\n",
       "      <td>1.003602</td>\n",
       "    </tr>\n",
       "    <tr>\n",
       "      <th>2017-08-17 07:00:00</th>\n",
       "      <td>4349.99</td>\n",
       "      <td>4.443249</td>\n",
       "      <td>0.005912</td>\n",
       "      <td>1.009552</td>\n",
       "    </tr>\n",
       "    <tr>\n",
       "      <th>2017-08-17 08:00:00</th>\n",
       "      <td>4360.69</td>\n",
       "      <td>0.972807</td>\n",
       "      <td>0.002457</td>\n",
       "      <td>1.012036</td>\n",
       "    </tr>\n",
       "    <tr>\n",
       "      <th>...</th>\n",
       "      <td>...</td>\n",
       "      <td>...</td>\n",
       "      <td>...</td>\n",
       "      <td>...</td>\n",
       "    </tr>\n",
       "    <tr>\n",
       "      <th>2021-10-07 05:00:00</th>\n",
       "      <td>54735.76</td>\n",
       "      <td>2251.122020</td>\n",
       "      <td>-0.006146</td>\n",
       "      <td>12.703161</td>\n",
       "    </tr>\n",
       "    <tr>\n",
       "      <th>2021-10-07 06:00:00</th>\n",
       "      <td>54534.16</td>\n",
       "      <td>1783.004260</td>\n",
       "      <td>-0.003690</td>\n",
       "      <td>12.656373</td>\n",
       "    </tr>\n",
       "    <tr>\n",
       "      <th>2021-10-07 07:00:00</th>\n",
       "      <td>54755.92</td>\n",
       "      <td>4163.431360</td>\n",
       "      <td>0.004058</td>\n",
       "      <td>12.707839</td>\n",
       "    </tr>\n",
       "    <tr>\n",
       "      <th>2021-10-07 08:00:00</th>\n",
       "      <td>54538.30</td>\n",
       "      <td>2049.382180</td>\n",
       "      <td>-0.003982</td>\n",
       "      <td>12.657334</td>\n",
       "    </tr>\n",
       "    <tr>\n",
       "      <th>2021-10-07 09:00:00</th>\n",
       "      <td>53995.50</td>\n",
       "      <td>2739.153610</td>\n",
       "      <td>-0.010002</td>\n",
       "      <td>12.531360</td>\n",
       "    </tr>\n",
       "  </tbody>\n",
       "</table>\n",
       "<p>36168 rows × 4 columns</p>\n",
       "</div>"
      ],
      "text/plain": [
       "                        Close       Volume   returns   creturns\n",
       "Date                                                           \n",
       "2017-08-17 04:00:00   4308.83    47.181009       NaN        NaN\n",
       "2017-08-17 05:00:00   4315.32    23.234916  0.001505   1.001506\n",
       "2017-08-17 06:00:00   4324.35     7.229691  0.002090   1.003602\n",
       "2017-08-17 07:00:00   4349.99     4.443249  0.005912   1.009552\n",
       "2017-08-17 08:00:00   4360.69     0.972807  0.002457   1.012036\n",
       "...                       ...          ...       ...        ...\n",
       "2021-10-07 05:00:00  54735.76  2251.122020 -0.006146  12.703161\n",
       "2021-10-07 06:00:00  54534.16  1783.004260 -0.003690  12.656373\n",
       "2021-10-07 07:00:00  54755.92  4163.431360  0.004058  12.707839\n",
       "2021-10-07 08:00:00  54538.30  2049.382180 -0.003982  12.657334\n",
       "2021-10-07 09:00:00  53995.50  2739.153610 -0.010002  12.531360\n",
       "\n",
       "[36168 rows x 4 columns]"
      ]
     },
     "execution_count": 19,
     "metadata": {},
     "output_type": "execute_result"
    }
   ],
   "source": [
    "data"
   ]
  },
  {
   "cell_type": "code",
   "execution_count": 20,
   "metadata": {},
   "outputs": [
    {
     "data": {
      "image/png": "[encoded data removed]",
      "text/plain": [
       "<Figure size 864x576 with 1 Axes>"
      ]
     },
     "metadata": {},
     "output_type": "display_data"
    }
   ],
   "source": [
    "data.creturns.plot(figsize = (12, 8), title = \"BTC/USDT - Buy and Hold\", fontsize = 12)\n",
    "plt.show()"
   ]
  },
  {
   "cell_type": "code",
   "execution_count": null,
   "metadata": {},
   "outputs": [],
   "source": []
  },
  {
   "cell_type": "markdown",
   "metadata": {},
   "source": [
    "## Performance Measurement"
   ]
  },
  {
   "cell_type": "code",
   "execution_count": null,
   "metadata": {},
   "outputs": [],
   "source": [
    "data"
   ]
  },
  {
   "cell_type": "markdown",
   "metadata": {},
   "source": [
    "__mean return and risk__"
   ]
  },
  {
   "cell_type": "code",
   "execution_count": 28,
   "metadata": {},
   "outputs": [
    {
     "data": {
      "text/plain": [
       "6.990445168833971e-05"
      ]
     },
     "execution_count": 28,
     "metadata": {},
     "output_type": "execute_result"
    }
   ],
   "source": [
    "mu = data.returns.mean()\n",
    "mu"
   ]
  },
  {
   "cell_type": "code",
   "execution_count": 29,
   "metadata": {},
   "outputs": [
    {
     "data": {
      "text/plain": [
       "0.009669001511177732"
      ]
     },
     "execution_count": 29,
     "metadata": {},
     "output_type": "execute_result"
    }
   ],
   "source": [
    "std = data.returns.std()\n",
    "std"
   ]
  },
  {
   "cell_type": "markdown",
   "metadata": {},
   "source": [
    "__annualized mean return and risk__"
   ]
  },
  {
   "cell_type": "code",
   "execution_count": 30,
   "metadata": {},
   "outputs": [
    {
     "data": {
      "text/plain": [
       "8766.0"
      ]
     },
     "execution_count": 30,
     "metadata": {},
     "output_type": "execute_result"
    }
   ],
   "source": [
    "number_of_periods = 24 * 365.25\n",
    "number_of_periods"
   ]
  },
  {
   "cell_type": "code",
   "execution_count": 31,
   "metadata": {},
   "outputs": [
    {
     "data": {
      "text/plain": [
       "0.6127824234999859"
      ]
     },
     "execution_count": 31,
     "metadata": {},
     "output_type": "execute_result"
    }
   ],
   "source": [
    "ann_mean = mu * number_of_periods\n",
    "ann_mean"
   ]
  },
  {
   "cell_type": "code",
   "execution_count": 32,
   "metadata": {},
   "outputs": [
    {
     "data": {
      "text/plain": [
       "0.9052788232893756"
      ]
     },
     "execution_count": 32,
     "metadata": {},
     "output_type": "execute_result"
    }
   ],
   "source": [
    "ann_std = std * np.sqrt(number_of_periods)\n",
    "ann_std"
   ]
  },
  {
   "cell_type": "markdown",
   "metadata": {},
   "source": [
    "__CAGR__"
   ]
  },
  {
   "cell_type": "code",
   "execution_count": 33,
   "metadata": {},
   "outputs": [
    {
     "data": {
      "text/plain": [
       "0.8455593891678417"
      ]
     },
     "execution_count": 33,
     "metadata": {},
     "output_type": "execute_result"
    }
   ],
   "source": [
    "cagr = np.exp(ann_mean) - 1\n",
    "cagr"
   ]
  },
  {
   "cell_type": "markdown",
   "metadata": {},
   "source": [
    "__Risk-adjusted Return__ (\"Sharpe Ratio\")"
   ]
  },
  {
   "cell_type": "code",
   "execution_count": 34,
   "metadata": {},
   "outputs": [
    {
     "data": {
      "text/plain": [
       "0.6768991030557973"
      ]
     },
     "execution_count": 34,
     "metadata": {},
     "output_type": "execute_result"
    }
   ],
   "source": [
    "ann_mean / ann_std"
   ]
  },
  {
   "cell_type": "code",
   "execution_count": 35,
   "metadata": {},
   "outputs": [
    {
     "data": {
      "text/plain": [
       "0.9340319992192677"
      ]
     },
     "execution_count": 35,
     "metadata": {},
     "output_type": "execute_result"
    }
   ],
   "source": [
    "cagr / ann_std"
   ]
  },
  {
   "cell_type": "code",
   "execution_count": null,
   "metadata": {},
   "outputs": [],
   "source": []
  },
  {
   "cell_type": "markdown",
   "metadata": {},
   "source": [
    "## Preparing the Data for the Trading Strategy"
   ]
  },
  {
   "cell_type": "code",
   "execution_count": null,
   "metadata": {},
   "outputs": [],
   "source": [
    "data"
   ]
  },
  {
   "cell_type": "markdown",
   "metadata": {},
   "source": [
    "__Adding the Feature \"Change in Trading Volume (log)\"__"
   ]
  },
  {
   "cell_type": "code",
   "execution_count": 21,
   "metadata": {},
   "outputs": [
    {
     "name": "stderr",
     "output_type": "stream",
     "text": [
      "/Users/manaadvice/opt/anaconda3/envs/binance_trading/lib/python3.8/site-packages/pandas/core/arraylike.py:397: RuntimeWarning: divide by zero encountered in log\n",
      "  result = getattr(ufunc, method)(*inputs, **kwargs)\n"
     ]
    },
    {
     "data": {
      "text/html": [
       "<div>\n",
       "<style scoped>\n",
       "    .dataframe tbody tr th:only-of-type {\n",
       "        vertical-align: middle;\n",
       "    }\n",
       "\n",
       "    .dataframe tbody tr th {\n",
       "        vertical-align: top;\n",
       "    }\n",
       "\n",
       "    .dataframe thead th {\n",
       "        text-align: right;\n",
       "    }\n",
       "</style>\n",
       "<table border=\"1\" class=\"dataframe\">\n",
       "  <thead>\n",
       "    <tr style=\"text-align: right;\">\n",
       "      <th></th>\n",
       "      <th>Close</th>\n",
       "      <th>Volume</th>\n",
       "      <th>returns</th>\n",
       "      <th>creturns</th>\n",
       "      <th>vol_ch</th>\n",
       "    </tr>\n",
       "    <tr>\n",
       "      <th>Date</th>\n",
       "      <th></th>\n",
       "      <th></th>\n",
       "      <th></th>\n",
       "      <th></th>\n",
       "      <th></th>\n",
       "    </tr>\n",
       "  </thead>\n",
       "  <tbody>\n",
       "    <tr>\n",
       "      <th>2017-08-17 04:00:00</th>\n",
       "      <td>4308.83</td>\n",
       "      <td>47.181009</td>\n",
       "      <td>NaN</td>\n",
       "      <td>NaN</td>\n",
       "      <td>NaN</td>\n",
       "    </tr>\n",
       "    <tr>\n",
       "      <th>2017-08-17 05:00:00</th>\n",
       "      <td>4315.32</td>\n",
       "      <td>23.234916</td>\n",
       "      <td>0.001505</td>\n",
       "      <td>1.001506</td>\n",
       "      <td>-0.708335</td>\n",
       "    </tr>\n",
       "    <tr>\n",
       "      <th>2017-08-17 06:00:00</th>\n",
       "      <td>4324.35</td>\n",
       "      <td>7.229691</td>\n",
       "      <td>0.002090</td>\n",
       "      <td>1.003602</td>\n",
       "      <td>-1.167460</td>\n",
       "    </tr>\n",
       "    <tr>\n",
       "      <th>2017-08-17 07:00:00</th>\n",
       "      <td>4349.99</td>\n",
       "      <td>4.443249</td>\n",
       "      <td>0.005912</td>\n",
       "      <td>1.009552</td>\n",
       "      <td>-0.486810</td>\n",
       "    </tr>\n",
       "    <tr>\n",
       "      <th>2017-08-17 08:00:00</th>\n",
       "      <td>4360.69</td>\n",
       "      <td>0.972807</td>\n",
       "      <td>0.002457</td>\n",
       "      <td>1.012036</td>\n",
       "      <td>-1.518955</td>\n",
       "    </tr>\n",
       "    <tr>\n",
       "      <th>...</th>\n",
       "      <td>...</td>\n",
       "      <td>...</td>\n",
       "      <td>...</td>\n",
       "      <td>...</td>\n",
       "      <td>...</td>\n",
       "    </tr>\n",
       "    <tr>\n",
       "      <th>2021-10-07 05:00:00</th>\n",
       "      <td>54735.76</td>\n",
       "      <td>2251.122020</td>\n",
       "      <td>-0.006146</td>\n",
       "      <td>12.703161</td>\n",
       "      <td>0.439863</td>\n",
       "    </tr>\n",
       "    <tr>\n",
       "      <th>2021-10-07 06:00:00</th>\n",
       "      <td>54534.16</td>\n",
       "      <td>1783.004260</td>\n",
       "      <td>-0.003690</td>\n",
       "      <td>12.656373</td>\n",
       "      <td>-0.233129</td>\n",
       "    </tr>\n",
       "    <tr>\n",
       "      <th>2021-10-07 07:00:00</th>\n",
       "      <td>54755.92</td>\n",
       "      <td>4163.431360</td>\n",
       "      <td>0.004058</td>\n",
       "      <td>12.707839</td>\n",
       "      <td>0.848040</td>\n",
       "    </tr>\n",
       "    <tr>\n",
       "      <th>2021-10-07 08:00:00</th>\n",
       "      <td>54538.30</td>\n",
       "      <td>2049.382180</td>\n",
       "      <td>-0.003982</td>\n",
       "      <td>12.657334</td>\n",
       "      <td>-0.708801</td>\n",
       "    </tr>\n",
       "    <tr>\n",
       "      <th>2021-10-07 09:00:00</th>\n",
       "      <td>53995.50</td>\n",
       "      <td>2739.153610</td>\n",
       "      <td>-0.010002</td>\n",
       "      <td>12.531360</td>\n",
       "      <td>0.290111</td>\n",
       "    </tr>\n",
       "  </tbody>\n",
       "</table>\n",
       "<p>36168 rows × 5 columns</p>\n",
       "</div>"
      ],
      "text/plain": [
       "                        Close       Volume   returns   creturns    vol_ch\n",
       "Date                                                                     \n",
       "2017-08-17 04:00:00   4308.83    47.181009       NaN        NaN       NaN\n",
       "2017-08-17 05:00:00   4315.32    23.234916  0.001505   1.001506 -0.708335\n",
       "2017-08-17 06:00:00   4324.35     7.229691  0.002090   1.003602 -1.167460\n",
       "2017-08-17 07:00:00   4349.99     4.443249  0.005912   1.009552 -0.486810\n",
       "2017-08-17 08:00:00   4360.69     0.972807  0.002457   1.012036 -1.518955\n",
       "...                       ...          ...       ...        ...       ...\n",
       "2021-10-07 05:00:00  54735.76  2251.122020 -0.006146  12.703161  0.439863\n",
       "2021-10-07 06:00:00  54534.16  1783.004260 -0.003690  12.656373 -0.233129\n",
       "2021-10-07 07:00:00  54755.92  4163.431360  0.004058  12.707839  0.848040\n",
       "2021-10-07 08:00:00  54538.30  2049.382180 -0.003982  12.657334 -0.708801\n",
       "2021-10-07 09:00:00  53995.50  2739.153610 -0.010002  12.531360  0.290111\n",
       "\n",
       "[36168 rows x 5 columns]"
      ]
     },
     "execution_count": 21,
     "metadata": {},
     "output_type": "execute_result"
    }
   ],
   "source": [
    "data[\"vol_ch\"] = np.log(data.Volume.div(data.Volume.shift(1)))\n",
    "data"
   ]
  },
  {
   "cell_type": "markdown",
   "metadata": {},
   "source": [
    "__Data Cleaning (removing outliers)__"
   ]
  },
  {
   "cell_type": "code",
   "execution_count": 22,
   "metadata": {},
   "outputs": [
    {
     "data": {
      "text/plain": [
       "Date\n",
       "2019-06-07 21:00:00        -inf\n",
       "2020-12-21 14:00:00        -inf\n",
       "2021-02-11 03:00:00        -inf\n",
       "2021-04-25 04:00:00   -5.644090\n",
       "2018-01-04 03:00:00   -5.428025\n",
       "2019-06-07 20:00:00   -4.780619\n",
       "2017-08-19 23:00:00   -3.801014\n",
       "2017-08-20 09:00:00   -3.782857\n",
       "2017-08-26 04:00:00   -3.470297\n",
       "2017-12-04 06:00:00   -3.178488\n",
       "2017-09-24 21:00:00   -2.749294\n",
       "2017-08-21 09:00:00   -2.643555\n",
       "2017-08-19 19:00:00   -2.357538\n",
       "2020-06-09 01:00:00   -2.157645\n",
       "2017-08-20 03:00:00   -2.106886\n",
       "2018-10-06 03:00:00   -2.072737\n",
       "2017-09-12 20:00:00   -1.948525\n",
       "2019-10-13 21:00:00   -1.905406\n",
       "2017-10-07 04:00:00   -1.901772\n",
       "2020-03-04 09:00:00   -1.841755\n",
       "Name: vol_ch, dtype: float64"
      ]
     },
     "execution_count": 22,
     "metadata": {},
     "output_type": "execute_result"
    }
   ],
   "source": [
    "data.vol_ch.nsmallest(20)"
   ]
  },
  {
   "cell_type": "code",
   "execution_count": 23,
   "metadata": {},
   "outputs": [
    {
     "data": {
      "text/plain": [
       "Date\n",
       "2019-06-07 22:00:00         inf\n",
       "2020-12-21 18:00:00         inf\n",
       "2021-02-11 05:00:00         inf\n",
       "2018-01-04 05:00:00    5.256246\n",
       "2021-04-25 08:00:00    5.051831\n",
       "2017-08-20 00:00:00    3.794985\n",
       "2017-08-26 05:00:00    3.428566\n",
       "2017-08-20 11:00:00    2.904046\n",
       "2017-10-12 00:00:00    2.884007\n",
       "2017-12-04 07:00:00    2.851238\n",
       "2019-07-27 10:00:00    2.808519\n",
       "2017-08-20 15:00:00    2.779948\n",
       "2019-12-16 18:00:00    2.658757\n",
       "2017-08-20 05:00:00    2.585916\n",
       "2019-09-06 17:00:00    2.579215\n",
       "2018-04-12 11:00:00    2.562466\n",
       "2020-06-10 18:00:00    2.537417\n",
       "2018-10-15 05:00:00    2.525149\n",
       "2019-01-19 10:00:00    2.512394\n",
       "2019-07-28 22:00:00    2.490934\n",
       "Name: vol_ch, dtype: float64"
      ]
     },
     "execution_count": 23,
     "metadata": {},
     "output_type": "execute_result"
    }
   ],
   "source": [
    "data.vol_ch.nlargest(20)"
   ]
  },
  {
   "cell_type": "code",
   "execution_count": 24,
   "metadata": {},
   "outputs": [],
   "source": [
    "data.loc[data.vol_ch > 3, \"vol_ch\"] = np.nan\n",
    "data.loc[data.vol_ch < -3, \"vol_ch\"] = np.nan"
   ]
  },
  {
   "cell_type": "code",
   "execution_count": 36,
   "metadata": {},
   "outputs": [
    {
     "name": "stdout",
     "output_type": "stream",
     "text": [
      "<class 'pandas.core.frame.DataFrame'>\n",
      "DatetimeIndex: 36168 entries, 2017-08-17 04:00:00 to 2021-10-07 09:00:00\n",
      "Data columns (total 5 columns):\n",
      " #   Column    Non-Null Count  Dtype  \n",
      "---  ------    --------------  -----  \n",
      " 0   Close     36168 non-null  float64\n",
      " 1   Volume    36168 non-null  float64\n",
      " 2   returns   36167 non-null  float64\n",
      " 3   creturns  36167 non-null  float64\n",
      " 4   vol_ch    36150 non-null  float64\n",
      "dtypes: float64(5)\n",
      "memory usage: 2.7 MB\n"
     ]
    }
   ],
   "source": [
    "data.info()"
   ]
  },
  {
   "cell_type": "code",
   "execution_count": 26,
   "metadata": {},
   "outputs": [
    {
     "data": {
      "image/png": "[encoded data removed]",
      "text/plain": [
       "<Figure size 864x576 with 1 Axes>"
      ]
     },
     "metadata": {},
     "output_type": "display_data"
    }
   ],
   "source": [
    "data.vol_ch.plot(kind = \"hist\", bins = 100, figsize = (12,8))\n",
    "plt.show()"
   ]
  },
  {
   "cell_type": "code",
   "execution_count": null,
   "metadata": {},
   "outputs": [],
   "source": [
    "data"
   ]
  },
  {
   "cell_type": "code",
   "execution_count": null,
   "metadata": {},
   "outputs": [],
   "source": []
  },
  {
   "cell_type": "markdown",
   "metadata": {},
   "source": [
    "## Explanatory Data Analysis: Financial Returns and Trading Volume (1)"
   ]
  },
  {
   "cell_type": "markdown",
   "metadata": {},
   "source": [
    "__Question 1: Is there a relationship between price changes and volume changes?__ <br>\n",
    "(e.g. rapid Increase in Trading Volume triggers extreme Price changes) "
   ]
  },
  {
   "cell_type": "code",
   "execution_count": null,
   "metadata": {},
   "outputs": [],
   "source": [
    "data"
   ]
  },
  {
   "cell_type": "code",
   "execution_count": 38,
   "metadata": {},
   "outputs": [
    {
     "data": {
      "image/png": "[encoded data removed]",
      "text/plain": [
       "<Figure size 576x396 with 1 Axes>"
      ]
     },
     "metadata": {},
     "output_type": "display_data"
    }
   ],
   "source": [
    "plt.scatter(x = data.vol_ch, y = data.returns)\n",
    "plt.xlabel(\"Volume_Change\")\n",
    "plt.ylabel(\"Returns\")\n",
    "plt.show()"
   ]
  },
  {
   "cell_type": "markdown",
   "metadata": {},
   "source": [
    "__Discretize columns returns and vol_ch: Sort and reorganize each in 10 equal sized buckets__"
   ]
  },
  {
   "cell_type": "code",
   "execution_count": 39,
   "metadata": {},
   "outputs": [
    {
     "data": {
      "text/plain": [
       "Date\n",
       "2017-08-17 04:00:00                   NaN\n",
       "2017-08-17 05:00:00    (0.00119, 0.00245]\n",
       "2017-08-17 06:00:00    (0.00119, 0.00245]\n",
       "2017-08-17 07:00:00    (0.00437, 0.00823]\n",
       "2017-08-17 08:00:00    (0.00245, 0.00437]\n",
       "                              ...        \n",
       "2021-10-07 05:00:00    (-0.00781, -0.004]\n",
       "2021-10-07 06:00:00    (-0.004, -0.00216]\n",
       "2021-10-07 07:00:00    (0.00245, 0.00437]\n",
       "2021-10-07 08:00:00    (-0.004, -0.00216]\n",
       "2021-10-07 09:00:00    (-0.202, -0.00781]\n",
       "Name: returns, Length: 36168, dtype: category\n",
       "Categories (10, interval[float64, right]): [(-0.202, -0.00781] < (-0.00781, -0.004] < (-0.004, -0.00216] < (-0.00216, -0.000935] ... (0.00119, 0.00245] < (0.00245, 0.00437] < (0.00437, 0.00823] < (0.00823, 0.16]]"
      ]
     },
     "execution_count": 39,
     "metadata": {},
     "output_type": "execute_result"
    }
   ],
   "source": [
    "pd.qcut(data.returns, q = 10)"
   ]
  },
  {
   "cell_type": "code",
   "execution_count": 40,
   "metadata": {},
   "outputs": [],
   "source": [
    "data[\"ret_cat\"] = pd.qcut(data.returns, q = 10, labels = [-5, -4, -3, -2, -1, 1, 2, 3, 4, 5])"
   ]
  },
  {
   "cell_type": "code",
   "execution_count": 41,
   "metadata": {},
   "outputs": [
    {
     "data": {
      "text/html": [
       "<div>\n",
       "<style scoped>\n",
       "    .dataframe tbody tr th:only-of-type {\n",
       "        vertical-align: middle;\n",
       "    }\n",
       "\n",
       "    .dataframe tbody tr th {\n",
       "        vertical-align: top;\n",
       "    }\n",
       "\n",
       "    .dataframe thead th {\n",
       "        text-align: right;\n",
       "    }\n",
       "</style>\n",
       "<table border=\"1\" class=\"dataframe\">\n",
       "  <thead>\n",
       "    <tr style=\"text-align: right;\">\n",
       "      <th></th>\n",
       "      <th>Close</th>\n",
       "      <th>Volume</th>\n",
       "      <th>returns</th>\n",
       "      <th>creturns</th>\n",
       "      <th>vol_ch</th>\n",
       "      <th>ret_cat</th>\n",
       "    </tr>\n",
       "    <tr>\n",
       "      <th>Date</th>\n",
       "      <th></th>\n",
       "      <th></th>\n",
       "      <th></th>\n",
       "      <th></th>\n",
       "      <th></th>\n",
       "      <th></th>\n",
       "    </tr>\n",
       "  </thead>\n",
       "  <tbody>\n",
       "    <tr>\n",
       "      <th>2017-08-17 04:00:00</th>\n",
       "      <td>4308.83</td>\n",
       "      <td>47.181009</td>\n",
       "      <td>NaN</td>\n",
       "      <td>NaN</td>\n",
       "      <td>NaN</td>\n",
       "      <td>NaN</td>\n",
       "    </tr>\n",
       "    <tr>\n",
       "      <th>2017-08-17 05:00:00</th>\n",
       "      <td>4315.32</td>\n",
       "      <td>23.234916</td>\n",
       "      <td>0.001505</td>\n",
       "      <td>1.001506</td>\n",
       "      <td>-0.708335</td>\n",
       "      <td>2</td>\n",
       "    </tr>\n",
       "    <tr>\n",
       "      <th>2017-08-17 06:00:00</th>\n",
       "      <td>4324.35</td>\n",
       "      <td>7.229691</td>\n",
       "      <td>0.002090</td>\n",
       "      <td>1.003602</td>\n",
       "      <td>-1.167460</td>\n",
       "      <td>2</td>\n",
       "    </tr>\n",
       "    <tr>\n",
       "      <th>2017-08-17 07:00:00</th>\n",
       "      <td>4349.99</td>\n",
       "      <td>4.443249</td>\n",
       "      <td>0.005912</td>\n",
       "      <td>1.009552</td>\n",
       "      <td>-0.486810</td>\n",
       "      <td>4</td>\n",
       "    </tr>\n",
       "    <tr>\n",
       "      <th>2017-08-17 08:00:00</th>\n",
       "      <td>4360.69</td>\n",
       "      <td>0.972807</td>\n",
       "      <td>0.002457</td>\n",
       "      <td>1.012036</td>\n",
       "      <td>-1.518955</td>\n",
       "      <td>3</td>\n",
       "    </tr>\n",
       "    <tr>\n",
       "      <th>...</th>\n",
       "      <td>...</td>\n",
       "      <td>...</td>\n",
       "      <td>...</td>\n",
       "      <td>...</td>\n",
       "      <td>...</td>\n",
       "      <td>...</td>\n",
       "    </tr>\n",
       "    <tr>\n",
       "      <th>2021-10-07 05:00:00</th>\n",
       "      <td>54735.76</td>\n",
       "      <td>2251.122020</td>\n",
       "      <td>-0.006146</td>\n",
       "      <td>12.703161</td>\n",
       "      <td>0.439863</td>\n",
       "      <td>-4</td>\n",
       "    </tr>\n",
       "    <tr>\n",
       "      <th>2021-10-07 06:00:00</th>\n",
       "      <td>54534.16</td>\n",
       "      <td>1783.004260</td>\n",
       "      <td>-0.003690</td>\n",
       "      <td>12.656373</td>\n",
       "      <td>-0.233129</td>\n",
       "      <td>-3</td>\n",
       "    </tr>\n",
       "    <tr>\n",
       "      <th>2021-10-07 07:00:00</th>\n",
       "      <td>54755.92</td>\n",
       "      <td>4163.431360</td>\n",
       "      <td>0.004058</td>\n",
       "      <td>12.707839</td>\n",
       "      <td>0.848040</td>\n",
       "      <td>3</td>\n",
       "    </tr>\n",
       "    <tr>\n",
       "      <th>2021-10-07 08:00:00</th>\n",
       "      <td>54538.30</td>\n",
       "      <td>2049.382180</td>\n",
       "      <td>-0.003982</td>\n",
       "      <td>12.657334</td>\n",
       "      <td>-0.708801</td>\n",
       "      <td>-3</td>\n",
       "    </tr>\n",
       "    <tr>\n",
       "      <th>2021-10-07 09:00:00</th>\n",
       "      <td>53995.50</td>\n",
       "      <td>2739.153610</td>\n",
       "      <td>-0.010002</td>\n",
       "      <td>12.531360</td>\n",
       "      <td>0.290111</td>\n",
       "      <td>-5</td>\n",
       "    </tr>\n",
       "  </tbody>\n",
       "</table>\n",
       "<p>36168 rows × 6 columns</p>\n",
       "</div>"
      ],
      "text/plain": [
       "                        Close       Volume   returns   creturns    vol_ch  \\\n",
       "Date                                                                        \n",
       "2017-08-17 04:00:00   4308.83    47.181009       NaN        NaN       NaN   \n",
       "2017-08-17 05:00:00   4315.32    23.234916  0.001505   1.001506 -0.708335   \n",
       "2017-08-17 06:00:00   4324.35     7.229691  0.002090   1.003602 -1.167460   \n",
       "2017-08-17 07:00:00   4349.99     4.443249  0.005912   1.009552 -0.486810   \n",
       "2017-08-17 08:00:00   4360.69     0.972807  0.002457   1.012036 -1.518955   \n",
       "...                       ...          ...       ...        ...       ...   \n",
       "2021-10-07 05:00:00  54735.76  2251.122020 -0.006146  12.703161  0.439863   \n",
       "2021-10-07 06:00:00  54534.16  1783.004260 -0.003690  12.656373 -0.233129   \n",
       "2021-10-07 07:00:00  54755.92  4163.431360  0.004058  12.707839  0.848040   \n",
       "2021-10-07 08:00:00  54538.30  2049.382180 -0.003982  12.657334 -0.708801   \n",
       "2021-10-07 09:00:00  53995.50  2739.153610 -0.010002  12.531360  0.290111   \n",
       "\n",
       "                    ret_cat  \n",
       "Date                         \n",
       "2017-08-17 04:00:00     NaN  \n",
       "2017-08-17 05:00:00       2  \n",
       "2017-08-17 06:00:00       2  \n",
       "2017-08-17 07:00:00       4  \n",
       "2017-08-17 08:00:00       3  \n",
       "...                     ...  \n",
       "2021-10-07 05:00:00      -4  \n",
       "2021-10-07 06:00:00      -3  \n",
       "2021-10-07 07:00:00       3  \n",
       "2021-10-07 08:00:00      -3  \n",
       "2021-10-07 09:00:00      -5  \n",
       "\n",
       "[36168 rows x 6 columns]"
      ]
     },
     "execution_count": 41,
     "metadata": {},
     "output_type": "execute_result"
    }
   ],
   "source": [
    "data"
   ]
  },
  {
   "cell_type": "code",
   "execution_count": 42,
   "metadata": {},
   "outputs": [
    {
     "data": {
      "text/plain": [
       "-5    3617\n",
       "-4    3617\n",
       "-2    3617\n",
       "-1    3617\n",
       "2     3617\n",
       "4     3617\n",
       "5     3617\n",
       "-3    3616\n",
       "1     3616\n",
       "3     3616\n",
       "Name: ret_cat, dtype: int64"
      ]
     },
     "execution_count": 42,
     "metadata": {},
     "output_type": "execute_result"
    }
   ],
   "source": [
    "data.ret_cat.value_counts()"
   ]
  },
  {
   "cell_type": "code",
   "execution_count": 43,
   "metadata": {},
   "outputs": [],
   "source": [
    "data[\"vol_cat\"] = pd.qcut(data.vol_ch, q = 10, labels = [-5, -4, -3, -2, -1, 1, 2, 3, 4, 5])"
   ]
  },
  {
   "cell_type": "code",
   "execution_count": 44,
   "metadata": {},
   "outputs": [
    {
     "data": {
      "text/html": [
       "<div>\n",
       "<style scoped>\n",
       "    .dataframe tbody tr th:only-of-type {\n",
       "        vertical-align: middle;\n",
       "    }\n",
       "\n",
       "    .dataframe tbody tr th {\n",
       "        vertical-align: top;\n",
       "    }\n",
       "\n",
       "    .dataframe thead th {\n",
       "        text-align: right;\n",
       "    }\n",
       "</style>\n",
       "<table border=\"1\" class=\"dataframe\">\n",
       "  <thead>\n",
       "    <tr style=\"text-align: right;\">\n",
       "      <th></th>\n",
       "      <th>Close</th>\n",
       "      <th>Volume</th>\n",
       "      <th>returns</th>\n",
       "      <th>creturns</th>\n",
       "      <th>vol_ch</th>\n",
       "      <th>ret_cat</th>\n",
       "      <th>vol_cat</th>\n",
       "    </tr>\n",
       "    <tr>\n",
       "      <th>Date</th>\n",
       "      <th></th>\n",
       "      <th></th>\n",
       "      <th></th>\n",
       "      <th></th>\n",
       "      <th></th>\n",
       "      <th></th>\n",
       "      <th></th>\n",
       "    </tr>\n",
       "  </thead>\n",
       "  <tbody>\n",
       "    <tr>\n",
       "      <th>2017-08-17 04:00:00</th>\n",
       "      <td>4308.83</td>\n",
       "      <td>47.181009</td>\n",
       "      <td>NaN</td>\n",
       "      <td>NaN</td>\n",
       "      <td>NaN</td>\n",
       "      <td>NaN</td>\n",
       "      <td>NaN</td>\n",
       "    </tr>\n",
       "    <tr>\n",
       "      <th>2017-08-17 05:00:00</th>\n",
       "      <td>4315.32</td>\n",
       "      <td>23.234916</td>\n",
       "      <td>0.001505</td>\n",
       "      <td>1.001506</td>\n",
       "      <td>-0.708335</td>\n",
       "      <td>2</td>\n",
       "      <td>-5</td>\n",
       "    </tr>\n",
       "    <tr>\n",
       "      <th>2017-08-17 06:00:00</th>\n",
       "      <td>4324.35</td>\n",
       "      <td>7.229691</td>\n",
       "      <td>0.002090</td>\n",
       "      <td>1.003602</td>\n",
       "      <td>-1.167460</td>\n",
       "      <td>2</td>\n",
       "      <td>-5</td>\n",
       "    </tr>\n",
       "    <tr>\n",
       "      <th>2017-08-17 07:00:00</th>\n",
       "      <td>4349.99</td>\n",
       "      <td>4.443249</td>\n",
       "      <td>0.005912</td>\n",
       "      <td>1.009552</td>\n",
       "      <td>-0.486810</td>\n",
       "      <td>4</td>\n",
       "      <td>-4</td>\n",
       "    </tr>\n",
       "    <tr>\n",
       "      <th>2017-08-17 08:00:00</th>\n",
       "      <td>4360.69</td>\n",
       "      <td>0.972807</td>\n",
       "      <td>0.002457</td>\n",
       "      <td>1.012036</td>\n",
       "      <td>-1.518955</td>\n",
       "      <td>3</td>\n",
       "      <td>-5</td>\n",
       "    </tr>\n",
       "    <tr>\n",
       "      <th>...</th>\n",
       "      <td>...</td>\n",
       "      <td>...</td>\n",
       "      <td>...</td>\n",
       "      <td>...</td>\n",
       "      <td>...</td>\n",
       "      <td>...</td>\n",
       "      <td>...</td>\n",
       "    </tr>\n",
       "    <tr>\n",
       "      <th>2021-10-07 05:00:00</th>\n",
       "      <td>54735.76</td>\n",
       "      <td>2251.122020</td>\n",
       "      <td>-0.006146</td>\n",
       "      <td>12.703161</td>\n",
       "      <td>0.439863</td>\n",
       "      <td>-4</td>\n",
       "      <td>4</td>\n",
       "    </tr>\n",
       "    <tr>\n",
       "      <th>2021-10-07 06:00:00</th>\n",
       "      <td>54534.16</td>\n",
       "      <td>1783.004260</td>\n",
       "      <td>-0.003690</td>\n",
       "      <td>12.656373</td>\n",
       "      <td>-0.233129</td>\n",
       "      <td>-3</td>\n",
       "      <td>-2</td>\n",
       "    </tr>\n",
       "    <tr>\n",
       "      <th>2021-10-07 07:00:00</th>\n",
       "      <td>54755.92</td>\n",
       "      <td>4163.431360</td>\n",
       "      <td>0.004058</td>\n",
       "      <td>12.707839</td>\n",
       "      <td>0.848040</td>\n",
       "      <td>3</td>\n",
       "      <td>5</td>\n",
       "    </tr>\n",
       "    <tr>\n",
       "      <th>2021-10-07 08:00:00</th>\n",
       "      <td>54538.30</td>\n",
       "      <td>2049.382180</td>\n",
       "      <td>-0.003982</td>\n",
       "      <td>12.657334</td>\n",
       "      <td>-0.708801</td>\n",
       "      <td>-3</td>\n",
       "      <td>-5</td>\n",
       "    </tr>\n",
       "    <tr>\n",
       "      <th>2021-10-07 09:00:00</th>\n",
       "      <td>53995.50</td>\n",
       "      <td>2739.153610</td>\n",
       "      <td>-0.010002</td>\n",
       "      <td>12.531360</td>\n",
       "      <td>0.290111</td>\n",
       "      <td>-5</td>\n",
       "      <td>3</td>\n",
       "    </tr>\n",
       "  </tbody>\n",
       "</table>\n",
       "<p>36168 rows × 7 columns</p>\n",
       "</div>"
      ],
      "text/plain": [
       "                        Close       Volume   returns   creturns    vol_ch  \\\n",
       "Date                                                                        \n",
       "2017-08-17 04:00:00   4308.83    47.181009       NaN        NaN       NaN   \n",
       "2017-08-17 05:00:00   4315.32    23.234916  0.001505   1.001506 -0.708335   \n",
       "2017-08-17 06:00:00   4324.35     7.229691  0.002090   1.003602 -1.167460   \n",
       "2017-08-17 07:00:00   4349.99     4.443249  0.005912   1.009552 -0.486810   \n",
       "2017-08-17 08:00:00   4360.69     0.972807  0.002457   1.012036 -1.518955   \n",
       "...                       ...          ...       ...        ...       ...   \n",
       "2021-10-07 05:00:00  54735.76  2251.122020 -0.006146  12.703161  0.439863   \n",
       "2021-10-07 06:00:00  54534.16  1783.004260 -0.003690  12.656373 -0.233129   \n",
       "2021-10-07 07:00:00  54755.92  4163.431360  0.004058  12.707839  0.848040   \n",
       "2021-10-07 08:00:00  54538.30  2049.382180 -0.003982  12.657334 -0.708801   \n",
       "2021-10-07 09:00:00  53995.50  2739.153610 -0.010002  12.531360  0.290111   \n",
       "\n",
       "                    ret_cat vol_cat  \n",
       "Date                                 \n",
       "2017-08-17 04:00:00     NaN     NaN  \n",
       "2017-08-17 05:00:00       2      -5  \n",
       "2017-08-17 06:00:00       2      -5  \n",
       "2017-08-17 07:00:00       4      -4  \n",
       "2017-08-17 08:00:00       3      -5  \n",
       "...                     ...     ...  \n",
       "2021-10-07 05:00:00      -4       4  \n",
       "2021-10-07 06:00:00      -3      -2  \n",
       "2021-10-07 07:00:00       3       5  \n",
       "2021-10-07 08:00:00      -3      -5  \n",
       "2021-10-07 09:00:00      -5       3  \n",
       "\n",
       "[36168 rows x 7 columns]"
      ]
     },
     "execution_count": 44,
     "metadata": {},
     "output_type": "execute_result"
    }
   ],
   "source": [
    "data"
   ]
  },
  {
   "cell_type": "code",
   "execution_count": 45,
   "metadata": {},
   "outputs": [
    {
     "data": {
      "text/html": [
       "<div>\n",
       "<style scoped>\n",
       "    .dataframe tbody tr th:only-of-type {\n",
       "        vertical-align: middle;\n",
       "    }\n",
       "\n",
       "    .dataframe tbody tr th {\n",
       "        vertical-align: top;\n",
       "    }\n",
       "\n",
       "    .dataframe thead th {\n",
       "        text-align: right;\n",
       "    }\n",
       "</style>\n",
       "<table border=\"1\" class=\"dataframe\">\n",
       "  <thead>\n",
       "    <tr style=\"text-align: right;\">\n",
       "      <th>ret_cat</th>\n",
       "      <th>-5</th>\n",
       "      <th>-4</th>\n",
       "      <th>-3</th>\n",
       "      <th>-2</th>\n",
       "      <th>-1</th>\n",
       "      <th>1</th>\n",
       "      <th>2</th>\n",
       "      <th>3</th>\n",
       "      <th>4</th>\n",
       "      <th>5</th>\n",
       "    </tr>\n",
       "    <tr>\n",
       "      <th>vol_cat</th>\n",
       "      <th></th>\n",
       "      <th></th>\n",
       "      <th></th>\n",
       "      <th></th>\n",
       "      <th></th>\n",
       "      <th></th>\n",
       "      <th></th>\n",
       "      <th></th>\n",
       "      <th></th>\n",
       "      <th></th>\n",
       "    </tr>\n",
       "  </thead>\n",
       "  <tbody>\n",
       "    <tr>\n",
       "      <th>-5</th>\n",
       "      <td>142</td>\n",
       "      <td>292</td>\n",
       "      <td>378</td>\n",
       "      <td>394</td>\n",
       "      <td>446</td>\n",
       "      <td>487</td>\n",
       "      <td>474</td>\n",
       "      <td>414</td>\n",
       "      <td>370</td>\n",
       "      <td>218</td>\n",
       "    </tr>\n",
       "    <tr>\n",
       "      <th>-4</th>\n",
       "      <td>193</td>\n",
       "      <td>288</td>\n",
       "      <td>407</td>\n",
       "      <td>398</td>\n",
       "      <td>433</td>\n",
       "      <td>436</td>\n",
       "      <td>447</td>\n",
       "      <td>394</td>\n",
       "      <td>374</td>\n",
       "      <td>245</td>\n",
       "    </tr>\n",
       "    <tr>\n",
       "      <th>-3</th>\n",
       "      <td>196</td>\n",
       "      <td>301</td>\n",
       "      <td>393</td>\n",
       "      <td>448</td>\n",
       "      <td>432</td>\n",
       "      <td>455</td>\n",
       "      <td>426</td>\n",
       "      <td>386</td>\n",
       "      <td>344</td>\n",
       "      <td>234</td>\n",
       "    </tr>\n",
       "    <tr>\n",
       "      <th>-2</th>\n",
       "      <td>229</td>\n",
       "      <td>346</td>\n",
       "      <td>390</td>\n",
       "      <td>429</td>\n",
       "      <td>433</td>\n",
       "      <td>427</td>\n",
       "      <td>436</td>\n",
       "      <td>351</td>\n",
       "      <td>310</td>\n",
       "      <td>264</td>\n",
       "    </tr>\n",
       "    <tr>\n",
       "      <th>-1</th>\n",
       "      <td>227</td>\n",
       "      <td>324</td>\n",
       "      <td>419</td>\n",
       "      <td>423</td>\n",
       "      <td>426</td>\n",
       "      <td>427</td>\n",
       "      <td>395</td>\n",
       "      <td>359</td>\n",
       "      <td>338</td>\n",
       "      <td>277</td>\n",
       "    </tr>\n",
       "    <tr>\n",
       "      <th>1</th>\n",
       "      <td>285</td>\n",
       "      <td>391</td>\n",
       "      <td>366</td>\n",
       "      <td>422</td>\n",
       "      <td>392</td>\n",
       "      <td>399</td>\n",
       "      <td>338</td>\n",
       "      <td>382</td>\n",
       "      <td>339</td>\n",
       "      <td>301</td>\n",
       "    </tr>\n",
       "    <tr>\n",
       "      <th>2</th>\n",
       "      <td>319</td>\n",
       "      <td>397</td>\n",
       "      <td>364</td>\n",
       "      <td>378</td>\n",
       "      <td>355</td>\n",
       "      <td>377</td>\n",
       "      <td>338</td>\n",
       "      <td>390</td>\n",
       "      <td>362</td>\n",
       "      <td>335</td>\n",
       "    </tr>\n",
       "    <tr>\n",
       "      <th>3</th>\n",
       "      <td>398</td>\n",
       "      <td>388</td>\n",
       "      <td>374</td>\n",
       "      <td>323</td>\n",
       "      <td>337</td>\n",
       "      <td>306</td>\n",
       "      <td>360</td>\n",
       "      <td>371</td>\n",
       "      <td>373</td>\n",
       "      <td>385</td>\n",
       "    </tr>\n",
       "    <tr>\n",
       "      <th>4</th>\n",
       "      <td>569</td>\n",
       "      <td>487</td>\n",
       "      <td>300</td>\n",
       "      <td>272</td>\n",
       "      <td>253</td>\n",
       "      <td>198</td>\n",
       "      <td>256</td>\n",
       "      <td>329</td>\n",
       "      <td>454</td>\n",
       "      <td>497</td>\n",
       "    </tr>\n",
       "    <tr>\n",
       "      <th>5</th>\n",
       "      <td>1057</td>\n",
       "      <td>402</td>\n",
       "      <td>224</td>\n",
       "      <td>130</td>\n",
       "      <td>103</td>\n",
       "      <td>103</td>\n",
       "      <td>145</td>\n",
       "      <td>240</td>\n",
       "      <td>351</td>\n",
       "      <td>860</td>\n",
       "    </tr>\n",
       "  </tbody>\n",
       "</table>\n",
       "</div>"
      ],
      "text/plain": [
       "ret_cat    -5   -4   -3   -2   -1    1    2    3    4    5\n",
       "vol_cat                                                   \n",
       "-5        142  292  378  394  446  487  474  414  370  218\n",
       "-4        193  288  407  398  433  436  447  394  374  245\n",
       "-3        196  301  393  448  432  455  426  386  344  234\n",
       "-2        229  346  390  429  433  427  436  351  310  264\n",
       "-1        227  324  419  423  426  427  395  359  338  277\n",
       "1         285  391  366  422  392  399  338  382  339  301\n",
       "2         319  397  364  378  355  377  338  390  362  335\n",
       "3         398  388  374  323  337  306  360  371  373  385\n",
       "4         569  487  300  272  253  198  256  329  454  497\n",
       "5        1057  402  224  130  103  103  145  240  351  860"
      ]
     },
     "execution_count": 45,
     "metadata": {},
     "output_type": "execute_result"
    }
   ],
   "source": [
    "matrix = pd.crosstab(data.vol_cat, data.ret_cat)\n",
    "matrix"
   ]
  },
  {
   "cell_type": "code",
   "execution_count": 50,
   "metadata": {},
   "outputs": [],
   "source": [
    "import seaborn as sns"
   ]
  },
  {
   "cell_type": "code",
   "execution_count": null,
   "metadata": {},
   "outputs": [],
   "source": [
    "plt.figure(figsize=(12, 8))\n",
    "sns.set(font_scale=1)\n",
    "sns.heatmap(matrix, cmap = \"RdYlBu_r\", annot = True, robust = True, fmt = \".0f\")\n",
    "plt.show()"
   ]
  },
  {
   "cell_type": "markdown",
   "metadata": {},
   "source": [
    "__-> Extreme increases in Trading Volume trigger extreme (positive and negative) returns.__ <br>\n",
    "__-> Low to moderate changes in the Trading Volume occur frequently with low to moderate returns__."
   ]
  },
  {
   "cell_type": "code",
   "execution_count": null,
   "metadata": {},
   "outputs": [],
   "source": []
  },
  {
   "cell_type": "markdown",
   "metadata": {},
   "source": [
    "## Explanatory Data Analysis: Financial Returns and Trading Volume (2)"
   ]
  },
  {
   "cell_type": "markdown",
   "metadata": {},
   "source": [
    "__Question 2: Can we use return/vol_ch clusters to (partly) forecast future returns?__ <br>\n",
    "(e.g. Cluster 5/5 is a strong momentum signal -> prices will further rise in the near future) "
   ]
  },
  {
   "cell_type": "code",
   "execution_count": null,
   "metadata": {},
   "outputs": [],
   "source": [
    "data"
   ]
  },
  {
   "cell_type": "code",
   "execution_count": 47,
   "metadata": {},
   "outputs": [
    {
     "data": {
      "text/plain": [
       "Date\n",
       "2017-08-17 04:00:00    NaN\n",
       "2017-08-17 05:00:00    NaN\n",
       "2017-08-17 06:00:00     -5\n",
       "2017-08-17 07:00:00     -5\n",
       "2017-08-17 08:00:00     -4\n",
       "                      ... \n",
       "2021-10-07 05:00:00     -1\n",
       "2021-10-07 06:00:00      4\n",
       "2021-10-07 07:00:00     -2\n",
       "2021-10-07 08:00:00      5\n",
       "2021-10-07 09:00:00     -5\n",
       "Name: vol_cat, Length: 36168, dtype: category\n",
       "Categories (10, int64): [-5 < -4 < -3 < -2 ... 2 < 3 < 4 < 5]"
      ]
     },
     "execution_count": 47,
     "metadata": {},
     "output_type": "execute_result"
    }
   ],
   "source": [
    "data.vol_cat.shift()"
   ]
  },
  {
   "cell_type": "code",
   "execution_count": 48,
   "metadata": {},
   "outputs": [
    {
     "data": {
      "text/html": [
       "<div>\n",
       "<style scoped>\n",
       "    .dataframe tbody tr th:only-of-type {\n",
       "        vertical-align: middle;\n",
       "    }\n",
       "\n",
       "    .dataframe tbody tr th {\n",
       "        vertical-align: top;\n",
       "    }\n",
       "\n",
       "    .dataframe thead th {\n",
       "        text-align: right;\n",
       "    }\n",
       "</style>\n",
       "<table border=\"1\" class=\"dataframe\">\n",
       "  <thead>\n",
       "    <tr style=\"text-align: right;\">\n",
       "      <th>ret_cat</th>\n",
       "      <th>-5</th>\n",
       "      <th>-4</th>\n",
       "      <th>-3</th>\n",
       "      <th>-2</th>\n",
       "      <th>-1</th>\n",
       "      <th>1</th>\n",
       "      <th>2</th>\n",
       "      <th>3</th>\n",
       "      <th>4</th>\n",
       "      <th>5</th>\n",
       "    </tr>\n",
       "    <tr>\n",
       "      <th>vol_cat</th>\n",
       "      <th></th>\n",
       "      <th></th>\n",
       "      <th></th>\n",
       "      <th></th>\n",
       "      <th></th>\n",
       "      <th></th>\n",
       "      <th></th>\n",
       "      <th></th>\n",
       "      <th></th>\n",
       "      <th></th>\n",
       "    </tr>\n",
       "  </thead>\n",
       "  <tbody>\n",
       "    <tr>\n",
       "      <th>-5</th>\n",
       "      <td>0.004261</td>\n",
       "      <td>0.000484</td>\n",
       "      <td>-0.000479</td>\n",
       "      <td>0.000831</td>\n",
       "      <td>-0.000318</td>\n",
       "      <td>-0.000067</td>\n",
       "      <td>-0.000372</td>\n",
       "      <td>0.000026</td>\n",
       "      <td>-0.000246</td>\n",
       "      <td>0.000185</td>\n",
       "    </tr>\n",
       "    <tr>\n",
       "      <th>-4</th>\n",
       "      <td>0.002740</td>\n",
       "      <td>-0.000697</td>\n",
       "      <td>0.000015</td>\n",
       "      <td>-0.000135</td>\n",
       "      <td>-0.000025</td>\n",
       "      <td>0.000337</td>\n",
       "      <td>-0.000011</td>\n",
       "      <td>0.000257</td>\n",
       "      <td>-0.001055</td>\n",
       "      <td>-0.004235</td>\n",
       "    </tr>\n",
       "    <tr>\n",
       "      <th>-3</th>\n",
       "      <td>-0.000658</td>\n",
       "      <td>0.001505</td>\n",
       "      <td>0.000234</td>\n",
       "      <td>-0.000572</td>\n",
       "      <td>-0.000003</td>\n",
       "      <td>0.000179</td>\n",
       "      <td>-0.000277</td>\n",
       "      <td>-0.000092</td>\n",
       "      <td>0.000019</td>\n",
       "      <td>-0.000909</td>\n",
       "    </tr>\n",
       "    <tr>\n",
       "      <th>-2</th>\n",
       "      <td>0.003566</td>\n",
       "      <td>0.000328</td>\n",
       "      <td>-0.000440</td>\n",
       "      <td>0.000449</td>\n",
       "      <td>0.000092</td>\n",
       "      <td>-0.000517</td>\n",
       "      <td>-0.000812</td>\n",
       "      <td>0.000129</td>\n",
       "      <td>-0.000508</td>\n",
       "      <td>-0.000715</td>\n",
       "    </tr>\n",
       "    <tr>\n",
       "      <th>-1</th>\n",
       "      <td>-0.001165</td>\n",
       "      <td>0.001731</td>\n",
       "      <td>0.000713</td>\n",
       "      <td>0.000034</td>\n",
       "      <td>-0.000225</td>\n",
       "      <td>-0.000012</td>\n",
       "      <td>-0.000544</td>\n",
       "      <td>-0.000124</td>\n",
       "      <td>0.000196</td>\n",
       "      <td>-0.001321</td>\n",
       "    </tr>\n",
       "    <tr>\n",
       "      <th>1</th>\n",
       "      <td>0.001398</td>\n",
       "      <td>-0.000612</td>\n",
       "      <td>0.000845</td>\n",
       "      <td>-0.000018</td>\n",
       "      <td>0.000559</td>\n",
       "      <td>-0.000516</td>\n",
       "      <td>0.000030</td>\n",
       "      <td>-0.000429</td>\n",
       "      <td>-0.000024</td>\n",
       "      <td>-0.000360</td>\n",
       "    </tr>\n",
       "    <tr>\n",
       "      <th>2</th>\n",
       "      <td>0.000818</td>\n",
       "      <td>0.000331</td>\n",
       "      <td>-0.000028</td>\n",
       "      <td>0.000785</td>\n",
       "      <td>-0.000476</td>\n",
       "      <td>0.000207</td>\n",
       "      <td>0.000138</td>\n",
       "      <td>-0.000014</td>\n",
       "      <td>0.000073</td>\n",
       "      <td>0.000219</td>\n",
       "    </tr>\n",
       "    <tr>\n",
       "      <th>3</th>\n",
       "      <td>0.001445</td>\n",
       "      <td>-0.000156</td>\n",
       "      <td>0.000322</td>\n",
       "      <td>0.000101</td>\n",
       "      <td>-0.000215</td>\n",
       "      <td>0.000140</td>\n",
       "      <td>0.000302</td>\n",
       "      <td>0.000232</td>\n",
       "      <td>-0.000231</td>\n",
       "      <td>0.000589</td>\n",
       "    </tr>\n",
       "    <tr>\n",
       "      <th>4</th>\n",
       "      <td>0.000964</td>\n",
       "      <td>0.000152</td>\n",
       "      <td>-0.000551</td>\n",
       "      <td>0.000856</td>\n",
       "      <td>-0.000099</td>\n",
       "      <td>-0.000772</td>\n",
       "      <td>-0.000014</td>\n",
       "      <td>-0.000061</td>\n",
       "      <td>0.000023</td>\n",
       "      <td>-0.000403</td>\n",
       "    </tr>\n",
       "    <tr>\n",
       "      <th>5</th>\n",
       "      <td>0.000344</td>\n",
       "      <td>0.000452</td>\n",
       "      <td>-0.000477</td>\n",
       "      <td>0.000153</td>\n",
       "      <td>0.000963</td>\n",
       "      <td>0.000132</td>\n",
       "      <td>0.000500</td>\n",
       "      <td>-0.000824</td>\n",
       "      <td>-0.000004</td>\n",
       "      <td>0.000418</td>\n",
       "    </tr>\n",
       "  </tbody>\n",
       "</table>\n",
       "</div>"
      ],
      "text/plain": [
       "ret_cat        -5        -4        -3        -2        -1         1         2  \\\n",
       "vol_cat                                                                         \n",
       "-5       0.004261  0.000484 -0.000479  0.000831 -0.000318 -0.000067 -0.000372   \n",
       "-4       0.002740 -0.000697  0.000015 -0.000135 -0.000025  0.000337 -0.000011   \n",
       "-3      -0.000658  0.001505  0.000234 -0.000572 -0.000003  0.000179 -0.000277   \n",
       "-2       0.003566  0.000328 -0.000440  0.000449  0.000092 -0.000517 -0.000812   \n",
       "-1      -0.001165  0.001731  0.000713  0.000034 -0.000225 -0.000012 -0.000544   \n",
       "1        0.001398 -0.000612  0.000845 -0.000018  0.000559 -0.000516  0.000030   \n",
       "2        0.000818  0.000331 -0.000028  0.000785 -0.000476  0.000207  0.000138   \n",
       "3        0.001445 -0.000156  0.000322  0.000101 -0.000215  0.000140  0.000302   \n",
       "4        0.000964  0.000152 -0.000551  0.000856 -0.000099 -0.000772 -0.000014   \n",
       "5        0.000344  0.000452 -0.000477  0.000153  0.000963  0.000132  0.000500   \n",
       "\n",
       "ret_cat         3         4         5  \n",
       "vol_cat                                \n",
       "-5       0.000026 -0.000246  0.000185  \n",
       "-4       0.000257 -0.001055 -0.004235  \n",
       "-3      -0.000092  0.000019 -0.000909  \n",
       "-2       0.000129 -0.000508 -0.000715  \n",
       "-1      -0.000124  0.000196 -0.001321  \n",
       "1       -0.000429 -0.000024 -0.000360  \n",
       "2       -0.000014  0.000073  0.000219  \n",
       "3        0.000232 -0.000231  0.000589  \n",
       "4       -0.000061  0.000023 -0.000403  \n",
       "5       -0.000824 -0.000004  0.000418  "
      ]
     },
     "execution_count": 48,
     "metadata": {},
     "output_type": "execute_result"
    }
   ],
   "source": [
    "matrix = pd.crosstab(data.vol_cat.shift(), data.ret_cat.shift(),\n",
    "                     values = data.returns, aggfunc = np.mean)\n",
    "matrix"
   ]
  },
  {
   "cell_type": "code",
   "execution_count": 51,
   "metadata": {},
   "outputs": [
    {
     "data": {
      "image/png": "[encoded data removed]",
      "text/plain": [
       "<Figure size 864x576 with 2 Axes>"
      ]
     },
     "metadata": {},
     "output_type": "display_data"
    }
   ],
   "source": [
    "plt.figure(figsize=(12, 8))\n",
    "sns.set(font_scale=1)\n",
    "sns.heatmap(matrix, cmap = \"RdYlBu\", annot = True, robust = True, fmt = \".5f\")\n",
    "plt.show()"
   ]
  },
  {
   "cell_type": "markdown",
   "metadata": {},
   "source": [
    "__-> Extremely High (positive) returns and Decreases in Volume is a Contrarian (mean-reverting) signal -> prices will fall.__ <br>\n",
    "__-> Extremely Low (negative) returns and Decreases in Volume is a Contrarian (mean-reverting) signal -> prices will rise.__"
   ]
  },
  {
   "cell_type": "code",
   "execution_count": null,
   "metadata": {},
   "outputs": [],
   "source": []
  },
  {
   "cell_type": "markdown",
   "metadata": {},
   "source": [
    "## Formulating a Long-only Price/Volume Trading Strategy"
   ]
  },
  {
   "cell_type": "markdown",
   "metadata": {},
   "source": [
    "__Plan__: Make Use of the _\"Extremely High (positive) returns and Decreases in Volume\"_ Cluster (falling prices):"
   ]
  },
  {
   "cell_type": "markdown",
   "metadata": {},
   "source": [
    "__Implementation__: \n",
    "- Buy BTC/USDT in the Spot market and hold...\n",
    "- ...until there is a signal to sell -> sell and go neutral.\n",
    "- Buy back when the signal to sell has disappeared."
   ]
  },
  {
   "cell_type": "code",
   "execution_count": null,
   "metadata": {},
   "outputs": [],
   "source": [
    "data"
   ]
  },
  {
   "cell_type": "code",
   "execution_count": 52,
   "metadata": {},
   "outputs": [
    {
     "data": {
      "text/html": [
       "<div>\n",
       "<style scoped>\n",
       "    .dataframe tbody tr th:only-of-type {\n",
       "        vertical-align: middle;\n",
       "    }\n",
       "\n",
       "    .dataframe tbody tr th {\n",
       "        vertical-align: top;\n",
       "    }\n",
       "\n",
       "    .dataframe thead th {\n",
       "        text-align: right;\n",
       "    }\n",
       "</style>\n",
       "<table border=\"1\" class=\"dataframe\">\n",
       "  <thead>\n",
       "    <tr style=\"text-align: right;\">\n",
       "      <th></th>\n",
       "      <th>Close</th>\n",
       "      <th>Volume</th>\n",
       "      <th>returns</th>\n",
       "      <th>creturns</th>\n",
       "      <th>vol_ch</th>\n",
       "      <th>ret_cat</th>\n",
       "      <th>vol_cat</th>\n",
       "      <th>position</th>\n",
       "    </tr>\n",
       "    <tr>\n",
       "      <th>Date</th>\n",
       "      <th></th>\n",
       "      <th></th>\n",
       "      <th></th>\n",
       "      <th></th>\n",
       "      <th></th>\n",
       "      <th></th>\n",
       "      <th></th>\n",
       "      <th></th>\n",
       "    </tr>\n",
       "  </thead>\n",
       "  <tbody>\n",
       "    <tr>\n",
       "      <th>2017-08-17 04:00:00</th>\n",
       "      <td>4308.83</td>\n",
       "      <td>47.181009</td>\n",
       "      <td>NaN</td>\n",
       "      <td>NaN</td>\n",
       "      <td>NaN</td>\n",
       "      <td>NaN</td>\n",
       "      <td>NaN</td>\n",
       "      <td>1</td>\n",
       "    </tr>\n",
       "    <tr>\n",
       "      <th>2017-08-17 05:00:00</th>\n",
       "      <td>4315.32</td>\n",
       "      <td>23.234916</td>\n",
       "      <td>0.001505</td>\n",
       "      <td>1.001506</td>\n",
       "      <td>-0.708335</td>\n",
       "      <td>2</td>\n",
       "      <td>-5</td>\n",
       "      <td>1</td>\n",
       "    </tr>\n",
       "    <tr>\n",
       "      <th>2017-08-17 06:00:00</th>\n",
       "      <td>4324.35</td>\n",
       "      <td>7.229691</td>\n",
       "      <td>0.002090</td>\n",
       "      <td>1.003602</td>\n",
       "      <td>-1.167460</td>\n",
       "      <td>2</td>\n",
       "      <td>-5</td>\n",
       "      <td>1</td>\n",
       "    </tr>\n",
       "    <tr>\n",
       "      <th>2017-08-17 07:00:00</th>\n",
       "      <td>4349.99</td>\n",
       "      <td>4.443249</td>\n",
       "      <td>0.005912</td>\n",
       "      <td>1.009552</td>\n",
       "      <td>-0.486810</td>\n",
       "      <td>4</td>\n",
       "      <td>-4</td>\n",
       "      <td>1</td>\n",
       "    </tr>\n",
       "    <tr>\n",
       "      <th>2017-08-17 08:00:00</th>\n",
       "      <td>4360.69</td>\n",
       "      <td>0.972807</td>\n",
       "      <td>0.002457</td>\n",
       "      <td>1.012036</td>\n",
       "      <td>-1.518955</td>\n",
       "      <td>3</td>\n",
       "      <td>-5</td>\n",
       "      <td>1</td>\n",
       "    </tr>\n",
       "    <tr>\n",
       "      <th>...</th>\n",
       "      <td>...</td>\n",
       "      <td>...</td>\n",
       "      <td>...</td>\n",
       "      <td>...</td>\n",
       "      <td>...</td>\n",
       "      <td>...</td>\n",
       "      <td>...</td>\n",
       "      <td>...</td>\n",
       "    </tr>\n",
       "    <tr>\n",
       "      <th>2021-10-07 05:00:00</th>\n",
       "      <td>54735.76</td>\n",
       "      <td>2251.122020</td>\n",
       "      <td>-0.006146</td>\n",
       "      <td>12.703161</td>\n",
       "      <td>0.439863</td>\n",
       "      <td>-4</td>\n",
       "      <td>4</td>\n",
       "      <td>1</td>\n",
       "    </tr>\n",
       "    <tr>\n",
       "      <th>2021-10-07 06:00:00</th>\n",
       "      <td>54534.16</td>\n",
       "      <td>1783.004260</td>\n",
       "      <td>-0.003690</td>\n",
       "      <td>12.656373</td>\n",
       "      <td>-0.233129</td>\n",
       "      <td>-3</td>\n",
       "      <td>-2</td>\n",
       "      <td>1</td>\n",
       "    </tr>\n",
       "    <tr>\n",
       "      <th>2021-10-07 07:00:00</th>\n",
       "      <td>54755.92</td>\n",
       "      <td>4163.431360</td>\n",
       "      <td>0.004058</td>\n",
       "      <td>12.707839</td>\n",
       "      <td>0.848040</td>\n",
       "      <td>3</td>\n",
       "      <td>5</td>\n",
       "      <td>1</td>\n",
       "    </tr>\n",
       "    <tr>\n",
       "      <th>2021-10-07 08:00:00</th>\n",
       "      <td>54538.30</td>\n",
       "      <td>2049.382180</td>\n",
       "      <td>-0.003982</td>\n",
       "      <td>12.657334</td>\n",
       "      <td>-0.708801</td>\n",
       "      <td>-3</td>\n",
       "      <td>-5</td>\n",
       "      <td>1</td>\n",
       "    </tr>\n",
       "    <tr>\n",
       "      <th>2021-10-07 09:00:00</th>\n",
       "      <td>53995.50</td>\n",
       "      <td>2739.153610</td>\n",
       "      <td>-0.010002</td>\n",
       "      <td>12.531360</td>\n",
       "      <td>0.290111</td>\n",
       "      <td>-5</td>\n",
       "      <td>3</td>\n",
       "      <td>1</td>\n",
       "    </tr>\n",
       "  </tbody>\n",
       "</table>\n",
       "<p>36168 rows × 8 columns</p>\n",
       "</div>"
      ],
      "text/plain": [
       "                        Close       Volume   returns   creturns    vol_ch  \\\n",
       "Date                                                                        \n",
       "2017-08-17 04:00:00   4308.83    47.181009       NaN        NaN       NaN   \n",
       "2017-08-17 05:00:00   4315.32    23.234916  0.001505   1.001506 -0.708335   \n",
       "2017-08-17 06:00:00   4324.35     7.229691  0.002090   1.003602 -1.167460   \n",
       "2017-08-17 07:00:00   4349.99     4.443249  0.005912   1.009552 -0.486810   \n",
       "2017-08-17 08:00:00   4360.69     0.972807  0.002457   1.012036 -1.518955   \n",
       "...                       ...          ...       ...        ...       ...   \n",
       "2021-10-07 05:00:00  54735.76  2251.122020 -0.006146  12.703161  0.439863   \n",
       "2021-10-07 06:00:00  54534.16  1783.004260 -0.003690  12.656373 -0.233129   \n",
       "2021-10-07 07:00:00  54755.92  4163.431360  0.004058  12.707839  0.848040   \n",
       "2021-10-07 08:00:00  54538.30  2049.382180 -0.003982  12.657334 -0.708801   \n",
       "2021-10-07 09:00:00  53995.50  2739.153610 -0.010002  12.531360  0.290111   \n",
       "\n",
       "                    ret_cat vol_cat  position  \n",
       "Date                                           \n",
       "2017-08-17 04:00:00     NaN     NaN         1  \n",
       "2017-08-17 05:00:00       2      -5         1  \n",
       "2017-08-17 06:00:00       2      -5         1  \n",
       "2017-08-17 07:00:00       4      -4         1  \n",
       "2017-08-17 08:00:00       3      -5         1  \n",
       "...                     ...     ...       ...  \n",
       "2021-10-07 05:00:00      -4       4         1  \n",
       "2021-10-07 06:00:00      -3      -2         1  \n",
       "2021-10-07 07:00:00       3       5         1  \n",
       "2021-10-07 08:00:00      -3      -5         1  \n",
       "2021-10-07 09:00:00      -5       3         1  \n",
       "\n",
       "[36168 rows x 8 columns]"
      ]
     },
     "execution_count": 52,
     "metadata": {},
     "output_type": "execute_result"
    }
   ],
   "source": [
    "data[\"position\"] = 1 # Trading position -> long(1) for all bars: Buy-and-Hold\n",
    "data"
   ]
  },
  {
   "cell_type": "markdown",
   "metadata": {},
   "source": [
    "__Sell and go Neutral (position = 0) if returns are very high (cond1) and vol_ch is negative (cond2)__"
   ]
  },
  {
   "cell_type": "code",
   "execution_count": 53,
   "metadata": {},
   "outputs": [
    {
     "data": {
      "text/plain": [
       "0.008231867023808183"
      ]
     },
     "execution_count": 53,
     "metadata": {},
     "output_type": "execute_result"
    }
   ],
   "source": [
    "# getting returns threshold for very high returns (>= 90th percentile)\n",
    "return_thresh = np.percentile(data.returns.dropna(), 90)\n",
    "return_thresh"
   ]
  },
  {
   "cell_type": "code",
   "execution_count": 54,
   "metadata": {},
   "outputs": [
    {
     "data": {
      "text/plain": [
       "Date\n",
       "2017-08-17 04:00:00    False\n",
       "2017-08-17 05:00:00    False\n",
       "2017-08-17 06:00:00    False\n",
       "2017-08-17 07:00:00    False\n",
       "2017-08-17 08:00:00    False\n",
       "                       ...  \n",
       "2021-10-07 05:00:00    False\n",
       "2021-10-07 06:00:00    False\n",
       "2021-10-07 07:00:00    False\n",
       "2021-10-07 08:00:00    False\n",
       "2021-10-07 09:00:00    False\n",
       "Name: returns, Length: 36168, dtype: bool"
      ]
     },
     "execution_count": 54,
     "metadata": {},
     "output_type": "execute_result"
    }
   ],
   "source": [
    "cond1 = data.returns >= return_thresh\n",
    "cond1"
   ]
  },
  {
   "cell_type": "code",
   "execution_count": 55,
   "metadata": {},
   "outputs": [
    {
     "data": {
      "text/plain": [
       "array([-0.72895253, -0.37604441])"
      ]
     },
     "execution_count": 55,
     "metadata": {},
     "output_type": "execute_result"
    }
   ],
   "source": [
    "# getting vol_ch thresholds for (moderate) Volume Decreases (between 5th and 20th percentile)\n",
    "volume_thresh = np.percentile(data.vol_ch.dropna(), [5, 20])\n",
    "volume_thresh"
   ]
  },
  {
   "cell_type": "code",
   "execution_count": 56,
   "metadata": {},
   "outputs": [
    {
     "data": {
      "text/plain": [
       "Date\n",
       "2017-08-17 04:00:00    False\n",
       "2017-08-17 05:00:00     True\n",
       "2017-08-17 06:00:00    False\n",
       "2017-08-17 07:00:00     True\n",
       "2017-08-17 08:00:00    False\n",
       "                       ...  \n",
       "2021-10-07 05:00:00    False\n",
       "2021-10-07 06:00:00    False\n",
       "2021-10-07 07:00:00    False\n",
       "2021-10-07 08:00:00     True\n",
       "2021-10-07 09:00:00    False\n",
       "Name: vol_ch, Length: 36168, dtype: bool"
      ]
     },
     "execution_count": 56,
     "metadata": {},
     "output_type": "execute_result"
    }
   ],
   "source": [
    "cond2 = data.vol_ch.between(volume_thresh[0], volume_thresh[1])\n",
    "cond2"
   ]
  },
  {
   "cell_type": "code",
   "execution_count": 57,
   "metadata": {},
   "outputs": [],
   "source": [
    "data.loc[cond1 & cond2, \"position\"] = 0"
   ]
  },
  {
   "cell_type": "code",
   "execution_count": 58,
   "metadata": {},
   "outputs": [
    {
     "data": {
      "text/html": [
       "<div>\n",
       "<style scoped>\n",
       "    .dataframe tbody tr th:only-of-type {\n",
       "        vertical-align: middle;\n",
       "    }\n",
       "\n",
       "    .dataframe tbody tr th {\n",
       "        vertical-align: top;\n",
       "    }\n",
       "\n",
       "    .dataframe thead th {\n",
       "        text-align: right;\n",
       "    }\n",
       "</style>\n",
       "<table border=\"1\" class=\"dataframe\">\n",
       "  <thead>\n",
       "    <tr style=\"text-align: right;\">\n",
       "      <th></th>\n",
       "      <th>Close</th>\n",
       "      <th>Volume</th>\n",
       "      <th>returns</th>\n",
       "      <th>creturns</th>\n",
       "      <th>vol_ch</th>\n",
       "      <th>ret_cat</th>\n",
       "      <th>vol_cat</th>\n",
       "      <th>position</th>\n",
       "    </tr>\n",
       "    <tr>\n",
       "      <th>Date</th>\n",
       "      <th></th>\n",
       "      <th></th>\n",
       "      <th></th>\n",
       "      <th></th>\n",
       "      <th></th>\n",
       "      <th></th>\n",
       "      <th></th>\n",
       "      <th></th>\n",
       "    </tr>\n",
       "  </thead>\n",
       "  <tbody>\n",
       "    <tr>\n",
       "      <th>2017-08-17 04:00:00</th>\n",
       "      <td>4308.83</td>\n",
       "      <td>47.181009</td>\n",
       "      <td>NaN</td>\n",
       "      <td>NaN</td>\n",
       "      <td>NaN</td>\n",
       "      <td>NaN</td>\n",
       "      <td>NaN</td>\n",
       "      <td>1</td>\n",
       "    </tr>\n",
       "    <tr>\n",
       "      <th>2017-08-17 05:00:00</th>\n",
       "      <td>4315.32</td>\n",
       "      <td>23.234916</td>\n",
       "      <td>0.001505</td>\n",
       "      <td>1.001506</td>\n",
       "      <td>-0.708335</td>\n",
       "      <td>2</td>\n",
       "      <td>-5</td>\n",
       "      <td>1</td>\n",
       "    </tr>\n",
       "    <tr>\n",
       "      <th>2017-08-17 06:00:00</th>\n",
       "      <td>4324.35</td>\n",
       "      <td>7.229691</td>\n",
       "      <td>0.002090</td>\n",
       "      <td>1.003602</td>\n",
       "      <td>-1.167460</td>\n",
       "      <td>2</td>\n",
       "      <td>-5</td>\n",
       "      <td>1</td>\n",
       "    </tr>\n",
       "    <tr>\n",
       "      <th>2017-08-17 07:00:00</th>\n",
       "      <td>4349.99</td>\n",
       "      <td>4.443249</td>\n",
       "      <td>0.005912</td>\n",
       "      <td>1.009552</td>\n",
       "      <td>-0.486810</td>\n",
       "      <td>4</td>\n",
       "      <td>-4</td>\n",
       "      <td>1</td>\n",
       "    </tr>\n",
       "    <tr>\n",
       "      <th>2017-08-17 08:00:00</th>\n",
       "      <td>4360.69</td>\n",
       "      <td>0.972807</td>\n",
       "      <td>0.002457</td>\n",
       "      <td>1.012036</td>\n",
       "      <td>-1.518955</td>\n",
       "      <td>3</td>\n",
       "      <td>-5</td>\n",
       "      <td>1</td>\n",
       "    </tr>\n",
       "    <tr>\n",
       "      <th>...</th>\n",
       "      <td>...</td>\n",
       "      <td>...</td>\n",
       "      <td>...</td>\n",
       "      <td>...</td>\n",
       "      <td>...</td>\n",
       "      <td>...</td>\n",
       "      <td>...</td>\n",
       "      <td>...</td>\n",
       "    </tr>\n",
       "    <tr>\n",
       "      <th>2021-10-07 05:00:00</th>\n",
       "      <td>54735.76</td>\n",
       "      <td>2251.122020</td>\n",
       "      <td>-0.006146</td>\n",
       "      <td>12.703161</td>\n",
       "      <td>0.439863</td>\n",
       "      <td>-4</td>\n",
       "      <td>4</td>\n",
       "      <td>1</td>\n",
       "    </tr>\n",
       "    <tr>\n",
       "      <th>2021-10-07 06:00:00</th>\n",
       "      <td>54534.16</td>\n",
       "      <td>1783.004260</td>\n",
       "      <td>-0.003690</td>\n",
       "      <td>12.656373</td>\n",
       "      <td>-0.233129</td>\n",
       "      <td>-3</td>\n",
       "      <td>-2</td>\n",
       "      <td>1</td>\n",
       "    </tr>\n",
       "    <tr>\n",
       "      <th>2021-10-07 07:00:00</th>\n",
       "      <td>54755.92</td>\n",
       "      <td>4163.431360</td>\n",
       "      <td>0.004058</td>\n",
       "      <td>12.707839</td>\n",
       "      <td>0.848040</td>\n",
       "      <td>3</td>\n",
       "      <td>5</td>\n",
       "      <td>1</td>\n",
       "    </tr>\n",
       "    <tr>\n",
       "      <th>2021-10-07 08:00:00</th>\n",
       "      <td>54538.30</td>\n",
       "      <td>2049.382180</td>\n",
       "      <td>-0.003982</td>\n",
       "      <td>12.657334</td>\n",
       "      <td>-0.708801</td>\n",
       "      <td>-3</td>\n",
       "      <td>-5</td>\n",
       "      <td>1</td>\n",
       "    </tr>\n",
       "    <tr>\n",
       "      <th>2021-10-07 09:00:00</th>\n",
       "      <td>53995.50</td>\n",
       "      <td>2739.153610</td>\n",
       "      <td>-0.010002</td>\n",
       "      <td>12.531360</td>\n",
       "      <td>0.290111</td>\n",
       "      <td>-5</td>\n",
       "      <td>3</td>\n",
       "      <td>1</td>\n",
       "    </tr>\n",
       "  </tbody>\n",
       "</table>\n",
       "<p>36168 rows × 8 columns</p>\n",
       "</div>"
      ],
      "text/plain": [
       "                        Close       Volume   returns   creturns    vol_ch  \\\n",
       "Date                                                                        \n",
       "2017-08-17 04:00:00   4308.83    47.181009       NaN        NaN       NaN   \n",
       "2017-08-17 05:00:00   4315.32    23.234916  0.001505   1.001506 -0.708335   \n",
       "2017-08-17 06:00:00   4324.35     7.229691  0.002090   1.003602 -1.167460   \n",
       "2017-08-17 07:00:00   4349.99     4.443249  0.005912   1.009552 -0.486810   \n",
       "2017-08-17 08:00:00   4360.69     0.972807  0.002457   1.012036 -1.518955   \n",
       "...                       ...          ...       ...        ...       ...   \n",
       "2021-10-07 05:00:00  54735.76  2251.122020 -0.006146  12.703161  0.439863   \n",
       "2021-10-07 06:00:00  54534.16  1783.004260 -0.003690  12.656373 -0.233129   \n",
       "2021-10-07 07:00:00  54755.92  4163.431360  0.004058  12.707839  0.848040   \n",
       "2021-10-07 08:00:00  54538.30  2049.382180 -0.003982  12.657334 -0.708801   \n",
       "2021-10-07 09:00:00  53995.50  2739.153610 -0.010002  12.531360  0.290111   \n",
       "\n",
       "                    ret_cat vol_cat  position  \n",
       "Date                                           \n",
       "2017-08-17 04:00:00     NaN     NaN         1  \n",
       "2017-08-17 05:00:00       2      -5         1  \n",
       "2017-08-17 06:00:00       2      -5         1  \n",
       "2017-08-17 07:00:00       4      -4         1  \n",
       "2017-08-17 08:00:00       3      -5         1  \n",
       "...                     ...     ...       ...  \n",
       "2021-10-07 05:00:00      -4       4         1  \n",
       "2021-10-07 06:00:00      -3      -2         1  \n",
       "2021-10-07 07:00:00       3       5         1  \n",
       "2021-10-07 08:00:00      -3      -5         1  \n",
       "2021-10-07 09:00:00      -5       3         1  \n",
       "\n",
       "[36168 rows x 8 columns]"
      ]
     },
     "execution_count": 58,
     "metadata": {},
     "output_type": "execute_result"
    }
   ],
   "source": [
    "data"
   ]
  },
  {
   "cell_type": "code",
   "execution_count": 59,
   "metadata": {},
   "outputs": [
    {
     "data": {
      "text/plain": [
       "1    35804\n",
       "0      364\n",
       "Name: position, dtype: int64"
      ]
     },
     "execution_count": 59,
     "metadata": {},
     "output_type": "execute_result"
    }
   ],
   "source": [
    "data.position.value_counts()"
   ]
  },
  {
   "cell_type": "code",
   "execution_count": 60,
   "metadata": {},
   "outputs": [
    {
     "data": {
      "image/png": "[encoded data removed]",
      "text/plain": [
       "<Figure size 864x576 with 1 Axes>"
      ]
     },
     "metadata": {},
     "output_type": "display_data"
    }
   ],
   "source": [
    "data.loc[:, \"position\"].plot(figsize = (12 , 8))\n",
    "plt.show()"
   ]
  },
  {
   "cell_type": "code",
   "execution_count": 61,
   "metadata": {},
   "outputs": [
    {
     "data": {
      "image/png": "[encoded data removed]",
      "text/plain": [
       "<Figure size 864x576 with 1 Axes>"
      ]
     },
     "metadata": {},
     "output_type": "display_data"
    }
   ],
   "source": [
    "data.loc[\"2019-06\", \"position\"].plot(figsize = (12 , 8))\n",
    "plt.show()"
   ]
  },
  {
   "cell_type": "code",
   "execution_count": null,
   "metadata": {},
   "outputs": [],
   "source": []
  },
  {
   "cell_type": "markdown",
   "metadata": {},
   "source": [
    "## Strategy Backtest"
   ]
  },
  {
   "cell_type": "code",
   "execution_count": 62,
   "metadata": {},
   "outputs": [
    {
     "data": {
      "text/html": [
       "<div>\n",
       "<style scoped>\n",
       "    .dataframe tbody tr th:only-of-type {\n",
       "        vertical-align: middle;\n",
       "    }\n",
       "\n",
       "    .dataframe tbody tr th {\n",
       "        vertical-align: top;\n",
       "    }\n",
       "\n",
       "    .dataframe thead th {\n",
       "        text-align: right;\n",
       "    }\n",
       "</style>\n",
       "<table border=\"1\" class=\"dataframe\">\n",
       "  <thead>\n",
       "    <tr style=\"text-align: right;\">\n",
       "      <th></th>\n",
       "      <th>Close</th>\n",
       "      <th>Volume</th>\n",
       "      <th>returns</th>\n",
       "      <th>creturns</th>\n",
       "      <th>vol_ch</th>\n",
       "      <th>ret_cat</th>\n",
       "      <th>vol_cat</th>\n",
       "      <th>position</th>\n",
       "    </tr>\n",
       "    <tr>\n",
       "      <th>Date</th>\n",
       "      <th></th>\n",
       "      <th></th>\n",
       "      <th></th>\n",
       "      <th></th>\n",
       "      <th></th>\n",
       "      <th></th>\n",
       "      <th></th>\n",
       "      <th></th>\n",
       "    </tr>\n",
       "  </thead>\n",
       "  <tbody>\n",
       "    <tr>\n",
       "      <th>2017-08-17 04:00:00</th>\n",
       "      <td>4308.83</td>\n",
       "      <td>47.181009</td>\n",
       "      <td>NaN</td>\n",
       "      <td>NaN</td>\n",
       "      <td>NaN</td>\n",
       "      <td>NaN</td>\n",
       "      <td>NaN</td>\n",
       "      <td>1</td>\n",
       "    </tr>\n",
       "    <tr>\n",
       "      <th>2017-08-17 05:00:00</th>\n",
       "      <td>4315.32</td>\n",
       "      <td>23.234916</td>\n",
       "      <td>0.001505</td>\n",
       "      <td>1.001506</td>\n",
       "      <td>-0.708335</td>\n",
       "      <td>2</td>\n",
       "      <td>-5</td>\n",
       "      <td>1</td>\n",
       "    </tr>\n",
       "    <tr>\n",
       "      <th>2017-08-17 06:00:00</th>\n",
       "      <td>4324.35</td>\n",
       "      <td>7.229691</td>\n",
       "      <td>0.002090</td>\n",
       "      <td>1.003602</td>\n",
       "      <td>-1.167460</td>\n",
       "      <td>2</td>\n",
       "      <td>-5</td>\n",
       "      <td>1</td>\n",
       "    </tr>\n",
       "    <tr>\n",
       "      <th>2017-08-17 07:00:00</th>\n",
       "      <td>4349.99</td>\n",
       "      <td>4.443249</td>\n",
       "      <td>0.005912</td>\n",
       "      <td>1.009552</td>\n",
       "      <td>-0.486810</td>\n",
       "      <td>4</td>\n",
       "      <td>-4</td>\n",
       "      <td>1</td>\n",
       "    </tr>\n",
       "    <tr>\n",
       "      <th>2017-08-17 08:00:00</th>\n",
       "      <td>4360.69</td>\n",
       "      <td>0.972807</td>\n",
       "      <td>0.002457</td>\n",
       "      <td>1.012036</td>\n",
       "      <td>-1.518955</td>\n",
       "      <td>3</td>\n",
       "      <td>-5</td>\n",
       "      <td>1</td>\n",
       "    </tr>\n",
       "    <tr>\n",
       "      <th>...</th>\n",
       "      <td>...</td>\n",
       "      <td>...</td>\n",
       "      <td>...</td>\n",
       "      <td>...</td>\n",
       "      <td>...</td>\n",
       "      <td>...</td>\n",
       "      <td>...</td>\n",
       "      <td>...</td>\n",
       "    </tr>\n",
       "    <tr>\n",
       "      <th>2021-10-07 05:00:00</th>\n",
       "      <td>54735.76</td>\n",
       "      <td>2251.122020</td>\n",
       "      <td>-0.006146</td>\n",
       "      <td>12.703161</td>\n",
       "      <td>0.439863</td>\n",
       "      <td>-4</td>\n",
       "      <td>4</td>\n",
       "      <td>1</td>\n",
       "    </tr>\n",
       "    <tr>\n",
       "      <th>2021-10-07 06:00:00</th>\n",
       "      <td>54534.16</td>\n",
       "      <td>1783.004260</td>\n",
       "      <td>-0.003690</td>\n",
       "      <td>12.656373</td>\n",
       "      <td>-0.233129</td>\n",
       "      <td>-3</td>\n",
       "      <td>-2</td>\n",
       "      <td>1</td>\n",
       "    </tr>\n",
       "    <tr>\n",
       "      <th>2021-10-07 07:00:00</th>\n",
       "      <td>54755.92</td>\n",
       "      <td>4163.431360</td>\n",
       "      <td>0.004058</td>\n",
       "      <td>12.707839</td>\n",
       "      <td>0.848040</td>\n",
       "      <td>3</td>\n",
       "      <td>5</td>\n",
       "      <td>1</td>\n",
       "    </tr>\n",
       "    <tr>\n",
       "      <th>2021-10-07 08:00:00</th>\n",
       "      <td>54538.30</td>\n",
       "      <td>2049.382180</td>\n",
       "      <td>-0.003982</td>\n",
       "      <td>12.657334</td>\n",
       "      <td>-0.708801</td>\n",
       "      <td>-3</td>\n",
       "      <td>-5</td>\n",
       "      <td>1</td>\n",
       "    </tr>\n",
       "    <tr>\n",
       "      <th>2021-10-07 09:00:00</th>\n",
       "      <td>53995.50</td>\n",
       "      <td>2739.153610</td>\n",
       "      <td>-0.010002</td>\n",
       "      <td>12.531360</td>\n",
       "      <td>0.290111</td>\n",
       "      <td>-5</td>\n",
       "      <td>3</td>\n",
       "      <td>1</td>\n",
       "    </tr>\n",
       "  </tbody>\n",
       "</table>\n",
       "<p>36168 rows × 8 columns</p>\n",
       "</div>"
      ],
      "text/plain": [
       "                        Close       Volume   returns   creturns    vol_ch  \\\n",
       "Date                                                                        \n",
       "2017-08-17 04:00:00   4308.83    47.181009       NaN        NaN       NaN   \n",
       "2017-08-17 05:00:00   4315.32    23.234916  0.001505   1.001506 -0.708335   \n",
       "2017-08-17 06:00:00   4324.35     7.229691  0.002090   1.003602 -1.167460   \n",
       "2017-08-17 07:00:00   4349.99     4.443249  0.005912   1.009552 -0.486810   \n",
       "2017-08-17 08:00:00   4360.69     0.972807  0.002457   1.012036 -1.518955   \n",
       "...                       ...          ...       ...        ...       ...   \n",
       "2021-10-07 05:00:00  54735.76  2251.122020 -0.006146  12.703161  0.439863   \n",
       "2021-10-07 06:00:00  54534.16  1783.004260 -0.003690  12.656373 -0.233129   \n",
       "2021-10-07 07:00:00  54755.92  4163.431360  0.004058  12.707839  0.848040   \n",
       "2021-10-07 08:00:00  54538.30  2049.382180 -0.003982  12.657334 -0.708801   \n",
       "2021-10-07 09:00:00  53995.50  2739.153610 -0.010002  12.531360  0.290111   \n",
       "\n",
       "                    ret_cat vol_cat  position  \n",
       "Date                                           \n",
       "2017-08-17 04:00:00     NaN     NaN         1  \n",
       "2017-08-17 05:00:00       2      -5         1  \n",
       "2017-08-17 06:00:00       2      -5         1  \n",
       "2017-08-17 07:00:00       4      -4         1  \n",
       "2017-08-17 08:00:00       3      -5         1  \n",
       "...                     ...     ...       ...  \n",
       "2021-10-07 05:00:00      -4       4         1  \n",
       "2021-10-07 06:00:00      -3      -2         1  \n",
       "2021-10-07 07:00:00       3       5         1  \n",
       "2021-10-07 08:00:00      -3      -5         1  \n",
       "2021-10-07 09:00:00      -5       3         1  \n",
       "\n",
       "[36168 rows x 8 columns]"
      ]
     },
     "execution_count": 62,
     "metadata": {},
     "output_type": "execute_result"
    }
   ],
   "source": [
    "data"
   ]
  },
  {
   "cell_type": "code",
   "execution_count": null,
   "metadata": {},
   "outputs": [],
   "source": [
    "# position to take for the next bar - use shift(1)\n",
    "data[\"strategy\"] = data.position.shift(1) * data[\"returns\"]\n",
    "data"
   ]
  },
  {
   "cell_type": "code",
   "execution_count": null,
   "metadata": {},
   "outputs": [],
   "source": [
    "data.loc[\"2017-08-19\"]"
   ]
  },
  {
   "cell_type": "code",
   "execution_count": null,
   "metadata": {},
   "outputs": [],
   "source": [
    "data[[\"returns\", \"strategy\"]].sum().apply(np.exp) # multiple for buy-and-hold and strategy"
   ]
  },
  {
   "cell_type": "code",
   "execution_count": null,
   "metadata": {},
   "outputs": [],
   "source": [
    "# normalized price with base = 1 for strategy\n",
    "data[\"cstrategy\"] = data[\"strategy\"].cumsum().apply(np.exp) "
   ]
  },
  {
   "cell_type": "code",
   "execution_count": null,
   "metadata": {},
   "outputs": [],
   "source": [
    "data"
   ]
  },
  {
   "cell_type": "code",
   "execution_count": null,
   "metadata": {},
   "outputs": [],
   "source": [
    "data[[\"creturns\", \"cstrategy\"]].plot(figsize = (12 , 8), fontsize = 12)\n",
    "plt.show()"
   ]
  },
  {
   "cell_type": "code",
   "execution_count": null,
   "metadata": {},
   "outputs": [],
   "source": [
    "tp_year = 24 * 365.25  # 1h trading periods per year\n",
    "tp_year"
   ]
  },
  {
   "cell_type": "code",
   "execution_count": null,
   "metadata": {},
   "outputs": [],
   "source": [
    "ann_mean = data[[\"returns\", \"strategy\"]].mean() * tp_year # annualized returns\n",
    "ann_mean"
   ]
  },
  {
   "cell_type": "code",
   "execution_count": null,
   "metadata": {},
   "outputs": [],
   "source": [
    "ann_std = data[[\"returns\", \"strategy\"]].std() * np.sqrt(tp_year) # annualized std\n",
    "ann_std"
   ]
  },
  {
   "cell_type": "code",
   "execution_count": null,
   "metadata": {},
   "outputs": [],
   "source": [
    "sharpe = (np.exp(ann_mean) - 1) / ann_std\n",
    "sharpe"
   ]
  },
  {
   "cell_type": "markdown",
   "metadata": {},
   "source": [
    "Great, but we still ignore:\n",
    "- __Trading Costs__\n",
    "- __Parameter Optimization__\n",
    "- __Forward Testing__ (to avoid/remove data snooping and the lookahead bias)"
   ]
  },
  {
   "cell_type": "code",
   "execution_count": null,
   "metadata": {},
   "outputs": [],
   "source": []
  },
  {
   "cell_type": "markdown",
   "metadata": {},
   "source": [
    "## Trading Costs"
   ]
  },
  {
   "cell_type": "code",
   "execution_count": null,
   "metadata": {},
   "outputs": [],
   "source": [
    "data"
   ]
  },
  {
   "cell_type": "code",
   "execution_count": null,
   "metadata": {},
   "outputs": [],
   "source": [
    "data.position.value_counts()"
   ]
  },
  {
   "cell_type": "code",
   "execution_count": null,
   "metadata": {
    "scrolled": true
   },
   "outputs": [],
   "source": [
    "data.position.diff().fillna(0).abs() # absolute change in position"
   ]
  },
  {
   "cell_type": "code",
   "execution_count": null,
   "metadata": {},
   "outputs": [],
   "source": [
    "data[\"trades\"] = data.position.diff().fillna(0).abs()"
   ]
  },
  {
   "cell_type": "code",
   "execution_count": null,
   "metadata": {},
   "outputs": [],
   "source": [
    "data.trades.value_counts()"
   ]
  },
  {
   "cell_type": "code",
   "execution_count": null,
   "metadata": {},
   "outputs": [],
   "source": [
    "data"
   ]
  },
  {
   "cell_type": "markdown",
   "metadata": {},
   "source": [
    "-> __718 single trades__ (from neutral to long or from long to neutral) <br>\n",
    "-> each trade __triggers trading costs__, don´t ignore them!!! <br>\n",
    "-> Trading Costs __must be included__ in Backtesting!!! <br>"
   ]
  },
  {
   "cell_type": "code",
   "execution_count": null,
   "metadata": {},
   "outputs": [],
   "source": [
    "commissions = 0.00075 # reduced Binance commission 0.075%\n",
    "commissions"
   ]
  },
  {
   "cell_type": "code",
   "execution_count": null,
   "metadata": {},
   "outputs": [],
   "source": [
    "other = 0.0001 # proportional costs for bid-ask spread & slippage (more detailed analysis required!)\n",
    "other"
   ]
  },
  {
   "cell_type": "code",
   "execution_count": null,
   "metadata": {},
   "outputs": [],
   "source": [
    "# total proportional trading costs (negative log return)\n",
    "ptc = np.log(1 - commissions) + np.log(1 - other)\n",
    "ptc"
   ]
  },
  {
   "cell_type": "code",
   "execution_count": null,
   "metadata": {},
   "outputs": [],
   "source": [
    "data"
   ]
  },
  {
   "cell_type": "code",
   "execution_count": null,
   "metadata": {},
   "outputs": [],
   "source": [
    "data[\"strategy_net\"] = data.strategy + data.trades * ptc # strategy returns net of costs"
   ]
  },
  {
   "cell_type": "code",
   "execution_count": null,
   "metadata": {},
   "outputs": [],
   "source": [
    "data[\"cstrategy_net\"] = data.strategy_net.cumsum().apply(np.exp)"
   ]
  },
  {
   "cell_type": "code",
   "execution_count": null,
   "metadata": {},
   "outputs": [],
   "source": [
    "data"
   ]
  },
  {
   "cell_type": "code",
   "execution_count": null,
   "metadata": {},
   "outputs": [],
   "source": [
    "data[[\"creturns\", \"cstrategy\", \"cstrategy_net\"]].plot(figsize = (12 , 8))\n",
    "plt.show()"
   ]
  },
  {
   "cell_type": "code",
   "execution_count": null,
   "metadata": {},
   "outputs": [],
   "source": [
    "data[[\"creturns\", \"cstrategy_net\"]].plot(figsize = (12 , 8))\n",
    "plt.show()"
   ]
  },
  {
   "cell_type": "code",
   "execution_count": null,
   "metadata": {},
   "outputs": [],
   "source": []
  }
 ],
 "metadata": {
  "kernelspec": {
   "display_name": "Python 3 (ipykernel)",
   "language": "python",
   "name": "python3"
  },
  "language_info": {
   "codemirror_mode": {
    "name": "ipython",
    "version": 3
   },
   "file_extension": ".py",
   "mimetype": "text/x-python",
   "name": "python",
   "nbconvert_exporter": "python",
   "pygments_lexer": "ipython3",
   "version": "3.8.13"
  }
 },
 "nbformat": 4,
 "nbformat_minor": 4
}
