{
 "cells": [
  {
   "cell_type": "markdown",
   "id": "dab6e5ec",
   "metadata": {},
   "source": [
    "# Real-time Implementation and Automation of Trading Strategies"
   ]
  },
  {
   "cell_type": "markdown",
   "id": "61a41106",
   "metadata": {},
   "source": [
    "_Disclaimer: <br>\n",
    "The following illustrative examples are for general information and educational purposes only. <br>\n",
    "It is neither investment advice nor a recommendation to trade, invest or take whatsoever actions.<br>\n",
    "The below code should only be used in combination with the Binance Spot Testnet and NOT with a Live Trading Account._"
   ]
  },
  {
   "cell_type": "markdown",
   "id": "4f19bb62",
   "metadata": {},
   "source": [
    "__Insert your Spot Testnet Credentials here__:"
   ]
  },
  {
   "cell_type": "code",
   "execution_count": 1,
   "id": "2b9a8ea5",
   "metadata": {},
   "outputs": [],
   "source": [
    "api_key = \"1YyQbC0fmhZN9GIw0OzKD0L7ku4DNwBIpGI8fBIJmjkPGaJ9OenFCJNonVSIdV4u\"\n",
    "secret_key = \"iQcVaOHQF7P3Y4srHRnT1UBgLM0EzUioiYZXUpWe2rUGbe5ayjoUSigA5ja9qk96\""
   ]
  },
  {
   "cell_type": "markdown",
   "id": "49a45235",
   "metadata": {},
   "source": [
    "## Getting Started"
   ]
  },
  {
   "cell_type": "code",
   "execution_count": 2,
   "id": "4743b747",
   "metadata": {},
   "outputs": [],
   "source": [
    "from binance.client import Client\n",
    "from binance import ThreadedWebsocketManager\n",
    "import pandas as pd"
   ]
  },
  {
   "cell_type": "code",
   "execution_count": 3,
   "id": "84908c00",
   "metadata": {},
   "outputs": [],
   "source": [
    "client = Client(api_key = api_key, api_secret = secret_key, tld = \"com\", testnet = True) # Testnet!!!"
   ]
  },
  {
   "cell_type": "code",
   "execution_count": 4,
   "id": "0c03d176",
   "metadata": {},
   "outputs": [
    {
     "data": {
      "text/plain": [
       "<binance.client.Client at 0x7fe2cdc9eeb0>"
      ]
     },
     "execution_count": 4,
     "metadata": {},
     "output_type": "execute_result"
    }
   ],
   "source": [
    "client"
   ]
  },
  {
   "cell_type": "code",
   "execution_count": 6,
   "id": "b0795d04",
   "metadata": {
    "scrolled": true
   },
   "outputs": [
    {
     "data": {
      "text/plain": [
       "{'makerCommission': 0,\n",
       " 'takerCommission': 0,\n",
       " 'buyerCommission': 0,\n",
       " 'sellerCommission': 0,\n",
       " 'canTrade': True,\n",
       " 'canWithdraw': False,\n",
       " 'canDeposit': False,\n",
       " 'updateTime': 1651642214211,\n",
       " 'accountType': 'SPOT',\n",
       " 'balances': [{'asset': 'BNB',\n",
       "   'free': '1000.00000000',\n",
       "   'locked': '0.00000000'},\n",
       "  {'asset': 'BTC', 'free': '1.00000000', 'locked': '0.00000000'},\n",
       "  {'asset': 'BUSD', 'free': '10000.00000000', 'locked': '0.00000000'},\n",
       "  {'asset': 'ETH', 'free': '100.00000000', 'locked': '0.00000000'},\n",
       "  {'asset': 'LTC', 'free': '500.00000000', 'locked': '0.00000000'},\n",
       "  {'asset': 'TRX', 'free': '500000.00000000', 'locked': '0.00000000'},\n",
       "  {'asset': 'USDT', 'free': '10000.00000000', 'locked': '0.00000000'},\n",
       "  {'asset': 'XRP', 'free': '50000.00000000', 'locked': '0.00000000'}],\n",
       " 'permissions': ['SPOT']}"
      ]
     },
     "execution_count": 6,
     "metadata": {},
     "output_type": "execute_result"
    }
   ],
   "source": [
    "client.get_account() # Test account details"
   ]
  },
  {
   "cell_type": "code",
   "execution_count": null,
   "id": "20e637f5",
   "metadata": {},
   "outputs": [],
   "source": []
  },
  {
   "cell_type": "markdown",
   "id": "737f9d06",
   "metadata": {},
   "source": [
    "## Recap: Streaming and Collecting Real-Time Candles"
   ]
  },
  {
   "cell_type": "code",
   "execution_count": 7,
   "id": "2cfc6c17",
   "metadata": {},
   "outputs": [],
   "source": [
    "twm = ThreadedWebsocketManager()\n",
    "twm.start()"
   ]
  },
  {
   "cell_type": "markdown",
   "id": "89284eb8",
   "metadata": {},
   "source": [
    "__Kline/Candlestick Stream__"
   ]
  },
  {
   "cell_type": "code",
   "execution_count": 8,
   "id": "a21ffdc2",
   "metadata": {},
   "outputs": [
    {
     "data": {
      "text/html": [
       "<div>\n",
       "<style scoped>\n",
       "    .dataframe tbody tr th:only-of-type {\n",
       "        vertical-align: middle;\n",
       "    }\n",
       "\n",
       "    .dataframe tbody tr th {\n",
       "        vertical-align: top;\n",
       "    }\n",
       "\n",
       "    .dataframe thead th {\n",
       "        text-align: right;\n",
       "    }\n",
       "</style>\n",
       "<table border=\"1\" class=\"dataframe\">\n",
       "  <thead>\n",
       "    <tr style=\"text-align: right;\">\n",
       "      <th></th>\n",
       "      <th>Open</th>\n",
       "      <th>High</th>\n",
       "      <th>Low</th>\n",
       "      <th>Close</th>\n",
       "      <th>Volume</th>\n",
       "      <th>Complete</th>\n",
       "    </tr>\n",
       "  </thead>\n",
       "  <tbody>\n",
       "  </tbody>\n",
       "</table>\n",
       "</div>"
      ],
      "text/plain": [
       "Empty DataFrame\n",
       "Columns: [Open, High, Low, Close, Volume, Complete]\n",
       "Index: []"
      ]
     },
     "execution_count": 8,
     "metadata": {},
     "output_type": "execute_result"
    }
   ],
   "source": [
    "df = pd.DataFrame(columns = [\"Open\", \"High\", \"Low\", \"Close\", \"Volume\", \"Complete\"])\n",
    "df"
   ]
  },
  {
   "cell_type": "code",
   "execution_count": 9,
   "id": "079798b4",
   "metadata": {},
   "outputs": [],
   "source": [
    "def stream_candles(msg):\n",
    "    ''' define how to process incoming WebSocket messages '''\n",
    "    \n",
    "    # extract the required items from msg\n",
    "    event_time = pd.to_datetime(msg[\"E\"], unit = \"ms\")\n",
    "    start_time = pd.to_datetime(msg[\"k\"][\"t\"], unit = \"ms\")\n",
    "    first   = float(msg[\"k\"][\"o\"])\n",
    "    high    = float(msg[\"k\"][\"h\"])\n",
    "    low     = float(msg[\"k\"][\"l\"])\n",
    "    close   = float(msg[\"k\"][\"c\"])\n",
    "    volume  = float(msg[\"k\"][\"v\"])\n",
    "    complete=       msg[\"k\"][\"x\"]\n",
    "    \n",
    "    # print out\n",
    "    print(\"Time: {} | Price: {}\".format(event_time, close))\n",
    "    \n",
    "    # feed df (add new bar / update latest bar)\n",
    "    df.loc[start_time] = [first, high, low, close, volume, complete]"
   ]
  },
  {
   "cell_type": "markdown",
   "id": "1e57c6fa",
   "metadata": {},
   "source": [
    "valid intervals - 1m, 3m, 5m, 15m, 30m, 1h, 2h, 4h, 6h, 8h, 12h, 1d, 3d, 1w, 1M"
   ]
  },
  {
   "cell_type": "code",
   "execution_count": 10,
   "id": "e452d450",
   "metadata": {},
   "outputs": [
    {
     "data": {
      "text/plain": [
       "'btcusdt@kline_1m'"
      ]
     },
     "execution_count": 10,
     "metadata": {},
     "output_type": "execute_result"
    },
    {
     "name": "stdout",
     "output_type": "stream",
     "text": [
      "Time: 2022-05-04 08:38:49.918000 | Price: 38908.35\n",
      "Time: 2022-05-04 08:38:52.052000 | Price: 38905.42\n",
      "Time: 2022-05-04 08:38:54.085000 | Price: 38894.8\n",
      "Time: 2022-05-04 08:38:56.090000 | Price: 38910.0\n",
      "Time: 2022-05-04 08:38:58.220000 | Price: 38917.45\n",
      "Time: 2022-05-04 08:39:00.002000 | Price: 38928.38\n",
      "Time: 2022-05-04 08:39:02.154000 | Price: 38936.13\n",
      "Time: 2022-05-04 08:39:04.199000 | Price: 38941.29\n",
      "Time: 2022-05-04 08:39:06.341000 | Price: 38948.14\n",
      "Time: 2022-05-04 08:39:08.443000 | Price: 38940.0\n",
      "Time: 2022-05-04 08:39:10.637000 | Price: 38930.67\n",
      "Time: 2022-05-04 08:39:13.009000 | Price: 38930.68\n",
      "Time: 2022-05-04 08:39:15.015000 | Price: 38919.66\n",
      "Time: 2022-05-04 08:39:17.209000 | Price: 38912.18\n",
      "Time: 2022-05-04 08:39:19.426000 | Price: 38910.01\n",
      "Time: 2022-05-04 08:39:21.631000 | Price: 38914.4\n",
      "Time: 2022-05-04 08:39:23.755000 | Price: 38925.32\n",
      "Time: 2022-05-04 08:39:25.770000 | Price: 38925.31\n",
      "Time: 2022-05-04 08:39:27.987000 | Price: 38925.32\n",
      "Time: 2022-05-04 08:39:30.057000 | Price: 38925.31\n",
      "Time: 2022-05-04 08:39:32.066000 | Price: 38928.23\n",
      "Time: 2022-05-04 08:39:34.081000 | Price: 38918.83\n",
      "Time: 2022-05-04 08:39:36.097000 | Price: 38913.99\n",
      "Time: 2022-05-04 08:39:38.152000 | Price: 38910.01\n",
      "Time: 2022-05-04 08:39:40.386000 | Price: 38910.01\n",
      "Time: 2022-05-04 08:39:42.432000 | Price: 38907.08\n",
      "Time: 2022-05-04 08:39:44.739000 | Price: 38903.82\n",
      "Time: 2022-05-04 08:39:46.927000 | Price: 38903.82\n",
      "Time: 2022-05-04 08:39:49.300000 | Price: 38907.09\n",
      "Time: 2022-05-04 08:39:51.369000 | Price: 38907.08\n",
      "Time: 2022-05-04 08:39:53.442000 | Price: 38907.08\n",
      "Time: 2022-05-04 08:39:55.773000 | Price: 38907.08\n",
      "Time: 2022-05-04 08:39:57.804000 | Price: 38907.08\n",
      "Time: 2022-05-04 08:39:59.828000 | Price: 38897.22\n",
      "Time: 2022-05-04 08:40:00.002000 | Price: 38897.22\n",
      "Time: 2022-05-04 08:40:02.094000 | Price: 38897.23\n",
      "Time: 2022-05-04 08:40:04.207000 | Price: 38898.17\n"
     ]
    }
   ],
   "source": [
    "twm.start_kline_socket(callback = stream_candles, symbol = \"BTCUSDT\", interval = \"1m\")"
   ]
  },
  {
   "cell_type": "code",
   "execution_count": 11,
   "id": "bd68a683",
   "metadata": {},
   "outputs": [
    {
     "name": "stdout",
     "output_type": "stream",
     "text": [
      "Time: 2022-05-04 08:40:06.245000 | Price: 38900.01\n"
     ]
    }
   ],
   "source": [
    "twm.stop()"
   ]
  },
  {
   "cell_type": "code",
   "execution_count": 12,
   "id": "13b731f7",
   "metadata": {},
   "outputs": [
    {
     "data": {
      "text/html": [
       "<div>\n",
       "<style scoped>\n",
       "    .dataframe tbody tr th:only-of-type {\n",
       "        vertical-align: middle;\n",
       "    }\n",
       "\n",
       "    .dataframe tbody tr th {\n",
       "        vertical-align: top;\n",
       "    }\n",
       "\n",
       "    .dataframe thead th {\n",
       "        text-align: right;\n",
       "    }\n",
       "</style>\n",
       "<table border=\"1\" class=\"dataframe\">\n",
       "  <thead>\n",
       "    <tr style=\"text-align: right;\">\n",
       "      <th></th>\n",
       "      <th>Open</th>\n",
       "      <th>High</th>\n",
       "      <th>Low</th>\n",
       "      <th>Close</th>\n",
       "      <th>Volume</th>\n",
       "      <th>Complete</th>\n",
       "    </tr>\n",
       "  </thead>\n",
       "  <tbody>\n",
       "    <tr>\n",
       "      <th>2022-05-04 08:38:00</th>\n",
       "      <td>38940.23</td>\n",
       "      <td>39100.00</td>\n",
       "      <td>38894.79</td>\n",
       "      <td>38928.38</td>\n",
       "      <td>645.80955</td>\n",
       "      <td>True</td>\n",
       "    </tr>\n",
       "    <tr>\n",
       "      <th>2022-05-04 08:39:00</th>\n",
       "      <td>38928.39</td>\n",
       "      <td>38951.40</td>\n",
       "      <td>38897.22</td>\n",
       "      <td>38897.22</td>\n",
       "      <td>53.54576</td>\n",
       "      <td>True</td>\n",
       "    </tr>\n",
       "    <tr>\n",
       "      <th>2022-05-04 08:40:00</th>\n",
       "      <td>38897.22</td>\n",
       "      <td>38900.01</td>\n",
       "      <td>38897.22</td>\n",
       "      <td>38900.01</td>\n",
       "      <td>6.22624</td>\n",
       "      <td>False</td>\n",
       "    </tr>\n",
       "  </tbody>\n",
       "</table>\n",
       "</div>"
      ],
      "text/plain": [
       "                         Open      High       Low     Close     Volume  \\\n",
       "2022-05-04 08:38:00  38940.23  39100.00  38894.79  38928.38  645.80955   \n",
       "2022-05-04 08:39:00  38928.39  38951.40  38897.22  38897.22   53.54576   \n",
       "2022-05-04 08:40:00  38897.22  38900.01  38897.22  38900.01    6.22624   \n",
       "\n",
       "                     Complete  \n",
       "2022-05-04 08:38:00      True  \n",
       "2022-05-04 08:39:00      True  \n",
       "2022-05-04 08:40:00     False  "
      ]
     },
     "execution_count": 12,
     "metadata": {},
     "output_type": "execute_result"
    }
   ],
   "source": [
    "df"
   ]
  },
  {
   "cell_type": "code",
   "execution_count": 13,
   "id": "c0d891a2",
   "metadata": {},
   "outputs": [
    {
     "name": "stdout",
     "output_type": "stream",
     "text": [
      "<class 'pandas.core.frame.DataFrame'>\n",
      "DatetimeIndex: 3 entries, 2022-05-04 08:38:00 to 2022-05-04 08:40:00\n",
      "Data columns (total 6 columns):\n",
      " #   Column    Non-Null Count  Dtype  \n",
      "---  ------    --------------  -----  \n",
      " 0   Open      3 non-null      float64\n",
      " 1   High      3 non-null      float64\n",
      " 2   Low       3 non-null      float64\n",
      " 3   Close     3 non-null      float64\n",
      " 4   Volume    3 non-null      float64\n",
      " 5   Complete  3 non-null      bool   \n",
      "dtypes: bool(1), float64(5)\n",
      "memory usage: 255.0 bytes\n"
     ]
    }
   ],
   "source": [
    "df.info()"
   ]
  },
  {
   "cell_type": "code",
   "execution_count": null,
   "id": "4500df1f",
   "metadata": {},
   "outputs": [],
   "source": []
  },
  {
   "cell_type": "markdown",
   "id": "901144d5",
   "metadata": {},
   "source": [
    "## A LongOnlyTrader Class"
   ]
  },
  {
   "cell_type": "code",
   "execution_count": null,
   "id": "de47eab9",
   "metadata": {},
   "outputs": [],
   "source": [
    "class LongOnlyTrader():\n",
    "    \n",
    "    def __init__(self, symbol, bar_length):\n",
    "        self.symbol = symbol\n",
    "        self.bar_length = bar_length\n",
    "        self.data = pd.DataFrame(columns = [\"Open\", \"High\", \"Low\", \"Close\", \"Volume\", \"Complete\"])\n",
    "        self.available_intervals = [\"1m\", \"3m\", \"5m\", \"15m\", \"30m\", \"1h\", \"2h\", \"4h\", \"6h\", \"8h\", \"12h\", \"1d\", \"3d\", \"1w\", \"1M\"]\n",
    "    \n",
    "    def start_trading(self):\n",
    "        \n",
    "        self.twm = ThreadedWebsocketManager()\n",
    "        self.twm.start()\n",
    "        \n",
    "        if self.bar_length in self.available_intervals:\n",
    "            self.twm.start_kline_socket(callback = self.stream_candles,\n",
    "                                        symbol = self.symbol, interval = self.bar_length)\n",
    "        # \"else\" to be added later in the course \n",
    "    \n",
    "    def stream_candles(self, msg):\n",
    "        \n",
    "        # extract the required items from msg\n",
    "        event_time = pd.to_datetime(msg[\"E\"], unit = \"ms\")\n",
    "        start_time = pd.to_datetime(msg[\"k\"][\"t\"], unit = \"ms\")\n",
    "        first   = float(msg[\"k\"][\"o\"])\n",
    "        high    = float(msg[\"k\"][\"h\"])\n",
    "        low     = float(msg[\"k\"][\"l\"])\n",
    "        close   = float(msg[\"k\"][\"c\"])\n",
    "        volume  = float(msg[\"k\"][\"v\"])\n",
    "        complete=       msg[\"k\"][\"x\"]\n",
    "    \n",
    "        # print out\n",
    "        print(\"Time: {} | Price: {}\".format(event_time, close))\n",
    "    \n",
    "        # feed df (add new bar / update latest bar)\n",
    "        self.data.loc[start_time] = [first, high, low, close, volume, complete]"
   ]
  },
  {
   "cell_type": "code",
   "execution_count": null,
   "id": "9fdb3cb9",
   "metadata": {},
   "outputs": [],
   "source": [
    "trader = LongOnlyTrader(symbol = \"BTCUSDT\", bar_length = \"1m\")\n",
    "trader"
   ]
  },
  {
   "cell_type": "code",
   "execution_count": null,
   "id": "d21a8e3b",
   "metadata": {},
   "outputs": [],
   "source": [
    "trader.symbol"
   ]
  },
  {
   "cell_type": "code",
   "execution_count": null,
   "id": "5c4ad5a8",
   "metadata": {},
   "outputs": [],
   "source": [
    "trader.data"
   ]
  },
  {
   "cell_type": "code",
   "execution_count": null,
   "id": "48cbc4d0",
   "metadata": {},
   "outputs": [],
   "source": [
    "trader.available_intervals"
   ]
  },
  {
   "cell_type": "code",
   "execution_count": null,
   "id": "09c0bf19",
   "metadata": {},
   "outputs": [],
   "source": [
    "trader.start_trading()"
   ]
  },
  {
   "cell_type": "code",
   "execution_count": null,
   "id": "e03e90ce",
   "metadata": {},
   "outputs": [],
   "source": [
    "trader.twm.stop()"
   ]
  },
  {
   "cell_type": "code",
   "execution_count": null,
   "id": "ee572efe",
   "metadata": {},
   "outputs": [],
   "source": [
    "trader.data"
   ]
  },
  {
   "cell_type": "markdown",
   "id": "20ef556d",
   "metadata": {},
   "source": [
    "## Working with historical data and real-time data (Part 1)"
   ]
  },
  {
   "cell_type": "markdown",
   "id": "fe56fbc0",
   "metadata": {},
   "source": [
    "For many Trading Strategies, we need __historical Data__ (e.g. last 2 hours) to create Strategy Features. <br>"
   ]
  },
  {
   "cell_type": "markdown",
   "id": "f4fdca3b",
   "metadata": {},
   "source": [
    "- Option 1: we could __wait__ until our __stream collects sufficient Data__ -> __not practicable__\n",
    "- Option 2: we __pull historical data__ first and __merge__ with live data -> __best practice__"
   ]
  },
  {
   "cell_type": "code",
   "execution_count": 34,
   "id": "fd4f9bb9",
   "metadata": {},
   "outputs": [],
   "source": [
    "from binance.client import Client\n",
    "from binance import ThreadedWebsocketManager\n",
    "import pandas as pd\n",
    "from datetime import datetime, timedelta"
   ]
  },
  {
   "cell_type": "code",
   "execution_count": null,
   "id": "50521016",
   "metadata": {},
   "outputs": [],
   "source": [
    "client = Client(api_key = api_key, api_secret = secret_key, tld = \"com\", testnet = True)"
   ]
  },
  {
   "cell_type": "code",
   "execution_count": 16,
   "id": "4f137514",
   "metadata": {},
   "outputs": [
    {
     "data": {
      "text/plain": [
       "datetime.datetime(2022, 5, 4, 8, 47, 17, 682428)"
      ]
     },
     "execution_count": 16,
     "metadata": {},
     "output_type": "execute_result"
    }
   ],
   "source": [
    "now = datetime.utcnow()\n",
    "now"
   ]
  },
  {
   "cell_type": "markdown",
   "id": "ffa376e9",
   "metadata": {},
   "source": [
    "__Example: Last two days until now__"
   ]
  },
  {
   "cell_type": "code",
   "execution_count": 17,
   "id": "3aad4a5a",
   "metadata": {},
   "outputs": [
    {
     "data": {
      "text/plain": [
       "datetime.datetime(2022, 5, 2, 8, 47, 17, 682428)"
      ]
     },
     "execution_count": 17,
     "metadata": {},
     "output_type": "execute_result"
    }
   ],
   "source": [
    "past = now - timedelta(days = 2)\n",
    "past"
   ]
  },
  {
   "cell_type": "code",
   "execution_count": 45,
   "id": "55fbbdd5",
   "metadata": {},
   "outputs": [
    {
     "data": {
      "text/plain": [
       "'2022-05-02 08:47:17.682428'"
      ]
     },
     "execution_count": 45,
     "metadata": {},
     "output_type": "execute_result"
    }
   ],
   "source": [
    "str(past)"
   ]
  },
  {
   "cell_type": "code",
   "execution_count": 55,
   "id": "67f33ba4",
   "metadata": {},
   "outputs": [
    {
     "name": "stdout",
     "output_type": "stream",
     "text": [
      "1482223122760.0\n",
      "<class 'float'>\n"
     ]
    }
   ],
   "source": [
    "dt_obj = datetime.strptime('20.12.2016 09:38:42,76',\n",
    "                           '%d.%m.%Y %H:%M:%S,%f')\n",
    "millisec = dt_obj.timestamp() * 1000\n",
    "\n",
    "print(millisec)\n",
    "print(type(past.timestamp() * 1000))"
   ]
  },
  {
   "cell_type": "code",
   "execution_count": 50,
   "id": "c0c7555d",
   "metadata": {},
   "outputs": [],
   "source": [
    "def get_most_recent(symbol, interval, days):\n",
    "    \n",
    "    now = datetime.utcnow()\n",
    "    past = now - timedelta(days = days)\n",
    "    past = str(past.timestamp() * 1000)\n",
    "    \n",
    "    bars = client.get_historical_klines(symbol = symbol, interval = interval,\n",
    "                                        start_str = past, end_str = None, limit = 1000)\n",
    "    df = pd.DataFrame(bars)\n",
    "    df[\"Date\"] = pd.to_datetime(df.iloc[:,0], unit = \"ms\")\n",
    "    df.columns = [\"Open Time\", \"Open\", \"High\", \"Low\", \"Close\", \"Volume\",\n",
    "                  \"Clos Time\", \"Quote Asset Volume\", \"Number of Trades\",\n",
    "                  \"Taker Buy Base Asset Volume\", \"Taker Buy Quote Asset Volume\", \"Ignore\", \"Date\"]\n",
    "    df = df[[\"Date\", \"Open\", \"High\", \"Low\", \"Close\", \"Volume\"]].copy()\n",
    "    df.set_index(\"Date\", inplace = True)\n",
    "    for column in df.columns:\n",
    "        df[column] = pd.to_numeric(df[column], errors = \"coerce\")\n",
    "    df[\"Complete\"] = [True for row in range(len(df)-1)] + [False]\n",
    "    \n",
    "    return df"
   ]
  },
  {
   "cell_type": "code",
   "execution_count": 51,
   "id": "a860eb2e",
   "metadata": {},
   "outputs": [
    {
     "data": {
      "text/html": [
       "<div>\n",
       "<style scoped>\n",
       "    .dataframe tbody tr th:only-of-type {\n",
       "        vertical-align: middle;\n",
       "    }\n",
       "\n",
       "    .dataframe tbody tr th {\n",
       "        vertical-align: top;\n",
       "    }\n",
       "\n",
       "    .dataframe thead th {\n",
       "        text-align: right;\n",
       "    }\n",
       "</style>\n",
       "<table border=\"1\" class=\"dataframe\">\n",
       "  <thead>\n",
       "    <tr style=\"text-align: right;\">\n",
       "      <th></th>\n",
       "      <th>Open</th>\n",
       "      <th>High</th>\n",
       "      <th>Low</th>\n",
       "      <th>Close</th>\n",
       "      <th>Volume</th>\n",
       "      <th>Complete</th>\n",
       "    </tr>\n",
       "    <tr>\n",
       "      <th>Date</th>\n",
       "      <th></th>\n",
       "      <th></th>\n",
       "      <th></th>\n",
       "      <th></th>\n",
       "      <th></th>\n",
       "      <th></th>\n",
       "    </tr>\n",
       "  </thead>\n",
       "  <tbody>\n",
       "    <tr>\n",
       "      <th>2022-05-04 06:04:00</th>\n",
       "      <td>38127.16</td>\n",
       "      <td>38127.16</td>\n",
       "      <td>38101.82</td>\n",
       "      <td>38101.82</td>\n",
       "      <td>0.206997</td>\n",
       "      <td>True</td>\n",
       "    </tr>\n",
       "    <tr>\n",
       "      <th>2022-05-04 06:05:00</th>\n",
       "      <td>38101.82</td>\n",
       "      <td>38127.16</td>\n",
       "      <td>37800.63</td>\n",
       "      <td>38127.16</td>\n",
       "      <td>0.020966</td>\n",
       "      <td>True</td>\n",
       "    </tr>\n",
       "    <tr>\n",
       "      <th>2022-05-04 06:06:00</th>\n",
       "      <td>38127.16</td>\n",
       "      <td>38127.16</td>\n",
       "      <td>38127.16</td>\n",
       "      <td>38127.16</td>\n",
       "      <td>0.003297</td>\n",
       "      <td>True</td>\n",
       "    </tr>\n",
       "    <tr>\n",
       "      <th>2022-05-04 06:07:00</th>\n",
       "      <td>38127.16</td>\n",
       "      <td>38127.16</td>\n",
       "      <td>38127.16</td>\n",
       "      <td>38127.16</td>\n",
       "      <td>0.050000</td>\n",
       "      <td>True</td>\n",
       "    </tr>\n",
       "    <tr>\n",
       "      <th>2022-05-04 06:08:00</th>\n",
       "      <td>38127.16</td>\n",
       "      <td>38127.16</td>\n",
       "      <td>38127.16</td>\n",
       "      <td>38127.16</td>\n",
       "      <td>0.002210</td>\n",
       "      <td>True</td>\n",
       "    </tr>\n",
       "    <tr>\n",
       "      <th>...</th>\n",
       "      <td>...</td>\n",
       "      <td>...</td>\n",
       "      <td>...</td>\n",
       "      <td>...</td>\n",
       "      <td>...</td>\n",
       "      <td>...</td>\n",
       "    </tr>\n",
       "    <tr>\n",
       "      <th>2022-05-04 09:50:00</th>\n",
       "      <td>38899.52</td>\n",
       "      <td>38899.72</td>\n",
       "      <td>38863.35</td>\n",
       "      <td>38867.04</td>\n",
       "      <td>2.330245</td>\n",
       "      <td>True</td>\n",
       "    </tr>\n",
       "    <tr>\n",
       "      <th>2022-05-04 09:51:00</th>\n",
       "      <td>38863.34</td>\n",
       "      <td>38868.02</td>\n",
       "      <td>38816.40</td>\n",
       "      <td>38846.02</td>\n",
       "      <td>2.929966</td>\n",
       "      <td>True</td>\n",
       "    </tr>\n",
       "    <tr>\n",
       "      <th>2022-05-04 09:52:00</th>\n",
       "      <td>38831.18</td>\n",
       "      <td>38859.65</td>\n",
       "      <td>38831.18</td>\n",
       "      <td>38846.03</td>\n",
       "      <td>3.615788</td>\n",
       "      <td>True</td>\n",
       "    </tr>\n",
       "    <tr>\n",
       "      <th>2022-05-04 09:53:00</th>\n",
       "      <td>38846.03</td>\n",
       "      <td>38860.92</td>\n",
       "      <td>38835.28</td>\n",
       "      <td>38854.84</td>\n",
       "      <td>3.054798</td>\n",
       "      <td>True</td>\n",
       "    </tr>\n",
       "    <tr>\n",
       "      <th>2022-05-04 09:54:00</th>\n",
       "      <td>38854.84</td>\n",
       "      <td>38854.98</td>\n",
       "      <td>38854.84</td>\n",
       "      <td>38854.98</td>\n",
       "      <td>0.073880</td>\n",
       "      <td>False</td>\n",
       "    </tr>\n",
       "  </tbody>\n",
       "</table>\n",
       "<p>231 rows × 6 columns</p>\n",
       "</div>"
      ],
      "text/plain": [
       "                         Open      High       Low     Close    Volume  \\\n",
       "Date                                                                    \n",
       "2022-05-04 06:04:00  38127.16  38127.16  38101.82  38101.82  0.206997   \n",
       "2022-05-04 06:05:00  38101.82  38127.16  37800.63  38127.16  0.020966   \n",
       "2022-05-04 06:06:00  38127.16  38127.16  38127.16  38127.16  0.003297   \n",
       "2022-05-04 06:07:00  38127.16  38127.16  38127.16  38127.16  0.050000   \n",
       "2022-05-04 06:08:00  38127.16  38127.16  38127.16  38127.16  0.002210   \n",
       "...                       ...       ...       ...       ...       ...   \n",
       "2022-05-04 09:50:00  38899.52  38899.72  38863.35  38867.04  2.330245   \n",
       "2022-05-04 09:51:00  38863.34  38868.02  38816.40  38846.02  2.929966   \n",
       "2022-05-04 09:52:00  38831.18  38859.65  38831.18  38846.03  3.615788   \n",
       "2022-05-04 09:53:00  38846.03  38860.92  38835.28  38854.84  3.054798   \n",
       "2022-05-04 09:54:00  38854.84  38854.98  38854.84  38854.98  0.073880   \n",
       "\n",
       "                     Complete  \n",
       "Date                           \n",
       "2022-05-04 06:04:00      True  \n",
       "2022-05-04 06:05:00      True  \n",
       "2022-05-04 06:06:00      True  \n",
       "2022-05-04 06:07:00      True  \n",
       "2022-05-04 06:08:00      True  \n",
       "...                       ...  \n",
       "2022-05-04 09:50:00      True  \n",
       "2022-05-04 09:51:00      True  \n",
       "2022-05-04 09:52:00      True  \n",
       "2022-05-04 09:53:00      True  \n",
       "2022-05-04 09:54:00     False  \n",
       "\n",
       "[231 rows x 6 columns]"
      ]
     },
     "execution_count": 51,
     "metadata": {},
     "output_type": "execute_result"
    }
   ],
   "source": [
    "df = get_most_recent(symbol = \"BTCUSDT\", interval = \"1m\", days = 2)\n",
    "df"
   ]
  },
  {
   "cell_type": "markdown",
   "id": "8ba4636c",
   "metadata": {},
   "source": [
    "valid intervals - 1m, 3m, 5m, 15m, 30m, 1h, 2h, 4h, 6h, 8h, 12h, 1d, 3d, 1w, 1M"
   ]
  },
  {
   "cell_type": "code",
   "execution_count": 52,
   "id": "555ac73e",
   "metadata": {},
   "outputs": [
    {
     "data": {
      "text/html": [
       "<div>\n",
       "<style scoped>\n",
       "    .dataframe tbody tr th:only-of-type {\n",
       "        vertical-align: middle;\n",
       "    }\n",
       "\n",
       "    .dataframe tbody tr th {\n",
       "        vertical-align: top;\n",
       "    }\n",
       "\n",
       "    .dataframe thead th {\n",
       "        text-align: right;\n",
       "    }\n",
       "</style>\n",
       "<table border=\"1\" class=\"dataframe\">\n",
       "  <thead>\n",
       "    <tr style=\"text-align: right;\">\n",
       "      <th></th>\n",
       "      <th>Open</th>\n",
       "      <th>High</th>\n",
       "      <th>Low</th>\n",
       "      <th>Close</th>\n",
       "      <th>Volume</th>\n",
       "      <th>Complete</th>\n",
       "    </tr>\n",
       "    <tr>\n",
       "      <th>Date</th>\n",
       "      <th></th>\n",
       "      <th></th>\n",
       "      <th></th>\n",
       "      <th></th>\n",
       "      <th></th>\n",
       "      <th></th>\n",
       "    </tr>\n",
       "  </thead>\n",
       "  <tbody>\n",
       "    <tr>\n",
       "      <th>2022-05-04 07:57:00</th>\n",
       "      <td>38654.50</td>\n",
       "      <td>38669.65</td>\n",
       "      <td>38650.01</td>\n",
       "      <td>38665.30</td>\n",
       "      <td>2.681434</td>\n",
       "      <td>True</td>\n",
       "    </tr>\n",
       "    <tr>\n",
       "      <th>2022-05-04 07:58:00</th>\n",
       "      <td>38665.30</td>\n",
       "      <td>38700.76</td>\n",
       "      <td>38648.57</td>\n",
       "      <td>38700.76</td>\n",
       "      <td>4.793804</td>\n",
       "      <td>True</td>\n",
       "    </tr>\n",
       "    <tr>\n",
       "      <th>2022-05-04 07:59:00</th>\n",
       "      <td>38700.76</td>\n",
       "      <td>38713.91</td>\n",
       "      <td>38692.98</td>\n",
       "      <td>38702.86</td>\n",
       "      <td>2.605986</td>\n",
       "      <td>True</td>\n",
       "    </tr>\n",
       "    <tr>\n",
       "      <th>2022-05-04 08:00:00</th>\n",
       "      <td>38701.31</td>\n",
       "      <td>38746.53</td>\n",
       "      <td>38700.80</td>\n",
       "      <td>38746.53</td>\n",
       "      <td>4.061105</td>\n",
       "      <td>True</td>\n",
       "    </tr>\n",
       "    <tr>\n",
       "      <th>2022-05-04 08:01:00</th>\n",
       "      <td>38746.53</td>\n",
       "      <td>38797.73</td>\n",
       "      <td>38713.68</td>\n",
       "      <td>38748.52</td>\n",
       "      <td>3.379543</td>\n",
       "      <td>True</td>\n",
       "    </tr>\n",
       "    <tr>\n",
       "      <th>...</th>\n",
       "      <td>...</td>\n",
       "      <td>...</td>\n",
       "      <td>...</td>\n",
       "      <td>...</td>\n",
       "      <td>...</td>\n",
       "      <td>...</td>\n",
       "    </tr>\n",
       "    <tr>\n",
       "      <th>2022-05-04 09:52:00</th>\n",
       "      <td>38831.18</td>\n",
       "      <td>38859.65</td>\n",
       "      <td>38831.18</td>\n",
       "      <td>38846.03</td>\n",
       "      <td>3.615788</td>\n",
       "      <td>True</td>\n",
       "    </tr>\n",
       "    <tr>\n",
       "      <th>2022-05-04 09:53:00</th>\n",
       "      <td>38846.03</td>\n",
       "      <td>38860.92</td>\n",
       "      <td>38835.28</td>\n",
       "      <td>38854.84</td>\n",
       "      <td>3.054798</td>\n",
       "      <td>True</td>\n",
       "    </tr>\n",
       "    <tr>\n",
       "      <th>2022-05-04 09:54:00</th>\n",
       "      <td>38854.84</td>\n",
       "      <td>38857.23</td>\n",
       "      <td>38843.47</td>\n",
       "      <td>38843.47</td>\n",
       "      <td>2.640996</td>\n",
       "      <td>True</td>\n",
       "    </tr>\n",
       "    <tr>\n",
       "      <th>2022-05-04 09:55:00</th>\n",
       "      <td>38843.47</td>\n",
       "      <td>38848.08</td>\n",
       "      <td>38837.07</td>\n",
       "      <td>38847.91</td>\n",
       "      <td>2.271557</td>\n",
       "      <td>True</td>\n",
       "    </tr>\n",
       "    <tr>\n",
       "      <th>2022-05-04 09:56:00</th>\n",
       "      <td>38847.90</td>\n",
       "      <td>38855.33</td>\n",
       "      <td>38844.86</td>\n",
       "      <td>38851.60</td>\n",
       "      <td>2.468595</td>\n",
       "      <td>False</td>\n",
       "    </tr>\n",
       "  </tbody>\n",
       "</table>\n",
       "<p>120 rows × 6 columns</p>\n",
       "</div>"
      ],
      "text/plain": [
       "                         Open      High       Low     Close    Volume  \\\n",
       "Date                                                                    \n",
       "2022-05-04 07:57:00  38654.50  38669.65  38650.01  38665.30  2.681434   \n",
       "2022-05-04 07:58:00  38665.30  38700.76  38648.57  38700.76  4.793804   \n",
       "2022-05-04 07:59:00  38700.76  38713.91  38692.98  38702.86  2.605986   \n",
       "2022-05-04 08:00:00  38701.31  38746.53  38700.80  38746.53  4.061105   \n",
       "2022-05-04 08:01:00  38746.53  38797.73  38713.68  38748.52  3.379543   \n",
       "...                       ...       ...       ...       ...       ...   \n",
       "2022-05-04 09:52:00  38831.18  38859.65  38831.18  38846.03  3.615788   \n",
       "2022-05-04 09:53:00  38846.03  38860.92  38835.28  38854.84  3.054798   \n",
       "2022-05-04 09:54:00  38854.84  38857.23  38843.47  38843.47  2.640996   \n",
       "2022-05-04 09:55:00  38843.47  38848.08  38837.07  38847.91  2.271557   \n",
       "2022-05-04 09:56:00  38847.90  38855.33  38844.86  38851.60  2.468595   \n",
       "\n",
       "                     Complete  \n",
       "Date                           \n",
       "2022-05-04 07:57:00      True  \n",
       "2022-05-04 07:58:00      True  \n",
       "2022-05-04 07:59:00      True  \n",
       "2022-05-04 08:00:00      True  \n",
       "2022-05-04 08:01:00      True  \n",
       "...                       ...  \n",
       "2022-05-04 09:52:00      True  \n",
       "2022-05-04 09:53:00      True  \n",
       "2022-05-04 09:54:00      True  \n",
       "2022-05-04 09:55:00      True  \n",
       "2022-05-04 09:56:00     False  \n",
       "\n",
       "[120 rows x 6 columns]"
      ]
     },
     "execution_count": 52,
     "metadata": {},
     "output_type": "execute_result"
    }
   ],
   "source": [
    "get_most_recent(symbol = \"BTCUSDT\", interval = \"1m\", days = 2/24)"
   ]
  },
  {
   "cell_type": "code",
   "execution_count": null,
   "id": "950cd704",
   "metadata": {},
   "outputs": [],
   "source": []
  },
  {
   "cell_type": "markdown",
   "id": "a7973168",
   "metadata": {},
   "source": [
    "## Working with historical data and real-time data (Part 2)"
   ]
  },
  {
   "cell_type": "code",
   "execution_count": null,
   "id": "ed2af79e",
   "metadata": {},
   "outputs": [],
   "source": [
    "class LongOnlyTrader():\n",
    "    \n",
    "    def __init__(self, symbol, bar_length):\n",
    "        self.symbol = symbol\n",
    "        self.bar_length = bar_length\n",
    "        # self.data = pd.DataFrame(columns = [\"Open\", \"High\", \"Low\", \"Close\", \"Volume\", \"Complete\"])\n",
    "        self.available_intervals = [\"1m\", \"3m\", \"5m\", \"15m\", \"30m\", \"1h\", \"2h\", \"4h\", \"6h\", \"8h\", \"12h\", \"1d\", \"3d\", \"1w\", \"1M\"]\n",
    "    \n",
    "    def start_trading(self, historical_days):\n",
    "        \n",
    "        self.twm = ThreadedWebsocketManager()\n",
    "        self.twm.start()\n",
    "        \n",
    "        if self.bar_length in self.available_intervals:\n",
    "            self.get_most_recent(symbol = self.symbol, interval = self.bar_length,\n",
    "                                 days = historical_days) # NEW!\n",
    "            self.twm.start_kline_socket(callback = self.stream_candles,\n",
    "                                        symbol = self.symbol, interval = self.bar_length)\n",
    "        # \"else\" to be added later in the course \n",
    "    \n",
    "    def get_most_recent(self, symbol, interval, days): # NEW!\n",
    "    \n",
    "        now = datetime.utcnow()\n",
    "        past = str(now - timedelta(days = days))\n",
    "    \n",
    "        bars = client.get_historical_klines(symbol = symbol, interval = interval,\n",
    "                                            start_str = past, end_str = None, limit = 1000)\n",
    "        df = pd.DataFrame(bars)\n",
    "        df[\"Date\"] = pd.to_datetime(df.iloc[:,0], unit = \"ms\")\n",
    "        df.columns = [\"Open Time\", \"Open\", \"High\", \"Low\", \"Close\", \"Volume\",\n",
    "                      \"Clos Time\", \"Quote Asset Volume\", \"Number of Trades\",\n",
    "                      \"Taker Buy Base Asset Volume\", \"Taker Buy Quote Asset Volume\", \"Ignore\", \"Date\"]\n",
    "        df = df[[\"Date\", \"Open\", \"High\", \"Low\", \"Close\", \"Volume\"]].copy()\n",
    "        df.set_index(\"Date\", inplace = True)\n",
    "        for column in df.columns:\n",
    "            df[column] = pd.to_numeric(df[column], errors = \"coerce\")\n",
    "        df[\"Complete\"] = [True for row in range(len(df)-1)] + [False]\n",
    "        \n",
    "        self.data = df # Create self.data\n",
    "    \n",
    "    def stream_candles(self, msg):\n",
    "        \n",
    "        # extract the required items from msg\n",
    "        event_time = pd.to_datetime(msg[\"E\"], unit = \"ms\")\n",
    "        start_time = pd.to_datetime(msg[\"k\"][\"t\"], unit = \"ms\")\n",
    "        first   = float(msg[\"k\"][\"o\"])\n",
    "        high    = float(msg[\"k\"][\"h\"])\n",
    "        low     = float(msg[\"k\"][\"l\"])\n",
    "        close   = float(msg[\"k\"][\"c\"])\n",
    "        volume  = float(msg[\"k\"][\"v\"])\n",
    "        complete=       msg[\"k\"][\"x\"]\n",
    "    \n",
    "        # print out\n",
    "        print(\"Time: {} | Price: {}\".format(event_time, close))\n",
    "    \n",
    "        # feed df (add new bar / update latest bar)\n",
    "        self.data.loc[start_time] = [first, high, low, close, volume, complete]"
   ]
  },
  {
   "cell_type": "code",
   "execution_count": null,
   "id": "f7f4e9f5",
   "metadata": {},
   "outputs": [],
   "source": [
    "trader = LongOnlyTrader(symbol = \"BTCUSDT\", bar_length = \"1m\")\n",
    "trader"
   ]
  },
  {
   "cell_type": "code",
   "execution_count": null,
   "id": "4e4758fb",
   "metadata": {},
   "outputs": [],
   "source": [
    "trader.start_trading(historical_days = 2)"
   ]
  },
  {
   "cell_type": "code",
   "execution_count": null,
   "id": "966eab15",
   "metadata": {},
   "outputs": [],
   "source": [
    "trader.twm.stop()"
   ]
  },
  {
   "cell_type": "code",
   "execution_count": null,
   "id": "9b3b558c",
   "metadata": {},
   "outputs": [],
   "source": [
    "trader.data.tail(15)"
   ]
  },
  {
   "cell_type": "code",
   "execution_count": 53,
   "id": "8c058411",
   "metadata": {},
   "outputs": [
    {
     "name": "stdout",
     "output_type": "stream",
     "text": [
      "2.5.112\n"
     ]
    }
   ],
   "source": [
    "print(regex.__version__)"
   ]
  },
  {
   "cell_type": "markdown",
   "id": "6379971b",
   "metadata": {},
   "source": [
    "## Adding a Long-Only Strategy"
   ]
  },
  {
   "cell_type": "markdown",
   "id": "9f0c92d8",
   "metadata": {},
   "source": [
    "Let´s implement a Long-only Price & Volume Strategy with the following Parameters:"
   ]
  },
  {
   "cell_type": "markdown",
   "id": "7bb6f0f0",
   "metadata": {},
   "source": [
    "- bar_length = __1m__\n",
    "- Return Threshold: __0%__\n",
    "- Low and High Volume Change Threshold: __[-3.0, 3.0]__\n",
    "- effectively: very simple Contrarian Strategy, sell (buy) if most recent 1m return was positive (negative)\n",
    "- not profitable but many position changes & trades (good for demonstration purposes)"
   ]
  },
  {
   "cell_type": "code",
   "execution_count": null,
   "id": "2a1aadeb",
   "metadata": {},
   "outputs": [],
   "source": [
    "from binance.client import Client\n",
    "from binance import ThreadedWebsocketManager\n",
    "import pandas as pd\n",
    "import numpy as np\n",
    "from datetime import datetime, timedelta"
   ]
  },
  {
   "cell_type": "code",
   "execution_count": null,
   "id": "ceabef59",
   "metadata": {},
   "outputs": [],
   "source": [
    "client = Client(api_key = api_key, api_secret = secret_key, tld = \"com\", testnet = True)"
   ]
  },
  {
   "cell_type": "code",
   "execution_count": null,
   "id": "6b85177e",
   "metadata": {},
   "outputs": [],
   "source": [
    "class LongOnlyTrader():\n",
    "    \n",
    "    def __init__(self, symbol, bar_length, return_thresh, volume_thresh):\n",
    "        \n",
    "        self.symbol = symbol\n",
    "        self.bar_length = bar_length\n",
    "        self.available_intervals = [\"1m\", \"3m\", \"5m\", \"15m\", \"30m\", \"1h\", \"2h\", \"4h\", \"6h\", \"8h\", \"12h\", \"1d\", \"3d\", \"1w\", \"1M\"]\n",
    "        \n",
    "        #*****************add strategy-specific attributes here******************\n",
    "        self.return_thresh = return_thresh\n",
    "        self.volume_thresh = volume_thresh\n",
    "        #************************************************************************\n",
    "    \n",
    "    def start_trading(self, historical_days):\n",
    "        \n",
    "        self.twm = ThreadedWebsocketManager()\n",
    "        self.twm.start()\n",
    "        \n",
    "        if self.bar_length in self.available_intervals:\n",
    "            self.get_most_recent(symbol = self.symbol, interval = self.bar_length,\n",
    "                                 days = historical_days)\n",
    "            self.twm.start_kline_socket(callback = self.stream_candles,\n",
    "                                        symbol = self.symbol, interval = self.bar_length)\n",
    "        # \"else\" to be added later in the course \n",
    "    \n",
    "    def get_most_recent(self, symbol, interval, days):\n",
    "    \n",
    "        now = datetime.utcnow()\n",
    "        past = str(now - timedelta(days = days))\n",
    "    \n",
    "        bars = client.get_historical_klines(symbol = symbol, interval = interval,\n",
    "                                            start_str = past, end_str = None, limit = 1000)\n",
    "        df = pd.DataFrame(bars)\n",
    "        df[\"Date\"] = pd.to_datetime(df.iloc[:,0], unit = \"ms\")\n",
    "        df.columns = [\"Open Time\", \"Open\", \"High\", \"Low\", \"Close\", \"Volume\",\n",
    "                      \"Clos Time\", \"Quote Asset Volume\", \"Number of Trades\",\n",
    "                      \"Taker Buy Base Asset Volume\", \"Taker Buy Quote Asset Volume\", \"Ignore\", \"Date\"]\n",
    "        df = df[[\"Date\", \"Open\", \"High\", \"Low\", \"Close\", \"Volume\"]].copy()\n",
    "        df.set_index(\"Date\", inplace = True)\n",
    "        for column in df.columns:\n",
    "            df[column] = pd.to_numeric(df[column], errors = \"coerce\")\n",
    "        df[\"Complete\"] = [True for row in range(len(df)-1)] + [False]\n",
    "        \n",
    "        self.data = df\n",
    "    \n",
    "    def stream_candles(self, msg):\n",
    "        \n",
    "        # extract the required items from msg\n",
    "        event_time = pd.to_datetime(msg[\"E\"], unit = \"ms\")\n",
    "        start_time = pd.to_datetime(msg[\"k\"][\"t\"], unit = \"ms\")\n",
    "        first   = float(msg[\"k\"][\"o\"])\n",
    "        high    = float(msg[\"k\"][\"h\"])\n",
    "        low     = float(msg[\"k\"][\"l\"])\n",
    "        close   = float(msg[\"k\"][\"c\"])\n",
    "        volume  = float(msg[\"k\"][\"v\"])\n",
    "        complete=       msg[\"k\"][\"x\"]\n",
    "    \n",
    "        # print out\n",
    "        print(\".\", end = \"\", flush = True) # just print something to get a feedback (everything OK) \n",
    "    \n",
    "        # feed df (add new bar / update latest bar)\n",
    "        self.data.loc[start_time] = [first, high, low, close, volume, complete]\n",
    "        \n",
    "        # prepare features and define strategy/trading positions whenever the latest bar is complete\n",
    "        if complete == True:\n",
    "            self.define_strategy()\n",
    "        \n",
    "    def define_strategy(self): # \"strategy-specific\"\n",
    "        \n",
    "        df = self.data.copy()\n",
    "        \n",
    "        #******************** define your strategy here ************************\n",
    "        df = df[[\"Close\", \"Volume\"]].copy()\n",
    "        df[\"returns\"] = np.log(df.Close / df.Close.shift())\n",
    "        df[\"vol_ch\"] = np.log(df.Volume.div(df.Volume.shift(1)))\n",
    "        df.loc[df.vol_ch > 3, \"vol_ch\"] = np.nan\n",
    "        df.loc[df.vol_ch < -3, \"vol_ch\"] = np.nan  \n",
    "        \n",
    "        cond1 = df.returns >= self.return_thresh\n",
    "        cond2 = df.vol_ch.between(self.volume_thresh[0], self.volume_thresh[1])\n",
    "        \n",
    "        df[\"position\"] = 1\n",
    "        df.loc[cond1 & cond2, \"position\"] = 0\n",
    "        #***********************************************************************\n",
    "        \n",
    "        self.prepared_data = df.copy()\n",
    "        "
   ]
  },
  {
   "cell_type": "code",
   "execution_count": null,
   "id": "d8ecf6b4",
   "metadata": {},
   "outputs": [],
   "source": [
    "symbol = \"BTCUSDT\"\n",
    "bar_length = \"1m\"\n",
    "return_thresh = 0\n",
    "volume_thresh = [-3, 3]"
   ]
  },
  {
   "cell_type": "code",
   "execution_count": null,
   "id": "471c15ff",
   "metadata": {},
   "outputs": [],
   "source": [
    "trader = LongOnlyTrader(symbol = symbol, bar_length = bar_length,\n",
    "                        return_thresh = return_thresh, volume_thresh = volume_thresh)"
   ]
  },
  {
   "cell_type": "code",
   "execution_count": null,
   "id": "3dec7735",
   "metadata": {},
   "outputs": [],
   "source": [
    "trader.start_trading(historical_days = 1/24)"
   ]
  },
  {
   "cell_type": "code",
   "execution_count": null,
   "id": "6fa01d25",
   "metadata": {},
   "outputs": [],
   "source": [
    "trader.twm.stop()"
   ]
  },
  {
   "cell_type": "code",
   "execution_count": null,
   "id": "396e1b8d",
   "metadata": {},
   "outputs": [],
   "source": [
    "trader.data"
   ]
  },
  {
   "cell_type": "code",
   "execution_count": null,
   "id": "775613f4",
   "metadata": {},
   "outputs": [],
   "source": [
    "trader.prepared_data"
   ]
  },
  {
   "cell_type": "code",
   "execution_count": null,
   "id": "5bdc4fcd",
   "metadata": {},
   "outputs": [],
   "source": []
  },
  {
   "cell_type": "markdown",
   "id": "400b3a9e",
   "metadata": {},
   "source": [
    "## Placing Orders and Executing Trades"
   ]
  },
  {
   "cell_type": "code",
   "execution_count": null,
   "id": "dce0e3e8",
   "metadata": {},
   "outputs": [],
   "source": [
    "from binance.client import Client\n",
    "from binance import ThreadedWebsocketManager\n",
    "import pandas as pd\n",
    "import numpy as np\n",
    "from datetime import datetime, timedelta"
   ]
  },
  {
   "cell_type": "code",
   "execution_count": null,
   "id": "30eb651c",
   "metadata": {},
   "outputs": [],
   "source": [
    "client = Client(api_key = api_key, api_secret = secret_key, tld = \"com\", testnet = True)"
   ]
  },
  {
   "cell_type": "code",
   "execution_count": null,
   "id": "4918e760",
   "metadata": {},
   "outputs": [],
   "source": [
    "class LongOnlyTrader():\n",
    "    \n",
    "    def __init__(self, symbol, bar_length, return_thresh, volume_thresh, units, position = 0):\n",
    "        \n",
    "        self.symbol = symbol\n",
    "        self.bar_length = bar_length\n",
    "        self.available_intervals = [\"1m\", \"3m\", \"5m\", \"15m\", \"30m\", \"1h\", \"2h\", \"4h\", \"6h\", \"8h\", \"12h\", \"1d\", \"3d\", \"1w\", \"1M\"]\n",
    "        self.units = units # NEW\n",
    "        self.position = position # NEW\n",
    "        \n",
    "        #*****************add strategy-specific attributes here******************\n",
    "        self.return_thresh = return_thresh\n",
    "        self.volume_thresh = volume_thresh\n",
    "        #************************************************************************\n",
    "    \n",
    "    def start_trading(self, historical_days):\n",
    "        \n",
    "        self.twm = ThreadedWebsocketManager()\n",
    "        self.twm.start()\n",
    "        \n",
    "        if self.bar_length in self.available_intervals:\n",
    "            self.get_most_recent(symbol = self.symbol, interval = self.bar_length,\n",
    "                                 days = historical_days)\n",
    "            self.twm.start_kline_socket(callback = self.stream_candles,\n",
    "                                        symbol = self.symbol, interval = self.bar_length)\n",
    "        # \"else\" to be added later in the course \n",
    "    \n",
    "    def get_most_recent(self, symbol, interval, days):\n",
    "    \n",
    "        now = datetime.utcnow()\n",
    "        past = str(now - timedelta(days = days))\n",
    "    \n",
    "        bars = client.get_historical_klines(symbol = symbol, interval = interval,\n",
    "                                            start_str = past, end_str = None, limit = 1000)\n",
    "        df = pd.DataFrame(bars)\n",
    "        df[\"Date\"] = pd.to_datetime(df.iloc[:,0], unit = \"ms\")\n",
    "        df.columns = [\"Open Time\", \"Open\", \"High\", \"Low\", \"Close\", \"Volume\",\n",
    "                      \"Clos Time\", \"Quote Asset Volume\", \"Number of Trades\",\n",
    "                      \"Taker Buy Base Asset Volume\", \"Taker Buy Quote Asset Volume\", \"Ignore\", \"Date\"]\n",
    "        df = df[[\"Date\", \"Open\", \"High\", \"Low\", \"Close\", \"Volume\"]].copy()\n",
    "        df.set_index(\"Date\", inplace = True)\n",
    "        for column in df.columns:\n",
    "            df[column] = pd.to_numeric(df[column], errors = \"coerce\")\n",
    "        df[\"Complete\"] = [True for row in range(len(df)-1)] + [False]\n",
    "        \n",
    "        self.data = df\n",
    "    \n",
    "    def stream_candles(self, msg):\n",
    "        \n",
    "        # extract the required items from msg\n",
    "        event_time = pd.to_datetime(msg[\"E\"], unit = \"ms\")\n",
    "        start_time = pd.to_datetime(msg[\"k\"][\"t\"], unit = \"ms\")\n",
    "        first   = float(msg[\"k\"][\"o\"])\n",
    "        high    = float(msg[\"k\"][\"h\"])\n",
    "        low     = float(msg[\"k\"][\"l\"])\n",
    "        close   = float(msg[\"k\"][\"c\"])\n",
    "        volume  = float(msg[\"k\"][\"v\"])\n",
    "        complete=       msg[\"k\"][\"x\"]\n",
    "    \n",
    "        # print out\n",
    "        print(\".\", end = \"\", flush = True) # just print something to get a feedback (everything OK) \n",
    "    \n",
    "        # feed df (add new bar / update latest bar)\n",
    "        self.data.loc[start_time] = [first, high, low, close, volume, complete]\n",
    "        \n",
    "        # prepare features and define strategy/trading positions whenever the latest bar is complete\n",
    "        if complete == True:\n",
    "            self.define_strategy()\n",
    "            self.execute_trades() # NEW!!!\n",
    "        \n",
    "    def define_strategy(self):\n",
    "        \n",
    "        df = self.data.copy()\n",
    "        \n",
    "        #******************** define your strategy here ************************\n",
    "        df = df[[\"Close\", \"Volume\"]].copy()\n",
    "        df[\"returns\"] = np.log(df.Close / df.Close.shift())\n",
    "        df[\"vol_ch\"] = np.log(df.Volume.div(df.Volume.shift(1)))\n",
    "        df.loc[df.vol_ch > 3, \"vol_ch\"] = np.nan\n",
    "        df.loc[df.vol_ch < -3, \"vol_ch\"] = np.nan  \n",
    "        \n",
    "        cond1 = df.returns >= self.return_thresh\n",
    "        cond2 = df.vol_ch.between(self.volume_thresh[0], self.volume_thresh[1])\n",
    "        \n",
    "        df[\"position\"] = 1\n",
    "        df.loc[cond1 & cond2, \"position\"] = 0\n",
    "        #***********************************************************************\n",
    "        \n",
    "        self.prepared_data = df.copy()\n",
    "    \n",
    "    def execute_trades(self): # NEW!\n",
    "        if self.prepared_data[\"position\"].iloc[-1] == 1: # if position is long -> go/stay long\n",
    "            if self.position == 0:\n",
    "                order = client.create_order(symbol = self.symbol, side = \"BUY\", type = \"MARKET\", quantity = self.units)\n",
    "                print(\"GOING LONG\")\n",
    "            self.position = 1\n",
    "        elif self.prepared_data[\"position\"].iloc[-1] == 0: # if position is neutral -> go/stay neutral\n",
    "            if self.position == 1:\n",
    "                order = client.create_order(symbol = self.symbol, side = \"SELL\", type = \"MARKET\", quantity = self.units)\n",
    "                print(\"GOING NEUTRAL\")\n",
    "            self.position = 0"
   ]
  },
  {
   "cell_type": "code",
   "execution_count": null,
   "id": "bbd7deb3",
   "metadata": {},
   "outputs": [],
   "source": [
    "client.get_account() "
   ]
  },
  {
   "cell_type": "code",
   "execution_count": null,
   "id": "4686fcdb",
   "metadata": {},
   "outputs": [],
   "source": [
    "symbol = \"BTCUSDT\"\n",
    "bar_length = \"1m\"\n",
    "return_thresh = 0\n",
    "volume_thresh = [-3, 3]\n",
    "units = 0.01\n",
    "position = 0"
   ]
  },
  {
   "cell_type": "code",
   "execution_count": null,
   "id": "0cd4b7b8",
   "metadata": {},
   "outputs": [],
   "source": [
    "trader = LongOnlyTrader(symbol = symbol, bar_length = bar_length, return_thresh = return_thresh,\n",
    "                        volume_thresh = volume_thresh, units = units, position = position)"
   ]
  },
  {
   "cell_type": "code",
   "execution_count": null,
   "id": "778fcaed",
   "metadata": {},
   "outputs": [],
   "source": [
    "trader.start_trading(historical_days = 1/24)"
   ]
  },
  {
   "cell_type": "code",
   "execution_count": null,
   "id": "51436d56",
   "metadata": {},
   "outputs": [],
   "source": [
    "trader.twm.stop()"
   ]
  },
  {
   "cell_type": "code",
   "execution_count": null,
   "id": "49fbe71d",
   "metadata": {},
   "outputs": [],
   "source": [
    "trader.prepared_data.tail(20)"
   ]
  },
  {
   "cell_type": "code",
   "execution_count": null,
   "id": "b3325e0f",
   "metadata": {},
   "outputs": [],
   "source": [
    "client.get_account() "
   ]
  },
  {
   "cell_type": "code",
   "execution_count": null,
   "id": "565939a8",
   "metadata": {},
   "outputs": [],
   "source": []
  },
  {
   "cell_type": "markdown",
   "id": "9e136b74",
   "metadata": {},
   "source": [
    "## Trade Monitoring and Reporting"
   ]
  },
  {
   "cell_type": "code",
   "execution_count": null,
   "id": "752ce2d1",
   "metadata": {},
   "outputs": [],
   "source": [
    "from binance.client import Client\n",
    "from binance import ThreadedWebsocketManager\n",
    "import pandas as pd\n",
    "import numpy as np\n",
    "from datetime import datetime, timedelta"
   ]
  },
  {
   "cell_type": "code",
   "execution_count": null,
   "id": "eccd1ffd",
   "metadata": {},
   "outputs": [],
   "source": [
    "client = Client(api_key = api_key, api_secret = secret_key, tld = \"com\", testnet = True)"
   ]
  },
  {
   "cell_type": "code",
   "execution_count": null,
   "id": "fe28e5ac",
   "metadata": {},
   "outputs": [],
   "source": [
    "class LongOnlyTrader():\n",
    "    \n",
    "    def __init__(self, symbol, bar_length, return_thresh, volume_thresh, units, position = 0):\n",
    "        \n",
    "        self.symbol = symbol\n",
    "        self.bar_length = bar_length\n",
    "        self.available_intervals = [\"1m\", \"3m\", \"5m\", \"15m\", \"30m\", \"1h\", \"2h\", \"4h\", \"6h\", \"8h\", \"12h\", \"1d\", \"3d\", \"1w\", \"1M\"]\n",
    "        self.units = units\n",
    "        self.position = position\n",
    "        self.trades = 0 # NEW\n",
    "        self.trade_values = [] # NEW\n",
    "        \n",
    "        #*****************add strategy-specific attributes here******************\n",
    "        self.return_thresh = return_thresh\n",
    "        self.volume_thresh = volume_thresh\n",
    "        #************************************************************************\n",
    "    \n",
    "    def start_trading(self, historical_days):\n",
    "        \n",
    "        self.twm = ThreadedWebsocketManager()\n",
    "        self.twm.start()\n",
    "        \n",
    "        if self.bar_length in self.available_intervals:\n",
    "            self.get_most_recent(symbol = self.symbol, interval = self.bar_length,\n",
    "                                 days = historical_days)\n",
    "            self.twm.start_kline_socket(callback = self.stream_candles,\n",
    "                                        symbol = self.symbol, interval = self.bar_length)\n",
    "        # \"else\" to be added later in the course \n",
    "    \n",
    "    def get_most_recent(self, symbol, interval, days):\n",
    "    \n",
    "        now = datetime.utcnow()\n",
    "        past = str(now - timedelta(days = days))\n",
    "    \n",
    "        bars = client.get_historical_klines(symbol = symbol, interval = interval,\n",
    "                                            start_str = past, end_str = None, limit = 1000)\n",
    "        df = pd.DataFrame(bars)\n",
    "        df[\"Date\"] = pd.to_datetime(df.iloc[:,0], unit = \"ms\")\n",
    "        df.columns = [\"Open Time\", \"Open\", \"High\", \"Low\", \"Close\", \"Volume\",\n",
    "                      \"Clos Time\", \"Quote Asset Volume\", \"Number of Trades\",\n",
    "                      \"Taker Buy Base Asset Volume\", \"Taker Buy Quote Asset Volume\", \"Ignore\", \"Date\"]\n",
    "        df = df[[\"Date\", \"Open\", \"High\", \"Low\", \"Close\", \"Volume\"]].copy()\n",
    "        df.set_index(\"Date\", inplace = True)\n",
    "        for column in df.columns:\n",
    "            df[column] = pd.to_numeric(df[column], errors = \"coerce\")\n",
    "        df[\"Complete\"] = [True for row in range(len(df)-1)] + [False]\n",
    "        \n",
    "        self.data = df\n",
    "    \n",
    "    def stream_candles(self, msg):\n",
    "        \n",
    "        # extract the required items from msg\n",
    "        event_time = pd.to_datetime(msg[\"E\"], unit = \"ms\")\n",
    "        start_time = pd.to_datetime(msg[\"k\"][\"t\"], unit = \"ms\")\n",
    "        first   = float(msg[\"k\"][\"o\"])\n",
    "        high    = float(msg[\"k\"][\"h\"])\n",
    "        low     = float(msg[\"k\"][\"l\"])\n",
    "        close   = float(msg[\"k\"][\"c\"])\n",
    "        volume  = float(msg[\"k\"][\"v\"])\n",
    "        complete=       msg[\"k\"][\"x\"]\n",
    "    \n",
    "        # print out\n",
    "        print(\".\", end = \"\", flush = True) # just print something to get a feedback (everything OK) \n",
    "    \n",
    "        # feed df (add new bar / update latest bar)\n",
    "        self.data.loc[start_time] = [first, high, low, close, volume, complete]\n",
    "        \n",
    "        # prepare features and define strategy/trading positions whenever the latest bar is complete\n",
    "        if complete == True:\n",
    "            self.define_strategy()\n",
    "            self.execute_trades()\n",
    "        \n",
    "    def define_strategy(self):\n",
    "        \n",
    "        df = self.data.copy()\n",
    "        \n",
    "        #******************** define your strategy here ************************\n",
    "        df = df[[\"Close\", \"Volume\"]].copy()\n",
    "        df[\"returns\"] = np.log(df.Close / df.Close.shift())\n",
    "        df[\"vol_ch\"] = np.log(df.Volume.div(df.Volume.shift(1)))\n",
    "        df.loc[df.vol_ch > 3, \"vol_ch\"] = np.nan\n",
    "        df.loc[df.vol_ch < -3, \"vol_ch\"] = np.nan  \n",
    "        \n",
    "        cond1 = df.returns >= self.return_thresh\n",
    "        cond2 = df.vol_ch.between(self.volume_thresh[0], self.volume_thresh[1])\n",
    "        \n",
    "        df[\"position\"] = 1\n",
    "        df.loc[cond1 & cond2, \"position\"] = 0\n",
    "        #***********************************************************************\n",
    "        \n",
    "        self.prepared_data = df.copy()\n",
    "    \n",
    "    def execute_trades(self): \n",
    "        if self.prepared_data[\"position\"].iloc[-1] == 1: # if position is long -> go/stay long\n",
    "            if self.position == 0:\n",
    "                order = client.create_order(symbol = self.symbol, side = \"BUY\", type = \"MARKET\", quantity = self.units)\n",
    "                self.report_trade(order, \"GOING LONG\")  # NEW\n",
    "            self.position = 1\n",
    "        elif self.prepared_data[\"position\"].iloc[-1] == 0: # if position is neutral -> go/stay neutral\n",
    "            if self.position == 1:\n",
    "                order = client.create_order(symbol = self.symbol, side = \"SELL\", type = \"MARKET\", quantity = self.units)\n",
    "                self.report_trade(order, \"GOING NEUTRAL\")  # NEW\n",
    "            self.position = 0\n",
    "    \n",
    "    def report_trade(self, order, going):  # NEW\n",
    "        \n",
    "        # extract data from order object\n",
    "        side = order[\"side\"]\n",
    "        time = pd.to_datetime(order[\"transactTime\"], unit = \"ms\")\n",
    "        base_units = float(order[\"executedQty\"])\n",
    "        quote_units = float(order[\"cummulativeQuoteQty\"])\n",
    "        price = round(quote_units / base_units, 5)\n",
    "        \n",
    "        # calculate trading profits\n",
    "        self.trades += 1\n",
    "        if side == \"BUY\":\n",
    "            self.trade_values.append(-quote_units)\n",
    "        elif side == \"SELL\":\n",
    "            self.trade_values.append(quote_units) \n",
    "        \n",
    "        if self.trades % 2 == 0:\n",
    "            real_profit = round(np.sum(self.trade_values[-2:]), 3) \n",
    "            cum_profits = round(np.sum(self.trade_values), 3)\n",
    "        else: \n",
    "            real_profit = 0\n",
    "            cum_profits = round(np.sum(self.trade_values[:-1]), 3)\n",
    "        \n",
    "        # print trade report\n",
    "        print(2 * \"\\n\" + 100* \"-\")\n",
    "        print(\"{} | {}\".format(time, going)) \n",
    "        print(\"{} | Base_Units = {} | Quote_Units = {} | Price = {} \".format(time, base_units, quote_units, price))\n",
    "        print(\"{} | Profit = {} | CumProfits = {} \".format(time, real_profit, cum_profits))\n",
    "        print(100 * \"-\" + \"\\n\")"
   ]
  },
  {
   "cell_type": "code",
   "execution_count": null,
   "id": "24494a4f",
   "metadata": {},
   "outputs": [],
   "source": [
    "client.get_account()"
   ]
  },
  {
   "cell_type": "code",
   "execution_count": null,
   "id": "508a30ab",
   "metadata": {},
   "outputs": [],
   "source": [
    "symbol = \"BTCUSDT\"\n",
    "bar_length = \"1m\"\n",
    "return_thresh = 0\n",
    "volume_thresh = [-3, 3]\n",
    "units = 0.01\n",
    "position = 0"
   ]
  },
  {
   "cell_type": "code",
   "execution_count": null,
   "id": "d420262a",
   "metadata": {},
   "outputs": [],
   "source": [
    "trader = LongOnlyTrader(symbol = symbol, bar_length = bar_length, return_thresh = return_thresh,\n",
    "                        volume_thresh = volume_thresh, units = units, position = position)"
   ]
  },
  {
   "cell_type": "code",
   "execution_count": null,
   "id": "41070c46",
   "metadata": {},
   "outputs": [],
   "source": [
    "trader.start_trading(historical_days = 1/24)"
   ]
  },
  {
   "cell_type": "code",
   "execution_count": null,
   "id": "f6c49841",
   "metadata": {},
   "outputs": [],
   "source": [
    "trader.twm.stop()"
   ]
  },
  {
   "cell_type": "code",
   "execution_count": null,
   "id": "7789cd51",
   "metadata": {},
   "outputs": [],
   "source": [
    "trader.prepared_data.tail(10)"
   ]
  },
  {
   "cell_type": "code",
   "execution_count": null,
   "id": "befea520",
   "metadata": {},
   "outputs": [],
   "source": [
    "trader.trade_values"
   ]
  },
  {
   "cell_type": "code",
   "execution_count": null,
   "id": "5ac717e0",
   "metadata": {},
   "outputs": [],
   "source": [
    "np.sum(trader.trade_values)"
   ]
  },
  {
   "cell_type": "code",
   "execution_count": null,
   "id": "f7e74a9d",
   "metadata": {},
   "outputs": [],
   "source": [
    "client.get_account() "
   ]
  },
  {
   "cell_type": "code",
   "execution_count": null,
   "id": "bf084d96",
   "metadata": {},
   "outputs": [],
   "source": []
  },
  {
   "cell_type": "markdown",
   "id": "139e41b2",
   "metadata": {},
   "source": [
    "## More ways to (automatically) stop a trading Session"
   ]
  },
  {
   "cell_type": "code",
   "execution_count": null,
   "id": "8b37bcfb",
   "metadata": {},
   "outputs": [],
   "source": [
    "from binance.client import Client\n",
    "from binance import ThreadedWebsocketManager\n",
    "import pandas as pd\n",
    "import numpy as np\n",
    "from datetime import datetime, timedelta"
   ]
  },
  {
   "cell_type": "code",
   "execution_count": null,
   "id": "1e09374e",
   "metadata": {},
   "outputs": [],
   "source": [
    "client = Client(api_key = api_key, api_secret = secret_key, tld = \"com\", testnet = True)"
   ]
  },
  {
   "cell_type": "code",
   "execution_count": null,
   "id": "1b9f49dd",
   "metadata": {},
   "outputs": [],
   "source": [
    "class LongOnlyTrader():\n",
    "    \n",
    "    def __init__(self, symbol, bar_length, return_thresh, volume_thresh, units, position = 0):\n",
    "        \n",
    "        self.symbol = symbol\n",
    "        self.bar_length = bar_length\n",
    "        self.available_intervals = [\"1m\", \"3m\", \"5m\", \"15m\", \"30m\", \"1h\", \"2h\", \"4h\", \"6h\", \"8h\", \"12h\", \"1d\", \"3d\", \"1w\", \"1M\"]\n",
    "        self.units = units\n",
    "        self.position = position\n",
    "        self.trades = 0 \n",
    "        self.trade_values = [] \n",
    "        \n",
    "        #*****************add strategy-specific attributes here******************\n",
    "        self.return_thresh = return_thresh\n",
    "        self.volume_thresh = volume_thresh\n",
    "        #************************************************************************\n",
    "    \n",
    "    def start_trading(self, historical_days):\n",
    "        \n",
    "        self.twm = ThreadedWebsocketManager()\n",
    "        self.twm.start()\n",
    "        \n",
    "        if self.bar_length in self.available_intervals:\n",
    "            self.get_most_recent(symbol = self.symbol, interval = self.bar_length,\n",
    "                                 days = historical_days)\n",
    "            self.twm.start_kline_socket(callback = self.stream_candles,\n",
    "                                        symbol = self.symbol, interval = self.bar_length)\n",
    "        # \"else\" to be added later in the course \n",
    "    \n",
    "    def get_most_recent(self, symbol, interval, days):\n",
    "    \n",
    "        now = datetime.utcnow()\n",
    "        past = str(now - timedelta(days = days))\n",
    "    \n",
    "        bars = client.get_historical_klines(symbol = symbol, interval = interval,\n",
    "                                            start_str = past, end_str = None, limit = 1000)\n",
    "        df = pd.DataFrame(bars)\n",
    "        df[\"Date\"] = pd.to_datetime(df.iloc[:,0], unit = \"ms\")\n",
    "        df.columns = [\"Open Time\", \"Open\", \"High\", \"Low\", \"Close\", \"Volume\",\n",
    "                      \"Clos Time\", \"Quote Asset Volume\", \"Number of Trades\",\n",
    "                      \"Taker Buy Base Asset Volume\", \"Taker Buy Quote Asset Volume\", \"Ignore\", \"Date\"]\n",
    "        df = df[[\"Date\", \"Open\", \"High\", \"Low\", \"Close\", \"Volume\"]].copy()\n",
    "        df.set_index(\"Date\", inplace = True)\n",
    "        for column in df.columns:\n",
    "            df[column] = pd.to_numeric(df[column], errors = \"coerce\")\n",
    "        df[\"Complete\"] = [True for row in range(len(df)-1)] + [False]\n",
    "        \n",
    "        self.data = df\n",
    "    \n",
    "    def stream_candles(self, msg):\n",
    "        \n",
    "        # extract the required items from msg\n",
    "        event_time = pd.to_datetime(msg[\"E\"], unit = \"ms\")\n",
    "        start_time = pd.to_datetime(msg[\"k\"][\"t\"], unit = \"ms\")\n",
    "        first   = float(msg[\"k\"][\"o\"])\n",
    "        high    = float(msg[\"k\"][\"h\"])\n",
    "        low     = float(msg[\"k\"][\"l\"])\n",
    "        close   = float(msg[\"k\"][\"c\"])\n",
    "        volume  = float(msg[\"k\"][\"v\"])\n",
    "        complete=       msg[\"k\"][\"x\"]\n",
    "    \n",
    "        # stop trading session\n",
    "        if event_time >= datetime(2021, 11, 4, 9, 55):\n",
    "            self.twm.stop()\n",
    "            if self.position != 0:\n",
    "                order = client.create_order(symbol = self.symbol, side = \"SELL\", type = \"MARKET\", quantity = self.units)\n",
    "                self.report_trade(order, \"GOING NEUTRAL AND STOP\") \n",
    "                self.position = 0\n",
    "            else: \n",
    "                print(\"STOP\")\n",
    "        \n",
    "        #more stop examples:\n",
    "        # if self.trades >= xyz\n",
    "        # if self.cum_profits <> xyz\n",
    "        \n",
    "        # print out\n",
    "        print(\".\", end = \"\", flush = True) # just print something to get a feedback (everything OK) \n",
    "    \n",
    "        # feed df (add new bar / update latest bar)\n",
    "        self.data.loc[start_time] = [first, high, low, close, volume, complete]\n",
    "        \n",
    "        # prepare features and define strategy/trading positions whenever the latest bar is complete\n",
    "        if complete == True:\n",
    "            self.define_strategy()\n",
    "            self.execute_trades()\n",
    "        \n",
    "    def define_strategy(self):\n",
    "        \n",
    "        df = self.data.copy()\n",
    "        \n",
    "        #******************** define your strategy here ************************\n",
    "        df = df[[\"Close\", \"Volume\"]].copy()\n",
    "        df[\"returns\"] = np.log(df.Close / df.Close.shift())\n",
    "        df[\"vol_ch\"] = np.log(df.Volume.div(df.Volume.shift(1)))\n",
    "        df.loc[df.vol_ch > 3, \"vol_ch\"] = np.nan\n",
    "        df.loc[df.vol_ch < -3, \"vol_ch\"] = np.nan  \n",
    "        \n",
    "        cond1 = df.returns >= self.return_thresh\n",
    "        cond2 = df.vol_ch.between(self.volume_thresh[0], self.volume_thresh[1])\n",
    "        \n",
    "        df[\"position\"] = 1\n",
    "        df.loc[cond1 & cond2, \"position\"] = 0\n",
    "        #***********************************************************************\n",
    "        \n",
    "        self.prepared_data = df.copy()\n",
    "    \n",
    "    def execute_trades(self): \n",
    "        if self.prepared_data[\"position\"].iloc[-1] == 1: # if position is long -> go/stay long\n",
    "            if self.position == 0:\n",
    "                order = client.create_order(symbol = self.symbol, side = \"BUY\", type = \"MARKET\", quantity = self.units)\n",
    "                self.report_trade(order, \"GOING LONG\")  \n",
    "            self.position = 1\n",
    "        elif self.prepared_data[\"position\"].iloc[-1] == 0: # if position is neutral -> go/stay neutral\n",
    "            if self.position == 1:\n",
    "                order = client.create_order(symbol = self.symbol, side = \"SELL\", type = \"MARKET\", quantity = self.units)\n",
    "                self.report_trade(order, \"GOING NEUTRAL\")  \n",
    "            self.position = 0\n",
    "    \n",
    "    def report_trade(self, order, going):\n",
    "        \n",
    "        # extract data from order object\n",
    "        side = order[\"side\"]\n",
    "        time = pd.to_datetime(order[\"transactTime\"], unit = \"ms\")\n",
    "        base_units = float(order[\"executedQty\"])\n",
    "        quote_units = float(order[\"cummulativeQuoteQty\"])\n",
    "        price = round(quote_units / base_units, 5)\n",
    "        \n",
    "        # calculate trading profits\n",
    "        self.trades += 1\n",
    "        if side == \"BUY\":\n",
    "            self.trade_values.append(-quote_units)\n",
    "        elif side == \"SELL\":\n",
    "            self.trade_values.append(quote_units) \n",
    "        \n",
    "        if self.trades % 2 == 0:\n",
    "            real_profit = round(np.sum(self.trade_values[-2:]), 3) \n",
    "            self.cum_profits = round(np.sum(self.trade_values), 3)\n",
    "        else: \n",
    "            real_profit = 0\n",
    "            self.cum_profits = round(np.sum(self.trade_values[:-1]), 3)\n",
    "        \n",
    "        # print trade report\n",
    "        print(2 * \"\\n\" + 100* \"-\")\n",
    "        print(\"{} | {}\".format(time, going)) \n",
    "        print(\"{} | Base_Units = {} | Quote_Units = {} | Price = {} \".format(time, base_units, quote_units, price))\n",
    "        print(\"{} | Profit = {} | CumProfits = {} \".format(time, real_profit, self.cum_profits))\n",
    "        print(100 * \"-\" + \"\\n\")"
   ]
  },
  {
   "cell_type": "code",
   "execution_count": null,
   "id": "0ace63a4",
   "metadata": {},
   "outputs": [],
   "source": [
    "symbol = \"BTCUSDT\"\n",
    "bar_length = \"1m\"\n",
    "return_thresh = 0\n",
    "volume_thresh = [-3, 3]\n",
    "units = 0.01\n",
    "position = 0"
   ]
  },
  {
   "cell_type": "code",
   "execution_count": null,
   "id": "9ba8702f",
   "metadata": {},
   "outputs": [],
   "source": [
    "trader = LongOnlyTrader(symbol = symbol, bar_length = bar_length, return_thresh = return_thresh,\n",
    "                        volume_thresh = volume_thresh, units = units, position = position)"
   ]
  },
  {
   "cell_type": "code",
   "execution_count": null,
   "id": "864cec23",
   "metadata": {},
   "outputs": [],
   "source": [
    "trader.start_trading(historical_days = 1/24)"
   ]
  },
  {
   "cell_type": "code",
   "execution_count": null,
   "id": "9f7c892b",
   "metadata": {},
   "outputs": [],
   "source": [
    "trader.cum_profits"
   ]
  },
  {
   "cell_type": "code",
   "execution_count": null,
   "id": "d91997f0",
   "metadata": {},
   "outputs": [],
   "source": [
    "np.sum(trader.trade_values)"
   ]
  },
  {
   "cell_type": "code",
   "execution_count": null,
   "id": "64c10833",
   "metadata": {},
   "outputs": [],
   "source": []
  }
 ],
 "metadata": {
  "kernelspec": {
   "display_name": "Python 3 (ipykernel)",
   "language": "python",
   "name": "python3"
  },
  "language_info": {
   "codemirror_mode": {
    "name": "ipython",
    "version": 3
   },
   "file_extension": ".py",
   "mimetype": "text/x-python",
   "name": "python",
   "nbconvert_exporter": "python",
   "pygments_lexer": "ipython3",
   "version": "3.8.13"
  }
 },
 "nbformat": 4,
 "nbformat_minor": 5
}
