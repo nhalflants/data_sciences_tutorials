{
 "cells": [
  {
   "cell_type": "code",
   "execution_count": 2,
   "metadata": {},
   "outputs": [],
   "source": [
    "import requests\n",
    "import webbrowser\n",
    "from bs4 import BeautifulSoup"
   ]
  },
  {
   "cell_type": "code",
   "execution_count": 11,
   "metadata": {},
   "outputs": [
    {
     "name": "stdout",
     "output_type": "stream",
     "text": [
      "Collecting lxml\n",
      "  Downloading lxml-4.5.1-cp37-cp37m-macosx_10_9_x86_64.whl (4.4 MB)\n",
      "\u001b[K     |████████████████████████████████| 4.4 MB 1.9 MB/s eta 0:00:01\n",
      "\u001b[?25hInstalling collected packages: lxml\n",
      "Successfully installed lxml-4.5.1\n",
      "Collecting html5lib\n",
      "  Downloading html5lib-1.0.1-py2.py3-none-any.whl (117 kB)\n",
      "\u001b[K     |████████████████████████████████| 117 kB 1.8 MB/s eta 0:00:01\n",
      "\u001b[?25hRequirement already satisfied: six>=1.9 in /Users/manaadvice/opt/anaconda3/envs/python37/lib/python3.7/site-packages (from html5lib) (1.14.0)\n",
      "Requirement already satisfied: webencodings in /Users/manaadvice/opt/anaconda3/envs/python37/lib/python3.7/site-packages (from html5lib) (0.5.1)\n",
      "Installing collected packages: html5lib\n",
      "Successfully installed html5lib-1.0.1\n"
     ]
    }
   ],
   "source": [
    "#!pip install lxml\n",
    "#!pip install html5lib"
   ]
  },
  {
   "cell_type": "code",
   "execution_count": 2,
   "metadata": {},
   "outputs": [],
   "source": [
    "html = \"\"\"\n",
    "<html>\n",
    "    <head>\n",
    "        <title>Natacha</title>\n",
    "    </head>\n",
    "    <body>\n",
    "        <p class=\"title\">\n",
    "            <b>Wedding</b>\n",
    "        </p>\n",
    "        <p class=\"story\">Once upon a time\n",
    "            <a href=\"http://example.com/nat\" class=\"sister\" id=\"link1\">Nat</a>\n",
    "            <a href=\"http://example.com/caro\" class=\"sister\" id=\"link2\">Caro</a>\n",
    "            <a href=\"http://example.com/seb\" class=\"brother\" id=\"link3\">Seb</a>            \n",
    "        </p>\n",
    "    </body>\n",
    "</html>\n",
    "\"\"\""
   ]
  },
  {
   "cell_type": "code",
   "execution_count": 5,
   "metadata": {},
   "outputs": [
    {
     "name": "stdout",
     "output_type": "stream",
     "text": [
      "<html>\n",
      " <head>\n",
      "  <title>\n",
      "   Natacha\n",
      "  </title>\n",
      " </head>\n",
      " <body>\n",
      "  <p class=\"title\">\n",
      "   <b>\n",
      "    Wedding\n",
      "   </b>\n",
      "  </p>\n",
      "  <p class=\"story\">\n",
      "   Once upon a time\n",
      "   <a class=\"sister\" href=\"http://example.com/nat\" id=\"link1\">\n",
      "    Nat\n",
      "   </a>\n",
      "   <a class=\"sister\" href=\"http://example.com/caro\" id=\"link2\">\n",
      "    Caro\n",
      "   </a>\n",
      "   <a class=\"brother\" href=\"http://example.com/seb\" id=\"link3\">\n",
      "    Seb\n",
      "   </a>\n",
      "  </p>\n",
      " </body>\n",
      "</html>\n",
      "\n",
      "<title>Natacha</title>\n"
     ]
    }
   ],
   "source": [
    "soup = BeautifulSoup(html)\n",
    "print(soup.prettify())\n",
    "print(soup.title)"
   ]
  },
  {
   "cell_type": "code",
   "execution_count": 6,
   "metadata": {},
   "outputs": [
    {
     "data": {
      "text/plain": [
       "'body'"
      ]
     },
     "execution_count": 6,
     "metadata": {},
     "output_type": "execute_result"
    }
   ],
   "source": [
    "soup.body.name"
   ]
  },
  {
   "cell_type": "code",
   "execution_count": 7,
   "metadata": {},
   "outputs": [
    {
     "data": {
      "text/plain": [
       "'html'"
      ]
     },
     "execution_count": 7,
     "metadata": {},
     "output_type": "execute_result"
    }
   ],
   "source": [
    "soup.body.parent.name"
   ]
  },
  {
   "cell_type": "code",
   "execution_count": 8,
   "metadata": {},
   "outputs": [
    {
     "data": {
      "text/plain": [
       "<p class=\"title\">\n",
       "<b>Wedding</b>\n",
       "</p>"
      ]
     },
     "execution_count": 8,
     "metadata": {},
     "output_type": "execute_result"
    }
   ],
   "source": [
    "soup.p"
   ]
  },
  {
   "cell_type": "code",
   "execution_count": 9,
   "metadata": {},
   "outputs": [],
   "source": [
    "html = \"\"\"\n",
    "    <h1><a /><b><th <td>\n",
    "\"\"\""
   ]
  },
  {
   "cell_type": "code",
   "execution_count": 18,
   "metadata": {},
   "outputs": [
    {
     "name": "stdout",
     "output_type": "stream",
     "text": [
      "<!DOCTYPE html>\n",
      "<html itemscope=\"\" itemtype=\"http://schema.org/WebPage\" lang=\"nl-BE\">\n",
      " <head>\n",
      "  <meta content=\"text/html; charset=utf-8\" http-equiv=\"Content-Type\"/>\n",
      "  <meta content=\"/images/branding/googleg/1x/googleg_standard_color_128dp.png\" itemprop=\"image\"/>\n",
      "  <title>\n",
      "   Google\n",
      "  </title>\n",
      "  <script nonce=\"d3FW02m5aIdZN9Tz4tTOZA==\">\n",
      "   (function(){window.google={kEI:'3F7aXruSGYT9kwW5_LXABA',kEXPI:'0,18168,183955,3,4,32,1151585,5662,731,223,755,4349,207,3204,10,169,1057,364,925,193,381,576,128,82,31,383,246,5,959,347,48,107,89,841,100,25,530,2,97,1120,967,141,236,42,117,3,50,120,1123179,1197730,419,78,329040,1294,12383,4855,32692,8161,7086,867,28684,9188,8384,1326,3533,1361,283,9008,3029,4738,11033,1808,4998,7932,5296,2054,920,873,1217,2975,6430,11306,3222,4516,2778,919,2277,8,2796,887,706,1279,390,1822,530,149,1103,840,517,1466,56,157,4101,312,1137,2,2063,606,1839,184,1777,520,1947,2229,93,328,1286,14,2927,2247,473,1339,748,1039,3227,2845,9,2902,1869,32,1263,6286,4454,642,2450,2458,1226,1743,3653,1275,108,3407,908,2,941,532,2082,2132,265,2896,2523,2051,840,1337,1098,3,346,230,1835,372,3548,354,350,149,189,3312,2489,28,2224,1992,3098,643,4,499,837,192,17,925,1362,175,1,1060,271,874,395,2,8,42,1818,2287,139,841,917,52,73,4,26,631,551,131,1884,43,75,1224,213,499,172,468,165,426,1594,156,586,1,252,140,286,795,279,499,14,86,3,605,148,739,238,1013,11,263,263,1426,69,94,654,90,95,734,443,140,326,2,37,370,79,151,465,158,82,494,269,16,180,30,259,12,246,1773,3,481,392,94,979,12,676,3,756,170,51,5804722,1874,1804020,4194155,650,2801217,549,333,444,1,2,80,1,900,896,6,3,1,2,2551,1,748,141,59,736,563,1,4265,1,1,1,1,137,1,879,9,305,2494,104,4,1,20,2,12,1,4,2,2,1,1,1,3389629,20572125,42,2682692,1589',kBL:'TMhW'};google.sn='webhp';google.kHL='nl-BE';})();(function(){google.lc=[];google.li=0;google.getEI=function(a){for(var c;a&&(!a.getAttribute||!(c=a.getAttribute(\"eid\")));)a=a.parentNode;return c||google.kEI};google.getLEI=function(a){for(var c=null;a&&(!a.getAttribute||!(c=a.getAttribute(\"leid\")));)a=a.parentNode;return c};google.ml=function(){return null};google.time=function(){return Date.now()};google.log=function(a,c,b,d,g){if(b=google.logUrl(a,c,b,d,g)){a=new Image;var e=google.lc,f=google.li;e[f]=a;a.onerror=a.onload=a.onabort=function(){delete e[f]};google.vel&&google.vel.lu&&google.vel.lu(b);a.src=b;google.li=f+1}};google.logUrl=function(a,c,b,d,g){var e=\"\",f=google.ls||\"\";b||-1!=c.search(\"&ei=\")||(e=\"&ei=\"+google.getEI(d),-1==c.search(\"&lei=\")&&(d=google.getLEI(d))&&(e+=\"&lei=\"+d));d=\"\";!b&&google.cshid&&-1==c.search(\"&cshid=\")&&\"slh\"!=a&&(d=\"&cshid=\"+google.cshid);b=b||\"/\"+(g||\"gen_204\")+\"?atyp=i&ct=\"+a+\"&cad=\"+c+e+f+\"&zx=\"+google.time()+d;/^http:/i.test(b)&&\"https:\"==window.location.protocol&&(google.ml(Error(\"a\"),!1,{src:b,glmm:1}),b=\"\");return b};}).call(this);(function(){google.y={};google.x=function(a,b){if(a)var c=a.id;else{do c=Math.random();while(google.y[c])}google.y[c]=[a,b];return!1};google.lm=[];google.plm=function(a){google.lm.push.apply(google.lm,a)};google.lq=[];google.load=function(a,b,c){google.lq.push([[a],b,c])};google.loadAll=function(a,b){google.lq.push([a,b])};}).call(this);google.f={};(function(){\n",
      "document.documentElement.addEventListener(\"submit\",function(b){var a;if(a=b.target){var c=a.getAttribute(\"data-submitfalse\");a=\"1\"==c||\"q\"==c&&!a.elements.q.value?!0:!1}else a=!1;a&&(b.preventDefault(),b.stopPropagation())},!0);document.documentElement.addEventListener(\"click\",function(b){var a;a:{for(a=b.target;a&&a!=document.documentElement;a=a.parentElement)if(\"A\"==a.tagName){a=\"1\"==a.getAttribute(\"data-nohref\");break a}a=!1}a&&b.preventDefault()},!0);}).call(this);\n",
      "var a=window.location,b=a.href.indexOf(\"#\");if(0<=b){var c=a.href.substring(b+1);/(^|&)q=/.test(c)&&-1==c.indexOf(\"#\")&&a.replace(\"/search?\"+c.replace(/(^|&)fp=[^&]*/g,\"\")+\"&cad=h\")};\n",
      "  </script>\n",
      "  <style>\n",
      "   #gbar,#guser{font-size:13px;padding-top:1px !important;}#gbar{height:22px}#guser{padding-bottom:7px !important;text-align:right}.gbh,.gbd{border-top:1px solid #c9d7f1;font-size:1px}.gbh{height:0;position:absolute;top:24px;width:100%}@media all{.gb1{height:22px;margin-right:.5em;vertical-align:top}#gbar{float:left}}a.gb1,a.gb4{text-decoration:underline !important}a.gb1,a.gb4{color:#00c !important}.gbi .gb4{color:#dd8e27 !important}.gbf .gb4{color:#900 !important}\n",
      "  </style>\n",
      "  <style>\n",
      "   body,td,a,p,.h{font-family:arial,sans-serif}body{margin:0;overflow-y:scroll}#gog{padding:3px 8px 0}td{line-height:.8em}.gac_m td{line-height:17px}form{margin-bottom:20px}.h{color:#36c}.q{color:#00c}.ts td{padding:0}.ts{border-collapse:collapse}em{font-weight:bold;font-style:normal}.lst{height:25px;width:496px}.gsfi,.lst{font:18px arial,sans-serif}.gsfs{font:17px arial,sans-serif}.ds{display:inline-box;display:inline-block;margin:3px 0 4px;margin-left:4px}input{font-family:inherit}body{background:#fff;color:#000}a{color:#11c;text-decoration:none}a:hover,a:active{text-decoration:underline}.fl a{color:#36c}a:visited{color:#551a8b}.sblc{padding-top:5px}.sblc a{display:block;margin:2px 0;margin-left:13px;font-size:11px}.lsbb{background:#eee;border:solid 1px;border-color:#ccc #999 #999 #ccc;height:30px}.lsbb{display:block}.ftl,#fll a{display:inline-block;margin:0 12px}.lsb{background:url(/images/nav_logo229.png) 0 -261px repeat-x;border:none;color:#000;cursor:pointer;height:30px;margin:0;outline:0;font:15px arial,sans-serif;vertical-align:top}.lsb:active{background:#ccc}.lst:focus{outline:none}\n",
      "  </style>\n",
      "  <script nonce=\"d3FW02m5aIdZN9Tz4tTOZA==\">\n",
      "  </script>\n",
      " </head>\n",
      " <body bgcolor=\"#fff\">\n",
      "  <script nonce=\"d3FW02m5aIdZN9Tz4tTOZA==\">\n",
      "   (function(){var src='/images/nav_logo229.png';var iesg=false;document.body.onload = function(){window.n && window.n();if (document.images){new Image().src=src;}\n",
      "if (!iesg){document.f&&document.f.q.focus();document.gbqf&&document.gbqf.q.focus();}\n",
      "}\n",
      "})();\n",
      "  </script>\n",
      "  <div id=\"mngb\">\n",
      "   <div id=\"gbar\">\n",
      "    <nobr>\n",
      "     <b class=\"gb1\">\n",
      "      Zoeken\n",
      "     </b>\n",
      "     <a class=\"gb1\" href=\"https://www.google.be/imghp?hl=nl&amp;tab=wi\">\n",
      "      Afbeeldingen\n",
      "     </a>\n",
      "     <a class=\"gb1\" href=\"https://maps.google.be/maps?hl=nl&amp;tab=wl\">\n",
      "      Maps\n",
      "     </a>\n",
      "     <a class=\"gb1\" href=\"https://play.google.com/?hl=nl&amp;tab=w8\">\n",
      "      Play\n",
      "     </a>\n",
      "     <a class=\"gb1\" href=\"https://www.youtube.com/?gl=BE&amp;tab=w1\">\n",
      "      YouTube\n",
      "     </a>\n",
      "     <a class=\"gb1\" href=\"https://news.google.be/nwshp?hl=nl&amp;tab=wn\">\n",
      "      Nieuws\n",
      "     </a>\n",
      "     <a class=\"gb1\" href=\"https://mail.google.com/mail/?tab=wm\">\n",
      "      Gmail\n",
      "     </a>\n",
      "     <a class=\"gb1\" href=\"https://drive.google.com/?tab=wo\">\n",
      "      Drive\n",
      "     </a>\n",
      "     <a class=\"gb1\" href=\"https://www.google.be/intl/nl/about/products?tab=wh\" style=\"text-decoration:none\">\n",
      "      <u>\n",
      "       Meer\n",
      "      </u>\n",
      "      »\n",
      "     </a>\n",
      "    </nobr>\n",
      "   </div>\n",
      "   <div id=\"guser\" width=\"100%\">\n",
      "    <nobr>\n",
      "     <span class=\"gbi\" id=\"gbn\">\n",
      "     </span>\n",
      "     <span class=\"gbf\" id=\"gbf\">\n",
      "     </span>\n",
      "     <span id=\"gbe\">\n",
      "     </span>\n",
      "     <a class=\"gb4\" href=\"http://www.google.be/history/optout?hl=nl\">\n",
      "      Webgeschiedenis\n",
      "     </a>\n",
      "     |\n",
      "     <a class=\"gb4\" href=\"/preferences?hl=nl\">\n",
      "      Instellingen\n",
      "     </a>\n",
      "     |\n",
      "     <a class=\"gb4\" href=\"https://accounts.google.com/ServiceLogin?hl=nl&amp;passive=true&amp;continue=https://www.google.com/\" id=\"gb_70\" target=\"_top\">\n",
      "      Inloggen\n",
      "     </a>\n",
      "    </nobr>\n",
      "   </div>\n",
      "   <div class=\"gbh\" style=\"left:0\">\n",
      "   </div>\n",
      "   <div class=\"gbh\" style=\"right:0\">\n",
      "   </div>\n",
      "  </div>\n",
      "  <center>\n",
      "   <br clear=\"all\" id=\"lgpd\"/>\n",
      "   <div id=\"lga\">\n",
      "    <img alt=\"Google\" height=\"92\" id=\"hplogo\" src=\"/images/branding/googlelogo/1x/googlelogo_white_background_color_272x92dp.png\" style=\"padding:28px 0 14px\" width=\"272\"/>\n",
      "    <br/>\n",
      "    <br/>\n",
      "   </div>\n",
      "   <form action=\"/search\" name=\"f\">\n",
      "    <table cellpadding=\"0\" cellspacing=\"0\">\n",
      "     <tr valign=\"top\">\n",
      "      <td width=\"25%\">\n",
      "      </td>\n",
      "      <td align=\"center\" nowrap=\"\">\n",
      "       <input name=\"ie\" type=\"hidden\" value=\"ISO-8859-1\"/>\n",
      "       <input name=\"hl\" type=\"hidden\" value=\"nl-BE\"/>\n",
      "       <input name=\"source\" type=\"hidden\" value=\"hp\"/>\n",
      "       <input name=\"biw\" type=\"hidden\"/>\n",
      "       <input name=\"bih\" type=\"hidden\"/>\n",
      "       <div class=\"ds\" style=\"height:32px;margin:4px 0\">\n",
      "        <input autocomplete=\"off\" class=\"lst\" maxlength=\"2048\" name=\"q\" size=\"57\" style=\"margin:0;padding:5px 8px 0 6px;vertical-align:top;color:#000\" title=\"Google zoeken\" value=\"\"/>\n",
      "       </div>\n",
      "       <br style=\"line-height:0\"/>\n",
      "       <span class=\"ds\">\n",
      "        <span class=\"lsbb\">\n",
      "         <input class=\"lsb\" name=\"btnG\" type=\"submit\" value=\"Google zoeken\"/>\n",
      "        </span>\n",
      "       </span>\n",
      "       <span class=\"ds\">\n",
      "        <span class=\"lsbb\">\n",
      "         <input class=\"lsb\" id=\"tsuid1\" name=\"btnI\" type=\"submit\" value=\"Ik doe een gok\"/>\n",
      "         <script nonce=\"d3FW02m5aIdZN9Tz4tTOZA==\">\n",
      "          (function(){var id='tsuid1';document.getElementById(id).onclick = function(){if (this.form.q.value){this.checked = 1;if (this.form.iflsig)this.form.iflsig.disabled = false;}\n",
      "else top.location='/doodles/';};})();\n",
      "         </script>\n",
      "         <input name=\"iflsig\" type=\"hidden\" value=\"AINFCbYAAAAAXtps7FTgIHkSzQG3stAzS7huatmQc40W\"/>\n",
      "        </span>\n",
      "       </span>\n",
      "      </td>\n",
      "      <td align=\"left\" class=\"fl sblc\" nowrap=\"\" width=\"25%\">\n",
      "       <a href=\"/advanced_search?hl=nl-BE&amp;authuser=0\">\n",
      "        Geavanceerd zoeken\n",
      "       </a>\n",
      "      </td>\n",
      "     </tr>\n",
      "    </table>\n",
      "    <input id=\"gbv\" name=\"gbv\" type=\"hidden\" value=\"1\"/>\n",
      "    <script nonce=\"d3FW02m5aIdZN9Tz4tTOZA==\">\n",
      "     (function(){var a,b=\"1\";if(document&&document.getElementById)if(\"undefined\"!=typeof XMLHttpRequest)b=\"2\";else if(\"undefined\"!=typeof ActiveXObject){var c,d,e=[\"MSXML2.XMLHTTP.6.0\",\"MSXML2.XMLHTTP.3.0\",\"MSXML2.XMLHTTP\",\"Microsoft.XMLHTTP\"];for(c=0;d=e[c++];)try{new ActiveXObject(d),b=\"2\"}catch(h){}}a=b;if(\"2\"==a&&-1==location.search.indexOf(\"&gbv=2\")){var f=google.gbvu,g=document.getElementById(\"gbv\");g&&(g.value=a);f&&window.setTimeout(function(){location.href=f},0)};}).call(this);\n",
      "    </script>\n",
      "   </form>\n",
      "   <div id=\"gac_scont\">\n",
      "   </div>\n",
      "   <div style=\"font-size:83%;min-height:3.5em\">\n",
      "    <br/>\n",
      "    <div id=\"gws-output-pages-elements-homepage_additional_languages__als\">\n",
      "     <style>\n",
      "      #gws-output-pages-elements-homepage_additional_languages__als{font-size:small;margin-bottom:24px}#SIvCob{display:inline-block;line-height:28px;}#SIvCob a{padding:0 3px;}.H6sW5{display:inline-block;margin:0 2px;white-space:nowrap}.z4hgWe{display:inline-block;margin:0 2px}\n",
      "     </style>\n",
      "     <div id=\"SIvCob\">\n",
      "      Google aangeboden in:\n",
      "      <a href=\"https://www.google.com/setprefs?sig=0_TtvM6DopNhqOZq57Dl7Fnx5DbmU%3D&amp;hl=fr&amp;source=homepage&amp;sa=X&amp;ved=0ahUKEwi78NqP-erpAhWE_qQKHTl-DUgQ2ZgBCAU\">\n",
      "       Français\n",
      "      </a>\n",
      "      <a href=\"https://www.google.com/setprefs?sig=0_TtvM6DopNhqOZq57Dl7Fnx5DbmU%3D&amp;hl=de&amp;source=homepage&amp;sa=X&amp;ved=0ahUKEwi78NqP-erpAhWE_qQKHTl-DUgQ2ZgBCAY\">\n",
      "       Deutsch\n",
      "      </a>\n",
      "      <a href=\"https://www.google.com/setprefs?sig=0_TtvM6DopNhqOZq57Dl7Fnx5DbmU%3D&amp;hl=en&amp;source=homepage&amp;sa=X&amp;ved=0ahUKEwi78NqP-erpAhWE_qQKHTl-DUgQ2ZgBCAc\">\n",
      "       English\n",
      "      </a>\n",
      "     </div>\n",
      "    </div>\n",
      "   </div>\n",
      "   <span id=\"footer\">\n",
      "    <div style=\"font-size:10pt\">\n",
      "     <div id=\"fll\" style=\"margin:19px auto;text-align:center\">\n",
      "      <a href=\"/intl/nl/ads/\">\n",
      "       Advertentieprogramma's\n",
      "      </a>\n",
      "      <a href=\"http://www.google.be/intl/nl/services/\">\n",
      "       Bedrijfsoplossingen\n",
      "      </a>\n",
      "      <a href=\"/intl/nl/about.html\">\n",
      "       Alles over Google\n",
      "      </a>\n",
      "      <a href=\"https://www.google.com/setprefdomain?prefdom=BE&amp;prev=https://www.google.be/&amp;sig=K_64-tJlEr-xQlRL4uP2KNgrzFyFE%3D\">\n",
      "       Google.be\n",
      "      </a>\n",
      "     </div>\n",
      "    </div>\n",
      "    <p style=\"font-size:8pt;color:#767676\">\n",
      "     © 2020 -\n",
      "     <a href=\"/intl/nl/policies/privacy/\">\n",
      "      Privacy\n",
      "     </a>\n",
      "     -\n",
      "     <a href=\"/intl/nl/policies/terms/\">\n",
      "      Voorwaarden\n",
      "     </a>\n",
      "    </p>\n",
      "   </span>\n",
      "  </center>\n",
      "  <script nonce=\"d3FW02m5aIdZN9Tz4tTOZA==\">\n",
      "   (function(){window.google.cdo={height:0,width:0};(function(){var a=window.innerWidth,b=window.innerHeight;if(!a||!b){var c=window.document,d=\"CSS1Compat\"==c.compatMode?c.documentElement:c.body;a=d.clientWidth;b=d.clientHeight}a&&b&&(a!=google.cdo.width||b!=google.cdo.height)&&google.log(\"\",\"\",\"/client_204?&atyp=i&biw=\"+a+\"&bih=\"+b+\"&ei=\"+google.kEI);}).call(this);})();(function(){var u='/xjs/_/js/k\\x3dxjs.hp.en.sZBwuc7LsCg.O/m\\x3dsb_he,d/am\\x3dAC8ENgc/d\\x3d1/rs\\x3dACT90oG128R1cORLRpQAanRSkqsMDUHqLw';\n",
      "setTimeout(function(){var b=document;var a=\"SCRIPT\";\"application/xhtml+xml\"===b.contentType&&(a=a.toLowerCase());a=b.createElement(a);a.src=u;google.timers&&google.timers.load&&google.tick&&google.tick(\"load\",\"xjsls\");document.body.appendChild(a)},0);})();(function(){window.google.xjsu='/xjs/_/js/k\\x3dxjs.hp.en.sZBwuc7LsCg.O/m\\x3dsb_he,d/am\\x3dAC8ENgc/d\\x3d1/rs\\x3dACT90oG128R1cORLRpQAanRSkqsMDUHqLw';})();function _DumpException(e){throw e;}\n",
      "function _F_installCss(c){}\n",
      "(function(){google.jl={dw:false,em:[],emw:false,lls:'default',pdt:0,snet:true,uwp:true};})();(function(){var pmc='{\\x22d\\x22:{},\\x22sb_he\\x22:{\\x22agen\\x22:true,\\x22cgen\\x22:true,\\x22client\\x22:\\x22heirloom-hp\\x22,\\x22dh\\x22:true,\\x22dhqt\\x22:true,\\x22ds\\x22:\\x22\\x22,\\x22ffql\\x22:\\x22en\\x22,\\x22fl\\x22:true,\\x22host\\x22:\\x22google.com\\x22,\\x22isbh\\x22:28,\\x22jsonp\\x22:true,\\x22msgs\\x22:{\\x22cibl\\x22:\\x22Zoekopdracht wissen\\x22,\\x22dym\\x22:\\x22Bedoelde je:\\x22,\\x22lcky\\x22:\\x22Ik doe een gok\\x22,\\x22lml\\x22:\\x22Meer informatie\\x22,\\x22oskt\\x22:\\x22Invoertools\\x22,\\x22psrc\\x22:\\x22Deze zoekopdracht is verwijderd uit je \\\\u003Ca href\\x3d\\\\\\x22/history\\\\\\x22\\\\u003EWebgeschiedenis\\\\u003C/a\\\\u003E\\x22,\\x22psrl\\x22:\\x22Verwijderen\\x22,\\x22sbit\\x22:\\x22Zoeken op afbeelding\\x22,\\x22srch\\x22:\\x22Google zoeken\\x22},\\x22ovr\\x22:{},\\x22pq\\x22:\\x22\\x22,\\x22refpd\\x22:true,\\x22rfs\\x22:[],\\x22sbpl\\x22:16,\\x22sbpr\\x22:16,\\x22scd\\x22:10,\\x22stok\\x22:\\x22p-BM-h_loBJZPhJHJ7Ln75y33gw\\x22,\\x22uhde\\x22:false}}';google.pmc=JSON.parse(pmc);})();\n",
      "  </script>\n",
      " </body>\n",
      "</html>\n"
     ]
    }
   ],
   "source": [
    "resp = requests.get('https://google.com')\n",
    "soup = BeautifulSoup(resp.text)\n",
    "print(soup.prettify())"
   ]
  },
  {
   "cell_type": "code",
   "execution_count": 4,
   "metadata": {},
   "outputs": [],
   "source": [
    "import re\n",
    "\n",
    "with open('files/TomJerry_story.html') as html_code:\n",
    "    soup = BeautifulSoup(html_code, 'lxml')"
   ]
  },
  {
   "cell_type": "code",
   "execution_count": 5,
   "metadata": {},
   "outputs": [
    {
     "name": "stdout",
     "output_type": "stream",
     "text": [
      "<html>\n",
      " <head>\n",
      "  <title>\n",
      "   The story of Tom and Jerry\n",
      "  </title>\n",
      " </head>\n",
      " <body>\n",
      "  <p class=\"title\">\n",
      "   <b>\n",
      "    Tom and Jerry\n",
      "   </b>\n",
      "  </p>\n",
      "  <img alt=\"cartoon_image\" height=\"300\" src=\"TomAndJerry.jpg\" width=\"300\"/>\n",
      "  <p class=\"comedy animated series\">\n",
      "   Tom and Jerry is an American animated series of comedy short films created by\n",
      "   <a class=\"creator\" href=\"https://en.wikipedia.org/wiki/William_Hanna\" id=\"link1\">\n",
      "    William_Hanna\n",
      "   </a>\n",
      "   and\n",
      "   <a class=\"creator\" href=\"https://en.wikipedia.org/wiki/Joseph_Barbera\" id=\"link2\">\n",
      "    Joseph Barbera\n",
      "   </a>\n",
      "   . \n",
      "        It centers on a rivalry between the title characters\n",
      "   <a class=\"character\" href=\"https://en.wikipedia.org/wiki/Tom_Cat\" id=\"link3\">\n",
      "    Tom\n",
      "   </a>\n",
      "   , a cat, and\n",
      "   <a class=\"character\" href=\"https://en.wikipedia.org/wiki/Jerry_Mouse\" id=\"link4\">\n",
      "    Jerry\n",
      "   </a>\n",
      "   , a mouse.\n",
      "  </p>\n",
      "  <p class=\"comedy story\">\n",
      "   The series features comic fights between an iconic pair of adversaries, \n",
      "            a house cat (Tom) and a mouse (Jerry). The plots of each short usually center on Tom's \n",
      "            numerous attempts to capture Jerry and the mayhem and destruction that follows. \n",
      "            Tom rarely succeeds in catching Jerry, mainly because of Jerry's cleverness, \n",
      "            cunning abilities, and luck.\n",
      "  </p>\n",
      " </body>\n",
      "</html>\n"
     ]
    }
   ],
   "source": [
    "print(soup.prettify())"
   ]
  },
  {
   "cell_type": "code",
   "execution_count": 6,
   "metadata": {},
   "outputs": [
    {
     "data": {
      "text/plain": [
       "<p class=\"title\"><b>Tom and Jerry</b></p>"
      ]
     },
     "execution_count": 6,
     "metadata": {},
     "output_type": "execute_result"
    }
   ],
   "source": [
    "soup.p"
   ]
  },
  {
   "cell_type": "code",
   "execution_count": 7,
   "metadata": {},
   "outputs": [
    {
     "data": {
      "text/plain": [
       "<p class=\"title\"><b>Tom and Jerry</b></p>"
      ]
     },
     "execution_count": 7,
     "metadata": {},
     "output_type": "execute_result"
    }
   ],
   "source": [
    "soup.find('p')"
   ]
  },
  {
   "cell_type": "code",
   "execution_count": 8,
   "metadata": {},
   "outputs": [
    {
     "data": {
      "text/plain": [
       "[<p class=\"title\"><b>Tom and Jerry</b></p>,\n",
       " <p class=\"comedy animated series\">\n",
       "         Tom and Jerry is an American animated series of comedy short films created by \n",
       "         <a class=\"creator\" href=\"https://en.wikipedia.org/wiki/William_Hanna\" id=\"link1\">William_Hanna</a> and  \n",
       "         <a class=\"creator\" href=\"https://en.wikipedia.org/wiki/Joseph_Barbera\" id=\"link2\">Joseph Barbera</a>. \n",
       "         It centers on a rivalry between the title characters\n",
       "         <a class=\"character\" href=\"https://en.wikipedia.org/wiki/Tom_Cat\" id=\"link3\">Tom</a>, a cat, and \n",
       "         <a class=\"character\" href=\"https://en.wikipedia.org/wiki/Jerry_Mouse\" id=\"link4\">Jerry</a>, a mouse.</p>,\n",
       " <p class=\"comedy story\">\n",
       "             The series features comic fights between an iconic pair of adversaries, \n",
       "             a house cat (Tom) and a mouse (Jerry). The plots of each short usually center on Tom's \n",
       "             numerous attempts to capture Jerry and the mayhem and destruction that follows. \n",
       "             Tom rarely succeeds in catching Jerry, mainly because of Jerry's cleverness, \n",
       "             cunning abilities, and luck. \n",
       "         </p>]"
      ]
     },
     "execution_count": 8,
     "metadata": {},
     "output_type": "execute_result"
    }
   ],
   "source": [
    "soup.findAll('p')"
   ]
  },
  {
   "cell_type": "code",
   "execution_count": 10,
   "metadata": {},
   "outputs": [
    {
     "data": {
      "text/plain": [
       "[<img alt=\"cartoon_image\" height=\"300\" src=\"TomAndJerry.jpg\" width=\"300\"/>]"
      ]
     },
     "execution_count": 10,
     "metadata": {},
     "output_type": "execute_result"
    }
   ],
   "source": [
    "soup.findAll(src='TomAndJerry.jpg')"
   ]
  },
  {
   "cell_type": "code",
   "execution_count": 11,
   "metadata": {},
   "outputs": [
    {
     "data": {
      "text/plain": [
       "<a class=\"creator\" href=\"https://en.wikipedia.org/wiki/William_Hanna\" id=\"link1\">William_Hanna</a>"
      ]
     },
     "execution_count": 11,
     "metadata": {},
     "output_type": "execute_result"
    }
   ],
   "source": [
    "soup.find(re.compile(\"^a\"))"
   ]
  },
  {
   "cell_type": "code",
   "execution_count": 13,
   "metadata": {},
   "outputs": [
    {
     "name": "stdout",
     "output_type": "stream",
     "text": [
      "<a class=\"creator\" href=\"https://en.wikipedia.org/wiki/William_Hanna\" id=\"link1\">William_Hanna</a>\n",
      "<a class=\"creator\" href=\"https://en.wikipedia.org/wiki/Joseph_Barbera\" id=\"link2\">Joseph Barbera</a>\n",
      "<a class=\"character\" href=\"https://en.wikipedia.org/wiki/Tom_Cat\" id=\"link3\">Tom</a>\n",
      "<a class=\"character\" href=\"https://en.wikipedia.org/wiki/Jerry_Mouse\" id=\"link4\">Jerry</a>\n"
     ]
    }
   ],
   "source": [
    "for tag in soup.findAll(re.compile(\"^a\")):\n",
    "    print(tag)"
   ]
  },
  {
   "cell_type": "code",
   "execution_count": 14,
   "metadata": {},
   "outputs": [
    {
     "name": "stdout",
     "output_type": "stream",
     "text": [
      "a\n",
      "a\n",
      "a\n",
      "a\n"
     ]
    }
   ],
   "source": [
    "for tag in soup.findAll(re.compile(\"^a\")):\n",
    "    print(tag.name)"
   ]
  },
  {
   "cell_type": "code",
   "execution_count": 15,
   "metadata": {},
   "outputs": [
    {
     "data": {
      "text/plain": [
       "<a class=\"creator\" href=\"https://en.wikipedia.org/wiki/William_Hanna\" id=\"link1\">William_Hanna</a>"
      ]
     },
     "execution_count": 15,
     "metadata": {},
     "output_type": "execute_result"
    }
   ],
   "source": [
    "soup.find('a', attrs = {'class': re.compile('^cre')})"
   ]
  },
  {
   "cell_type": "code",
   "execution_count": 16,
   "metadata": {},
   "outputs": [
    {
     "name": "stdout",
     "output_type": "stream",
     "text": [
      "<a class=\"creator\" href=\"https://en.wikipedia.org/wiki/William_Hanna\" id=\"link1\">William_Hanna</a>\n",
      "<a class=\"creator\" href=\"https://en.wikipedia.org/wiki/Joseph_Barbera\" id=\"link2\">Joseph Barbera</a>\n",
      "<a class=\"character\" href=\"https://en.wikipedia.org/wiki/Tom_Cat\" id=\"link3\">Tom</a>\n",
      "<a class=\"character\" href=\"https://en.wikipedia.org/wiki/Jerry_Mouse\" id=\"link4\">Jerry</a>\n"
     ]
    }
   ],
   "source": [
    "for tag in soup.findAll(id = re.compile(\"link\")):\n",
    "    print(tag)"
   ]
  },
  {
   "cell_type": "code",
   "execution_count": 17,
   "metadata": {},
   "outputs": [],
   "source": [
    "def has_src_no_href(tag):\n",
    "    return tag.has_attr('src') and not tag.has_attr('href')"
   ]
  },
  {
   "cell_type": "code",
   "execution_count": 18,
   "metadata": {},
   "outputs": [
    {
     "data": {
      "text/plain": [
       "[<img alt=\"cartoon_image\" height=\"300\" src=\"TomAndJerry.jpg\" width=\"300\"/>]"
      ]
     },
     "execution_count": 18,
     "metadata": {},
     "output_type": "execute_result"
    }
   ],
   "source": [
    "soup.findAll(has_src_no_href)"
   ]
  },
  {
   "cell_type": "code",
   "execution_count": 22,
   "metadata": {},
   "outputs": [
    {
     "data": {
      "text/plain": [
       "[<a class=\"creator\" href=\"https://en.wikipedia.org/wiki/William_Hanna\" id=\"link1\">William_Hanna</a>,\n",
       " <a class=\"creator\" href=\"https://en.wikipedia.org/wiki/Joseph_Barbera\" id=\"link2\">Joseph Barbera</a>,\n",
       " <a class=\"character\" href=\"https://en.wikipedia.org/wiki/Jerry_Mouse\" id=\"link4\">Jerry</a>]"
      ]
     },
     "execution_count": 22,
     "metadata": {},
     "output_type": "execute_result"
    }
   ],
   "source": [
    "def has_no_tom(href):\n",
    "    return href and not re.compile(\"Tom_Cat\").search(href)\n",
    "\n",
    "soup.findAll(href = has_no_tom)"
   ]
  },
  {
   "cell_type": "code",
   "execution_count": null,
   "metadata": {},
   "outputs": [],
   "source": []
  }
 ],
 "metadata": {
  "kernelspec": {
   "display_name": "Python 3.7.6 64-bit ('python37': conda)",
   "language": "python",
   "name": "python37664bitpython37condabe4ae1f56643462fbf8910eabb47f1ca"
  },
  "language_info": {
   "codemirror_mode": {
    "name": "ipython",
    "version": 3
   },
   "file_extension": ".py",
   "mimetype": "text/x-python",
   "name": "python",
   "nbconvert_exporter": "python",
   "pygments_lexer": "ipython3",
   "version": "3.7.6"
  }
 },
 "nbformat": 4,
 "nbformat_minor": 4
}
